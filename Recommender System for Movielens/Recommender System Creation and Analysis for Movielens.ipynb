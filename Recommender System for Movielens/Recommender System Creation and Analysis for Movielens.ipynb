{
 "cells": [
  {
   "cell_type": "markdown",
   "metadata": {},
   "source": [
    "### Recommender System on the Movielens Dataset. \n",
    "\n",
    "### Analysis Conducted by Ben Fowler & Shweta Viswanath. \n",
    "#### January, 2017"
   ]
  },
  {
   "cell_type": "markdown",
   "metadata": {},
   "source": [
    "### Introduction:\n",
    "This analysis will review how users rate movies from the Movielens service. This analysis consits of four sections.\n",
    "\n",
    "- Section 1: Data Description and Initial Preprocessing\n",
    "    - Dataset Overview\n",
    "    - Dataset Description\n",
    "    - Data Preparation\n",
    "\n",
    "\n",
    "- Section 2: Data Review and Visualization\n",
    "    - Review of User Demographics\n",
    "        - Age\n",
    "        - Gender\n",
    "        - Region\n",
    "    - Review of Movies and Their Ratings\n",
    "        - Genre\n",
    "        - 25 Most Rated Movies\n",
    "        - The Top Rated Movies (with at least 100 ratings)\n",
    "        - Top 50 Rated Movies by Age\n",
    "        - Top 50 Rated Movies by Region\n",
    "        - Moving Ratings by Gender\n",
    "    - Data Review Conclusions\n",
    "\n",
    "\n",
    "- Section 3: Recommender System Modeling\n",
    "    - Data Preprocessing for Recommender System\n",
    "    - Model 0: Item-Item Recommender System\n",
    "    - Model 1: User-Item Ranking Recommender System without Tuning\n",
    "    - Model 2: User-Item Ranking Factorization with Tuning, Before Optimization\n",
    "    - Model 3: User-Item Ranking Factorization with Tuning and Optimization\n",
    "    - Model 4: User-Item Factorization Recommender\n",
    "    - Final Recommender System Model Selection\n",
    "\n",
    "\n",
    "- Section 4: Association Rule Mining\n",
    "    - Most Frequent Movie Patterns\n",
    "    - Association Rules\n"
   ]
  },
  {
   "cell_type": "code",
   "execution_count": 1043,
   "metadata": {
    "collapsed": false
   },
   "outputs": [
    {
     "data": {
      "text/html": [
       "<script>\n",
       "code_show=true; \n",
       "function code_toggle() {\n",
       " if (code_show){\n",
       " $('div.input').hide();\n",
       " } else {\n",
       " $('div.input').show();\n",
       " }\n",
       " code_show = !code_show\n",
       "} \n",
       "$( document ).ready(code_toggle);\n",
       "</script>\n",
       "<form action=\"javascript:code_toggle()\"><input type=\"submit\" value=\"Click here to toggle on/off the raw code.\"></form>"
      ],
      "text/plain": [
       "<IPython.core.display.HTML object>"
      ]
     },
     "execution_count": 1043,
     "metadata": {},
     "output_type": "execute_result"
    }
   ],
   "source": [
    "from IPython.display import HTML\n",
    "\n",
    "HTML('''<script>\n",
    "code_show=true; \n",
    "function code_toggle() {\n",
    " if (code_show){\n",
    " $('div.input').hide();\n",
    " } else {\n",
    " $('div.input').show();\n",
    " }\n",
    " code_show = !code_show\n",
    "} \n",
    "$( document ).ready(code_toggle);\n",
    "</script>\n",
    "<form action=\"javascript:code_toggle()\"><input type=\"submit\" value=\"Click here to toggle on/off the raw code.\"></form>''')"
   ]
  },
  {
   "cell_type": "markdown",
   "metadata": {},
   "source": [
    "## Section 1: Data Description and Initial Preprocessing"
   ]
  },
  {
   "cell_type": "markdown",
   "metadata": {},
   "source": [
    "### Dataset Overview:\n",
    "\n",
    "The Movielens dataset consists of 1,000,209 movie ratings on approximately 3,090 movies from 6,040 users who joined Movielens in 2000. This dataset is available at: http://www.grouplens.org/. "
   ]
  },
  {
   "cell_type": "markdown",
   "metadata": {},
   "source": [
    "### Dataset Description\n",
    "\n",
    "This data set includes three files:\n",
    "    \n",
    "   ##### The ratings file (ratings.dat)\n",
    "\n",
    "        The ratings file is in the following format:\n",
    "\n",
    "        UserID::MovieID::Rating::Timestamp\n",
    "\n",
    "        - UserIDs range between 1 and 6040 \n",
    "        - MovieIDs range between 1 and 3952\n",
    "        - Ratings are made on a 5-star scale (whole-star ratings only)\n",
    "        - Timestamp is represented in seconds since the epoch as returned by time(2)\n",
    "        - Each user has at least 20 ratings\n",
    "   \n",
    "   ##### The users file (users.dat)\n",
    "        \n",
    "        The users file is in the following format:\n",
    "        \n",
    "        UserID::Gender::Age::Occupation::Zip-code\n",
    "\n",
    "        All demographic information is provided voluntarily by the users and is\n",
    "        not checked for accuracy.  Only users who have provided some demographic\n",
    "        information are included in this data set.\n",
    "\n",
    "        - Gender is denoted by a \"M\" for male and \"F\" for female\n",
    "        - Age is chosen from the following ranges:\n",
    "\n",
    "            *  1:  \"Under 18\"\n",
    "            * 18:  \"18-24\"\n",
    "            * 25:  \"25-34\"\n",
    "            * 35:  \"35-44\"\n",
    "            * 45:  \"45-49\"\n",
    "            * 50:  \"50-55\"\n",
    "            * 56:  \"56+\"\n",
    "\n",
    "        - Occupation is chosen from the following choices:\n",
    "\n",
    "            *  0:  \"other\" or not specified\n",
    "            *  1:  \"academic/educator\"\n",
    "            *  2:  \"artist\"\n",
    "            *  3:  \"clerical/admin\"\n",
    "            *  4:  \"college/grad student\"\n",
    "            *  5:  \"customer service\"\n",
    "            *  6:  \"doctor/health care\"\n",
    "            *  7:  \"executive/managerial\"\n",
    "            *  8:  \"farmer\"\n",
    "            *  9:  \"homemaker\"\n",
    "            * 10:  \"K-12 student\"\n",
    "            * 11:  \"lawyer\"\n",
    "            * 12:  \"programmer\"\n",
    "            * 13:  \"retired\"\n",
    "            * 14:  \"sales/marketing\"\n",
    "            * 15:  \"scientist\"\n",
    "            * 16:  \"self-employed\"\n",
    "            * 17:  \"technician/engineer\"\n",
    "            * 18:  \"tradesman/craftsman\"\n",
    "            * 19:  \"unemployed\"\n",
    "            * 20:  \"writer\"\n",
    "\n",
    "###### The movies file (movies.dat)\n",
    "\n",
    "        The movies file is in the following format:\n",
    "\n",
    "        MovieID::Title::Genres\n",
    "\n",
    "        - Titles are identical to titles provided by the IMDB (including\n",
    "        year of release)\n",
    "        - Genres are pipe-separated and are selected from the following genres:\n",
    "\n",
    "            * Action\n",
    "            * Adventure\n",
    "            * Animation\n",
    "            * Children's\n",
    "            * Comedy\n",
    "            * Crime\n",
    "            * Documentary\n",
    "            * Drama\n",
    "            * Fantasy\n",
    "            * Film-Noir\n",
    "            * Horror\n",
    "            * Musical\n",
    "            * Mystery\n",
    "            * Romance\n",
    "            * Sci-Fi\n",
    "            * Thriller\n",
    "            * War\n",
    "            * Western\n",
    "\n",
    "        - Some MovieIDs do not correspond to a movie due to accidental duplicate\n",
    "        entries and/or test entries\n",
    "        - Movies are mostly entered by hand, so errors and inconsistencies may exist"
   ]
  },
  {
   "cell_type": "markdown",
   "metadata": {},
   "source": [
    "### Data Preparation\n",
    "\n",
    "- 656 users in the dataset had a zipcode with 3 or 4 digits. Since these values are not correct, these values were dropped. \n",
    "\n",
    "- The zip code was truncated to the first digit (0-9). The first digit designates the general area of the country with numbers starting lower in the east and increasing as you move west. For example 0 covers Maine while 9 refers to California. This column was relabeled as region. \n",
    "\n",
    "- 197 movies were removed from the movies file, due to incorrect data entry in the original file."
   ]
  },
  {
   "cell_type": "code",
   "execution_count": 1138,
   "metadata": {
    "collapsed": false
   },
   "outputs": [],
   "source": [
    "import numpy as np\n",
    "import pandas as pd\n",
    "import graphlab as gl\n",
    "import matplotlib.pyplot as plt\n",
    "import warnings\n",
    "warnings.simplefilter('ignore', DeprecationWarning)\n",
    "%matplotlib inline\n",
    "from matplotlib.colors import ListedColormap\n",
    "import seaborn as sns\n",
    "cmap = sns.diverging_palette(200,10, as_cmap=True)"
   ]
  },
  {
   "cell_type": "code",
   "execution_count": 1139,
   "metadata": {
    "collapsed": false
   },
   "outputs": [],
   "source": [
    "movies_df = pd.read_csv('movie_ratings_cleaned.csv')\n",
    "movietitles_df = pd.read_csv('movies.csv')\n",
    "users_df = pd.read_csv('users.csv')"
   ]
  },
  {
   "cell_type": "code",
   "execution_count": 1140,
   "metadata": {
    "collapsed": true
   },
   "outputs": [],
   "source": [
    "users_df.rename(columns={'zip_trunc': 'region'}, inplace=True)"
   ]
  },
  {
   "cell_type": "code",
   "execution_count": 1141,
   "metadata": {
    "collapsed": false
   },
   "outputs": [
    {
     "data": {
      "text/html": [
       "<div>\n",
       "<table border=\"1\" class=\"dataframe\">\n",
       "  <thead>\n",
       "    <tr style=\"text-align: right;\">\n",
       "      <th></th>\n",
       "      <th>rating_id</th>\n",
       "      <th>user</th>\n",
       "      <th>movie_ID</th>\n",
       "      <th>rating</th>\n",
       "      <th>movie</th>\n",
       "      <th>genre</th>\n",
       "    </tr>\n",
       "  </thead>\n",
       "  <tbody>\n",
       "    <tr>\n",
       "      <th>0</th>\n",
       "      <td>1</td>\n",
       "      <td>1</td>\n",
       "      <td>1193</td>\n",
       "      <td>5</td>\n",
       "      <td>One Flew Over the Cuckoo's Nest (1975)</td>\n",
       "      <td>Drama</td>\n",
       "    </tr>\n",
       "    <tr>\n",
       "      <th>1</th>\n",
       "      <td>2</td>\n",
       "      <td>1</td>\n",
       "      <td>661</td>\n",
       "      <td>3</td>\n",
       "      <td>James and the Giant Peach (1996)</td>\n",
       "      <td>Animation|Children's|Musical</td>\n",
       "    </tr>\n",
       "    <tr>\n",
       "      <th>2</th>\n",
       "      <td>3</td>\n",
       "      <td>1</td>\n",
       "      <td>914</td>\n",
       "      <td>3</td>\n",
       "      <td>My Fair Lady (1964)</td>\n",
       "      <td>Musical|Romance</td>\n",
       "    </tr>\n",
       "    <tr>\n",
       "      <th>3</th>\n",
       "      <td>4</td>\n",
       "      <td>1</td>\n",
       "      <td>3408</td>\n",
       "      <td>4</td>\n",
       "      <td>Erin Brockovich (2000)</td>\n",
       "      <td>Drama</td>\n",
       "    </tr>\n",
       "    <tr>\n",
       "      <th>4</th>\n",
       "      <td>5</td>\n",
       "      <td>1</td>\n",
       "      <td>2355</td>\n",
       "      <td>5</td>\n",
       "      <td>Bug's Life, A (1998)</td>\n",
       "      <td>Animation|Children's|Comedy</td>\n",
       "    </tr>\n",
       "  </tbody>\n",
       "</table>\n",
       "</div>"
      ],
      "text/plain": [
       "   rating_id  user  movie_ID  rating                                   movie  \\\n",
       "0          1     1      1193       5  One Flew Over the Cuckoo's Nest (1975)   \n",
       "1          2     1       661       3        James and the Giant Peach (1996)   \n",
       "2          3     1       914       3                     My Fair Lady (1964)   \n",
       "3          4     1      3408       4                  Erin Brockovich (2000)   \n",
       "4          5     1      2355       5                    Bug's Life, A (1998)   \n",
       "\n",
       "                          genre  \n",
       "0                         Drama  \n",
       "1  Animation|Children's|Musical  \n",
       "2               Musical|Romance  \n",
       "3                         Drama  \n",
       "4   Animation|Children's|Comedy  "
      ]
     },
     "execution_count": 1141,
     "metadata": {},
     "output_type": "execute_result"
    }
   ],
   "source": [
    "movies_df.head()"
   ]
  },
  {
   "cell_type": "code",
   "execution_count": 1142,
   "metadata": {
    "collapsed": false
   },
   "outputs": [
    {
     "data": {
      "text/html": [
       "<div>\n",
       "<table border=\"1\" class=\"dataframe\">\n",
       "  <thead>\n",
       "    <tr style=\"text-align: right;\">\n",
       "      <th></th>\n",
       "      <th>movie_ID</th>\n",
       "      <th>movie</th>\n",
       "      <th>genre</th>\n",
       "    </tr>\n",
       "  </thead>\n",
       "  <tbody>\n",
       "    <tr>\n",
       "      <th>0</th>\n",
       "      <td>1</td>\n",
       "      <td>Toy Story (1995)</td>\n",
       "      <td>Animation|Children's|Comedy</td>\n",
       "    </tr>\n",
       "    <tr>\n",
       "      <th>1</th>\n",
       "      <td>2</td>\n",
       "      <td>Jumanji (1995)</td>\n",
       "      <td>Adventure|Children's|Fantasy</td>\n",
       "    </tr>\n",
       "    <tr>\n",
       "      <th>2</th>\n",
       "      <td>3</td>\n",
       "      <td>Grumpier Old Men (1995)</td>\n",
       "      <td>Comedy|Romance</td>\n",
       "    </tr>\n",
       "    <tr>\n",
       "      <th>3</th>\n",
       "      <td>4</td>\n",
       "      <td>Waiting to Exhale (1995)</td>\n",
       "      <td>Comedy|Drama</td>\n",
       "    </tr>\n",
       "    <tr>\n",
       "      <th>4</th>\n",
       "      <td>5</td>\n",
       "      <td>Father of the Bride Part II (1995)</td>\n",
       "      <td>Comedy</td>\n",
       "    </tr>\n",
       "  </tbody>\n",
       "</table>\n",
       "</div>"
      ],
      "text/plain": [
       "   movie_ID                               movie                         genre\n",
       "0         1                    Toy Story (1995)   Animation|Children's|Comedy\n",
       "1         2                      Jumanji (1995)  Adventure|Children's|Fantasy\n",
       "2         3             Grumpier Old Men (1995)                Comedy|Romance\n",
       "3         4            Waiting to Exhale (1995)                  Comedy|Drama\n",
       "4         5  Father of the Bride Part II (1995)                        Comedy"
      ]
     },
     "execution_count": 1142,
     "metadata": {},
     "output_type": "execute_result"
    }
   ],
   "source": [
    "movietitles_df.head()"
   ]
  },
  {
   "cell_type": "code",
   "execution_count": 1143,
   "metadata": {
    "collapsed": false
   },
   "outputs": [
    {
     "data": {
      "text/html": [
       "<div>\n",
       "<table border=\"1\" class=\"dataframe\">\n",
       "  <thead>\n",
       "    <tr style=\"text-align: right;\">\n",
       "      <th></th>\n",
       "      <th>user</th>\n",
       "      <th>gender</th>\n",
       "      <th>age</th>\n",
       "      <th>occupation</th>\n",
       "      <th>zip_code</th>\n",
       "      <th>region</th>\n",
       "    </tr>\n",
       "  </thead>\n",
       "  <tbody>\n",
       "    <tr>\n",
       "      <th>0</th>\n",
       "      <td>5454</td>\n",
       "      <td>M</td>\n",
       "      <td>35</td>\n",
       "      <td>7</td>\n",
       "      <td>10001</td>\n",
       "      <td>1</td>\n",
       "    </tr>\n",
       "    <tr>\n",
       "      <th>1</th>\n",
       "      <td>1256</td>\n",
       "      <td>M</td>\n",
       "      <td>25</td>\n",
       "      <td>20</td>\n",
       "      <td>10002</td>\n",
       "      <td>1</td>\n",
       "    </tr>\n",
       "    <tr>\n",
       "      <th>2</th>\n",
       "      <td>1517</td>\n",
       "      <td>M</td>\n",
       "      <td>18</td>\n",
       "      <td>0</td>\n",
       "      <td>10002</td>\n",
       "      <td>1</td>\n",
       "    </tr>\n",
       "    <tr>\n",
       "      <th>3</th>\n",
       "      <td>1597</td>\n",
       "      <td>M</td>\n",
       "      <td>25</td>\n",
       "      <td>12</td>\n",
       "      <td>10002</td>\n",
       "      <td>1</td>\n",
       "    </tr>\n",
       "    <tr>\n",
       "      <th>4</th>\n",
       "      <td>1845</td>\n",
       "      <td>M</td>\n",
       "      <td>25</td>\n",
       "      <td>2</td>\n",
       "      <td>10002</td>\n",
       "      <td>1</td>\n",
       "    </tr>\n",
       "  </tbody>\n",
       "</table>\n",
       "</div>"
      ],
      "text/plain": [
       "   user gender  age  occupation zip_code  region\n",
       "0  5454      M   35           7    10001       1\n",
       "1  1256      M   25          20    10002       1\n",
       "2  1517      M   18           0    10002       1\n",
       "3  1597      M   25          12    10002       1\n",
       "4  1845      M   25           2    10002       1"
      ]
     },
     "execution_count": 1143,
     "metadata": {},
     "output_type": "execute_result"
    }
   ],
   "source": [
    "users_df.head()"
   ]
  },
  {
   "cell_type": "code",
   "execution_count": 1144,
   "metadata": {
    "collapsed": false
   },
   "outputs": [
    {
     "name": "stdout",
     "output_type": "stream",
     "text": [
      "<class 'pandas.core.frame.DataFrame'>\n",
      "RangeIndex: 936381 entries, 0 to 936380\n",
      "Data columns (total 6 columns):\n",
      "rating_id    936381 non-null int64\n",
      "user         936381 non-null int64\n",
      "movie_ID     936381 non-null int64\n",
      "rating       936381 non-null int64\n",
      "movie        936381 non-null object\n",
      "genre        936381 non-null object\n",
      "dtypes: int64(4), object(2)\n",
      "memory usage: 42.9+ MB\n"
     ]
    }
   ],
   "source": [
    "movies_df.info()"
   ]
  },
  {
   "cell_type": "code",
   "execution_count": 1145,
   "metadata": {
    "collapsed": false
   },
   "outputs": [
    {
     "name": "stdout",
     "output_type": "stream",
     "text": [
      "<class 'pandas.core.frame.DataFrame'>\n",
      "RangeIndex: 3686 entries, 0 to 3685\n",
      "Data columns (total 3 columns):\n",
      "movie_ID    3686 non-null int64\n",
      "movie       3686 non-null object\n",
      "genre       3686 non-null object\n",
      "dtypes: int64(1), object(2)\n",
      "memory usage: 86.5+ KB\n"
     ]
    }
   ],
   "source": [
    "movietitles_df.info()"
   ]
  },
  {
   "cell_type": "code",
   "execution_count": 1146,
   "metadata": {
    "collapsed": false
   },
   "outputs": [
    {
     "name": "stdout",
     "output_type": "stream",
     "text": [
      "<class 'pandas.core.frame.DataFrame'>\n",
      "RangeIndex: 5384 entries, 0 to 5383\n",
      "Data columns (total 6 columns):\n",
      "user          5384 non-null int64\n",
      "gender        5384 non-null object\n",
      "age           5384 non-null int64\n",
      "occupation    5384 non-null int64\n",
      "zip_code      5384 non-null object\n",
      "region        5384 non-null int64\n",
      "dtypes: int64(4), object(2)\n",
      "memory usage: 252.4+ KB\n"
     ]
    }
   ],
   "source": [
    "users_df.info()"
   ]
  },
  {
   "cell_type": "code",
   "execution_count": 1147,
   "metadata": {
    "collapsed": true
   },
   "outputs": [],
   "source": [
    "del users_df['zip_code']"
   ]
  },
  {
   "cell_type": "code",
   "execution_count": 1148,
   "metadata": {
    "collapsed": false
   },
   "outputs": [
    {
     "data": {
      "text/html": [
       "<div>\n",
       "<table border=\"1\" class=\"dataframe\">\n",
       "  <thead>\n",
       "    <tr style=\"text-align: right;\">\n",
       "      <th></th>\n",
       "      <th>movie_ID</th>\n",
       "      <th>movie</th>\n",
       "      <th>Action</th>\n",
       "      <th>Adventure</th>\n",
       "      <th>Animation</th>\n",
       "      <th>Children's</th>\n",
       "      <th>Comedy</th>\n",
       "      <th>Crime</th>\n",
       "      <th>Documentary</th>\n",
       "      <th>Drama</th>\n",
       "      <th>Fantasy</th>\n",
       "      <th>Film-Noir</th>\n",
       "      <th>Horror</th>\n",
       "      <th>Musical</th>\n",
       "      <th>Mystery</th>\n",
       "      <th>Romance</th>\n",
       "      <th>Sci-Fi</th>\n",
       "      <th>Thriller</th>\n",
       "      <th>War</th>\n",
       "      <th>Western</th>\n",
       "    </tr>\n",
       "  </thead>\n",
       "  <tbody>\n",
       "    <tr>\n",
       "      <th>0</th>\n",
       "      <td>1</td>\n",
       "      <td>Toy Story (1995)</td>\n",
       "      <td>0</td>\n",
       "      <td>0</td>\n",
       "      <td>1</td>\n",
       "      <td>1</td>\n",
       "      <td>1</td>\n",
       "      <td>0</td>\n",
       "      <td>0</td>\n",
       "      <td>0</td>\n",
       "      <td>0</td>\n",
       "      <td>0</td>\n",
       "      <td>0</td>\n",
       "      <td>0</td>\n",
       "      <td>0</td>\n",
       "      <td>0</td>\n",
       "      <td>0</td>\n",
       "      <td>0</td>\n",
       "      <td>0</td>\n",
       "      <td>0</td>\n",
       "    </tr>\n",
       "    <tr>\n",
       "      <th>1</th>\n",
       "      <td>2</td>\n",
       "      <td>Jumanji (1995)</td>\n",
       "      <td>0</td>\n",
       "      <td>1</td>\n",
       "      <td>0</td>\n",
       "      <td>1</td>\n",
       "      <td>0</td>\n",
       "      <td>0</td>\n",
       "      <td>0</td>\n",
       "      <td>0</td>\n",
       "      <td>1</td>\n",
       "      <td>0</td>\n",
       "      <td>0</td>\n",
       "      <td>0</td>\n",
       "      <td>0</td>\n",
       "      <td>0</td>\n",
       "      <td>0</td>\n",
       "      <td>0</td>\n",
       "      <td>0</td>\n",
       "      <td>0</td>\n",
       "    </tr>\n",
       "    <tr>\n",
       "      <th>2</th>\n",
       "      <td>3</td>\n",
       "      <td>Grumpier Old Men (1995)</td>\n",
       "      <td>0</td>\n",
       "      <td>0</td>\n",
       "      <td>0</td>\n",
       "      <td>0</td>\n",
       "      <td>1</td>\n",
       "      <td>0</td>\n",
       "      <td>0</td>\n",
       "      <td>0</td>\n",
       "      <td>0</td>\n",
       "      <td>0</td>\n",
       "      <td>0</td>\n",
       "      <td>0</td>\n",
       "      <td>0</td>\n",
       "      <td>1</td>\n",
       "      <td>0</td>\n",
       "      <td>0</td>\n",
       "      <td>0</td>\n",
       "      <td>0</td>\n",
       "    </tr>\n",
       "    <tr>\n",
       "      <th>3</th>\n",
       "      <td>4</td>\n",
       "      <td>Waiting to Exhale (1995)</td>\n",
       "      <td>0</td>\n",
       "      <td>0</td>\n",
       "      <td>0</td>\n",
       "      <td>0</td>\n",
       "      <td>1</td>\n",
       "      <td>0</td>\n",
       "      <td>0</td>\n",
       "      <td>1</td>\n",
       "      <td>0</td>\n",
       "      <td>0</td>\n",
       "      <td>0</td>\n",
       "      <td>0</td>\n",
       "      <td>0</td>\n",
       "      <td>0</td>\n",
       "      <td>0</td>\n",
       "      <td>0</td>\n",
       "      <td>0</td>\n",
       "      <td>0</td>\n",
       "    </tr>\n",
       "    <tr>\n",
       "      <th>4</th>\n",
       "      <td>5</td>\n",
       "      <td>Father of the Bride Part II (1995)</td>\n",
       "      <td>0</td>\n",
       "      <td>0</td>\n",
       "      <td>0</td>\n",
       "      <td>0</td>\n",
       "      <td>1</td>\n",
       "      <td>0</td>\n",
       "      <td>0</td>\n",
       "      <td>0</td>\n",
       "      <td>0</td>\n",
       "      <td>0</td>\n",
       "      <td>0</td>\n",
       "      <td>0</td>\n",
       "      <td>0</td>\n",
       "      <td>0</td>\n",
       "      <td>0</td>\n",
       "      <td>0</td>\n",
       "      <td>0</td>\n",
       "      <td>0</td>\n",
       "    </tr>\n",
       "  </tbody>\n",
       "</table>\n",
       "</div>"
      ],
      "text/plain": [
       "   movie_ID                               movie  Action  Adventure  Animation  \\\n",
       "0         1                    Toy Story (1995)       0          0          1   \n",
       "1         2                      Jumanji (1995)       0          1          0   \n",
       "2         3             Grumpier Old Men (1995)       0          0          0   \n",
       "3         4            Waiting to Exhale (1995)       0          0          0   \n",
       "4         5  Father of the Bride Part II (1995)       0          0          0   \n",
       "\n",
       "   Children's  Comedy  Crime  Documentary  Drama  Fantasy  Film-Noir  Horror  \\\n",
       "0           1       1      0            0      0        0          0       0   \n",
       "1           1       0      0            0      0        1          0       0   \n",
       "2           0       1      0            0      0        0          0       0   \n",
       "3           0       1      0            0      1        0          0       0   \n",
       "4           0       1      0            0      0        0          0       0   \n",
       "\n",
       "   Musical  Mystery  Romance  Sci-Fi  Thriller  War  Western  \n",
       "0        0        0        0       0         0    0        0  \n",
       "1        0        0        0       0         0    0        0  \n",
       "2        0        0        1       0         0    0        0  \n",
       "3        0        0        0       0         0    0        0  \n",
       "4        0        0        0       0         0    0        0  "
      ]
     },
     "execution_count": 1148,
     "metadata": {},
     "output_type": "execute_result"
    }
   ],
   "source": [
    "movietitles_df = pd.concat([movietitles_df.movie_ID, movietitles_df.movie, movietitles_df.genre.str.get_dummies(sep='|')], axis=1)\n",
    "movietitles_df.movie_ID.astype(int)\n",
    "movietitles_df.head()"
   ]
  },
  {
   "cell_type": "code",
   "execution_count": 1149,
   "metadata": {
    "collapsed": false
   },
   "outputs": [
    {
     "data": {
      "text/html": [
       "<div>\n",
       "<table border=\"1\" class=\"dataframe\">\n",
       "  <thead>\n",
       "    <tr style=\"text-align: right;\">\n",
       "      <th></th>\n",
       "      <th>movie_ID</th>\n",
       "      <th>movie</th>\n",
       "      <th>Action</th>\n",
       "      <th>Adventure</th>\n",
       "      <th>Animation</th>\n",
       "      <th>Children's</th>\n",
       "      <th>Comedy</th>\n",
       "      <th>Crime</th>\n",
       "      <th>Documentary</th>\n",
       "      <th>Drama</th>\n",
       "      <th>...</th>\n",
       "      <th>War</th>\n",
       "      <th>Western</th>\n",
       "      <th>rating_id</th>\n",
       "      <th>user</th>\n",
       "      <th>rating</th>\n",
       "      <th>genre</th>\n",
       "      <th>gender</th>\n",
       "      <th>age</th>\n",
       "      <th>occupation</th>\n",
       "      <th>region</th>\n",
       "    </tr>\n",
       "  </thead>\n",
       "  <tbody>\n",
       "    <tr>\n",
       "      <th>0</th>\n",
       "      <td>1</td>\n",
       "      <td>Toy Story (1995)</td>\n",
       "      <td>0</td>\n",
       "      <td>0</td>\n",
       "      <td>1</td>\n",
       "      <td>1</td>\n",
       "      <td>1</td>\n",
       "      <td>0</td>\n",
       "      <td>0</td>\n",
       "      <td>0</td>\n",
       "      <td>...</td>\n",
       "      <td>0</td>\n",
       "      <td>0</td>\n",
       "      <td>41</td>\n",
       "      <td>1</td>\n",
       "      <td>5</td>\n",
       "      <td>Animation|Children's|Comedy</td>\n",
       "      <td>F</td>\n",
       "      <td>1</td>\n",
       "      <td>10</td>\n",
       "      <td>4</td>\n",
       "    </tr>\n",
       "    <tr>\n",
       "      <th>1</th>\n",
       "      <td>48</td>\n",
       "      <td>Pocahontas (1995)</td>\n",
       "      <td>0</td>\n",
       "      <td>0</td>\n",
       "      <td>1</td>\n",
       "      <td>1</td>\n",
       "      <td>0</td>\n",
       "      <td>0</td>\n",
       "      <td>0</td>\n",
       "      <td>0</td>\n",
       "      <td>...</td>\n",
       "      <td>0</td>\n",
       "      <td>0</td>\n",
       "      <td>26</td>\n",
       "      <td>1</td>\n",
       "      <td>5</td>\n",
       "      <td>Animation|Children's|Musical|Romance</td>\n",
       "      <td>F</td>\n",
       "      <td>1</td>\n",
       "      <td>10</td>\n",
       "      <td>4</td>\n",
       "    </tr>\n",
       "    <tr>\n",
       "      <th>2</th>\n",
       "      <td>150</td>\n",
       "      <td>Apollo 13 (1995)</td>\n",
       "      <td>0</td>\n",
       "      <td>0</td>\n",
       "      <td>0</td>\n",
       "      <td>0</td>\n",
       "      <td>0</td>\n",
       "      <td>0</td>\n",
       "      <td>0</td>\n",
       "      <td>1</td>\n",
       "      <td>...</td>\n",
       "      <td>0</td>\n",
       "      <td>0</td>\n",
       "      <td>40</td>\n",
       "      <td>1</td>\n",
       "      <td>5</td>\n",
       "      <td>Drama</td>\n",
       "      <td>F</td>\n",
       "      <td>1</td>\n",
       "      <td>10</td>\n",
       "      <td>4</td>\n",
       "    </tr>\n",
       "    <tr>\n",
       "      <th>3</th>\n",
       "      <td>527</td>\n",
       "      <td>Schindler's List (1993)</td>\n",
       "      <td>0</td>\n",
       "      <td>0</td>\n",
       "      <td>0</td>\n",
       "      <td>0</td>\n",
       "      <td>0</td>\n",
       "      <td>0</td>\n",
       "      <td>0</td>\n",
       "      <td>1</td>\n",
       "      <td>...</td>\n",
       "      <td>1</td>\n",
       "      <td>0</td>\n",
       "      <td>24</td>\n",
       "      <td>1</td>\n",
       "      <td>5</td>\n",
       "      <td>Drama|War</td>\n",
       "      <td>F</td>\n",
       "      <td>1</td>\n",
       "      <td>10</td>\n",
       "      <td>4</td>\n",
       "    </tr>\n",
       "    <tr>\n",
       "      <th>4</th>\n",
       "      <td>531</td>\n",
       "      <td>Secret Garden, The (1993)</td>\n",
       "      <td>0</td>\n",
       "      <td>0</td>\n",
       "      <td>0</td>\n",
       "      <td>1</td>\n",
       "      <td>0</td>\n",
       "      <td>0</td>\n",
       "      <td>0</td>\n",
       "      <td>1</td>\n",
       "      <td>...</td>\n",
       "      <td>0</td>\n",
       "      <td>0</td>\n",
       "      <td>50</td>\n",
       "      <td>1</td>\n",
       "      <td>4</td>\n",
       "      <td>Children's|Drama</td>\n",
       "      <td>F</td>\n",
       "      <td>1</td>\n",
       "      <td>10</td>\n",
       "      <td>4</td>\n",
       "    </tr>\n",
       "  </tbody>\n",
       "</table>\n",
       "<p>5 rows × 28 columns</p>\n",
       "</div>"
      ],
      "text/plain": [
       "   movie_ID                      movie  Action  Adventure  Animation  \\\n",
       "0         1           Toy Story (1995)       0          0          1   \n",
       "1        48          Pocahontas (1995)       0          0          1   \n",
       "2       150           Apollo 13 (1995)       0          0          0   \n",
       "3       527    Schindler's List (1993)       0          0          0   \n",
       "4       531  Secret Garden, The (1993)       0          0          0   \n",
       "\n",
       "   Children's  Comedy  Crime  Documentary  Drama   ...    War  Western  \\\n",
       "0           1       1      0            0      0   ...      0        0   \n",
       "1           1       0      0            0      0   ...      0        0   \n",
       "2           0       0      0            0      1   ...      0        0   \n",
       "3           0       0      0            0      1   ...      1        0   \n",
       "4           1       0      0            0      1   ...      0        0   \n",
       "\n",
       "   rating_id  user  rating                                 genre  gender  age  \\\n",
       "0         41     1       5           Animation|Children's|Comedy       F    1   \n",
       "1         26     1       5  Animation|Children's|Musical|Romance       F    1   \n",
       "2         40     1       5                                 Drama       F    1   \n",
       "3         24     1       5                             Drama|War       F    1   \n",
       "4         50     1       4                      Children's|Drama       F    1   \n",
       "\n",
       "   occupation  region  \n",
       "0          10       4  \n",
       "1          10       4  \n",
       "2          10       4  \n",
       "3          10       4  \n",
       "4          10       4  \n",
       "\n",
       "[5 rows x 28 columns]"
      ]
     },
     "execution_count": 1149,
     "metadata": {},
     "output_type": "execute_result"
    }
   ],
   "source": [
    "# create one merged DataFrame\n",
    "movie_ratings = pd.merge(movietitles_df, movies_df)\n",
    "merged_df = pd.merge(movie_ratings, users_df)\n",
    "merged_df.head()"
   ]
  },
  {
   "cell_type": "markdown",
   "metadata": {},
   "source": [
    "## Section 2: Data Review and Visualization"
   ]
  },
  {
   "cell_type": "markdown",
   "metadata": {},
   "source": [
    "### Review of User Demographics:"
   ]
  },
  {
   "cell_type": "markdown",
   "metadata": {},
   "source": [
    "#### Age:"
   ]
  },
  {
   "cell_type": "markdown",
   "metadata": {},
   "source": [
    "Age is binned in the following ranges:\n",
    "\n",
    "*  1 =  \"Under 18\"\n",
    "* 18 =  \"18-24\"\n",
    "* 25 =  \"25-34\"\n",
    "* 35 =  \"35-44\"\n",
    "* 45 =  \"45-49\"\n",
    "* 50 =  \"50-55\"\n",
    "* 56 =  \"56+\""
   ]
  },
  {
   "cell_type": "code",
   "execution_count": 1150,
   "metadata": {
    "collapsed": false
   },
   "outputs": [
    {
     "data": {
      "text/plain": [
       "<matplotlib.axes._subplots.AxesSubplot at 0x192df3588>"
      ]
     },
     "execution_count": 1150,
     "metadata": {},
     "output_type": "execute_result"
    },
    {
     "data": {
      "image/png": "[encoded data removed]",
      "text/plain": [
       "<matplotlib.figure.Figure at 0x192d991d0>"
      ]
     },
     "metadata": {},
     "output_type": "display_data"
    }
   ],
   "source": [
    "plt.title(\"Distribution of users' binned ages\")\n",
    "plt.ylabel('count of users')\n",
    "plt.xlabel('age');\n",
    "users_df.age.plot.hist(bins=7)"
   ]
  },
  {
   "cell_type": "markdown",
   "metadata": {},
   "source": [
    "##### Table of counts of ratings and average rating by binned age group"
   ]
  },
  {
   "cell_type": "code",
   "execution_count": 1030,
   "metadata": {
    "collapsed": false
   },
   "outputs": [
    {
     "data": {
      "text/html": [
       "<div>\n",
       "<table border=\"1\" class=\"dataframe\">\n",
       "  <thead>\n",
       "    <tr>\n",
       "      <th></th>\n",
       "      <th colspan=\"2\" halign=\"left\">rating</th>\n",
       "    </tr>\n",
       "    <tr>\n",
       "      <th></th>\n",
       "      <th>size</th>\n",
       "      <th>mean</th>\n",
       "    </tr>\n",
       "    <tr>\n",
       "      <th>age</th>\n",
       "      <th></th>\n",
       "      <th></th>\n",
       "    </tr>\n",
       "  </thead>\n",
       "  <tbody>\n",
       "    <tr>\n",
       "      <th>1</th>\n",
       "      <td>20145</td>\n",
       "      <td>3.569422</td>\n",
       "    </tr>\n",
       "    <tr>\n",
       "      <th>18</th>\n",
       "      <td>153215</td>\n",
       "      <td>3.511223</td>\n",
       "    </tr>\n",
       "    <tr>\n",
       "      <th>25</th>\n",
       "      <td>329672</td>\n",
       "      <td>3.547147</td>\n",
       "    </tr>\n",
       "    <tr>\n",
       "      <th>35</th>\n",
       "      <td>169292</td>\n",
       "      <td>3.630414</td>\n",
       "    </tr>\n",
       "    <tr>\n",
       "      <th>45</th>\n",
       "      <td>68272</td>\n",
       "      <td>3.634799</td>\n",
       "    </tr>\n",
       "    <tr>\n",
       "      <th>50</th>\n",
       "      <td>62316</td>\n",
       "      <td>3.727052</td>\n",
       "    </tr>\n",
       "    <tr>\n",
       "      <th>56</th>\n",
       "      <td>32589</td>\n",
       "      <td>3.770567</td>\n",
       "    </tr>\n",
       "  </tbody>\n",
       "</table>\n",
       "</div>"
      ],
      "text/plain": [
       "     rating          \n",
       "       size      mean\n",
       "age                  \n",
       "1     20145  3.569422\n",
       "18   153215  3.511223\n",
       "25   329672  3.547147\n",
       "35   169292  3.630414\n",
       "45    68272  3.634799\n",
       "50    62316  3.727052\n",
       "56    32589  3.770567"
      ]
     },
     "execution_count": 1030,
     "metadata": {},
     "output_type": "execute_result"
    }
   ],
   "source": [
    "merged_df.groupby('age').agg({'rating': [np.size, np.mean]})"
   ]
  },
  {
   "cell_type": "code",
   "execution_count": 1054,
   "metadata": {
    "collapsed": false
   },
   "outputs": [
    {
     "data": {
      "image/png": "[encoded data removed]",
      "text/plain": [
       "<IPython.core.display.Image object>"
      ]
     },
     "execution_count": 1054,
     "metadata": {
      "image/png": {
       "height": 500,
       "width": 500
      }
     },
     "output_type": "execute_result"
    }
   ],
   "source": [
    "from IPython.display import Image\n",
    "PATH = \"C:/Users/DM/\"\n",
    "Image(filename = PATH + \"gender.png\", width=500, height=500)"
   ]
  },
  {
   "cell_type": "markdown",
   "metadata": {},
   "source": [
    "#### Gender:\n",
    "##### Table of counts of ratings and average rating by gender"
   ]
  },
  {
   "cell_type": "code",
   "execution_count": 1013,
   "metadata": {
    "collapsed": false
   },
   "outputs": [
    {
     "data": {
      "text/html": [
       "<div>\n",
       "<table border=\"1\" class=\"dataframe\">\n",
       "  <thead>\n",
       "    <tr>\n",
       "      <th></th>\n",
       "      <th colspan=\"2\" halign=\"left\">rating</th>\n",
       "    </tr>\n",
       "    <tr>\n",
       "      <th></th>\n",
       "      <th>size</th>\n",
       "      <th>mean</th>\n",
       "    </tr>\n",
       "    <tr>\n",
       "      <th>gender</th>\n",
       "      <th></th>\n",
       "      <th></th>\n",
       "    </tr>\n",
       "  </thead>\n",
       "  <tbody>\n",
       "    <tr>\n",
       "      <th>F</th>\n",
       "      <td>204756</td>\n",
       "      <td>3.621261</td>\n",
       "    </tr>\n",
       "    <tr>\n",
       "      <th>M</th>\n",
       "      <td>630745</td>\n",
       "      <td>3.576227</td>\n",
       "    </tr>\n",
       "  </tbody>\n",
       "</table>\n",
       "</div>"
      ],
      "text/plain": [
       "        rating          \n",
       "          size      mean\n",
       "gender                  \n",
       "F       204756  3.621261\n",
       "M       630745  3.576227"
      ]
     },
     "execution_count": 1013,
     "metadata": {},
     "output_type": "execute_result"
    }
   ],
   "source": [
    "merged_df.groupby('gender').agg({'rating': [np.size, np.mean]})"
   ]
  },
  {
   "cell_type": "markdown",
   "metadata": {},
   "source": [
    "#### Region:\n",
    "##### Region Distribution of Users:\n",
    "\n",
    "The 1st digit of the zip code, from the column \"zip_trunc\" represents users in the following states:\n",
    "- 0 = Connecticut (CT), Massachusetts (MA), Maine (ME), New Hampshire (NH), New Jersey (NJ), Puerto Rico (PR), Rhode Island (RI), Vermont (VT), Virgin Islands (VI)\n",
    "- 1 = Delaware (DE), New York (NY), Pennsylvania (PA)\n",
    "- 2 = District of Columbia (DC), Maryland (MD), North Carolina (NC), South Carolina (SC), Virginia (VA), West Virginia (WV)\n",
    "- 3 = Alabama (AL), Florida (FL), Georgia (GA), Mississippi (MS), Tennessee (TN)\n",
    "- 4 = Indiana (IN), Kentucky (KY), Michigan (MI), Ohio (OH)\n",
    "- 5 = Iowa (IA), Minnesota (MN), Montana (MT), North Dakota (ND), South Dakota (SD), Wisconsin (WI)\n",
    "- 6 = Illinois (IL), Kansas (KS), Missouri (MO), Nebraska (NE)\n",
    "- 7 = Arkansas (AR), Louisiana (LA), Oklahoma (OK), Texas (TX)\n",
    "- 8 = Arizona (AZ), Colorado (CO), Idaho (ID), New Mexico (NM), Nevada (NV), Utah (UT), Wyoming (WY)\n",
    "- 9 = Alaska (AK), American Samoa (AS), California (CA), Guam (GU), Hawaii (HI), Oregon (OR), Washington (WA)\n",
    "\n",
    "#### Below is the distibution of ratings from users in the 10 regions with the mean rating from each region:"
   ]
  },
  {
   "cell_type": "code",
   "execution_count": 977,
   "metadata": {
    "collapsed": false
   },
   "outputs": [
    {
     "data": {
      "text/html": [
       "<div>\n",
       "<table border=\"1\" class=\"dataframe\">\n",
       "  <thead>\n",
       "    <tr>\n",
       "      <th></th>\n",
       "      <th colspan=\"2\" halign=\"left\">rating</th>\n",
       "    </tr>\n",
       "    <tr>\n",
       "      <th></th>\n",
       "      <th>size</th>\n",
       "      <th>mean</th>\n",
       "    </tr>\n",
       "    <tr>\n",
       "      <th>region</th>\n",
       "      <th></th>\n",
       "      <th></th>\n",
       "    </tr>\n",
       "  </thead>\n",
       "  <tbody>\n",
       "    <tr>\n",
       "      <th>0</th>\n",
       "      <td>491</td>\n",
       "      <td>3.881874</td>\n",
       "    </tr>\n",
       "    <tr>\n",
       "      <th>1</th>\n",
       "      <td>97944</td>\n",
       "      <td>3.588306</td>\n",
       "    </tr>\n",
       "    <tr>\n",
       "      <th>2</th>\n",
       "      <td>70309</td>\n",
       "      <td>3.610903</td>\n",
       "    </tr>\n",
       "    <tr>\n",
       "      <th>3</th>\n",
       "      <td>58971</td>\n",
       "      <td>3.557274</td>\n",
       "    </tr>\n",
       "    <tr>\n",
       "      <th>4</th>\n",
       "      <td>90219</td>\n",
       "      <td>3.572197</td>\n",
       "    </tr>\n",
       "    <tr>\n",
       "      <th>5</th>\n",
       "      <td>92558</td>\n",
       "      <td>3.624408</td>\n",
       "    </tr>\n",
       "    <tr>\n",
       "      <th>6</th>\n",
       "      <td>75685</td>\n",
       "      <td>3.533448</td>\n",
       "    </tr>\n",
       "    <tr>\n",
       "      <th>7</th>\n",
       "      <td>66607</td>\n",
       "      <td>3.612999</td>\n",
       "    </tr>\n",
       "    <tr>\n",
       "      <th>8</th>\n",
       "      <td>49262</td>\n",
       "      <td>3.507288</td>\n",
       "    </tr>\n",
       "    <tr>\n",
       "      <th>9</th>\n",
       "      <td>233455</td>\n",
       "      <td>3.604738</td>\n",
       "    </tr>\n",
       "  </tbody>\n",
       "</table>\n",
       "</div>"
      ],
      "text/plain": [
       "        rating          \n",
       "          size      mean\n",
       "region                  \n",
       "0          491  3.881874\n",
       "1        97944  3.588306\n",
       "2        70309  3.610903\n",
       "3        58971  3.557274\n",
       "4        90219  3.572197\n",
       "5        92558  3.624408\n",
       "6        75685  3.533448\n",
       "7        66607  3.612999\n",
       "8        49262  3.507288\n",
       "9       233455  3.604738"
      ]
     },
     "execution_count": 977,
     "metadata": {},
     "output_type": "execute_result"
    }
   ],
   "source": [
    "merged_df.groupby('region').agg({'rating': [np.size, np.mean]})"
   ]
  },
  {
   "cell_type": "markdown",
   "metadata": {},
   "source": [
    "### Review of Movies and their Ratings:"
   ]
  },
  {
   "cell_type": "markdown",
   "metadata": {},
   "source": [
    "#### Genre:\n",
    "##### Table of counts of ratings and average rating by genre"
   ]
  },
  {
   "cell_type": "code",
   "execution_count": 1151,
   "metadata": {
    "collapsed": false
   },
   "outputs": [
    {
     "data": {
      "text/html": [
       "<div>\n",
       "<table border=\"1\" class=\"dataframe\">\n",
       "  <thead>\n",
       "    <tr>\n",
       "      <th></th>\n",
       "      <th colspan=\"2\" halign=\"left\">rating</th>\n",
       "    </tr>\n",
       "    <tr>\n",
       "      <th></th>\n",
       "      <th>size</th>\n",
       "      <th>mean</th>\n",
       "    </tr>\n",
       "    <tr>\n",
       "      <th>genre</th>\n",
       "      <th></th>\n",
       "      <th></th>\n",
       "    </tr>\n",
       "  </thead>\n",
       "  <tbody>\n",
       "    <tr>\n",
       "      <th>Action</th>\n",
       "      <td>10886</td>\n",
       "      <td>3.363311</td>\n",
       "    </tr>\n",
       "    <tr>\n",
       "      <th>Action|Adventure</th>\n",
       "      <td>9269</td>\n",
       "      <td>3.687021</td>\n",
       "    </tr>\n",
       "    <tr>\n",
       "      <th>Action|Adventure|Animation</th>\n",
       "      <td>309</td>\n",
       "      <td>4.142395</td>\n",
       "    </tr>\n",
       "    <tr>\n",
       "      <th>Action|Adventure|Animation|Children's|Fantasy</th>\n",
       "      <td>120</td>\n",
       "      <td>2.741667</td>\n",
       "    </tr>\n",
       "    <tr>\n",
       "      <th>Action|Adventure|Animation|Horror|Sci-Fi</th>\n",
       "      <td>564</td>\n",
       "      <td>3.547872</td>\n",
       "    </tr>\n",
       "    <tr>\n",
       "      <th>Action|Adventure|Children's|Comedy</th>\n",
       "      <td>468</td>\n",
       "      <td>2.309829</td>\n",
       "    </tr>\n",
       "    <tr>\n",
       "      <th>Action|Adventure|Children's|Fantasy</th>\n",
       "      <td>41</td>\n",
       "      <td>2.097561</td>\n",
       "    </tr>\n",
       "    <tr>\n",
       "      <th>Action|Adventure|Children's|Sci-Fi</th>\n",
       "      <td>321</td>\n",
       "      <td>1.847352</td>\n",
       "    </tr>\n",
       "    <tr>\n",
       "      <th>Action|Adventure|Comedy</th>\n",
       "      <td>1897</td>\n",
       "      <td>3.093305</td>\n",
       "    </tr>\n",
       "    <tr>\n",
       "      <th>Action|Adventure|Comedy|Crime</th>\n",
       "      <td>2321</td>\n",
       "      <td>3.136148</td>\n",
       "    </tr>\n",
       "    <tr>\n",
       "      <th>Action|Adventure|Comedy|Horror</th>\n",
       "      <td>491</td>\n",
       "      <td>3.828921</td>\n",
       "    </tr>\n",
       "    <tr>\n",
       "      <th>Action|Adventure|Comedy|Horror|Sci-Fi</th>\n",
       "      <td>860</td>\n",
       "      <td>3.795349</td>\n",
       "    </tr>\n",
       "    <tr>\n",
       "      <th>Action|Adventure|Comedy|Romance</th>\n",
       "      <td>5160</td>\n",
       "      <td>3.863372</td>\n",
       "    </tr>\n",
       "    <tr>\n",
       "      <th>Action|Adventure|Comedy|Sci-Fi</th>\n",
       "      <td>2286</td>\n",
       "      <td>3.733158</td>\n",
       "    </tr>\n",
       "    <tr>\n",
       "      <th>Action|Adventure|Comedy|War</th>\n",
       "      <td>189</td>\n",
       "      <td>2.264550</td>\n",
       "    </tr>\n",
       "    <tr>\n",
       "      <th>Action|Adventure|Crime</th>\n",
       "      <td>1683</td>\n",
       "      <td>2.932858</td>\n",
       "    </tr>\n",
       "    <tr>\n",
       "      <th>Action|Adventure|Crime|Drama</th>\n",
       "      <td>1274</td>\n",
       "      <td>3.622449</td>\n",
       "    </tr>\n",
       "    <tr>\n",
       "      <th>Action|Adventure|Crime|Thriller</th>\n",
       "      <td>203</td>\n",
       "      <td>2.763547</td>\n",
       "    </tr>\n",
       "    <tr>\n",
       "      <th>Action|Adventure|Drama</th>\n",
       "      <td>1473</td>\n",
       "      <td>3.263408</td>\n",
       "    </tr>\n",
       "    <tr>\n",
       "      <th>Action|Adventure|Drama|Romance</th>\n",
       "      <td>332</td>\n",
       "      <td>2.921687</td>\n",
       "    </tr>\n",
       "    <tr>\n",
       "      <th>Action|Adventure|Drama|Thriller</th>\n",
       "      <td>190</td>\n",
       "      <td>3.415789</td>\n",
       "    </tr>\n",
       "    <tr>\n",
       "      <th>Action|Adventure|Fantasy</th>\n",
       "      <td>1684</td>\n",
       "      <td>3.277316</td>\n",
       "    </tr>\n",
       "    <tr>\n",
       "      <th>Action|Adventure|Fantasy|Sci-Fi</th>\n",
       "      <td>875</td>\n",
       "      <td>3.361143</td>\n",
       "    </tr>\n",
       "    <tr>\n",
       "      <th>Action|Adventure|Horror</th>\n",
       "      <td>1755</td>\n",
       "      <td>3.378348</td>\n",
       "    </tr>\n",
       "    <tr>\n",
       "      <th>Action|Adventure|Horror|Thriller</th>\n",
       "      <td>908</td>\n",
       "      <td>3.320485</td>\n",
       "    </tr>\n",
       "    <tr>\n",
       "      <th>Action|Adventure|Mystery</th>\n",
       "      <td>341</td>\n",
       "      <td>3.410557</td>\n",
       "    </tr>\n",
       "    <tr>\n",
       "      <th>Action|Adventure|Mystery|Sci-Fi</th>\n",
       "      <td>517</td>\n",
       "      <td>2.234043</td>\n",
       "    </tr>\n",
       "    <tr>\n",
       "      <th>Action|Adventure|Romance</th>\n",
       "      <td>1028</td>\n",
       "      <td>3.417315</td>\n",
       "    </tr>\n",
       "    <tr>\n",
       "      <th>Action|Adventure|Romance|Thriller</th>\n",
       "      <td>1360</td>\n",
       "      <td>3.023529</td>\n",
       "    </tr>\n",
       "    <tr>\n",
       "      <th>Action|Adventure|Romance|War</th>\n",
       "      <td>931</td>\n",
       "      <td>4.252417</td>\n",
       "    </tr>\n",
       "    <tr>\n",
       "      <th>...</th>\n",
       "      <td>...</td>\n",
       "      <td>...</td>\n",
       "    </tr>\n",
       "    <tr>\n",
       "      <th>Film-Noir|Mystery|Thriller</th>\n",
       "      <td>1648</td>\n",
       "      <td>3.941748</td>\n",
       "    </tr>\n",
       "    <tr>\n",
       "      <th>Film-Noir|Romance|Thriller</th>\n",
       "      <td>393</td>\n",
       "      <td>4.312977</td>\n",
       "    </tr>\n",
       "    <tr>\n",
       "      <th>Film-Noir|Sci-Fi</th>\n",
       "      <td>1612</td>\n",
       "      <td>4.273573</td>\n",
       "    </tr>\n",
       "    <tr>\n",
       "      <th>Film-Noir|Sci-Fi|Thriller</th>\n",
       "      <td>795</td>\n",
       "      <td>3.816352</td>\n",
       "    </tr>\n",
       "    <tr>\n",
       "      <th>Film-Noir|Thriller</th>\n",
       "      <td>1767</td>\n",
       "      <td>4.220713</td>\n",
       "    </tr>\n",
       "    <tr>\n",
       "      <th>Horror</th>\n",
       "      <td>16702</td>\n",
       "      <td>3.236080</td>\n",
       "    </tr>\n",
       "    <tr>\n",
       "      <th>Horror|Mystery</th>\n",
       "      <td>95</td>\n",
       "      <td>2.778947</td>\n",
       "    </tr>\n",
       "    <tr>\n",
       "      <th>Horror|Mystery|Thriller</th>\n",
       "      <td>1824</td>\n",
       "      <td>2.904057</td>\n",
       "    </tr>\n",
       "    <tr>\n",
       "      <th>Horror|Romance</th>\n",
       "      <td>1729</td>\n",
       "      <td>3.454020</td>\n",
       "    </tr>\n",
       "    <tr>\n",
       "      <th>Horror|Sci-Fi</th>\n",
       "      <td>6789</td>\n",
       "      <td>3.051554</td>\n",
       "    </tr>\n",
       "    <tr>\n",
       "      <th>Horror|Sci-Fi|Thriller</th>\n",
       "      <td>1253</td>\n",
       "      <td>2.802075</td>\n",
       "    </tr>\n",
       "    <tr>\n",
       "      <th>Horror|Thriller</th>\n",
       "      <td>7308</td>\n",
       "      <td>3.244800</td>\n",
       "    </tr>\n",
       "    <tr>\n",
       "      <th>Musical</th>\n",
       "      <td>2882</td>\n",
       "      <td>3.794587</td>\n",
       "    </tr>\n",
       "    <tr>\n",
       "      <th>Musical|Romance</th>\n",
       "      <td>2815</td>\n",
       "      <td>3.946359</td>\n",
       "    </tr>\n",
       "    <tr>\n",
       "      <th>Musical|Romance|War</th>\n",
       "      <td>256</td>\n",
       "      <td>3.574219</td>\n",
       "    </tr>\n",
       "    <tr>\n",
       "      <th>Musical|War</th>\n",
       "      <td>401</td>\n",
       "      <td>3.907731</td>\n",
       "    </tr>\n",
       "    <tr>\n",
       "      <th>Mystery</th>\n",
       "      <td>1031</td>\n",
       "      <td>3.783705</td>\n",
       "    </tr>\n",
       "    <tr>\n",
       "      <th>Mystery|Romance|Thriller</th>\n",
       "      <td>849</td>\n",
       "      <td>3.578327</td>\n",
       "    </tr>\n",
       "    <tr>\n",
       "      <th>Mystery|Sci-Fi</th>\n",
       "      <td>474</td>\n",
       "      <td>3.451477</td>\n",
       "    </tr>\n",
       "    <tr>\n",
       "      <th>Mystery|Thriller</th>\n",
       "      <td>5913</td>\n",
       "      <td>3.892779</td>\n",
       "    </tr>\n",
       "    <tr>\n",
       "      <th>Romance</th>\n",
       "      <td>1757</td>\n",
       "      <td>3.375640</td>\n",
       "    </tr>\n",
       "    <tr>\n",
       "      <th>Romance|Thriller</th>\n",
       "      <td>497</td>\n",
       "      <td>3.865191</td>\n",
       "    </tr>\n",
       "    <tr>\n",
       "      <th>Romance|War</th>\n",
       "      <td>115</td>\n",
       "      <td>3.347826</td>\n",
       "    </tr>\n",
       "    <tr>\n",
       "      <th>Romance|Western</th>\n",
       "      <td>59</td>\n",
       "      <td>3.627119</td>\n",
       "    </tr>\n",
       "    <tr>\n",
       "      <th>Sci-Fi</th>\n",
       "      <td>4587</td>\n",
       "      <td>3.587748</td>\n",
       "    </tr>\n",
       "    <tr>\n",
       "      <th>Sci-Fi|Thriller</th>\n",
       "      <td>4174</td>\n",
       "      <td>3.051030</td>\n",
       "    </tr>\n",
       "    <tr>\n",
       "      <th>Sci-Fi|Thriller|War</th>\n",
       "      <td>250</td>\n",
       "      <td>3.436000</td>\n",
       "    </tr>\n",
       "    <tr>\n",
       "      <th>Thriller</th>\n",
       "      <td>15925</td>\n",
       "      <td>3.546813</td>\n",
       "    </tr>\n",
       "    <tr>\n",
       "      <th>War</th>\n",
       "      <td>870</td>\n",
       "      <td>3.902299</td>\n",
       "    </tr>\n",
       "    <tr>\n",
       "      <th>Western</th>\n",
       "      <td>5190</td>\n",
       "      <td>3.863391</td>\n",
       "    </tr>\n",
       "  </tbody>\n",
       "</table>\n",
       "<p>293 rows × 2 columns</p>\n",
       "</div>"
      ],
      "text/plain": [
       "                                              rating          \n",
       "                                                size      mean\n",
       "genre                                                         \n",
       "Action                                         10886  3.363311\n",
       "Action|Adventure                                9269  3.687021\n",
       "Action|Adventure|Animation                       309  4.142395\n",
       "Action|Adventure|Animation|Children's|Fantasy    120  2.741667\n",
       "Action|Adventure|Animation|Horror|Sci-Fi         564  3.547872\n",
       "Action|Adventure|Children's|Comedy               468  2.309829\n",
       "Action|Adventure|Children's|Fantasy               41  2.097561\n",
       "Action|Adventure|Children's|Sci-Fi               321  1.847352\n",
       "Action|Adventure|Comedy                         1897  3.093305\n",
       "Action|Adventure|Comedy|Crime                   2321  3.136148\n",
       "Action|Adventure|Comedy|Horror                   491  3.828921\n",
       "Action|Adventure|Comedy|Horror|Sci-Fi            860  3.795349\n",
       "Action|Adventure|Comedy|Romance                 5160  3.863372\n",
       "Action|Adventure|Comedy|Sci-Fi                  2286  3.733158\n",
       "Action|Adventure|Comedy|War                      189  2.264550\n",
       "Action|Adventure|Crime                          1683  2.932858\n",
       "Action|Adventure|Crime|Drama                    1274  3.622449\n",
       "Action|Adventure|Crime|Thriller                  203  2.763547\n",
       "Action|Adventure|Drama                          1473  3.263408\n",
       "Action|Adventure|Drama|Romance                   332  2.921687\n",
       "Action|Adventure|Drama|Thriller                  190  3.415789\n",
       "Action|Adventure|Fantasy                        1684  3.277316\n",
       "Action|Adventure|Fantasy|Sci-Fi                  875  3.361143\n",
       "Action|Adventure|Horror                         1755  3.378348\n",
       "Action|Adventure|Horror|Thriller                 908  3.320485\n",
       "Action|Adventure|Mystery                         341  3.410557\n",
       "Action|Adventure|Mystery|Sci-Fi                  517  2.234043\n",
       "Action|Adventure|Romance                        1028  3.417315\n",
       "Action|Adventure|Romance|Thriller               1360  3.023529\n",
       "Action|Adventure|Romance|War                     931  4.252417\n",
       "...                                              ...       ...\n",
       "Film-Noir|Mystery|Thriller                      1648  3.941748\n",
       "Film-Noir|Romance|Thriller                       393  4.312977\n",
       "Film-Noir|Sci-Fi                                1612  4.273573\n",
       "Film-Noir|Sci-Fi|Thriller                        795  3.816352\n",
       "Film-Noir|Thriller                              1767  4.220713\n",
       "Horror                                         16702  3.236080\n",
       "Horror|Mystery                                    95  2.778947\n",
       "Horror|Mystery|Thriller                         1824  2.904057\n",
       "Horror|Romance                                  1729  3.454020\n",
       "Horror|Sci-Fi                                   6789  3.051554\n",
       "Horror|Sci-Fi|Thriller                          1253  2.802075\n",
       "Horror|Thriller                                 7308  3.244800\n",
       "Musical                                         2882  3.794587\n",
       "Musical|Romance                                 2815  3.946359\n",
       "Musical|Romance|War                              256  3.574219\n",
       "Musical|War                                      401  3.907731\n",
       "Mystery                                         1031  3.783705\n",
       "Mystery|Romance|Thriller                         849  3.578327\n",
       "Mystery|Sci-Fi                                   474  3.451477\n",
       "Mystery|Thriller                                5913  3.892779\n",
       "Romance                                         1757  3.375640\n",
       "Romance|Thriller                                 497  3.865191\n",
       "Romance|War                                      115  3.347826\n",
       "Romance|Western                                   59  3.627119\n",
       "Sci-Fi                                          4587  3.587748\n",
       "Sci-Fi|Thriller                                 4174  3.051030\n",
       "Sci-Fi|Thriller|War                              250  3.436000\n",
       "Thriller                                       15925  3.546813\n",
       "War                                              870  3.902299\n",
       "Western                                         5190  3.863391\n",
       "\n",
       "[293 rows x 2 columns]"
      ]
     },
     "execution_count": 1151,
     "metadata": {},
     "output_type": "execute_result"
    }
   ],
   "source": [
    "merged_df.groupby('genre').agg({'rating': [np.size, np.mean]})"
   ]
  },
  {
   "cell_type": "markdown",
   "metadata": {},
   "source": [
    "#### Below are the 25 most rated movies:"
   ]
  },
  {
   "cell_type": "code",
   "execution_count": 978,
   "metadata": {
    "collapsed": false
   },
   "outputs": [
    {
     "data": {
      "text/plain": [
       "movie\n",
       "American Beauty (1999)               3039\n",
       "Jurassic Park (1993)                 2390\n",
       "Saving Private Ryan (1998)           2378\n",
       "Matrix, The (1999)                   2329\n",
       "Silence of the Lambs, The (1991)     2291\n",
       "Men in Black (1997)                  2286\n",
       "Back to the Future (1985)            2284\n",
       "Fargo (1996)                         2250\n",
       "Raiders of the Lost Ark (1981)       2226\n",
       "Braveheart (1995)                    2212\n",
       "Sixth Sense, The (1999)              2206\n",
       "Shakespeare in Love (1998)           2083\n",
       "Princess Bride, The (1987)           2081\n",
       "Schindler's List (1993)              2060\n",
       "L.A. Confidential (1997)             2033\n",
       "Groundhog Day (1993)                 2028\n",
       "E.T. the Extra-Terrestrial (1982)    2027\n",
       "Being John Malkovich (1999)          1983\n",
       "Godfather, The (1972)                1981\n",
       "Shawshank Redemption, The (1994)     1977\n",
       "Forrest Gump (1994)                  1958\n",
       "Ghostbusters (1984)                  1943\n",
       "Pulp Fiction (1994)                  1923\n",
       "Terminator, The (1984)               1877\n",
       "Toy Story (1995)                     1847\n",
       "dtype: int64"
      ]
     },
     "execution_count": 978,
     "metadata": {},
     "output_type": "execute_result"
    }
   ],
   "source": [
    "most_rated = merged_df.groupby('movie').size().sort_values(ascending=False)[:25]\n",
    "most_rated"
   ]
  },
  {
   "cell_type": "markdown",
   "metadata": {},
   "source": [
    "#### The top rated movies with at least 100 ratings"
   ]
  },
  {
   "cell_type": "code",
   "execution_count": 979,
   "metadata": {
    "collapsed": false
   },
   "outputs": [
    {
     "data": {
      "text/html": [
       "<div>\n",
       "<table border=\"1\" class=\"dataframe\">\n",
       "  <thead>\n",
       "    <tr>\n",
       "      <th></th>\n",
       "      <th colspan=\"2\" halign=\"left\">rating</th>\n",
       "    </tr>\n",
       "    <tr>\n",
       "      <th></th>\n",
       "      <th>size</th>\n",
       "      <th>mean</th>\n",
       "    </tr>\n",
       "    <tr>\n",
       "      <th>movie</th>\n",
       "      <th></th>\n",
       "      <th></th>\n",
       "    </tr>\n",
       "  </thead>\n",
       "  <tbody>\n",
       "    <tr>\n",
       "      <th>Seven Samurai (The Magnificent Seven) (Shichinin no samurai) (1954)</th>\n",
       "      <td>554</td>\n",
       "      <td>4.557762</td>\n",
       "    </tr>\n",
       "    <tr>\n",
       "      <th>Shawshank Redemption, The (1994)</th>\n",
       "      <td>1977</td>\n",
       "      <td>4.554375</td>\n",
       "    </tr>\n",
       "    <tr>\n",
       "      <th>Godfather, The (1972)</th>\n",
       "      <td>1981</td>\n",
       "      <td>4.521454</td>\n",
       "    </tr>\n",
       "    <tr>\n",
       "      <th>Close Shave, A (1995)</th>\n",
       "      <td>561</td>\n",
       "      <td>4.518717</td>\n",
       "    </tr>\n",
       "    <tr>\n",
       "      <th>Wrong Trousers, The (1993)</th>\n",
       "      <td>756</td>\n",
       "      <td>4.518519</td>\n",
       "    </tr>\n",
       "    <tr>\n",
       "      <th>Sunset Blvd. (a.k.a. Sunset Boulevard) (1950)</th>\n",
       "      <td>420</td>\n",
       "      <td>4.516667</td>\n",
       "    </tr>\n",
       "    <tr>\n",
       "      <th>Schindler's List (1993)</th>\n",
       "      <td>2060</td>\n",
       "      <td>4.508252</td>\n",
       "    </tr>\n",
       "    <tr>\n",
       "      <th>Usual Suspects, The (1995)</th>\n",
       "      <td>1577</td>\n",
       "      <td>4.497146</td>\n",
       "    </tr>\n",
       "    <tr>\n",
       "      <th>Paths of Glory (1957)</th>\n",
       "      <td>202</td>\n",
       "      <td>4.495050</td>\n",
       "    </tr>\n",
       "    <tr>\n",
       "      <th>Rear Window (1954)</th>\n",
       "      <td>936</td>\n",
       "      <td>4.480769</td>\n",
       "    </tr>\n",
       "    <tr>\n",
       "      <th>Raiders of the Lost Ark (1981)</th>\n",
       "      <td>2226</td>\n",
       "      <td>4.473495</td>\n",
       "    </tr>\n",
       "    <tr>\n",
       "      <th>Third Man, The (1949)</th>\n",
       "      <td>431</td>\n",
       "      <td>4.459397</td>\n",
       "    </tr>\n",
       "    <tr>\n",
       "      <th>To Kill a Mockingbird (1962)</th>\n",
       "      <td>820</td>\n",
       "      <td>4.446341</td>\n",
       "    </tr>\n",
       "    <tr>\n",
       "      <th>Yojimbo (1961)</th>\n",
       "      <td>193</td>\n",
       "      <td>4.430052</td>\n",
       "    </tr>\n",
       "    <tr>\n",
       "      <th>Double Indemnity (1944)</th>\n",
       "      <td>499</td>\n",
       "      <td>4.424850</td>\n",
       "    </tr>\n",
       "  </tbody>\n",
       "</table>\n",
       "</div>"
      ],
      "text/plain": [
       "                                                   rating          \n",
       "                                                     size      mean\n",
       "movie                                                              \n",
       "Seven Samurai (The Magnificent Seven) (Shichini...    554  4.557762\n",
       "Shawshank Redemption, The (1994)                     1977  4.554375\n",
       "Godfather, The (1972)                                1981  4.521454\n",
       "Close Shave, A (1995)                                 561  4.518717\n",
       "Wrong Trousers, The (1993)                            756  4.518519\n",
       "Sunset Blvd. (a.k.a. Sunset Boulevard) (1950)         420  4.516667\n",
       "Schindler's List (1993)                              2060  4.508252\n",
       "Usual Suspects, The (1995)                           1577  4.497146\n",
       "Paths of Glory (1957)                                 202  4.495050\n",
       "Rear Window (1954)                                    936  4.480769\n",
       "Raiders of the Lost Ark (1981)                       2226  4.473495\n",
       "Third Man, The (1949)                                 431  4.459397\n",
       "To Kill a Mockingbird (1962)                          820  4.446341\n",
       "Yojimbo (1961)                                        193  4.430052\n",
       "Double Indemnity (1944)                               499  4.424850"
      ]
     },
     "execution_count": 979,
     "metadata": {},
     "output_type": "execute_result"
    }
   ],
   "source": [
    "movie_stats = merged_df.groupby('movie').agg({'rating': [np.size, np.mean]})\n",
    "movie_stats.head()\n",
    "# sort by rating average\n",
    "movie_stats.sort_values([('rating', 'mean')], ascending=False).head()\n",
    "atleast_100 = movie_stats['rating']['size'] >= 100\n",
    "movie_stats[atleast_100].sort_values([('rating', 'mean')], ascending=False)[:15]"
   ]
  },
  {
   "cell_type": "markdown",
   "metadata": {},
   "source": [
    "#### The top 50 rated movies by binned age groups:"
   ]
  },
  {
   "cell_type": "code",
   "execution_count": 1153,
   "metadata": {
    "collapsed": false
   },
   "outputs": [],
   "source": [
    "most_50 = merged_df.groupby('movie_ID').size().sort_values(ascending=False)[:50]\n",
    "merged_df.set_index('movie_ID', inplace=True)\n",
    "by_age = merged_df.loc[most_50.index].groupby(['movie', 'age'])"
   ]
  },
  {
   "cell_type": "code",
   "execution_count": 1154,
   "metadata": {
    "collapsed": false
   },
   "outputs": [
    {
     "data": {
      "text/html": [
       "<div>\n",
       "<table border=\"1\" class=\"dataframe\">\n",
       "  <thead>\n",
       "    <tr style=\"text-align: right;\">\n",
       "      <th>age</th>\n",
       "      <th>1</th>\n",
       "      <th>18</th>\n",
       "      <th>25</th>\n",
       "      <th>35</th>\n",
       "      <th>45</th>\n",
       "      <th>50</th>\n",
       "      <th>56</th>\n",
       "    </tr>\n",
       "    <tr>\n",
       "      <th>movie</th>\n",
       "      <th></th>\n",
       "      <th></th>\n",
       "      <th></th>\n",
       "      <th></th>\n",
       "      <th></th>\n",
       "      <th></th>\n",
       "      <th></th>\n",
       "    </tr>\n",
       "  </thead>\n",
       "  <tbody>\n",
       "    <tr>\n",
       "      <th>Abyss, The (1989)</th>\n",
       "      <td>3.821429</td>\n",
       "      <td>3.913621</td>\n",
       "      <td>3.638095</td>\n",
       "      <td>3.693291</td>\n",
       "      <td>3.692308</td>\n",
       "      <td>3.520000</td>\n",
       "      <td>3.565217</td>\n",
       "    </tr>\n",
       "    <tr>\n",
       "      <th>Airplane! (1980)</th>\n",
       "      <td>3.718750</td>\n",
       "      <td>4.068441</td>\n",
       "      <td>4.003125</td>\n",
       "      <td>3.901961</td>\n",
       "      <td>3.952000</td>\n",
       "      <td>3.970874</td>\n",
       "      <td>3.777778</td>\n",
       "    </tr>\n",
       "    <tr>\n",
       "      <th>Alien (1979)</th>\n",
       "      <td>3.939394</td>\n",
       "      <td>3.919118</td>\n",
       "      <td>4.253501</td>\n",
       "      <td>4.210900</td>\n",
       "      <td>4.167665</td>\n",
       "      <td>4.106383</td>\n",
       "      <td>4.065574</td>\n",
       "    </tr>\n",
       "    <tr>\n",
       "      <th>Aliens (1986)</th>\n",
       "      <td>4.000000</td>\n",
       "      <td>4.139785</td>\n",
       "      <td>4.179340</td>\n",
       "      <td>4.136364</td>\n",
       "      <td>4.106557</td>\n",
       "      <td>3.845455</td>\n",
       "      <td>3.788462</td>\n",
       "    </tr>\n",
       "    <tr>\n",
       "      <th>American Beauty (1999)</th>\n",
       "      <td>4.410256</td>\n",
       "      <td>4.526232</td>\n",
       "      <td>4.328607</td>\n",
       "      <td>4.242593</td>\n",
       "      <td>4.116279</td>\n",
       "      <td>4.126126</td>\n",
       "      <td>4.121795</td>\n",
       "    </tr>\n",
       "    <tr>\n",
       "      <th>Babe (1995)</th>\n",
       "      <td>3.238806</td>\n",
       "      <td>3.634538</td>\n",
       "      <td>3.956822</td>\n",
       "      <td>4.014663</td>\n",
       "      <td>4.021898</td>\n",
       "      <td>3.974138</td>\n",
       "      <td>3.971429</td>\n",
       "    </tr>\n",
       "    <tr>\n",
       "      <th>Back to the Future (1985)</th>\n",
       "      <td>4.075472</td>\n",
       "      <td>4.080760</td>\n",
       "      <td>3.941769</td>\n",
       "      <td>3.993644</td>\n",
       "      <td>3.983784</td>\n",
       "      <td>4.046512</td>\n",
       "      <td>3.931818</td>\n",
       "    </tr>\n",
       "    <tr>\n",
       "      <th>Being John Malkovich (1999)</th>\n",
       "      <td>4.075472</td>\n",
       "      <td>4.222222</td>\n",
       "      <td>4.085575</td>\n",
       "      <td>4.174157</td>\n",
       "      <td>4.120301</td>\n",
       "      <td>3.992000</td>\n",
       "      <td>4.093333</td>\n",
       "    </tr>\n",
       "    <tr>\n",
       "      <th>Blade Runner (1982)</th>\n",
       "      <td>4.000000</td>\n",
       "      <td>4.059072</td>\n",
       "      <td>4.345865</td>\n",
       "      <td>4.318421</td>\n",
       "      <td>4.273438</td>\n",
       "      <td>4.181034</td>\n",
       "      <td>4.322581</td>\n",
       "    </tr>\n",
       "    <tr>\n",
       "      <th>Braveheart (1995)</th>\n",
       "      <td>4.187500</td>\n",
       "      <td>4.425662</td>\n",
       "      <td>4.257379</td>\n",
       "      <td>4.151807</td>\n",
       "      <td>4.144828</td>\n",
       "      <td>4.084746</td>\n",
       "      <td>3.977528</td>\n",
       "    </tr>\n",
       "    <tr>\n",
       "      <th>Bug's Life, A (1998)</th>\n",
       "      <td>3.609375</td>\n",
       "      <td>3.832827</td>\n",
       "      <td>3.945299</td>\n",
       "      <td>3.837662</td>\n",
       "      <td>3.693069</td>\n",
       "      <td>3.800000</td>\n",
       "      <td>3.659574</td>\n",
       "    </tr>\n",
       "    <tr>\n",
       "      <th>Casablanca (1942)</th>\n",
       "      <td>4.291667</td>\n",
       "      <td>4.170984</td>\n",
       "      <td>4.371901</td>\n",
       "      <td>4.460674</td>\n",
       "      <td>4.496933</td>\n",
       "      <td>4.547297</td>\n",
       "      <td>4.563218</td>\n",
       "    </tr>\n",
       "    <tr>\n",
       "      <th>Die Hard (1988)</th>\n",
       "      <td>4.521739</td>\n",
       "      <td>4.086957</td>\n",
       "      <td>4.129376</td>\n",
       "      <td>4.166667</td>\n",
       "      <td>4.148936</td>\n",
       "      <td>4.019048</td>\n",
       "      <td>4.090909</td>\n",
       "    </tr>\n",
       "    <tr>\n",
       "      <th>E.T. the Extra-Terrestrial (1982)</th>\n",
       "      <td>3.683333</td>\n",
       "      <td>3.811429</td>\n",
       "      <td>3.943325</td>\n",
       "      <td>3.995434</td>\n",
       "      <td>4.052023</td>\n",
       "      <td>4.188406</td>\n",
       "      <td>4.243243</td>\n",
       "    </tr>\n",
       "    <tr>\n",
       "      <th>Fargo (1996)</th>\n",
       "      <td>4.295455</td>\n",
       "      <td>4.193154</td>\n",
       "      <td>4.231461</td>\n",
       "      <td>4.258929</td>\n",
       "      <td>4.295455</td>\n",
       "      <td>4.405556</td>\n",
       "      <td>4.436893</td>\n",
       "    </tr>\n",
       "    <tr>\n",
       "      <th>Forrest Gump (1994)</th>\n",
       "      <td>4.186667</td>\n",
       "      <td>4.137405</td>\n",
       "      <td>4.079730</td>\n",
       "      <td>4.020290</td>\n",
       "      <td>4.217391</td>\n",
       "      <td>4.092715</td>\n",
       "      <td>4.236559</td>\n",
       "    </tr>\n",
       "    <tr>\n",
       "      <th>Fugitive, The (1993)</th>\n",
       "      <td>4.238095</td>\n",
       "      <td>4.002817</td>\n",
       "      <td>4.120321</td>\n",
       "      <td>4.148036</td>\n",
       "      <td>4.075630</td>\n",
       "      <td>4.131783</td>\n",
       "      <td>4.052632</td>\n",
       "    </tr>\n",
       "    <tr>\n",
       "      <th>Galaxy Quest (1999)</th>\n",
       "      <td>3.763636</td>\n",
       "      <td>3.635338</td>\n",
       "      <td>3.747440</td>\n",
       "      <td>3.840782</td>\n",
       "      <td>3.741259</td>\n",
       "      <td>3.872340</td>\n",
       "      <td>3.859649</td>\n",
       "    </tr>\n",
       "    <tr>\n",
       "      <th>Ghostbusters (1984)</th>\n",
       "      <td>3.836735</td>\n",
       "      <td>4.037879</td>\n",
       "      <td>3.894737</td>\n",
       "      <td>3.835052</td>\n",
       "      <td>3.968354</td>\n",
       "      <td>3.782258</td>\n",
       "      <td>3.705882</td>\n",
       "    </tr>\n",
       "    <tr>\n",
       "      <th>Gladiator (2000)</th>\n",
       "      <td>4.250000</td>\n",
       "      <td>4.270270</td>\n",
       "      <td>4.081006</td>\n",
       "      <td>3.989726</td>\n",
       "      <td>4.140000</td>\n",
       "      <td>4.152381</td>\n",
       "      <td>3.885246</td>\n",
       "    </tr>\n",
       "    <tr>\n",
       "      <th>Godfather, The (1972)</th>\n",
       "      <td>4.428571</td>\n",
       "      <td>4.483384</td>\n",
       "      <td>4.574380</td>\n",
       "      <td>4.530660</td>\n",
       "      <td>4.352273</td>\n",
       "      <td>4.569061</td>\n",
       "      <td>4.475248</td>\n",
       "    </tr>\n",
       "    <tr>\n",
       "      <th>GoodFellas (1990)</th>\n",
       "      <td>4.850000</td>\n",
       "      <td>4.445693</td>\n",
       "      <td>4.362761</td>\n",
       "      <td>4.154639</td>\n",
       "      <td>3.899083</td>\n",
       "      <td>4.064815</td>\n",
       "      <td>3.964912</td>\n",
       "    </tr>\n",
       "    <tr>\n",
       "      <th>Groundhog Day (1993)</th>\n",
       "      <td>3.838710</td>\n",
       "      <td>3.855696</td>\n",
       "      <td>4.017370</td>\n",
       "      <td>3.992167</td>\n",
       "      <td>4.036585</td>\n",
       "      <td>3.882759</td>\n",
       "      <td>3.931507</td>\n",
       "    </tr>\n",
       "    <tr>\n",
       "      <th>Hunt for Red October, The (1990)</th>\n",
       "      <td>3.739130</td>\n",
       "      <td>4.007663</td>\n",
       "      <td>4.023140</td>\n",
       "      <td>4.094595</td>\n",
       "      <td>4.074074</td>\n",
       "      <td>4.190476</td>\n",
       "      <td>4.216667</td>\n",
       "    </tr>\n",
       "    <tr>\n",
       "      <th>Independence Day (ID4) (1996)</th>\n",
       "      <td>3.941176</td>\n",
       "      <td>3.540299</td>\n",
       "      <td>3.405229</td>\n",
       "      <td>3.605263</td>\n",
       "      <td>3.696429</td>\n",
       "      <td>3.518519</td>\n",
       "      <td>3.565217</td>\n",
       "    </tr>\n",
       "    <tr>\n",
       "      <th>Indiana Jones and the Last Crusade (1989)</th>\n",
       "      <td>4.275862</td>\n",
       "      <td>4.298413</td>\n",
       "      <td>4.104478</td>\n",
       "      <td>4.000000</td>\n",
       "      <td>4.030928</td>\n",
       "      <td>4.214286</td>\n",
       "      <td>4.318182</td>\n",
       "    </tr>\n",
       "    <tr>\n",
       "      <th>Jaws (1975)</th>\n",
       "      <td>4.172414</td>\n",
       "      <td>3.915493</td>\n",
       "      <td>4.141577</td>\n",
       "      <td>4.176301</td>\n",
       "      <td>4.063492</td>\n",
       "      <td>4.093458</td>\n",
       "      <td>4.080000</td>\n",
       "    </tr>\n",
       "    <tr>\n",
       "      <th>Jurassic Park (1993)</th>\n",
       "      <td>3.770270</td>\n",
       "      <td>3.745868</td>\n",
       "      <td>3.702341</td>\n",
       "      <td>3.811839</td>\n",
       "      <td>3.946809</td>\n",
       "      <td>3.765714</td>\n",
       "      <td>3.898990</td>\n",
       "    </tr>\n",
       "    <tr>\n",
       "      <th>L.A. Confidential (1997)</th>\n",
       "      <td>4.272727</td>\n",
       "      <td>4.241667</td>\n",
       "      <td>4.231847</td>\n",
       "      <td>4.160891</td>\n",
       "      <td>4.161850</td>\n",
       "      <td>4.274286</td>\n",
       "      <td>4.174757</td>\n",
       "    </tr>\n",
       "    <tr>\n",
       "      <th>Lethal Weapon (1987)</th>\n",
       "      <td>3.764706</td>\n",
       "      <td>3.821293</td>\n",
       "      <td>3.881141</td>\n",
       "      <td>4.019544</td>\n",
       "      <td>3.896226</td>\n",
       "      <td>3.918367</td>\n",
       "      <td>3.761905</td>\n",
       "    </tr>\n",
       "    <tr>\n",
       "      <th>Matrix, The (1999)</th>\n",
       "      <td>4.487805</td>\n",
       "      <td>4.474206</td>\n",
       "      <td>4.388421</td>\n",
       "      <td>4.239726</td>\n",
       "      <td>4.018072</td>\n",
       "      <td>3.905797</td>\n",
       "      <td>4.058824</td>\n",
       "    </tr>\n",
       "    <tr>\n",
       "      <th>Men in Black (1997)</th>\n",
       "      <td>3.848101</td>\n",
       "      <td>3.609071</td>\n",
       "      <td>3.656073</td>\n",
       "      <td>3.840708</td>\n",
       "      <td>3.840237</td>\n",
       "      <td>3.975610</td>\n",
       "      <td>3.858974</td>\n",
       "    </tr>\n",
       "    <tr>\n",
       "      <th>One Flew Over the Cuckoo's Nest (1975)</th>\n",
       "      <td>4.178571</td>\n",
       "      <td>4.455752</td>\n",
       "      <td>4.396518</td>\n",
       "      <td>4.390110</td>\n",
       "      <td>4.304878</td>\n",
       "      <td>4.328125</td>\n",
       "      <td>4.410000</td>\n",
       "    </tr>\n",
       "    <tr>\n",
       "      <th>Princess Bride, The (1987)</th>\n",
       "      <td>4.192308</td>\n",
       "      <td>4.308204</td>\n",
       "      <td>4.364773</td>\n",
       "      <td>4.296020</td>\n",
       "      <td>4.153846</td>\n",
       "      <td>4.083333</td>\n",
       "      <td>4.088889</td>\n",
       "    </tr>\n",
       "    <tr>\n",
       "      <th>Pulp Fiction (1994)</th>\n",
       "      <td>4.500000</td>\n",
       "      <td>4.382775</td>\n",
       "      <td>4.393827</td>\n",
       "      <td>4.149425</td>\n",
       "      <td>4.024793</td>\n",
       "      <td>3.983871</td>\n",
       "      <td>3.796875</td>\n",
       "    </tr>\n",
       "    <tr>\n",
       "      <th>Raiders of the Lost Ark (1981)</th>\n",
       "      <td>4.189655</td>\n",
       "      <td>4.361650</td>\n",
       "      <td>4.570942</td>\n",
       "      <td>4.471616</td>\n",
       "      <td>4.434286</td>\n",
       "      <td>4.409396</td>\n",
       "      <td>4.408602</td>\n",
       "    </tr>\n",
       "    <tr>\n",
       "      <th>Saving Private Ryan (1998)</th>\n",
       "      <td>4.500000</td>\n",
       "      <td>4.310204</td>\n",
       "      <td>4.284017</td>\n",
       "      <td>4.414097</td>\n",
       "      <td>4.404494</td>\n",
       "      <td>4.534161</td>\n",
       "      <td>4.435644</td>\n",
       "    </tr>\n",
       "    <tr>\n",
       "      <th>Schindler's List (1993)</th>\n",
       "      <td>4.448980</td>\n",
       "      <td>4.458228</td>\n",
       "      <td>4.488312</td>\n",
       "      <td>4.510152</td>\n",
       "      <td>4.592179</td>\n",
       "      <td>4.584906</td>\n",
       "      <td>4.596491</td>\n",
       "    </tr>\n",
       "    <tr>\n",
       "      <th>Shakespeare in Love (1998)</th>\n",
       "      <td>4.000000</td>\n",
       "      <td>4.032000</td>\n",
       "      <td>4.079794</td>\n",
       "      <td>4.176904</td>\n",
       "      <td>4.233696</td>\n",
       "      <td>4.323353</td>\n",
       "      <td>4.042735</td>\n",
       "    </tr>\n",
       "    <tr>\n",
       "      <th>Shawshank Redemption, The (1994)</th>\n",
       "      <td>4.555556</td>\n",
       "      <td>4.667470</td>\n",
       "      <td>4.583123</td>\n",
       "      <td>4.497222</td>\n",
       "      <td>4.470968</td>\n",
       "      <td>4.377778</td>\n",
       "      <td>4.402439</td>\n",
       "    </tr>\n",
       "    <tr>\n",
       "      <th>Silence of the Lambs, The (1991)</th>\n",
       "      <td>4.341463</td>\n",
       "      <td>4.371007</td>\n",
       "      <td>4.405037</td>\n",
       "      <td>4.282609</td>\n",
       "      <td>4.269461</td>\n",
       "      <td>4.182390</td>\n",
       "      <td>4.423077</td>\n",
       "    </tr>\n",
       "    <tr>\n",
       "      <th>Sixth Sense, The (1999)</th>\n",
       "      <td>4.290323</td>\n",
       "      <td>4.313596</td>\n",
       "      <td>4.440600</td>\n",
       "      <td>4.441315</td>\n",
       "      <td>4.463576</td>\n",
       "      <td>4.405797</td>\n",
       "      <td>4.400000</td>\n",
       "    </tr>\n",
       "    <tr>\n",
       "      <th>Speed (1994)</th>\n",
       "      <td>3.787879</td>\n",
       "      <td>3.444795</td>\n",
       "      <td>3.514003</td>\n",
       "      <td>3.724739</td>\n",
       "      <td>3.760000</td>\n",
       "      <td>3.721649</td>\n",
       "      <td>3.641026</td>\n",
       "    </tr>\n",
       "    <tr>\n",
       "      <th>Stand by Me (1986)</th>\n",
       "      <td>4.000000</td>\n",
       "      <td>4.257951</td>\n",
       "      <td>4.096591</td>\n",
       "      <td>3.993464</td>\n",
       "      <td>4.082474</td>\n",
       "      <td>4.017857</td>\n",
       "      <td>4.125000</td>\n",
       "    </tr>\n",
       "    <tr>\n",
       "      <th>Terminator, The (1984)</th>\n",
       "      <td>4.074074</td>\n",
       "      <td>3.823699</td>\n",
       "      <td>4.186250</td>\n",
       "      <td>4.323383</td>\n",
       "      <td>4.215827</td>\n",
       "      <td>4.338983</td>\n",
       "      <td>4.066667</td>\n",
       "    </tr>\n",
       "    <tr>\n",
       "      <th>Total Recall (1990)</th>\n",
       "      <td>3.269231</td>\n",
       "      <td>3.620061</td>\n",
       "      <td>3.641361</td>\n",
       "      <td>3.710383</td>\n",
       "      <td>3.795620</td>\n",
       "      <td>3.830645</td>\n",
       "      <td>3.708333</td>\n",
       "    </tr>\n",
       "    <tr>\n",
       "      <th>Toy Story (1995)</th>\n",
       "      <td>3.932584</td>\n",
       "      <td>4.020000</td>\n",
       "      <td>4.192908</td>\n",
       "      <td>4.329787</td>\n",
       "      <td>4.131783</td>\n",
       "      <td>4.072165</td>\n",
       "      <td>3.882353</td>\n",
       "    </tr>\n",
       "    <tr>\n",
       "      <th>Usual Suspects, The (1995)</th>\n",
       "      <td>4.333333</td>\n",
       "      <td>4.682857</td>\n",
       "      <td>4.533716</td>\n",
       "      <td>4.351449</td>\n",
       "      <td>4.197674</td>\n",
       "      <td>4.336842</td>\n",
       "      <td>4.391304</td>\n",
       "    </tr>\n",
       "    <tr>\n",
       "      <th>Who Framed Roger Rabbit? (1988)</th>\n",
       "      <td>3.846154</td>\n",
       "      <td>3.737160</td>\n",
       "      <td>3.628900</td>\n",
       "      <td>3.668750</td>\n",
       "      <td>3.743802</td>\n",
       "      <td>3.669643</td>\n",
       "      <td>3.723077</td>\n",
       "    </tr>\n",
       "    <tr>\n",
       "      <th>Wizard of Oz, The (1939)</th>\n",
       "      <td>4.043478</td>\n",
       "      <td>3.878676</td>\n",
       "      <td>4.207364</td>\n",
       "      <td>4.475275</td>\n",
       "      <td>4.428571</td>\n",
       "      <td>4.418182</td>\n",
       "      <td>4.555556</td>\n",
       "    </tr>\n",
       "  </tbody>\n",
       "</table>\n",
       "</div>"
      ],
      "text/plain": [
       "age                                              1         18        25  \\\n",
       "movie                                                                     \n",
       "Abyss, The (1989)                          3.821429  3.913621  3.638095   \n",
       "Airplane! (1980)                           3.718750  4.068441  4.003125   \n",
       "Alien (1979)                               3.939394  3.919118  4.253501   \n",
       "Aliens (1986)                              4.000000  4.139785  4.179340   \n",
       "American Beauty (1999)                     4.410256  4.526232  4.328607   \n",
       "Babe (1995)                                3.238806  3.634538  3.956822   \n",
       "Back to the Future (1985)                  4.075472  4.080760  3.941769   \n",
       "Being John Malkovich (1999)                4.075472  4.222222  4.085575   \n",
       "Blade Runner (1982)                        4.000000  4.059072  4.345865   \n",
       "Braveheart (1995)                          4.187500  4.425662  4.257379   \n",
       "Bug's Life, A (1998)                       3.609375  3.832827  3.945299   \n",
       "Casablanca (1942)                          4.291667  4.170984  4.371901   \n",
       "Die Hard (1988)                            4.521739  4.086957  4.129376   \n",
       "E.T. the Extra-Terrestrial (1982)          3.683333  3.811429  3.943325   \n",
       "Fargo (1996)                               4.295455  4.193154  4.231461   \n",
       "Forrest Gump (1994)                        4.186667  4.137405  4.079730   \n",
       "Fugitive, The (1993)                       4.238095  4.002817  4.120321   \n",
       "Galaxy Quest (1999)                        3.763636  3.635338  3.747440   \n",
       "Ghostbusters (1984)                        3.836735  4.037879  3.894737   \n",
       "Gladiator (2000)                           4.250000  4.270270  4.081006   \n",
       "Godfather, The (1972)                      4.428571  4.483384  4.574380   \n",
       "GoodFellas (1990)                          4.850000  4.445693  4.362761   \n",
       "Groundhog Day (1993)                       3.838710  3.855696  4.017370   \n",
       "Hunt for Red October, The (1990)           3.739130  4.007663  4.023140   \n",
       "Independence Day (ID4) (1996)              3.941176  3.540299  3.405229   \n",
       "Indiana Jones and the Last Crusade (1989)  4.275862  4.298413  4.104478   \n",
       "Jaws (1975)                                4.172414  3.915493  4.141577   \n",
       "Jurassic Park (1993)                       3.770270  3.745868  3.702341   \n",
       "L.A. Confidential (1997)                   4.272727  4.241667  4.231847   \n",
       "Lethal Weapon (1987)                       3.764706  3.821293  3.881141   \n",
       "Matrix, The (1999)                         4.487805  4.474206  4.388421   \n",
       "Men in Black (1997)                        3.848101  3.609071  3.656073   \n",
       "One Flew Over the Cuckoo's Nest (1975)     4.178571  4.455752  4.396518   \n",
       "Princess Bride, The (1987)                 4.192308  4.308204  4.364773   \n",
       "Pulp Fiction (1994)                        4.500000  4.382775  4.393827   \n",
       "Raiders of the Lost Ark (1981)             4.189655  4.361650  4.570942   \n",
       "Saving Private Ryan (1998)                 4.500000  4.310204  4.284017   \n",
       "Schindler's List (1993)                    4.448980  4.458228  4.488312   \n",
       "Shakespeare in Love (1998)                 4.000000  4.032000  4.079794   \n",
       "Shawshank Redemption, The (1994)           4.555556  4.667470  4.583123   \n",
       "Silence of the Lambs, The (1991)           4.341463  4.371007  4.405037   \n",
       "Sixth Sense, The (1999)                    4.290323  4.313596  4.440600   \n",
       "Speed (1994)                               3.787879  3.444795  3.514003   \n",
       "Stand by Me (1986)                         4.000000  4.257951  4.096591   \n",
       "Terminator, The (1984)                     4.074074  3.823699  4.186250   \n",
       "Total Recall (1990)                        3.269231  3.620061  3.641361   \n",
       "Toy Story (1995)                           3.932584  4.020000  4.192908   \n",
       "Usual Suspects, The (1995)                 4.333333  4.682857  4.533716   \n",
       "Who Framed Roger Rabbit? (1988)            3.846154  3.737160  3.628900   \n",
       "Wizard of Oz, The (1939)                   4.043478  3.878676  4.207364   \n",
       "\n",
       "age                                              35        45        50  \\\n",
       "movie                                                                     \n",
       "Abyss, The (1989)                          3.693291  3.692308  3.520000   \n",
       "Airplane! (1980)                           3.901961  3.952000  3.970874   \n",
       "Alien (1979)                               4.210900  4.167665  4.106383   \n",
       "Aliens (1986)                              4.136364  4.106557  3.845455   \n",
       "American Beauty (1999)                     4.242593  4.116279  4.126126   \n",
       "Babe (1995)                                4.014663  4.021898  3.974138   \n",
       "Back to the Future (1985)                  3.993644  3.983784  4.046512   \n",
       "Being John Malkovich (1999)                4.174157  4.120301  3.992000   \n",
       "Blade Runner (1982)                        4.318421  4.273438  4.181034   \n",
       "Braveheart (1995)                          4.151807  4.144828  4.084746   \n",
       "Bug's Life, A (1998)                       3.837662  3.693069  3.800000   \n",
       "Casablanca (1942)                          4.460674  4.496933  4.547297   \n",
       "Die Hard (1988)                            4.166667  4.148936  4.019048   \n",
       "E.T. the Extra-Terrestrial (1982)          3.995434  4.052023  4.188406   \n",
       "Fargo (1996)                               4.258929  4.295455  4.405556   \n",
       "Forrest Gump (1994)                        4.020290  4.217391  4.092715   \n",
       "Fugitive, The (1993)                       4.148036  4.075630  4.131783   \n",
       "Galaxy Quest (1999)                        3.840782  3.741259  3.872340   \n",
       "Ghostbusters (1984)                        3.835052  3.968354  3.782258   \n",
       "Gladiator (2000)                           3.989726  4.140000  4.152381   \n",
       "Godfather, The (1972)                      4.530660  4.352273  4.569061   \n",
       "GoodFellas (1990)                          4.154639  3.899083  4.064815   \n",
       "Groundhog Day (1993)                       3.992167  4.036585  3.882759   \n",
       "Hunt for Red October, The (1990)           4.094595  4.074074  4.190476   \n",
       "Independence Day (ID4) (1996)              3.605263  3.696429  3.518519   \n",
       "Indiana Jones and the Last Crusade (1989)  4.000000  4.030928  4.214286   \n",
       "Jaws (1975)                                4.176301  4.063492  4.093458   \n",
       "Jurassic Park (1993)                       3.811839  3.946809  3.765714   \n",
       "L.A. Confidential (1997)                   4.160891  4.161850  4.274286   \n",
       "Lethal Weapon (1987)                       4.019544  3.896226  3.918367   \n",
       "Matrix, The (1999)                         4.239726  4.018072  3.905797   \n",
       "Men in Black (1997)                        3.840708  3.840237  3.975610   \n",
       "One Flew Over the Cuckoo's Nest (1975)     4.390110  4.304878  4.328125   \n",
       "Princess Bride, The (1987)                 4.296020  4.153846  4.083333   \n",
       "Pulp Fiction (1994)                        4.149425  4.024793  3.983871   \n",
       "Raiders of the Lost Ark (1981)             4.471616  4.434286  4.409396   \n",
       "Saving Private Ryan (1998)                 4.414097  4.404494  4.534161   \n",
       "Schindler's List (1993)                    4.510152  4.592179  4.584906   \n",
       "Shakespeare in Love (1998)                 4.176904  4.233696  4.323353   \n",
       "Shawshank Redemption, The (1994)           4.497222  4.470968  4.377778   \n",
       "Silence of the Lambs, The (1991)           4.282609  4.269461  4.182390   \n",
       "Sixth Sense, The (1999)                    4.441315  4.463576  4.405797   \n",
       "Speed (1994)                               3.724739  3.760000  3.721649   \n",
       "Stand by Me (1986)                         3.993464  4.082474  4.017857   \n",
       "Terminator, The (1984)                     4.323383  4.215827  4.338983   \n",
       "Total Recall (1990)                        3.710383  3.795620  3.830645   \n",
       "Toy Story (1995)                           4.329787  4.131783  4.072165   \n",
       "Usual Suspects, The (1995)                 4.351449  4.197674  4.336842   \n",
       "Who Framed Roger Rabbit? (1988)            3.668750  3.743802  3.669643   \n",
       "Wizard of Oz, The (1939)                   4.475275  4.428571  4.418182   \n",
       "\n",
       "age                                              56  \n",
       "movie                                                \n",
       "Abyss, The (1989)                          3.565217  \n",
       "Airplane! (1980)                           3.777778  \n",
       "Alien (1979)                               4.065574  \n",
       "Aliens (1986)                              3.788462  \n",
       "American Beauty (1999)                     4.121795  \n",
       "Babe (1995)                                3.971429  \n",
       "Back to the Future (1985)                  3.931818  \n",
       "Being John Malkovich (1999)                4.093333  \n",
       "Blade Runner (1982)                        4.322581  \n",
       "Braveheart (1995)                          3.977528  \n",
       "Bug's Life, A (1998)                       3.659574  \n",
       "Casablanca (1942)                          4.563218  \n",
       "Die Hard (1988)                            4.090909  \n",
       "E.T. the Extra-Terrestrial (1982)          4.243243  \n",
       "Fargo (1996)                               4.436893  \n",
       "Forrest Gump (1994)                        4.236559  \n",
       "Fugitive, The (1993)                       4.052632  \n",
       "Galaxy Quest (1999)                        3.859649  \n",
       "Ghostbusters (1984)                        3.705882  \n",
       "Gladiator (2000)                           3.885246  \n",
       "Godfather, The (1972)                      4.475248  \n",
       "GoodFellas (1990)                          3.964912  \n",
       "Groundhog Day (1993)                       3.931507  \n",
       "Hunt for Red October, The (1990)           4.216667  \n",
       "Independence Day (ID4) (1996)              3.565217  \n",
       "Indiana Jones and the Last Crusade (1989)  4.318182  \n",
       "Jaws (1975)                                4.080000  \n",
       "Jurassic Park (1993)                       3.898990  \n",
       "L.A. Confidential (1997)                   4.174757  \n",
       "Lethal Weapon (1987)                       3.761905  \n",
       "Matrix, The (1999)                         4.058824  \n",
       "Men in Black (1997)                        3.858974  \n",
       "One Flew Over the Cuckoo's Nest (1975)     4.410000  \n",
       "Princess Bride, The (1987)                 4.088889  \n",
       "Pulp Fiction (1994)                        3.796875  \n",
       "Raiders of the Lost Ark (1981)             4.408602  \n",
       "Saving Private Ryan (1998)                 4.435644  \n",
       "Schindler's List (1993)                    4.596491  \n",
       "Shakespeare in Love (1998)                 4.042735  \n",
       "Shawshank Redemption, The (1994)           4.402439  \n",
       "Silence of the Lambs, The (1991)           4.423077  \n",
       "Sixth Sense, The (1999)                    4.400000  \n",
       "Speed (1994)                               3.641026  \n",
       "Stand by Me (1986)                         4.125000  \n",
       "Terminator, The (1984)                     4.066667  \n",
       "Total Recall (1990)                        3.708333  \n",
       "Toy Story (1995)                           3.882353  \n",
       "Usual Suspects, The (1995)                 4.391304  \n",
       "Who Framed Roger Rabbit? (1988)            3.723077  \n",
       "Wizard of Oz, The (1939)                   4.555556  "
      ]
     },
     "execution_count": 1154,
     "metadata": {},
     "output_type": "execute_result"
    }
   ],
   "source": [
    "by_age.rating.mean().unstack(1).fillna(0)[0:50]"
   ]
  },
  {
   "cell_type": "markdown",
   "metadata": {},
   "source": [
    "#### The top 50 rated movies by region:"
   ]
  },
  {
   "cell_type": "code",
   "execution_count": 986,
   "metadata": {
    "collapsed": false
   },
   "outputs": [
    {
     "data": {
      "text/html": [
       "<div>\n",
       "<table border=\"1\" class=\"dataframe\">\n",
       "  <thead>\n",
       "    <tr style=\"text-align: right;\">\n",
       "      <th>region</th>\n",
       "      <th>0</th>\n",
       "      <th>1</th>\n",
       "      <th>2</th>\n",
       "      <th>3</th>\n",
       "      <th>4</th>\n",
       "      <th>5</th>\n",
       "      <th>6</th>\n",
       "      <th>7</th>\n",
       "      <th>8</th>\n",
       "      <th>9</th>\n",
       "    </tr>\n",
       "    <tr>\n",
       "      <th>movie</th>\n",
       "      <th></th>\n",
       "      <th></th>\n",
       "      <th></th>\n",
       "      <th></th>\n",
       "      <th></th>\n",
       "      <th></th>\n",
       "      <th></th>\n",
       "      <th></th>\n",
       "      <th></th>\n",
       "      <th></th>\n",
       "    </tr>\n",
       "  </thead>\n",
       "  <tbody>\n",
       "    <tr>\n",
       "      <th>Abyss, The (1989)</th>\n",
       "      <td>5.000000</td>\n",
       "      <td>3.643312</td>\n",
       "      <td>3.637097</td>\n",
       "      <td>3.669355</td>\n",
       "      <td>3.595092</td>\n",
       "      <td>3.683230</td>\n",
       "      <td>3.727941</td>\n",
       "      <td>3.744526</td>\n",
       "      <td>3.867347</td>\n",
       "      <td>3.731544</td>\n",
       "    </tr>\n",
       "    <tr>\n",
       "      <th>Airplane! (1980)</th>\n",
       "      <td>0.000000</td>\n",
       "      <td>3.988764</td>\n",
       "      <td>3.813953</td>\n",
       "      <td>3.972727</td>\n",
       "      <td>3.771739</td>\n",
       "      <td>4.025773</td>\n",
       "      <td>4.149254</td>\n",
       "      <td>3.938596</td>\n",
       "      <td>3.977011</td>\n",
       "      <td>4.026764</td>\n",
       "    </tr>\n",
       "    <tr>\n",
       "      <th>Alien (1979)</th>\n",
       "      <td>3.000000</td>\n",
       "      <td>4.138462</td>\n",
       "      <td>4.169697</td>\n",
       "      <td>4.172662</td>\n",
       "      <td>4.162562</td>\n",
       "      <td>4.000000</td>\n",
       "      <td>4.028369</td>\n",
       "      <td>4.234043</td>\n",
       "      <td>4.165138</td>\n",
       "      <td>4.250000</td>\n",
       "    </tr>\n",
       "    <tr>\n",
       "      <th>Aliens (1986)</th>\n",
       "      <td>0.000000</td>\n",
       "      <td>4.145946</td>\n",
       "      <td>4.089041</td>\n",
       "      <td>4.212389</td>\n",
       "      <td>4.050847</td>\n",
       "      <td>4.010417</td>\n",
       "      <td>4.120301</td>\n",
       "      <td>4.223022</td>\n",
       "      <td>4.139785</td>\n",
       "      <td>4.135076</td>\n",
       "    </tr>\n",
       "    <tr>\n",
       "      <th>American Beauty (1999)</th>\n",
       "      <td>3.000000</td>\n",
       "      <td>4.250000</td>\n",
       "      <td>4.197674</td>\n",
       "      <td>4.183246</td>\n",
       "      <td>4.374593</td>\n",
       "      <td>4.250696</td>\n",
       "      <td>4.364341</td>\n",
       "      <td>4.428571</td>\n",
       "      <td>4.479042</td>\n",
       "      <td>4.342825</td>\n",
       "    </tr>\n",
       "    <tr>\n",
       "      <th>Babe (1995)</th>\n",
       "      <td>5.000000</td>\n",
       "      <td>3.803468</td>\n",
       "      <td>4.049180</td>\n",
       "      <td>3.866667</td>\n",
       "      <td>3.793651</td>\n",
       "      <td>3.792553</td>\n",
       "      <td>3.808333</td>\n",
       "      <td>3.966102</td>\n",
       "      <td>3.817073</td>\n",
       "      <td>3.993492</td>\n",
       "    </tr>\n",
       "    <tr>\n",
       "      <th>Back to the Future (1985)</th>\n",
       "      <td>5.000000</td>\n",
       "      <td>4.064516</td>\n",
       "      <td>3.882353</td>\n",
       "      <td>4.012500</td>\n",
       "      <td>4.054945</td>\n",
       "      <td>4.000000</td>\n",
       "      <td>3.994652</td>\n",
       "      <td>3.878453</td>\n",
       "      <td>4.094891</td>\n",
       "      <td>3.967577</td>\n",
       "    </tr>\n",
       "    <tr>\n",
       "      <th>Being John Malkovich (1999)</th>\n",
       "      <td>0.000000</td>\n",
       "      <td>4.153257</td>\n",
       "      <td>4.097561</td>\n",
       "      <td>3.980769</td>\n",
       "      <td>4.081081</td>\n",
       "      <td>4.050209</td>\n",
       "      <td>4.123457</td>\n",
       "      <td>4.075472</td>\n",
       "      <td>4.184211</td>\n",
       "      <td>4.198319</td>\n",
       "    </tr>\n",
       "    <tr>\n",
       "      <th>Blade Runner (1982)</th>\n",
       "      <td>3.000000</td>\n",
       "      <td>4.306011</td>\n",
       "      <td>4.280303</td>\n",
       "      <td>4.230769</td>\n",
       "      <td>4.169811</td>\n",
       "      <td>4.091371</td>\n",
       "      <td>4.280000</td>\n",
       "      <td>4.263566</td>\n",
       "      <td>4.307692</td>\n",
       "      <td>4.372709</td>\n",
       "    </tr>\n",
       "    <tr>\n",
       "      <th>Braveheart (1995)</th>\n",
       "      <td>4.000000</td>\n",
       "      <td>4.197674</td>\n",
       "      <td>4.233503</td>\n",
       "      <td>4.357143</td>\n",
       "      <td>4.245902</td>\n",
       "      <td>4.310714</td>\n",
       "      <td>4.329609</td>\n",
       "      <td>4.357895</td>\n",
       "      <td>4.346457</td>\n",
       "      <td>4.102293</td>\n",
       "    </tr>\n",
       "    <tr>\n",
       "      <th>Bug's Life, A (1998)</th>\n",
       "      <td>5.000000</td>\n",
       "      <td>3.840764</td>\n",
       "      <td>3.800000</td>\n",
       "      <td>3.769231</td>\n",
       "      <td>3.852941</td>\n",
       "      <td>3.938889</td>\n",
       "      <td>3.776119</td>\n",
       "      <td>3.772727</td>\n",
       "      <td>3.902174</td>\n",
       "      <td>3.884793</td>\n",
       "    </tr>\n",
       "    <tr>\n",
       "      <th>Casablanca (1942)</th>\n",
       "      <td>0.000000</td>\n",
       "      <td>4.456522</td>\n",
       "      <td>4.504000</td>\n",
       "      <td>4.356436</td>\n",
       "      <td>4.523438</td>\n",
       "      <td>4.382514</td>\n",
       "      <td>4.350746</td>\n",
       "      <td>4.254545</td>\n",
       "      <td>4.277778</td>\n",
       "      <td>4.430622</td>\n",
       "    </tr>\n",
       "    <tr>\n",
       "      <th>Die Hard (1988)</th>\n",
       "      <td>4.000000</td>\n",
       "      <td>4.076923</td>\n",
       "      <td>4.218045</td>\n",
       "      <td>4.151786</td>\n",
       "      <td>4.200000</td>\n",
       "      <td>4.081081</td>\n",
       "      <td>4.119403</td>\n",
       "      <td>4.103175</td>\n",
       "      <td>4.069767</td>\n",
       "      <td>4.129771</td>\n",
       "    </tr>\n",
       "    <tr>\n",
       "      <th>E.T. the Extra-Terrestrial (1982)</th>\n",
       "      <td>4.000000</td>\n",
       "      <td>3.936975</td>\n",
       "      <td>4.087500</td>\n",
       "      <td>3.915493</td>\n",
       "      <td>3.925764</td>\n",
       "      <td>3.937743</td>\n",
       "      <td>3.994350</td>\n",
       "      <td>3.913043</td>\n",
       "      <td>4.017699</td>\n",
       "      <td>3.963570</td>\n",
       "    </tr>\n",
       "    <tr>\n",
       "      <th>Fargo (1996)</th>\n",
       "      <td>0.000000</td>\n",
       "      <td>4.269663</td>\n",
       "      <td>4.179894</td>\n",
       "      <td>4.180451</td>\n",
       "      <td>4.305439</td>\n",
       "      <td>4.030822</td>\n",
       "      <td>4.386139</td>\n",
       "      <td>4.365854</td>\n",
       "      <td>4.230769</td>\n",
       "      <td>4.321767</td>\n",
       "    </tr>\n",
       "    <tr>\n",
       "      <th>Forrest Gump (1994)</th>\n",
       "      <td>4.500000</td>\n",
       "      <td>4.049327</td>\n",
       "      <td>4.076923</td>\n",
       "      <td>4.177778</td>\n",
       "      <td>4.149573</td>\n",
       "      <td>4.141700</td>\n",
       "      <td>4.062112</td>\n",
       "      <td>4.261364</td>\n",
       "      <td>4.268519</td>\n",
       "      <td>4.001988</td>\n",
       "    </tr>\n",
       "    <tr>\n",
       "      <th>Fugitive, The (1993)</th>\n",
       "      <td>5.000000</td>\n",
       "      <td>4.117949</td>\n",
       "      <td>3.987421</td>\n",
       "      <td>4.052239</td>\n",
       "      <td>4.256410</td>\n",
       "      <td>4.105505</td>\n",
       "      <td>4.165714</td>\n",
       "      <td>4.111888</td>\n",
       "      <td>4.078431</td>\n",
       "      <td>4.052288</td>\n",
       "    </tr>\n",
       "    <tr>\n",
       "      <th>Galaxy Quest (1999)</th>\n",
       "      <td>0.000000</td>\n",
       "      <td>3.708333</td>\n",
       "      <td>3.852174</td>\n",
       "      <td>3.640777</td>\n",
       "      <td>3.657895</td>\n",
       "      <td>3.780612</td>\n",
       "      <td>3.710744</td>\n",
       "      <td>3.592593</td>\n",
       "      <td>3.864865</td>\n",
       "      <td>3.849345</td>\n",
       "    </tr>\n",
       "    <tr>\n",
       "      <th>Ghostbusters (1984)</th>\n",
       "      <td>4.000000</td>\n",
       "      <td>3.904110</td>\n",
       "      <td>3.844156</td>\n",
       "      <td>3.801370</td>\n",
       "      <td>4.048035</td>\n",
       "      <td>3.858268</td>\n",
       "      <td>4.012270</td>\n",
       "      <td>3.881988</td>\n",
       "      <td>3.829457</td>\n",
       "      <td>3.895062</td>\n",
       "    </tr>\n",
       "    <tr>\n",
       "      <th>Gladiator (2000)</th>\n",
       "      <td>0.000000</td>\n",
       "      <td>3.941176</td>\n",
       "      <td>4.118012</td>\n",
       "      <td>4.262712</td>\n",
       "      <td>4.162651</td>\n",
       "      <td>4.210280</td>\n",
       "      <td>4.114650</td>\n",
       "      <td>4.312000</td>\n",
       "      <td>4.070707</td>\n",
       "      <td>4.059322</td>\n",
       "    </tr>\n",
       "    <tr>\n",
       "      <th>Godfather, The (1972)</th>\n",
       "      <td>5.000000</td>\n",
       "      <td>4.579365</td>\n",
       "      <td>4.555556</td>\n",
       "      <td>4.460432</td>\n",
       "      <td>4.425743</td>\n",
       "      <td>4.484581</td>\n",
       "      <td>4.574194</td>\n",
       "      <td>4.651316</td>\n",
       "      <td>4.401869</td>\n",
       "      <td>4.520646</td>\n",
       "    </tr>\n",
       "    <tr>\n",
       "      <th>GoodFellas (1990)</th>\n",
       "      <td>4.000000</td>\n",
       "      <td>4.333333</td>\n",
       "      <td>4.299270</td>\n",
       "      <td>4.300971</td>\n",
       "      <td>4.364286</td>\n",
       "      <td>4.176101</td>\n",
       "      <td>4.477273</td>\n",
       "      <td>4.322314</td>\n",
       "      <td>4.146067</td>\n",
       "      <td>4.173469</td>\n",
       "    </tr>\n",
       "    <tr>\n",
       "      <th>Groundhog Day (1993)</th>\n",
       "      <td>4.000000</td>\n",
       "      <td>3.970339</td>\n",
       "      <td>4.005525</td>\n",
       "      <td>3.819672</td>\n",
       "      <td>3.961039</td>\n",
       "      <td>3.900000</td>\n",
       "      <td>4.067039</td>\n",
       "      <td>3.783133</td>\n",
       "      <td>4.153226</td>\n",
       "      <td>3.990706</td>\n",
       "    </tr>\n",
       "    <tr>\n",
       "      <th>Hunt for Red October, The (1990)</th>\n",
       "      <td>0.000000</td>\n",
       "      <td>3.947368</td>\n",
       "      <td>4.127660</td>\n",
       "      <td>4.084112</td>\n",
       "      <td>4.083871</td>\n",
       "      <td>4.075145</td>\n",
       "      <td>4.057143</td>\n",
       "      <td>4.279661</td>\n",
       "      <td>4.177778</td>\n",
       "      <td>3.952854</td>\n",
       "    </tr>\n",
       "    <tr>\n",
       "      <th>Independence Day (ID4) (1996)</th>\n",
       "      <td>1.000000</td>\n",
       "      <td>3.435583</td>\n",
       "      <td>3.507463</td>\n",
       "      <td>3.754237</td>\n",
       "      <td>3.539773</td>\n",
       "      <td>3.608939</td>\n",
       "      <td>3.561151</td>\n",
       "      <td>3.740458</td>\n",
       "      <td>3.500000</td>\n",
       "      <td>3.391304</td>\n",
       "    </tr>\n",
       "    <tr>\n",
       "      <th>Indiana Jones and the Last Crusade (1989)</th>\n",
       "      <td>5.000000</td>\n",
       "      <td>4.000000</td>\n",
       "      <td>4.000000</td>\n",
       "      <td>4.148148</td>\n",
       "      <td>4.197531</td>\n",
       "      <td>4.140541</td>\n",
       "      <td>4.266667</td>\n",
       "      <td>4.186916</td>\n",
       "      <td>4.250000</td>\n",
       "      <td>4.135593</td>\n",
       "    </tr>\n",
       "    <tr>\n",
       "      <th>Jaws (1975)</th>\n",
       "      <td>3.000000</td>\n",
       "      <td>4.156627</td>\n",
       "      <td>4.209302</td>\n",
       "      <td>4.095652</td>\n",
       "      <td>4.125000</td>\n",
       "      <td>3.977528</td>\n",
       "      <td>4.064286</td>\n",
       "      <td>4.166667</td>\n",
       "      <td>3.955056</td>\n",
       "      <td>4.101266</td>\n",
       "    </tr>\n",
       "    <tr>\n",
       "      <th>Jurassic Park (1993)</th>\n",
       "      <td>3.666667</td>\n",
       "      <td>3.651685</td>\n",
       "      <td>3.861386</td>\n",
       "      <td>3.971098</td>\n",
       "      <td>3.793478</td>\n",
       "      <td>3.661290</td>\n",
       "      <td>3.767196</td>\n",
       "      <td>3.942197</td>\n",
       "      <td>3.784173</td>\n",
       "      <td>3.720365</td>\n",
       "    </tr>\n",
       "    <tr>\n",
       "      <th>L.A. Confidential (1997)</th>\n",
       "      <td>4.000000</td>\n",
       "      <td>4.198276</td>\n",
       "      <td>4.268293</td>\n",
       "      <td>4.224000</td>\n",
       "      <td>4.195122</td>\n",
       "      <td>4.171429</td>\n",
       "      <td>4.227778</td>\n",
       "      <td>4.220126</td>\n",
       "      <td>4.217391</td>\n",
       "      <td>4.224422</td>\n",
       "    </tr>\n",
       "    <tr>\n",
       "      <th>Lethal Weapon (1987)</th>\n",
       "      <td>4.000000</td>\n",
       "      <td>3.850649</td>\n",
       "      <td>3.887097</td>\n",
       "      <td>3.991667</td>\n",
       "      <td>4.037736</td>\n",
       "      <td>3.890173</td>\n",
       "      <td>3.962963</td>\n",
       "      <td>4.017094</td>\n",
       "      <td>3.978947</td>\n",
       "      <td>3.758442</td>\n",
       "    </tr>\n",
       "    <tr>\n",
       "      <th>Matrix, The (1999)</th>\n",
       "      <td>4.000000</td>\n",
       "      <td>4.243137</td>\n",
       "      <td>4.321782</td>\n",
       "      <td>4.386076</td>\n",
       "      <td>4.296000</td>\n",
       "      <td>4.372414</td>\n",
       "      <td>4.317308</td>\n",
       "      <td>4.227273</td>\n",
       "      <td>4.362963</td>\n",
       "      <td>4.337920</td>\n",
       "    </tr>\n",
       "    <tr>\n",
       "      <th>Men in Black (1997)</th>\n",
       "      <td>5.000000</td>\n",
       "      <td>3.724696</td>\n",
       "      <td>3.723958</td>\n",
       "      <td>3.843750</td>\n",
       "      <td>3.607407</td>\n",
       "      <td>3.731293</td>\n",
       "      <td>3.679558</td>\n",
       "      <td>3.831395</td>\n",
       "      <td>3.777778</td>\n",
       "      <td>3.740916</td>\n",
       "    </tr>\n",
       "    <tr>\n",
       "      <th>One Flew Over the Cuckoo's Nest (1975)</th>\n",
       "      <td>4.000000</td>\n",
       "      <td>4.336898</td>\n",
       "      <td>4.310078</td>\n",
       "      <td>4.371429</td>\n",
       "      <td>4.303030</td>\n",
       "      <td>4.463158</td>\n",
       "      <td>4.338462</td>\n",
       "      <td>4.390625</td>\n",
       "      <td>4.442105</td>\n",
       "      <td>4.433249</td>\n",
       "    </tr>\n",
       "    <tr>\n",
       "      <th>Princess Bride, The (1987)</th>\n",
       "      <td>5.000000</td>\n",
       "      <td>4.278302</td>\n",
       "      <td>4.306452</td>\n",
       "      <td>4.204380</td>\n",
       "      <td>4.367713</td>\n",
       "      <td>4.241497</td>\n",
       "      <td>4.385475</td>\n",
       "      <td>4.298780</td>\n",
       "      <td>4.275591</td>\n",
       "      <td>4.310036</td>\n",
       "    </tr>\n",
       "    <tr>\n",
       "      <th>Pulp Fiction (1994)</th>\n",
       "      <td>4.000000</td>\n",
       "      <td>4.226721</td>\n",
       "      <td>4.310976</td>\n",
       "      <td>4.200000</td>\n",
       "      <td>4.310881</td>\n",
       "      <td>4.080000</td>\n",
       "      <td>4.436364</td>\n",
       "      <td>4.433121</td>\n",
       "      <td>4.214953</td>\n",
       "      <td>4.306122</td>\n",
       "    </tr>\n",
       "    <tr>\n",
       "      <th>Raiders of the Lost Ark (1981)</th>\n",
       "      <td>5.000000</td>\n",
       "      <td>4.464435</td>\n",
       "      <td>4.472362</td>\n",
       "      <td>4.541935</td>\n",
       "      <td>4.443983</td>\n",
       "      <td>4.411565</td>\n",
       "      <td>4.510989</td>\n",
       "      <td>4.532934</td>\n",
       "      <td>4.410072</td>\n",
       "      <td>4.487685</td>\n",
       "    </tr>\n",
       "    <tr>\n",
       "      <th>Saving Private Ryan (1998)</th>\n",
       "      <td>0.000000</td>\n",
       "      <td>4.294776</td>\n",
       "      <td>4.390909</td>\n",
       "      <td>4.418605</td>\n",
       "      <td>4.375479</td>\n",
       "      <td>4.361404</td>\n",
       "      <td>4.420290</td>\n",
       "      <td>4.445026</td>\n",
       "      <td>4.477941</td>\n",
       "      <td>4.257053</td>\n",
       "    </tr>\n",
       "    <tr>\n",
       "      <th>Schindler's List (1993)</th>\n",
       "      <td>0.000000</td>\n",
       "      <td>4.449057</td>\n",
       "      <td>4.588889</td>\n",
       "      <td>4.568182</td>\n",
       "      <td>4.508696</td>\n",
       "      <td>4.583012</td>\n",
       "      <td>4.509554</td>\n",
       "      <td>4.537572</td>\n",
       "      <td>4.482456</td>\n",
       "      <td>4.456364</td>\n",
       "    </tr>\n",
       "    <tr>\n",
       "      <th>Shakespeare in Love (1998)</th>\n",
       "      <td>3.333333</td>\n",
       "      <td>4.052846</td>\n",
       "      <td>4.170984</td>\n",
       "      <td>4.073770</td>\n",
       "      <td>4.212963</td>\n",
       "      <td>4.142857</td>\n",
       "      <td>4.000000</td>\n",
       "      <td>4.159763</td>\n",
       "      <td>4.034483</td>\n",
       "      <td>4.138748</td>\n",
       "    </tr>\n",
       "    <tr>\n",
       "      <th>Shawshank Redemption, The (1994)</th>\n",
       "      <td>0.000000</td>\n",
       "      <td>4.495868</td>\n",
       "      <td>4.564706</td>\n",
       "      <td>4.629032</td>\n",
       "      <td>4.655602</td>\n",
       "      <td>4.598361</td>\n",
       "      <td>4.670886</td>\n",
       "      <td>4.680272</td>\n",
       "      <td>4.530973</td>\n",
       "      <td>4.431227</td>\n",
       "    </tr>\n",
       "    <tr>\n",
       "      <th>Silence of the Lambs, The (1991)</th>\n",
       "      <td>0.000000</td>\n",
       "      <td>4.440476</td>\n",
       "      <td>4.395238</td>\n",
       "      <td>4.390411</td>\n",
       "      <td>4.471483</td>\n",
       "      <td>4.347368</td>\n",
       "      <td>4.375610</td>\n",
       "      <td>4.325714</td>\n",
       "      <td>4.136000</td>\n",
       "      <td>4.276190</td>\n",
       "    </tr>\n",
       "    <tr>\n",
       "      <th>Sixth Sense, The (1999)</th>\n",
       "      <td>0.000000</td>\n",
       "      <td>4.256809</td>\n",
       "      <td>4.422460</td>\n",
       "      <td>4.460993</td>\n",
       "      <td>4.454183</td>\n",
       "      <td>4.372760</td>\n",
       "      <td>4.391089</td>\n",
       "      <td>4.437158</td>\n",
       "      <td>4.531746</td>\n",
       "      <td>4.417241</td>\n",
       "    </tr>\n",
       "    <tr>\n",
       "      <th>Speed (1994)</th>\n",
       "      <td>0.000000</td>\n",
       "      <td>3.677419</td>\n",
       "      <td>3.631579</td>\n",
       "      <td>3.657407</td>\n",
       "      <td>3.552147</td>\n",
       "      <td>3.585366</td>\n",
       "      <td>3.571429</td>\n",
       "      <td>3.581967</td>\n",
       "      <td>3.604651</td>\n",
       "      <td>3.511002</td>\n",
       "    </tr>\n",
       "    <tr>\n",
       "      <th>Stand by Me (1986)</th>\n",
       "      <td>5.000000</td>\n",
       "      <td>4.072626</td>\n",
       "      <td>4.053030</td>\n",
       "      <td>4.000000</td>\n",
       "      <td>4.119318</td>\n",
       "      <td>4.126168</td>\n",
       "      <td>3.992701</td>\n",
       "      <td>4.242424</td>\n",
       "      <td>4.160920</td>\n",
       "      <td>4.098851</td>\n",
       "    </tr>\n",
       "    <tr>\n",
       "      <th>Terminator, The (1984)</th>\n",
       "      <td>4.000000</td>\n",
       "      <td>4.127854</td>\n",
       "      <td>4.156250</td>\n",
       "      <td>4.151515</td>\n",
       "      <td>4.231527</td>\n",
       "      <td>4.088608</td>\n",
       "      <td>4.188312</td>\n",
       "      <td>4.238095</td>\n",
       "      <td>4.158879</td>\n",
       "      <td>4.137331</td>\n",
       "    </tr>\n",
       "    <tr>\n",
       "      <th>Total Recall (1990)</th>\n",
       "      <td>2.000000</td>\n",
       "      <td>3.696809</td>\n",
       "      <td>3.615385</td>\n",
       "      <td>3.755556</td>\n",
       "      <td>3.671958</td>\n",
       "      <td>3.644550</td>\n",
       "      <td>3.643312</td>\n",
       "      <td>3.687500</td>\n",
       "      <td>3.666667</td>\n",
       "      <td>3.681275</td>\n",
       "    </tr>\n",
       "    <tr>\n",
       "      <th>Toy Story (1995)</th>\n",
       "      <td>4.500000</td>\n",
       "      <td>4.186603</td>\n",
       "      <td>4.169014</td>\n",
       "      <td>4.067227</td>\n",
       "      <td>4.192982</td>\n",
       "      <td>4.127049</td>\n",
       "      <td>4.070423</td>\n",
       "      <td>4.156463</td>\n",
       "      <td>4.051282</td>\n",
       "      <td>4.189135</td>\n",
       "    </tr>\n",
       "    <tr>\n",
       "      <th>Usual Suspects, The (1995)</th>\n",
       "      <td>4.000000</td>\n",
       "      <td>4.373786</td>\n",
       "      <td>4.604317</td>\n",
       "      <td>4.500000</td>\n",
       "      <td>4.490566</td>\n",
       "      <td>4.443299</td>\n",
       "      <td>4.511111</td>\n",
       "      <td>4.538462</td>\n",
       "      <td>4.635294</td>\n",
       "      <td>4.505618</td>\n",
       "    </tr>\n",
       "    <tr>\n",
       "      <th>Who Framed Roger Rabbit? (1988)</th>\n",
       "      <td>4.000000</td>\n",
       "      <td>3.639053</td>\n",
       "      <td>3.625000</td>\n",
       "      <td>3.712871</td>\n",
       "      <td>3.752577</td>\n",
       "      <td>3.635000</td>\n",
       "      <td>3.623188</td>\n",
       "      <td>3.558140</td>\n",
       "      <td>3.750000</td>\n",
       "      <td>3.731982</td>\n",
       "    </tr>\n",
       "    <tr>\n",
       "      <th>Wizard of Oz, The (1939)</th>\n",
       "      <td>5.000000</td>\n",
       "      <td>4.363636</td>\n",
       "      <td>4.259843</td>\n",
       "      <td>4.239583</td>\n",
       "      <td>4.320000</td>\n",
       "      <td>4.161137</td>\n",
       "      <td>4.321429</td>\n",
       "      <td>4.247788</td>\n",
       "      <td>4.109756</td>\n",
       "      <td>4.255583</td>\n",
       "    </tr>\n",
       "  </tbody>\n",
       "</table>\n",
       "</div>"
      ],
      "text/plain": [
       "region                                            0         1         2  \\\n",
       "movie                                                                     \n",
       "Abyss, The (1989)                          5.000000  3.643312  3.637097   \n",
       "Airplane! (1980)                           0.000000  3.988764  3.813953   \n",
       "Alien (1979)                               3.000000  4.138462  4.169697   \n",
       "Aliens (1986)                              0.000000  4.145946  4.089041   \n",
       "American Beauty (1999)                     3.000000  4.250000  4.197674   \n",
       "Babe (1995)                                5.000000  3.803468  4.049180   \n",
       "Back to the Future (1985)                  5.000000  4.064516  3.882353   \n",
       "Being John Malkovich (1999)                0.000000  4.153257  4.097561   \n",
       "Blade Runner (1982)                        3.000000  4.306011  4.280303   \n",
       "Braveheart (1995)                          4.000000  4.197674  4.233503   \n",
       "Bug's Life, A (1998)                       5.000000  3.840764  3.800000   \n",
       "Casablanca (1942)                          0.000000  4.456522  4.504000   \n",
       "Die Hard (1988)                            4.000000  4.076923  4.218045   \n",
       "E.T. the Extra-Terrestrial (1982)          4.000000  3.936975  4.087500   \n",
       "Fargo (1996)                               0.000000  4.269663  4.179894   \n",
       "Forrest Gump (1994)                        4.500000  4.049327  4.076923   \n",
       "Fugitive, The (1993)                       5.000000  4.117949  3.987421   \n",
       "Galaxy Quest (1999)                        0.000000  3.708333  3.852174   \n",
       "Ghostbusters (1984)                        4.000000  3.904110  3.844156   \n",
       "Gladiator (2000)                           0.000000  3.941176  4.118012   \n",
       "Godfather, The (1972)                      5.000000  4.579365  4.555556   \n",
       "GoodFellas (1990)                          4.000000  4.333333  4.299270   \n",
       "Groundhog Day (1993)                       4.000000  3.970339  4.005525   \n",
       "Hunt for Red October, The (1990)           0.000000  3.947368  4.127660   \n",
       "Independence Day (ID4) (1996)              1.000000  3.435583  3.507463   \n",
       "Indiana Jones and the Last Crusade (1989)  5.000000  4.000000  4.000000   \n",
       "Jaws (1975)                                3.000000  4.156627  4.209302   \n",
       "Jurassic Park (1993)                       3.666667  3.651685  3.861386   \n",
       "L.A. Confidential (1997)                   4.000000  4.198276  4.268293   \n",
       "Lethal Weapon (1987)                       4.000000  3.850649  3.887097   \n",
       "Matrix, The (1999)                         4.000000  4.243137  4.321782   \n",
       "Men in Black (1997)                        5.000000  3.724696  3.723958   \n",
       "One Flew Over the Cuckoo's Nest (1975)     4.000000  4.336898  4.310078   \n",
       "Princess Bride, The (1987)                 5.000000  4.278302  4.306452   \n",
       "Pulp Fiction (1994)                        4.000000  4.226721  4.310976   \n",
       "Raiders of the Lost Ark (1981)             5.000000  4.464435  4.472362   \n",
       "Saving Private Ryan (1998)                 0.000000  4.294776  4.390909   \n",
       "Schindler's List (1993)                    0.000000  4.449057  4.588889   \n",
       "Shakespeare in Love (1998)                 3.333333  4.052846  4.170984   \n",
       "Shawshank Redemption, The (1994)           0.000000  4.495868  4.564706   \n",
       "Silence of the Lambs, The (1991)           0.000000  4.440476  4.395238   \n",
       "Sixth Sense, The (1999)                    0.000000  4.256809  4.422460   \n",
       "Speed (1994)                               0.000000  3.677419  3.631579   \n",
       "Stand by Me (1986)                         5.000000  4.072626  4.053030   \n",
       "Terminator, The (1984)                     4.000000  4.127854  4.156250   \n",
       "Total Recall (1990)                        2.000000  3.696809  3.615385   \n",
       "Toy Story (1995)                           4.500000  4.186603  4.169014   \n",
       "Usual Suspects, The (1995)                 4.000000  4.373786  4.604317   \n",
       "Who Framed Roger Rabbit? (1988)            4.000000  3.639053  3.625000   \n",
       "Wizard of Oz, The (1939)                   5.000000  4.363636  4.259843   \n",
       "\n",
       "region                                            3         4         5  \\\n",
       "movie                                                                     \n",
       "Abyss, The (1989)                          3.669355  3.595092  3.683230   \n",
       "Airplane! (1980)                           3.972727  3.771739  4.025773   \n",
       "Alien (1979)                               4.172662  4.162562  4.000000   \n",
       "Aliens (1986)                              4.212389  4.050847  4.010417   \n",
       "American Beauty (1999)                     4.183246  4.374593  4.250696   \n",
       "Babe (1995)                                3.866667  3.793651  3.792553   \n",
       "Back to the Future (1985)                  4.012500  4.054945  4.000000   \n",
       "Being John Malkovich (1999)                3.980769  4.081081  4.050209   \n",
       "Blade Runner (1982)                        4.230769  4.169811  4.091371   \n",
       "Braveheart (1995)                          4.357143  4.245902  4.310714   \n",
       "Bug's Life, A (1998)                       3.769231  3.852941  3.938889   \n",
       "Casablanca (1942)                          4.356436  4.523438  4.382514   \n",
       "Die Hard (1988)                            4.151786  4.200000  4.081081   \n",
       "E.T. the Extra-Terrestrial (1982)          3.915493  3.925764  3.937743   \n",
       "Fargo (1996)                               4.180451  4.305439  4.030822   \n",
       "Forrest Gump (1994)                        4.177778  4.149573  4.141700   \n",
       "Fugitive, The (1993)                       4.052239  4.256410  4.105505   \n",
       "Galaxy Quest (1999)                        3.640777  3.657895  3.780612   \n",
       "Ghostbusters (1984)                        3.801370  4.048035  3.858268   \n",
       "Gladiator (2000)                           4.262712  4.162651  4.210280   \n",
       "Godfather, The (1972)                      4.460432  4.425743  4.484581   \n",
       "GoodFellas (1990)                          4.300971  4.364286  4.176101   \n",
       "Groundhog Day (1993)                       3.819672  3.961039  3.900000   \n",
       "Hunt for Red October, The (1990)           4.084112  4.083871  4.075145   \n",
       "Independence Day (ID4) (1996)              3.754237  3.539773  3.608939   \n",
       "Indiana Jones and the Last Crusade (1989)  4.148148  4.197531  4.140541   \n",
       "Jaws (1975)                                4.095652  4.125000  3.977528   \n",
       "Jurassic Park (1993)                       3.971098  3.793478  3.661290   \n",
       "L.A. Confidential (1997)                   4.224000  4.195122  4.171429   \n",
       "Lethal Weapon (1987)                       3.991667  4.037736  3.890173   \n",
       "Matrix, The (1999)                         4.386076  4.296000  4.372414   \n",
       "Men in Black (1997)                        3.843750  3.607407  3.731293   \n",
       "One Flew Over the Cuckoo's Nest (1975)     4.371429  4.303030  4.463158   \n",
       "Princess Bride, The (1987)                 4.204380  4.367713  4.241497   \n",
       "Pulp Fiction (1994)                        4.200000  4.310881  4.080000   \n",
       "Raiders of the Lost Ark (1981)             4.541935  4.443983  4.411565   \n",
       "Saving Private Ryan (1998)                 4.418605  4.375479  4.361404   \n",
       "Schindler's List (1993)                    4.568182  4.508696  4.583012   \n",
       "Shakespeare in Love (1998)                 4.073770  4.212963  4.142857   \n",
       "Shawshank Redemption, The (1994)           4.629032  4.655602  4.598361   \n",
       "Silence of the Lambs, The (1991)           4.390411  4.471483  4.347368   \n",
       "Sixth Sense, The (1999)                    4.460993  4.454183  4.372760   \n",
       "Speed (1994)                               3.657407  3.552147  3.585366   \n",
       "Stand by Me (1986)                         4.000000  4.119318  4.126168   \n",
       "Terminator, The (1984)                     4.151515  4.231527  4.088608   \n",
       "Total Recall (1990)                        3.755556  3.671958  3.644550   \n",
       "Toy Story (1995)                           4.067227  4.192982  4.127049   \n",
       "Usual Suspects, The (1995)                 4.500000  4.490566  4.443299   \n",
       "Who Framed Roger Rabbit? (1988)            3.712871  3.752577  3.635000   \n",
       "Wizard of Oz, The (1939)                   4.239583  4.320000  4.161137   \n",
       "\n",
       "region                                            6         7         8  \\\n",
       "movie                                                                     \n",
       "Abyss, The (1989)                          3.727941  3.744526  3.867347   \n",
       "Airplane! (1980)                           4.149254  3.938596  3.977011   \n",
       "Alien (1979)                               4.028369  4.234043  4.165138   \n",
       "Aliens (1986)                              4.120301  4.223022  4.139785   \n",
       "American Beauty (1999)                     4.364341  4.428571  4.479042   \n",
       "Babe (1995)                                3.808333  3.966102  3.817073   \n",
       "Back to the Future (1985)                  3.994652  3.878453  4.094891   \n",
       "Being John Malkovich (1999)                4.123457  4.075472  4.184211   \n",
       "Blade Runner (1982)                        4.280000  4.263566  4.307692   \n",
       "Braveheart (1995)                          4.329609  4.357895  4.346457   \n",
       "Bug's Life, A (1998)                       3.776119  3.772727  3.902174   \n",
       "Casablanca (1942)                          4.350746  4.254545  4.277778   \n",
       "Die Hard (1988)                            4.119403  4.103175  4.069767   \n",
       "E.T. the Extra-Terrestrial (1982)          3.994350  3.913043  4.017699   \n",
       "Fargo (1996)                               4.386139  4.365854  4.230769   \n",
       "Forrest Gump (1994)                        4.062112  4.261364  4.268519   \n",
       "Fugitive, The (1993)                       4.165714  4.111888  4.078431   \n",
       "Galaxy Quest (1999)                        3.710744  3.592593  3.864865   \n",
       "Ghostbusters (1984)                        4.012270  3.881988  3.829457   \n",
       "Gladiator (2000)                           4.114650  4.312000  4.070707   \n",
       "Godfather, The (1972)                      4.574194  4.651316  4.401869   \n",
       "GoodFellas (1990)                          4.477273  4.322314  4.146067   \n",
       "Groundhog Day (1993)                       4.067039  3.783133  4.153226   \n",
       "Hunt for Red October, The (1990)           4.057143  4.279661  4.177778   \n",
       "Independence Day (ID4) (1996)              3.561151  3.740458  3.500000   \n",
       "Indiana Jones and the Last Crusade (1989)  4.266667  4.186916  4.250000   \n",
       "Jaws (1975)                                4.064286  4.166667  3.955056   \n",
       "Jurassic Park (1993)                       3.767196  3.942197  3.784173   \n",
       "L.A. Confidential (1997)                   4.227778  4.220126  4.217391   \n",
       "Lethal Weapon (1987)                       3.962963  4.017094  3.978947   \n",
       "Matrix, The (1999)                         4.317308  4.227273  4.362963   \n",
       "Men in Black (1997)                        3.679558  3.831395  3.777778   \n",
       "One Flew Over the Cuckoo's Nest (1975)     4.338462  4.390625  4.442105   \n",
       "Princess Bride, The (1987)                 4.385475  4.298780  4.275591   \n",
       "Pulp Fiction (1994)                        4.436364  4.433121  4.214953   \n",
       "Raiders of the Lost Ark (1981)             4.510989  4.532934  4.410072   \n",
       "Saving Private Ryan (1998)                 4.420290  4.445026  4.477941   \n",
       "Schindler's List (1993)                    4.509554  4.537572  4.482456   \n",
       "Shakespeare in Love (1998)                 4.000000  4.159763  4.034483   \n",
       "Shawshank Redemption, The (1994)           4.670886  4.680272  4.530973   \n",
       "Silence of the Lambs, The (1991)           4.375610  4.325714  4.136000   \n",
       "Sixth Sense, The (1999)                    4.391089  4.437158  4.531746   \n",
       "Speed (1994)                               3.571429  3.581967  3.604651   \n",
       "Stand by Me (1986)                         3.992701  4.242424  4.160920   \n",
       "Terminator, The (1984)                     4.188312  4.238095  4.158879   \n",
       "Total Recall (1990)                        3.643312  3.687500  3.666667   \n",
       "Toy Story (1995)                           4.070423  4.156463  4.051282   \n",
       "Usual Suspects, The (1995)                 4.511111  4.538462  4.635294   \n",
       "Who Framed Roger Rabbit? (1988)            3.623188  3.558140  3.750000   \n",
       "Wizard of Oz, The (1939)                   4.321429  4.247788  4.109756   \n",
       "\n",
       "region                                            9  \n",
       "movie                                                \n",
       "Abyss, The (1989)                          3.731544  \n",
       "Airplane! (1980)                           4.026764  \n",
       "Alien (1979)                               4.250000  \n",
       "Aliens (1986)                              4.135076  \n",
       "American Beauty (1999)                     4.342825  \n",
       "Babe (1995)                                3.993492  \n",
       "Back to the Future (1985)                  3.967577  \n",
       "Being John Malkovich (1999)                4.198319  \n",
       "Blade Runner (1982)                        4.372709  \n",
       "Braveheart (1995)                          4.102293  \n",
       "Bug's Life, A (1998)                       3.884793  \n",
       "Casablanca (1942)                          4.430622  \n",
       "Die Hard (1988)                            4.129771  \n",
       "E.T. the Extra-Terrestrial (1982)          3.963570  \n",
       "Fargo (1996)                               4.321767  \n",
       "Forrest Gump (1994)                        4.001988  \n",
       "Fugitive, The (1993)                       4.052288  \n",
       "Galaxy Quest (1999)                        3.849345  \n",
       "Ghostbusters (1984)                        3.895062  \n",
       "Gladiator (2000)                           4.059322  \n",
       "Godfather, The (1972)                      4.520646  \n",
       "GoodFellas (1990)                          4.173469  \n",
       "Groundhog Day (1993)                       3.990706  \n",
       "Hunt for Red October, The (1990)           3.952854  \n",
       "Independence Day (ID4) (1996)              3.391304  \n",
       "Indiana Jones and the Last Crusade (1989)  4.135593  \n",
       "Jaws (1975)                                4.101266  \n",
       "Jurassic Park (1993)                       3.720365  \n",
       "L.A. Confidential (1997)                   4.224422  \n",
       "Lethal Weapon (1987)                       3.758442  \n",
       "Matrix, The (1999)                         4.337920  \n",
       "Men in Black (1997)                        3.740916  \n",
       "One Flew Over the Cuckoo's Nest (1975)     4.433249  \n",
       "Princess Bride, The (1987)                 4.310036  \n",
       "Pulp Fiction (1994)                        4.306122  \n",
       "Raiders of the Lost Ark (1981)             4.487685  \n",
       "Saving Private Ryan (1998)                 4.257053  \n",
       "Schindler's List (1993)                    4.456364  \n",
       "Shakespeare in Love (1998)                 4.138748  \n",
       "Shawshank Redemption, The (1994)           4.431227  \n",
       "Silence of the Lambs, The (1991)           4.276190  \n",
       "Sixth Sense, The (1999)                    4.417241  \n",
       "Speed (1994)                               3.511002  \n",
       "Stand by Me (1986)                         4.098851  \n",
       "Terminator, The (1984)                     4.137331  \n",
       "Total Recall (1990)                        3.681275  \n",
       "Toy Story (1995)                           4.189135  \n",
       "Usual Suspects, The (1995)                 4.505618  \n",
       "Who Framed Roger Rabbit? (1988)            3.731982  \n",
       "Wizard of Oz, The (1939)                   4.255583  "
      ]
     },
     "execution_count": 986,
     "metadata": {},
     "output_type": "execute_result"
    }
   ],
   "source": [
    "by_region = merged_df.loc[most_50.index].groupby(['movie', 'region'])\n",
    "by_region.rating.mean().head(15)\n",
    "by_region.rating.mean().unstack(1).fillna(0)[0:50]"
   ]
  },
  {
   "cell_type": "markdown",
   "metadata": {},
   "source": [
    "#### How do movie ratings compare between men and women?"
   ]
  },
  {
   "cell_type": "code",
   "execution_count": 1009,
   "metadata": {
    "collapsed": false
   },
   "outputs": [
    {
     "data": {
      "text/html": [
       "<div>\n",
       "<table border=\"1\" class=\"dataframe\">\n",
       "  <thead>\n",
       "    <tr style=\"text-align: right;\">\n",
       "      <th></th>\n",
       "      <th>gender</th>\n",
       "      <th>F</th>\n",
       "      <th>M</th>\n",
       "      <th>diff</th>\n",
       "    </tr>\n",
       "    <tr>\n",
       "      <th>movie_ID</th>\n",
       "      <th>movie</th>\n",
       "      <th></th>\n",
       "      <th></th>\n",
       "      <th></th>\n",
       "    </tr>\n",
       "  </thead>\n",
       "  <tbody>\n",
       "    <tr>\n",
       "      <th>1</th>\n",
       "      <th>Toy Story (1995)</th>\n",
       "      <td>4.207767</td>\n",
       "      <td>4.129880</td>\n",
       "      <td>-0.077887</td>\n",
       "    </tr>\n",
       "    <tr>\n",
       "      <th>2</th>\n",
       "      <th>Jumanji (1995)</th>\n",
       "      <td>3.288462</td>\n",
       "      <td>3.197895</td>\n",
       "      <td>-0.090567</td>\n",
       "    </tr>\n",
       "    <tr>\n",
       "      <th>3</th>\n",
       "      <th>Grumpier Old Men (1995)</th>\n",
       "      <td>3.056452</td>\n",
       "      <td>3.000000</td>\n",
       "      <td>-0.056452</td>\n",
       "    </tr>\n",
       "    <tr>\n",
       "      <th>4</th>\n",
       "      <th>Waiting to Exhale (1995)</th>\n",
       "      <td>2.948718</td>\n",
       "      <td>2.533333</td>\n",
       "      <td>-0.415385</td>\n",
       "    </tr>\n",
       "    <tr>\n",
       "      <th>5</th>\n",
       "      <th>Father of the Bride Part II (1995)</th>\n",
       "      <td>3.221053</td>\n",
       "      <td>2.882353</td>\n",
       "      <td>-0.338700</td>\n",
       "    </tr>\n",
       "  </tbody>\n",
       "</table>\n",
       "</div>"
      ],
      "text/plain": [
       "gender                                              F         M      diff\n",
       "movie_ID movie                                                           \n",
       "1        Toy Story (1995)                    4.207767  4.129880 -0.077887\n",
       "2        Jumanji (1995)                      3.288462  3.197895 -0.090567\n",
       "3        Grumpier Old Men (1995)             3.056452  3.000000 -0.056452\n",
       "4        Waiting to Exhale (1995)            2.948718  2.533333 -0.415385\n",
       "5        Father of the Bride Part II (1995)  3.221053  2.882353 -0.338700"
      ]
     },
     "execution_count": 1009,
     "metadata": {},
     "output_type": "execute_result"
    }
   ],
   "source": [
    "merged_df.reset_index('movie_ID', inplace=True)\n",
    "pivoted = merged_df.pivot_table(index=['movie_ID', 'movie'],\n",
    "                           columns=['gender'],\n",
    "                           values='rating',\n",
    "                           fill_value=0)\n",
    "pivoted['diff'] = pivoted.M - pivoted.F\n",
    "pivoted.head()"
   ]
  },
  {
   "cell_type": "code",
   "execution_count": 1010,
   "metadata": {
    "collapsed": false
   },
   "outputs": [
    {
     "data": {
      "image/png": "[encoded data removed]",
      "text/plain": [
       "<matplotlib.figure.Figure at 0x28fce7668>"
      ]
     },
     "metadata": {},
     "output_type": "display_data"
    }
   ],
   "source": [
    "pivoted.reset_index('movie_ID', inplace=True)\n",
    "disagreements = pivoted[pivoted.movie_ID.isin(most_50.index)]['diff']\n",
    "disagreements.sort_values().plot(kind='barh', figsize=[9, 15])\n",
    "plt.title('Average Rating Difference from Men vs. Women\\n(Difference > 0 = Favored by Men)')\n",
    "plt.ylabel('movie')\n",
    "plt.xlabel('Average Rating Difference');"
   ]
  },
  {
   "cell_type": "markdown",
   "metadata": {},
   "source": [
    "### Data Review Conclusions:\n",
    "\n",
    "- Generally, users are middle aged\n",
    "- Men outnumber women users by over a 2:1 ratio\n",
    "- Nearly a quarter of all ratings came from the pacific region.\n",
    "- Men significantly prefer Airplane, Aliens, Alien and The Terminator over women\n",
    "- Women significantly prefer Independence Day, E.T. the Extra-Terrestrial, Galaxy Quest and The Wizard of Oz over Men."
   ]
  },
  {
   "cell_type": "markdown",
   "metadata": {},
   "source": [
    "## Section 3: Recommender System Modeling"
   ]
  },
  {
   "cell_type": "markdown",
   "metadata": {},
   "source": [
    "### Data Preprocessing for Recommender System"
   ]
  },
  {
   "cell_type": "code",
   "execution_count": 1032,
   "metadata": {
    "collapsed": false
   },
   "outputs": [],
   "source": [
    "# Create a set of dummy variables from the gender variable\n",
    "gender = pd.get_dummies(users_df['gender'])\n",
    "users_df = pd.concat([users_df, gender.astype(int)], axis=1)\n",
    "del users_df['gender']\n",
    "age = pd.get_dummies(users_df['age'])\n",
    "users_df = pd.concat([users_df, age.astype(int)], axis=1)\n",
    "del users_df['age']\n",
    "occupation = pd.get_dummies(users_df['occupation'])\n",
    "users_df = pd.concat([users_df, occupation.astype(int)], axis=1)\n",
    "del users_df['occupation']\n",
    "zip_trunc = pd.get_dummies(users_df['region'])\n",
    "users_df = pd.concat([users_df, zip_trunc.astype(int)], axis=1)\n",
    "del users_df['region']"
   ]
  },
  {
   "cell_type": "code",
   "execution_count": 1052,
   "metadata": {
    "collapsed": false
   },
   "outputs": [],
   "source": [
    "#plt.title(\"Distribution of users' gender\")\n",
    "#plt.ylabel('count of users')\n",
    "#plt.xlabel('Gender: 0=Male, 1=Female');\n",
    "#users_df.F.plot.hist(bins=10)"
   ]
  },
  {
   "cell_type": "code",
   "execution_count": 895,
   "metadata": {
    "collapsed": false
   },
   "outputs": [],
   "source": [
    "movietitles_df.to_csv('ratings_with_dummies.csv')\n",
    "users_df.to_csv('users_with_dummies')"
   ]
  },
  {
   "cell_type": "code",
   "execution_count": 896,
   "metadata": {
    "collapsed": false
   },
   "outputs": [
    {
     "data": {
      "text/html": [
       "<pre>Finished parsing file C:\\Users\\Ben Fowler\\Documents\\Jupyter Notebooks\\movie_ratings_cleaned.csv</pre>"
      ],
      "text/plain": [
       "Finished parsing file C:\\Users\\Ben Fowler\\Documents\\Jupyter Notebooks\\movie_ratings_cleaned.csv"
      ]
     },
     "metadata": {},
     "output_type": "display_data"
    },
    {
     "data": {
      "text/html": [
       "<pre>Parsing completed. Parsed 100 lines in 1.65364 secs.</pre>"
      ],
      "text/plain": [
       "Parsing completed. Parsed 100 lines in 1.65364 secs."
      ]
     },
     "metadata": {},
     "output_type": "display_data"
    },
    {
     "data": {
      "text/html": [
       "<pre>Read 896138 lines. Lines per second: 720045</pre>"
      ],
      "text/plain": [
       "Read 896138 lines. Lines per second: 720045"
      ]
     },
     "metadata": {},
     "output_type": "display_data"
    },
    {
     "data": {
      "text/html": [
       "<pre>Finished parsing file C:\\Users\\Ben Fowler\\Documents\\Jupyter Notebooks\\movie_ratings_cleaned.csv</pre>"
      ],
      "text/plain": [
       "Finished parsing file C:\\Users\\Ben Fowler\\Documents\\Jupyter Notebooks\\movie_ratings_cleaned.csv"
      ]
     },
     "metadata": {},
     "output_type": "display_data"
    },
    {
     "data": {
      "text/html": [
       "<pre>Parsing completed. Parsed 936381 lines in 1.26663 secs.</pre>"
      ],
      "text/plain": [
       "Parsing completed. Parsed 936381 lines in 1.26663 secs."
      ]
     },
     "metadata": {},
     "output_type": "display_data"
    },
    {
     "data": {
      "text/html": [
       "<pre>Finished parsing file C:\\Users\\Ben Fowler\\Documents\\Jupyter Notebooks\\ratings_with_dummies2.csv</pre>"
      ],
      "text/plain": [
       "Finished parsing file C:\\Users\\Ben Fowler\\Documents\\Jupyter Notebooks\\ratings_with_dummies2.csv"
      ]
     },
     "metadata": {},
     "output_type": "display_data"
    },
    {
     "data": {
      "text/html": [
       "<pre>Parsing completed. Parsed 100 lines in 0.02258 secs.</pre>"
      ],
      "text/plain": [
       "Parsing completed. Parsed 100 lines in 0.02258 secs."
      ]
     },
     "metadata": {},
     "output_type": "display_data"
    },
    {
     "data": {
      "text/html": [
       "<pre>Finished parsing file C:\\Users\\Ben Fowler\\Documents\\Jupyter Notebooks\\ratings_with_dummies2.csv</pre>"
      ],
      "text/plain": [
       "Finished parsing file C:\\Users\\Ben Fowler\\Documents\\Jupyter Notebooks\\ratings_with_dummies2.csv"
      ]
     },
     "metadata": {},
     "output_type": "display_data"
    },
    {
     "data": {
      "text/html": [
       "<pre>Parsing completed. Parsed 3686 lines in 0.02607 secs.</pre>"
      ],
      "text/plain": [
       "Parsing completed. Parsed 3686 lines in 0.02607 secs."
      ]
     },
     "metadata": {},
     "output_type": "display_data"
    },
    {
     "data": {
      "text/html": [
       "<pre>Finished parsing file C:\\Users\\Ben Fowler\\Documents\\Jupyter Notebooks\\users_with_dummies.csv</pre>"
      ],
      "text/plain": [
       "Finished parsing file C:\\Users\\Ben Fowler\\Documents\\Jupyter Notebooks\\users_with_dummies.csv"
      ]
     },
     "metadata": {},
     "output_type": "display_data"
    },
    {
     "data": {
      "text/html": [
       "<pre>Parsing completed. Parsed 100 lines in 0.050634 secs.</pre>"
      ],
      "text/plain": [
       "Parsing completed. Parsed 100 lines in 0.050634 secs."
      ]
     },
     "metadata": {},
     "output_type": "display_data"
    },
    {
     "data": {
      "text/html": [
       "<pre>These column type hints were not used: zip_trunc</pre>"
      ],
      "text/plain": [
       "These column type hints were not used: zip_trunc"
      ]
     },
     "metadata": {},
     "output_type": "display_data"
    },
    {
     "data": {
      "text/html": [
       "<pre>Finished parsing file C:\\Users\\Ben Fowler\\Documents\\Jupyter Notebooks\\users_with_dummies.csv</pre>"
      ],
      "text/plain": [
       "Finished parsing file C:\\Users\\Ben Fowler\\Documents\\Jupyter Notebooks\\users_with_dummies.csv"
      ]
     },
     "metadata": {},
     "output_type": "display_data"
    },
    {
     "data": {
      "text/html": [
       "<pre>Parsing completed. Parsed 5384 lines in 0.050634 secs.</pre>"
      ],
      "text/plain": [
       "Parsing completed. Parsed 5384 lines in 0.050634 secs."
      ]
     },
     "metadata": {},
     "output_type": "display_data"
    }
   ],
   "source": [
    "# This is a well known graphlab example that builds a recommendation system in 5 lines of code\n",
    "data = gl.SFrame.read_csv(\"movie_ratings_cleaned.csv\",\n",
    "                          column_type_hints={\"rating_id\":int, \"user\":int, \"movie_ID\":int, \"rating\":int,\"movie\":str, \"genre\":str})\n",
    "genre = gl.SFrame.read_csv(\"ratings_with_dummies2.csv\",\n",
    "                          column_type_hints={\"Action\":int, \"Adventure\":int, \"Animation\":int, \"Children's\":int, \"Comedy\":int,\\\n",
    "                                             \"Crime\":int, \"Documentary\":int, \"Drama\":int, \"Fantasy\":int, \"Film-Noir\":int,\\\n",
    "                                            \"Horror\":int, \"Musical\":int, \"Mystery\":int, \"Romance\":int, \"Sci-Fi\":int,\\\n",
    "                                            \"Thriller\":int, \"War\":int, \"Western\":int})\n",
    "users = gl.SFrame.read_csv(\"users_with_dummies.csv\",\n",
    "                          column_type_hints={\"user\":int, \"F\":int, \"M\":int, 'Under_18':int,\\\n",
    "                                             \"18-24\":int, \"25-34\":int, \"35-44\":int, \"45-49\":int, \"50-55\": int,\\\n",
    "                                            \"Over_56\":int, \"Other\":int, \"Academic/Educator\":int, \"Artist\":int,\\\n",
    "                                            \"Clerical/Admin\":int, \"College/Grad_Student\":int, \"Customer_Service\":int,\\\n",
    "                                            \"Doctor/Health_Care\":int, \"Executive/Managerial\":int, \"Farmer\":int,\\\n",
    "                                            \"Homemaker\":int, \"K-12_Student\":int, \"Lawyer\":int, \"Programmer\":int,\\\n",
    "                                            \"Retired\":int, \"Sales/Marketing\":int, \"Scientist\":int, \"Self_Employed\":int,\\\n",
    "                                            \"Technician/Engineer\":int, \"Tradesman/Craftsman\":int, \"Unemployed\":int,\\\n",
    "                                            \"Writer\":int, \"New_England\": int, \"Northeast\": int, \"Mid_Atlantic\": int,\\\n",
    "                                            \"Southeast\":int, \"Eastern_Midwest\":int, \"Upper_Midwest\":int, \"Midwest\":int,\\\n",
    "                                            \"South_Central\":int, \"Rocky_Mountain\":int, \"Pacific\":int})\n",
    "\n",
    "\n"
   ]
  },
  {
   "cell_type": "code",
   "execution_count": 897,
   "metadata": {
    "collapsed": false
   },
   "outputs": [
    {
     "data": {
      "text/html": [
       "<div style=\"max-height:1000px;max-width:1500px;overflow:auto;\"><table frame=\"box\" rules=\"cols\">\n",
       "    <tr>\n",
       "        <th style=\"padding-left: 1em; padding-right: 1em; text-align: center\">rating_id</th>\n",
       "        <th style=\"padding-left: 1em; padding-right: 1em; text-align: center\">user</th>\n",
       "        <th style=\"padding-left: 1em; padding-right: 1em; text-align: center\">movie_ID</th>\n",
       "        <th style=\"padding-left: 1em; padding-right: 1em; text-align: center\">rating</th>\n",
       "        <th style=\"padding-left: 1em; padding-right: 1em; text-align: center\">movie</th>\n",
       "        <th style=\"padding-left: 1em; padding-right: 1em; text-align: center\">genre</th>\n",
       "    </tr>\n",
       "    <tr>\n",
       "        <td style=\"padding-left: 1em; padding-right: 1em; text-align: center; vertical-align: top\">1</td>\n",
       "        <td style=\"padding-left: 1em; padding-right: 1em; text-align: center; vertical-align: top\">1</td>\n",
       "        <td style=\"padding-left: 1em; padding-right: 1em; text-align: center; vertical-align: top\">1193</td>\n",
       "        <td style=\"padding-left: 1em; padding-right: 1em; text-align: center; vertical-align: top\">5</td>\n",
       "        <td style=\"padding-left: 1em; padding-right: 1em; text-align: center; vertical-align: top\">One Flew Over the<br>Cuckoo's Nest (1975) ...</td>\n",
       "        <td style=\"padding-left: 1em; padding-right: 1em; text-align: center; vertical-align: top\">Drama</td>\n",
       "    </tr>\n",
       "    <tr>\n",
       "        <td style=\"padding-left: 1em; padding-right: 1em; text-align: center; vertical-align: top\">2</td>\n",
       "        <td style=\"padding-left: 1em; padding-right: 1em; text-align: center; vertical-align: top\">1</td>\n",
       "        <td style=\"padding-left: 1em; padding-right: 1em; text-align: center; vertical-align: top\">661</td>\n",
       "        <td style=\"padding-left: 1em; padding-right: 1em; text-align: center; vertical-align: top\">3</td>\n",
       "        <td style=\"padding-left: 1em; padding-right: 1em; text-align: center; vertical-align: top\">James and the Giant Peach<br>(1996) ...</td>\n",
       "        <td style=\"padding-left: 1em; padding-right: 1em; text-align: center; vertical-align: top\">Animation|Children's|Musi<br>cal ...</td>\n",
       "    </tr>\n",
       "    <tr>\n",
       "        <td style=\"padding-left: 1em; padding-right: 1em; text-align: center; vertical-align: top\">3</td>\n",
       "        <td style=\"padding-left: 1em; padding-right: 1em; text-align: center; vertical-align: top\">1</td>\n",
       "        <td style=\"padding-left: 1em; padding-right: 1em; text-align: center; vertical-align: top\">914</td>\n",
       "        <td style=\"padding-left: 1em; padding-right: 1em; text-align: center; vertical-align: top\">3</td>\n",
       "        <td style=\"padding-left: 1em; padding-right: 1em; text-align: center; vertical-align: top\">My Fair Lady (1964)</td>\n",
       "        <td style=\"padding-left: 1em; padding-right: 1em; text-align: center; vertical-align: top\">Musical|Romance</td>\n",
       "    </tr>\n",
       "    <tr>\n",
       "        <td style=\"padding-left: 1em; padding-right: 1em; text-align: center; vertical-align: top\">4</td>\n",
       "        <td style=\"padding-left: 1em; padding-right: 1em; text-align: center; vertical-align: top\">1</td>\n",
       "        <td style=\"padding-left: 1em; padding-right: 1em; text-align: center; vertical-align: top\">3408</td>\n",
       "        <td style=\"padding-left: 1em; padding-right: 1em; text-align: center; vertical-align: top\">4</td>\n",
       "        <td style=\"padding-left: 1em; padding-right: 1em; text-align: center; vertical-align: top\">Erin Brockovich (2000)</td>\n",
       "        <td style=\"padding-left: 1em; padding-right: 1em; text-align: center; vertical-align: top\">Drama</td>\n",
       "    </tr>\n",
       "    <tr>\n",
       "        <td style=\"padding-left: 1em; padding-right: 1em; text-align: center; vertical-align: top\">5</td>\n",
       "        <td style=\"padding-left: 1em; padding-right: 1em; text-align: center; vertical-align: top\">1</td>\n",
       "        <td style=\"padding-left: 1em; padding-right: 1em; text-align: center; vertical-align: top\">2355</td>\n",
       "        <td style=\"padding-left: 1em; padding-right: 1em; text-align: center; vertical-align: top\">5</td>\n",
       "        <td style=\"padding-left: 1em; padding-right: 1em; text-align: center; vertical-align: top\">Bug's Life, A (1998)</td>\n",
       "        <td style=\"padding-left: 1em; padding-right: 1em; text-align: center; vertical-align: top\">Animation|Children's|Come<br>dy ...</td>\n",
       "    </tr>\n",
       "    <tr>\n",
       "        <td style=\"padding-left: 1em; padding-right: 1em; text-align: center; vertical-align: top\">6</td>\n",
       "        <td style=\"padding-left: 1em; padding-right: 1em; text-align: center; vertical-align: top\">1</td>\n",
       "        <td style=\"padding-left: 1em; padding-right: 1em; text-align: center; vertical-align: top\">1197</td>\n",
       "        <td style=\"padding-left: 1em; padding-right: 1em; text-align: center; vertical-align: top\">3</td>\n",
       "        <td style=\"padding-left: 1em; padding-right: 1em; text-align: center; vertical-align: top\">Princess Bride, The<br>(1987) ...</td>\n",
       "        <td style=\"padding-left: 1em; padding-right: 1em; text-align: center; vertical-align: top\">Action|Adventure|Comedy|R<br>omance ...</td>\n",
       "    </tr>\n",
       "    <tr>\n",
       "        <td style=\"padding-left: 1em; padding-right: 1em; text-align: center; vertical-align: top\">7</td>\n",
       "        <td style=\"padding-left: 1em; padding-right: 1em; text-align: center; vertical-align: top\">1</td>\n",
       "        <td style=\"padding-left: 1em; padding-right: 1em; text-align: center; vertical-align: top\">1287</td>\n",
       "        <td style=\"padding-left: 1em; padding-right: 1em; text-align: center; vertical-align: top\">5</td>\n",
       "        <td style=\"padding-left: 1em; padding-right: 1em; text-align: center; vertical-align: top\">Ben-Hur (1959)</td>\n",
       "        <td style=\"padding-left: 1em; padding-right: 1em; text-align: center; vertical-align: top\">Action|Adventure|Drama</td>\n",
       "    </tr>\n",
       "    <tr>\n",
       "        <td style=\"padding-left: 1em; padding-right: 1em; text-align: center; vertical-align: top\">8</td>\n",
       "        <td style=\"padding-left: 1em; padding-right: 1em; text-align: center; vertical-align: top\">1</td>\n",
       "        <td style=\"padding-left: 1em; padding-right: 1em; text-align: center; vertical-align: top\">2804</td>\n",
       "        <td style=\"padding-left: 1em; padding-right: 1em; text-align: center; vertical-align: top\">5</td>\n",
       "        <td style=\"padding-left: 1em; padding-right: 1em; text-align: center; vertical-align: top\">Christmas Story, A (1983)</td>\n",
       "        <td style=\"padding-left: 1em; padding-right: 1em; text-align: center; vertical-align: top\">Comedy|Drama</td>\n",
       "    </tr>\n",
       "    <tr>\n",
       "        <td style=\"padding-left: 1em; padding-right: 1em; text-align: center; vertical-align: top\">9</td>\n",
       "        <td style=\"padding-left: 1em; padding-right: 1em; text-align: center; vertical-align: top\">1</td>\n",
       "        <td style=\"padding-left: 1em; padding-right: 1em; text-align: center; vertical-align: top\">594</td>\n",
       "        <td style=\"padding-left: 1em; padding-right: 1em; text-align: center; vertical-align: top\">4</td>\n",
       "        <td style=\"padding-left: 1em; padding-right: 1em; text-align: center; vertical-align: top\">Snow White and the Seven<br>Dwarfs (1937) ...</td>\n",
       "        <td style=\"padding-left: 1em; padding-right: 1em; text-align: center; vertical-align: top\">Animation|Children's|Musi<br>cal ...</td>\n",
       "    </tr>\n",
       "    <tr>\n",
       "        <td style=\"padding-left: 1em; padding-right: 1em; text-align: center; vertical-align: top\">10</td>\n",
       "        <td style=\"padding-left: 1em; padding-right: 1em; text-align: center; vertical-align: top\">1</td>\n",
       "        <td style=\"padding-left: 1em; padding-right: 1em; text-align: center; vertical-align: top\">919</td>\n",
       "        <td style=\"padding-left: 1em; padding-right: 1em; text-align: center; vertical-align: top\">4</td>\n",
       "        <td style=\"padding-left: 1em; padding-right: 1em; text-align: center; vertical-align: top\">Wizard of Oz, The (1939)</td>\n",
       "        <td style=\"padding-left: 1em; padding-right: 1em; text-align: center; vertical-align: top\">Adventure|Children's|Dram<br>a|Musical ...</td>\n",
       "    </tr>\n",
       "</table>\n",
       "[10 rows x 6 columns]<br/>\n",
       "</div>"
      ],
      "text/plain": [
       "Columns:\n",
       "\trating_id\tint\n",
       "\tuser\tint\n",
       "\tmovie_ID\tint\n",
       "\trating\tint\n",
       "\tmovie\tstr\n",
       "\tgenre\tstr\n",
       "\n",
       "Rows: 10\n",
       "\n",
       "Data:\n",
       "+-----------+------+----------+--------+-------------------------------+\n",
       "| rating_id | user | movie_ID | rating |             movie             |\n",
       "+-----------+------+----------+--------+-------------------------------+\n",
       "|     1     |  1   |   1193   |   5    | One Flew Over the Cuckoo's... |\n",
       "|     2     |  1   |   661    |   3    | James and the Giant Peach ... |\n",
       "|     3     |  1   |   914    |   3    |      My Fair Lady (1964)      |\n",
       "|     4     |  1   |   3408   |   4    |     Erin Brockovich (2000)    |\n",
       "|     5     |  1   |   2355   |   5    |      Bug's Life, A (1998)     |\n",
       "|     6     |  1   |   1197   |   3    |   Princess Bride, The (1987)  |\n",
       "|     7     |  1   |   1287   |   5    |         Ben-Hur (1959)        |\n",
       "|     8     |  1   |   2804   |   5    |   Christmas Story, A (1983)   |\n",
       "|     9     |  1   |   594    |   4    | Snow White and the Seven D... |\n",
       "|     10    |  1   |   919    |   4    |    Wizard of Oz, The (1939)   |\n",
       "+-----------+------+----------+--------+-------------------------------+\n",
       "+-------------------------------+\n",
       "|             genre             |\n",
       "+-------------------------------+\n",
       "|             Drama             |\n",
       "|  Animation|Children's|Musical |\n",
       "|        Musical|Romance        |\n",
       "|             Drama             |\n",
       "|  Animation|Children's|Comedy  |\n",
       "| Action|Adventure|Comedy|Ro... |\n",
       "|     Action|Adventure|Drama    |\n",
       "|          Comedy|Drama         |\n",
       "|  Animation|Children's|Musical |\n",
       "| Adventure|Children's|Drama... |\n",
       "+-------------------------------+\n",
       "[10 rows x 6 columns]"
      ]
     },
     "execution_count": 897,
     "metadata": {},
     "output_type": "execute_result"
    }
   ],
   "source": [
    "data.head()"
   ]
  },
  {
   "cell_type": "code",
   "execution_count": 898,
   "metadata": {
    "collapsed": false
   },
   "outputs": [
    {
     "data": {
      "text/html": [
       "<div style=\"max-height:1000px;max-width:1500px;overflow:auto;\"><table frame=\"box\" rules=\"cols\">\n",
       "    <tr>\n",
       "        <th style=\"padding-left: 1em; padding-right: 1em; text-align: center\">movie_ID</th>\n",
       "        <th style=\"padding-left: 1em; padding-right: 1em; text-align: center\">movie</th>\n",
       "        <th style=\"padding-left: 1em; padding-right: 1em; text-align: center\">Action</th>\n",
       "        <th style=\"padding-left: 1em; padding-right: 1em; text-align: center\">Adventure</th>\n",
       "        <th style=\"padding-left: 1em; padding-right: 1em; text-align: center\">Animation</th>\n",
       "        <th style=\"padding-left: 1em; padding-right: 1em; text-align: center\">Children's</th>\n",
       "        <th style=\"padding-left: 1em; padding-right: 1em; text-align: center\">Comedy</th>\n",
       "        <th style=\"padding-left: 1em; padding-right: 1em; text-align: center\">Crime</th>\n",
       "        <th style=\"padding-left: 1em; padding-right: 1em; text-align: center\">Documentary</th>\n",
       "        <th style=\"padding-left: 1em; padding-right: 1em; text-align: center\">Drama</th>\n",
       "    </tr>\n",
       "    <tr>\n",
       "        <td style=\"padding-left: 1em; padding-right: 1em; text-align: center; vertical-align: top\">1</td>\n",
       "        <td style=\"padding-left: 1em; padding-right: 1em; text-align: center; vertical-align: top\">Toy Story (1995)</td>\n",
       "        <td style=\"padding-left: 1em; padding-right: 1em; text-align: center; vertical-align: top\">0</td>\n",
       "        <td style=\"padding-left: 1em; padding-right: 1em; text-align: center; vertical-align: top\">0</td>\n",
       "        <td style=\"padding-left: 1em; padding-right: 1em; text-align: center; vertical-align: top\">1</td>\n",
       "        <td style=\"padding-left: 1em; padding-right: 1em; text-align: center; vertical-align: top\">1</td>\n",
       "        <td style=\"padding-left: 1em; padding-right: 1em; text-align: center; vertical-align: top\">1</td>\n",
       "        <td style=\"padding-left: 1em; padding-right: 1em; text-align: center; vertical-align: top\">0</td>\n",
       "        <td style=\"padding-left: 1em; padding-right: 1em; text-align: center; vertical-align: top\">0</td>\n",
       "        <td style=\"padding-left: 1em; padding-right: 1em; text-align: center; vertical-align: top\">0</td>\n",
       "    </tr>\n",
       "    <tr>\n",
       "        <td style=\"padding-left: 1em; padding-right: 1em; text-align: center; vertical-align: top\">2</td>\n",
       "        <td style=\"padding-left: 1em; padding-right: 1em; text-align: center; vertical-align: top\">Jumanji (1995)</td>\n",
       "        <td style=\"padding-left: 1em; padding-right: 1em; text-align: center; vertical-align: top\">0</td>\n",
       "        <td style=\"padding-left: 1em; padding-right: 1em; text-align: center; vertical-align: top\">1</td>\n",
       "        <td style=\"padding-left: 1em; padding-right: 1em; text-align: center; vertical-align: top\">0</td>\n",
       "        <td style=\"padding-left: 1em; padding-right: 1em; text-align: center; vertical-align: top\">1</td>\n",
       "        <td style=\"padding-left: 1em; padding-right: 1em; text-align: center; vertical-align: top\">0</td>\n",
       "        <td style=\"padding-left: 1em; padding-right: 1em; text-align: center; vertical-align: top\">0</td>\n",
       "        <td style=\"padding-left: 1em; padding-right: 1em; text-align: center; vertical-align: top\">0</td>\n",
       "        <td style=\"padding-left: 1em; padding-right: 1em; text-align: center; vertical-align: top\">0</td>\n",
       "    </tr>\n",
       "    <tr>\n",
       "        <td style=\"padding-left: 1em; padding-right: 1em; text-align: center; vertical-align: top\">3</td>\n",
       "        <td style=\"padding-left: 1em; padding-right: 1em; text-align: center; vertical-align: top\">Grumpier Old Men (1995)</td>\n",
       "        <td style=\"padding-left: 1em; padding-right: 1em; text-align: center; vertical-align: top\">0</td>\n",
       "        <td style=\"padding-left: 1em; padding-right: 1em; text-align: center; vertical-align: top\">0</td>\n",
       "        <td style=\"padding-left: 1em; padding-right: 1em; text-align: center; vertical-align: top\">0</td>\n",
       "        <td style=\"padding-left: 1em; padding-right: 1em; text-align: center; vertical-align: top\">0</td>\n",
       "        <td style=\"padding-left: 1em; padding-right: 1em; text-align: center; vertical-align: top\">1</td>\n",
       "        <td style=\"padding-left: 1em; padding-right: 1em; text-align: center; vertical-align: top\">0</td>\n",
       "        <td style=\"padding-left: 1em; padding-right: 1em; text-align: center; vertical-align: top\">0</td>\n",
       "        <td style=\"padding-left: 1em; padding-right: 1em; text-align: center; vertical-align: top\">0</td>\n",
       "    </tr>\n",
       "    <tr>\n",
       "        <td style=\"padding-left: 1em; padding-right: 1em; text-align: center; vertical-align: top\">4</td>\n",
       "        <td style=\"padding-left: 1em; padding-right: 1em; text-align: center; vertical-align: top\">Waiting to Exhale (1995)</td>\n",
       "        <td style=\"padding-left: 1em; padding-right: 1em; text-align: center; vertical-align: top\">0</td>\n",
       "        <td style=\"padding-left: 1em; padding-right: 1em; text-align: center; vertical-align: top\">0</td>\n",
       "        <td style=\"padding-left: 1em; padding-right: 1em; text-align: center; vertical-align: top\">0</td>\n",
       "        <td style=\"padding-left: 1em; padding-right: 1em; text-align: center; vertical-align: top\">0</td>\n",
       "        <td style=\"padding-left: 1em; padding-right: 1em; text-align: center; vertical-align: top\">1</td>\n",
       "        <td style=\"padding-left: 1em; padding-right: 1em; text-align: center; vertical-align: top\">0</td>\n",
       "        <td style=\"padding-left: 1em; padding-right: 1em; text-align: center; vertical-align: top\">0</td>\n",
       "        <td style=\"padding-left: 1em; padding-right: 1em; text-align: center; vertical-align: top\">1</td>\n",
       "    </tr>\n",
       "    <tr>\n",
       "        <td style=\"padding-left: 1em; padding-right: 1em; text-align: center; vertical-align: top\">5</td>\n",
       "        <td style=\"padding-left: 1em; padding-right: 1em; text-align: center; vertical-align: top\">Father of the Bride Part<br>II (1995) ...</td>\n",
       "        <td style=\"padding-left: 1em; padding-right: 1em; text-align: center; vertical-align: top\">0</td>\n",
       "        <td style=\"padding-left: 1em; padding-right: 1em; text-align: center; vertical-align: top\">0</td>\n",
       "        <td style=\"padding-left: 1em; padding-right: 1em; text-align: center; vertical-align: top\">0</td>\n",
       "        <td style=\"padding-left: 1em; padding-right: 1em; text-align: center; vertical-align: top\">0</td>\n",
       "        <td style=\"padding-left: 1em; padding-right: 1em; text-align: center; vertical-align: top\">1</td>\n",
       "        <td style=\"padding-left: 1em; padding-right: 1em; text-align: center; vertical-align: top\">0</td>\n",
       "        <td style=\"padding-left: 1em; padding-right: 1em; text-align: center; vertical-align: top\">0</td>\n",
       "        <td style=\"padding-left: 1em; padding-right: 1em; text-align: center; vertical-align: top\">0</td>\n",
       "    </tr>\n",
       "    <tr>\n",
       "        <td style=\"padding-left: 1em; padding-right: 1em; text-align: center; vertical-align: top\">6</td>\n",
       "        <td style=\"padding-left: 1em; padding-right: 1em; text-align: center; vertical-align: top\">Heat (1995)</td>\n",
       "        <td style=\"padding-left: 1em; padding-right: 1em; text-align: center; vertical-align: top\">1</td>\n",
       "        <td style=\"padding-left: 1em; padding-right: 1em; text-align: center; vertical-align: top\">0</td>\n",
       "        <td style=\"padding-left: 1em; padding-right: 1em; text-align: center; vertical-align: top\">0</td>\n",
       "        <td style=\"padding-left: 1em; padding-right: 1em; text-align: center; vertical-align: top\">0</td>\n",
       "        <td style=\"padding-left: 1em; padding-right: 1em; text-align: center; vertical-align: top\">0</td>\n",
       "        <td style=\"padding-left: 1em; padding-right: 1em; text-align: center; vertical-align: top\">1</td>\n",
       "        <td style=\"padding-left: 1em; padding-right: 1em; text-align: center; vertical-align: top\">0</td>\n",
       "        <td style=\"padding-left: 1em; padding-right: 1em; text-align: center; vertical-align: top\">0</td>\n",
       "    </tr>\n",
       "    <tr>\n",
       "        <td style=\"padding-left: 1em; padding-right: 1em; text-align: center; vertical-align: top\">7</td>\n",
       "        <td style=\"padding-left: 1em; padding-right: 1em; text-align: center; vertical-align: top\">Sabrina (1995)</td>\n",
       "        <td style=\"padding-left: 1em; padding-right: 1em; text-align: center; vertical-align: top\">0</td>\n",
       "        <td style=\"padding-left: 1em; padding-right: 1em; text-align: center; vertical-align: top\">0</td>\n",
       "        <td style=\"padding-left: 1em; padding-right: 1em; text-align: center; vertical-align: top\">0</td>\n",
       "        <td style=\"padding-left: 1em; padding-right: 1em; text-align: center; vertical-align: top\">0</td>\n",
       "        <td style=\"padding-left: 1em; padding-right: 1em; text-align: center; vertical-align: top\">1</td>\n",
       "        <td style=\"padding-left: 1em; padding-right: 1em; text-align: center; vertical-align: top\">0</td>\n",
       "        <td style=\"padding-left: 1em; padding-right: 1em; text-align: center; vertical-align: top\">0</td>\n",
       "        <td style=\"padding-left: 1em; padding-right: 1em; text-align: center; vertical-align: top\">0</td>\n",
       "    </tr>\n",
       "    <tr>\n",
       "        <td style=\"padding-left: 1em; padding-right: 1em; text-align: center; vertical-align: top\">8</td>\n",
       "        <td style=\"padding-left: 1em; padding-right: 1em; text-align: center; vertical-align: top\">Tom and Huck (1995)</td>\n",
       "        <td style=\"padding-left: 1em; padding-right: 1em; text-align: center; vertical-align: top\">0</td>\n",
       "        <td style=\"padding-left: 1em; padding-right: 1em; text-align: center; vertical-align: top\">1</td>\n",
       "        <td style=\"padding-left: 1em; padding-right: 1em; text-align: center; vertical-align: top\">0</td>\n",
       "        <td style=\"padding-left: 1em; padding-right: 1em; text-align: center; vertical-align: top\">1</td>\n",
       "        <td style=\"padding-left: 1em; padding-right: 1em; text-align: center; vertical-align: top\">0</td>\n",
       "        <td style=\"padding-left: 1em; padding-right: 1em; text-align: center; vertical-align: top\">0</td>\n",
       "        <td style=\"padding-left: 1em; padding-right: 1em; text-align: center; vertical-align: top\">0</td>\n",
       "        <td style=\"padding-left: 1em; padding-right: 1em; text-align: center; vertical-align: top\">0</td>\n",
       "    </tr>\n",
       "    <tr>\n",
       "        <td style=\"padding-left: 1em; padding-right: 1em; text-align: center; vertical-align: top\">9</td>\n",
       "        <td style=\"padding-left: 1em; padding-right: 1em; text-align: center; vertical-align: top\">Sudden Death (1995)</td>\n",
       "        <td style=\"padding-left: 1em; padding-right: 1em; text-align: center; vertical-align: top\">1</td>\n",
       "        <td style=\"padding-left: 1em; padding-right: 1em; text-align: center; vertical-align: top\">0</td>\n",
       "        <td style=\"padding-left: 1em; padding-right: 1em; text-align: center; vertical-align: top\">0</td>\n",
       "        <td style=\"padding-left: 1em; padding-right: 1em; text-align: center; vertical-align: top\">0</td>\n",
       "        <td style=\"padding-left: 1em; padding-right: 1em; text-align: center; vertical-align: top\">0</td>\n",
       "        <td style=\"padding-left: 1em; padding-right: 1em; text-align: center; vertical-align: top\">0</td>\n",
       "        <td style=\"padding-left: 1em; padding-right: 1em; text-align: center; vertical-align: top\">0</td>\n",
       "        <td style=\"padding-left: 1em; padding-right: 1em; text-align: center; vertical-align: top\">0</td>\n",
       "    </tr>\n",
       "    <tr>\n",
       "        <td style=\"padding-left: 1em; padding-right: 1em; text-align: center; vertical-align: top\">10</td>\n",
       "        <td style=\"padding-left: 1em; padding-right: 1em; text-align: center; vertical-align: top\">GoldenEye (1995)</td>\n",
       "        <td style=\"padding-left: 1em; padding-right: 1em; text-align: center; vertical-align: top\">1</td>\n",
       "        <td style=\"padding-left: 1em; padding-right: 1em; text-align: center; vertical-align: top\">1</td>\n",
       "        <td style=\"padding-left: 1em; padding-right: 1em; text-align: center; vertical-align: top\">0</td>\n",
       "        <td style=\"padding-left: 1em; padding-right: 1em; text-align: center; vertical-align: top\">0</td>\n",
       "        <td style=\"padding-left: 1em; padding-right: 1em; text-align: center; vertical-align: top\">0</td>\n",
       "        <td style=\"padding-left: 1em; padding-right: 1em; text-align: center; vertical-align: top\">0</td>\n",
       "        <td style=\"padding-left: 1em; padding-right: 1em; text-align: center; vertical-align: top\">0</td>\n",
       "        <td style=\"padding-left: 1em; padding-right: 1em; text-align: center; vertical-align: top\">0</td>\n",
       "    </tr>\n",
       "</table>\n",
       "<table frame=\"box\" rules=\"cols\">\n",
       "    <tr>\n",
       "        <th style=\"padding-left: 1em; padding-right: 1em; text-align: center\">Fantasy</th>\n",
       "        <th style=\"padding-left: 1em; padding-right: 1em; text-align: center\">Film-Noir</th>\n",
       "        <th style=\"padding-left: 1em; padding-right: 1em; text-align: center\">Horror</th>\n",
       "        <th style=\"padding-left: 1em; padding-right: 1em; text-align: center\">Musical</th>\n",
       "        <th style=\"padding-left: 1em; padding-right: 1em; text-align: center\">Mystery</th>\n",
       "        <th style=\"padding-left: 1em; padding-right: 1em; text-align: center\">Romance</th>\n",
       "        <th style=\"padding-left: 1em; padding-right: 1em; text-align: center\">Sci-Fi</th>\n",
       "        <th style=\"padding-left: 1em; padding-right: 1em; text-align: center\">Thriller</th>\n",
       "        <th style=\"padding-left: 1em; padding-right: 1em; text-align: center\">War</th>\n",
       "        <th style=\"padding-left: 1em; padding-right: 1em; text-align: center\">Western</th>\n",
       "    </tr>\n",
       "    <tr>\n",
       "        <td style=\"padding-left: 1em; padding-right: 1em; text-align: center; vertical-align: top\">0</td>\n",
       "        <td style=\"padding-left: 1em; padding-right: 1em; text-align: center; vertical-align: top\">0</td>\n",
       "        <td style=\"padding-left: 1em; padding-right: 1em; text-align: center; vertical-align: top\">0</td>\n",
       "        <td style=\"padding-left: 1em; padding-right: 1em; text-align: center; vertical-align: top\">0</td>\n",
       "        <td style=\"padding-left: 1em; padding-right: 1em; text-align: center; vertical-align: top\">0</td>\n",
       "        <td style=\"padding-left: 1em; padding-right: 1em; text-align: center; vertical-align: top\">0</td>\n",
       "        <td style=\"padding-left: 1em; padding-right: 1em; text-align: center; vertical-align: top\">0</td>\n",
       "        <td style=\"padding-left: 1em; padding-right: 1em; text-align: center; vertical-align: top\">0</td>\n",
       "        <td style=\"padding-left: 1em; padding-right: 1em; text-align: center; vertical-align: top\">0</td>\n",
       "        <td style=\"padding-left: 1em; padding-right: 1em; text-align: center; vertical-align: top\">0</td>\n",
       "    </tr>\n",
       "    <tr>\n",
       "        <td style=\"padding-left: 1em; padding-right: 1em; text-align: center; vertical-align: top\">1</td>\n",
       "        <td style=\"padding-left: 1em; padding-right: 1em; text-align: center; vertical-align: top\">0</td>\n",
       "        <td style=\"padding-left: 1em; padding-right: 1em; text-align: center; vertical-align: top\">0</td>\n",
       "        <td style=\"padding-left: 1em; padding-right: 1em; text-align: center; vertical-align: top\">0</td>\n",
       "        <td style=\"padding-left: 1em; padding-right: 1em; text-align: center; vertical-align: top\">0</td>\n",
       "        <td style=\"padding-left: 1em; padding-right: 1em; text-align: center; vertical-align: top\">0</td>\n",
       "        <td style=\"padding-left: 1em; padding-right: 1em; text-align: center; vertical-align: top\">0</td>\n",
       "        <td style=\"padding-left: 1em; padding-right: 1em; text-align: center; vertical-align: top\">0</td>\n",
       "        <td style=\"padding-left: 1em; padding-right: 1em; text-align: center; vertical-align: top\">0</td>\n",
       "        <td style=\"padding-left: 1em; padding-right: 1em; text-align: center; vertical-align: top\">0</td>\n",
       "    </tr>\n",
       "    <tr>\n",
       "        <td style=\"padding-left: 1em; padding-right: 1em; text-align: center; vertical-align: top\">0</td>\n",
       "        <td style=\"padding-left: 1em; padding-right: 1em; text-align: center; vertical-align: top\">0</td>\n",
       "        <td style=\"padding-left: 1em; padding-right: 1em; text-align: center; vertical-align: top\">0</td>\n",
       "        <td style=\"padding-left: 1em; padding-right: 1em; text-align: center; vertical-align: top\">0</td>\n",
       "        <td style=\"padding-left: 1em; padding-right: 1em; text-align: center; vertical-align: top\">0</td>\n",
       "        <td style=\"padding-left: 1em; padding-right: 1em; text-align: center; vertical-align: top\">1</td>\n",
       "        <td style=\"padding-left: 1em; padding-right: 1em; text-align: center; vertical-align: top\">0</td>\n",
       "        <td style=\"padding-left: 1em; padding-right: 1em; text-align: center; vertical-align: top\">0</td>\n",
       "        <td style=\"padding-left: 1em; padding-right: 1em; text-align: center; vertical-align: top\">0</td>\n",
       "        <td style=\"padding-left: 1em; padding-right: 1em; text-align: center; vertical-align: top\">0</td>\n",
       "    </tr>\n",
       "    <tr>\n",
       "        <td style=\"padding-left: 1em; padding-right: 1em; text-align: center; vertical-align: top\">0</td>\n",
       "        <td style=\"padding-left: 1em; padding-right: 1em; text-align: center; vertical-align: top\">0</td>\n",
       "        <td style=\"padding-left: 1em; padding-right: 1em; text-align: center; vertical-align: top\">0</td>\n",
       "        <td style=\"padding-left: 1em; padding-right: 1em; text-align: center; vertical-align: top\">0</td>\n",
       "        <td style=\"padding-left: 1em; padding-right: 1em; text-align: center; vertical-align: top\">0</td>\n",
       "        <td style=\"padding-left: 1em; padding-right: 1em; text-align: center; vertical-align: top\">0</td>\n",
       "        <td style=\"padding-left: 1em; padding-right: 1em; text-align: center; vertical-align: top\">0</td>\n",
       "        <td style=\"padding-left: 1em; padding-right: 1em; text-align: center; vertical-align: top\">0</td>\n",
       "        <td style=\"padding-left: 1em; padding-right: 1em; text-align: center; vertical-align: top\">0</td>\n",
       "        <td style=\"padding-left: 1em; padding-right: 1em; text-align: center; vertical-align: top\">0</td>\n",
       "    </tr>\n",
       "    <tr>\n",
       "        <td style=\"padding-left: 1em; padding-right: 1em; text-align: center; vertical-align: top\">0</td>\n",
       "        <td style=\"padding-left: 1em; padding-right: 1em; text-align: center; vertical-align: top\">0</td>\n",
       "        <td style=\"padding-left: 1em; padding-right: 1em; text-align: center; vertical-align: top\">0</td>\n",
       "        <td style=\"padding-left: 1em; padding-right: 1em; text-align: center; vertical-align: top\">0</td>\n",
       "        <td style=\"padding-left: 1em; padding-right: 1em; text-align: center; vertical-align: top\">0</td>\n",
       "        <td style=\"padding-left: 1em; padding-right: 1em; text-align: center; vertical-align: top\">0</td>\n",
       "        <td style=\"padding-left: 1em; padding-right: 1em; text-align: center; vertical-align: top\">0</td>\n",
       "        <td style=\"padding-left: 1em; padding-right: 1em; text-align: center; vertical-align: top\">0</td>\n",
       "        <td style=\"padding-left: 1em; padding-right: 1em; text-align: center; vertical-align: top\">0</td>\n",
       "        <td style=\"padding-left: 1em; padding-right: 1em; text-align: center; vertical-align: top\">0</td>\n",
       "    </tr>\n",
       "    <tr>\n",
       "        <td style=\"padding-left: 1em; padding-right: 1em; text-align: center; vertical-align: top\">0</td>\n",
       "        <td style=\"padding-left: 1em; padding-right: 1em; text-align: center; vertical-align: top\">0</td>\n",
       "        <td style=\"padding-left: 1em; padding-right: 1em; text-align: center; vertical-align: top\">0</td>\n",
       "        <td style=\"padding-left: 1em; padding-right: 1em; text-align: center; vertical-align: top\">0</td>\n",
       "        <td style=\"padding-left: 1em; padding-right: 1em; text-align: center; vertical-align: top\">0</td>\n",
       "        <td style=\"padding-left: 1em; padding-right: 1em; text-align: center; vertical-align: top\">0</td>\n",
       "        <td style=\"padding-left: 1em; padding-right: 1em; text-align: center; vertical-align: top\">0</td>\n",
       "        <td style=\"padding-left: 1em; padding-right: 1em; text-align: center; vertical-align: top\">1</td>\n",
       "        <td style=\"padding-left: 1em; padding-right: 1em; text-align: center; vertical-align: top\">0</td>\n",
       "        <td style=\"padding-left: 1em; padding-right: 1em; text-align: center; vertical-align: top\">0</td>\n",
       "    </tr>\n",
       "    <tr>\n",
       "        <td style=\"padding-left: 1em; padding-right: 1em; text-align: center; vertical-align: top\">0</td>\n",
       "        <td style=\"padding-left: 1em; padding-right: 1em; text-align: center; vertical-align: top\">0</td>\n",
       "        <td style=\"padding-left: 1em; padding-right: 1em; text-align: center; vertical-align: top\">0</td>\n",
       "        <td style=\"padding-left: 1em; padding-right: 1em; text-align: center; vertical-align: top\">0</td>\n",
       "        <td style=\"padding-left: 1em; padding-right: 1em; text-align: center; vertical-align: top\">0</td>\n",
       "        <td style=\"padding-left: 1em; padding-right: 1em; text-align: center; vertical-align: top\">1</td>\n",
       "        <td style=\"padding-left: 1em; padding-right: 1em; text-align: center; vertical-align: top\">0</td>\n",
       "        <td style=\"padding-left: 1em; padding-right: 1em; text-align: center; vertical-align: top\">0</td>\n",
       "        <td style=\"padding-left: 1em; padding-right: 1em; text-align: center; vertical-align: top\">0</td>\n",
       "        <td style=\"padding-left: 1em; padding-right: 1em; text-align: center; vertical-align: top\">0</td>\n",
       "    </tr>\n",
       "    <tr>\n",
       "        <td style=\"padding-left: 1em; padding-right: 1em; text-align: center; vertical-align: top\">0</td>\n",
       "        <td style=\"padding-left: 1em; padding-right: 1em; text-align: center; vertical-align: top\">0</td>\n",
       "        <td style=\"padding-left: 1em; padding-right: 1em; text-align: center; vertical-align: top\">0</td>\n",
       "        <td style=\"padding-left: 1em; padding-right: 1em; text-align: center; vertical-align: top\">0</td>\n",
       "        <td style=\"padding-left: 1em; padding-right: 1em; text-align: center; vertical-align: top\">0</td>\n",
       "        <td style=\"padding-left: 1em; padding-right: 1em; text-align: center; vertical-align: top\">0</td>\n",
       "        <td style=\"padding-left: 1em; padding-right: 1em; text-align: center; vertical-align: top\">0</td>\n",
       "        <td style=\"padding-left: 1em; padding-right: 1em; text-align: center; vertical-align: top\">0</td>\n",
       "        <td style=\"padding-left: 1em; padding-right: 1em; text-align: center; vertical-align: top\">0</td>\n",
       "        <td style=\"padding-left: 1em; padding-right: 1em; text-align: center; vertical-align: top\">0</td>\n",
       "    </tr>\n",
       "    <tr>\n",
       "        <td style=\"padding-left: 1em; padding-right: 1em; text-align: center; vertical-align: top\">0</td>\n",
       "        <td style=\"padding-left: 1em; padding-right: 1em; text-align: center; vertical-align: top\">0</td>\n",
       "        <td style=\"padding-left: 1em; padding-right: 1em; text-align: center; vertical-align: top\">0</td>\n",
       "        <td style=\"padding-left: 1em; padding-right: 1em; text-align: center; vertical-align: top\">0</td>\n",
       "        <td style=\"padding-left: 1em; padding-right: 1em; text-align: center; vertical-align: top\">0</td>\n",
       "        <td style=\"padding-left: 1em; padding-right: 1em; text-align: center; vertical-align: top\">0</td>\n",
       "        <td style=\"padding-left: 1em; padding-right: 1em; text-align: center; vertical-align: top\">0</td>\n",
       "        <td style=\"padding-left: 1em; padding-right: 1em; text-align: center; vertical-align: top\">0</td>\n",
       "        <td style=\"padding-left: 1em; padding-right: 1em; text-align: center; vertical-align: top\">0</td>\n",
       "        <td style=\"padding-left: 1em; padding-right: 1em; text-align: center; vertical-align: top\">0</td>\n",
       "    </tr>\n",
       "    <tr>\n",
       "        <td style=\"padding-left: 1em; padding-right: 1em; text-align: center; vertical-align: top\">0</td>\n",
       "        <td style=\"padding-left: 1em; padding-right: 1em; text-align: center; vertical-align: top\">0</td>\n",
       "        <td style=\"padding-left: 1em; padding-right: 1em; text-align: center; vertical-align: top\">0</td>\n",
       "        <td style=\"padding-left: 1em; padding-right: 1em; text-align: center; vertical-align: top\">0</td>\n",
       "        <td style=\"padding-left: 1em; padding-right: 1em; text-align: center; vertical-align: top\">0</td>\n",
       "        <td style=\"padding-left: 1em; padding-right: 1em; text-align: center; vertical-align: top\">0</td>\n",
       "        <td style=\"padding-left: 1em; padding-right: 1em; text-align: center; vertical-align: top\">0</td>\n",
       "        <td style=\"padding-left: 1em; padding-right: 1em; text-align: center; vertical-align: top\">1</td>\n",
       "        <td style=\"padding-left: 1em; padding-right: 1em; text-align: center; vertical-align: top\">0</td>\n",
       "        <td style=\"padding-left: 1em; padding-right: 1em; text-align: center; vertical-align: top\">0</td>\n",
       "    </tr>\n",
       "</table>\n",
       "[10 rows x 20 columns]<br/>\n",
       "</div>"
      ],
      "text/plain": [
       "Columns:\n",
       "\tmovie_ID\tint\n",
       "\tmovie\tstr\n",
       "\tAction\tint\n",
       "\tAdventure\tint\n",
       "\tAnimation\tint\n",
       "\tChildren's\tint\n",
       "\tComedy\tint\n",
       "\tCrime\tint\n",
       "\tDocumentary\tint\n",
       "\tDrama\tint\n",
       "\tFantasy\tint\n",
       "\tFilm-Noir\tint\n",
       "\tHorror\tint\n",
       "\tMusical\tint\n",
       "\tMystery\tint\n",
       "\tRomance\tint\n",
       "\tSci-Fi\tint\n",
       "\tThriller\tint\n",
       "\tWar\tint\n",
       "\tWestern\tint\n",
       "\n",
       "Rows: 10\n",
       "\n",
       "Data:\n",
       "+----------+-------------------------------+--------+-----------+-----------+------------+\n",
       "| movie_ID |             movie             | Action | Adventure | Animation | Children's |\n",
       "+----------+-------------------------------+--------+-----------+-----------+------------+\n",
       "|    1     |        Toy Story (1995)       |   0    |     0     |     1     |     1      |\n",
       "|    2     |         Jumanji (1995)        |   0    |     1     |     0     |     1      |\n",
       "|    3     |    Grumpier Old Men (1995)    |   0    |     0     |     0     |     0      |\n",
       "|    4     |    Waiting to Exhale (1995)   |   0    |     0     |     0     |     0      |\n",
       "|    5     | Father of the Bride Part I... |   0    |     0     |     0     |     0      |\n",
       "|    6     |          Heat (1995)          |   1    |     0     |     0     |     0      |\n",
       "|    7     |         Sabrina (1995)        |   0    |     0     |     0     |     0      |\n",
       "|    8     |      Tom and Huck (1995)      |   0    |     1     |     0     |     1      |\n",
       "|    9     |      Sudden Death (1995)      |   1    |     0     |     0     |     0      |\n",
       "|    10    |        GoldenEye (1995)       |   1    |     1     |     0     |     0      |\n",
       "+----------+-------------------------------+--------+-----------+-----------+------------+\n",
       "+--------+-------+-------------+-------+---------+-----------+--------+---------+\n",
       "| Comedy | Crime | Documentary | Drama | Fantasy | Film-Noir | Horror | Musical |\n",
       "+--------+-------+-------------+-------+---------+-----------+--------+---------+\n",
       "|   1    |   0   |      0      |   0   |    0    |     0     |   0    |    0    |\n",
       "|   0    |   0   |      0      |   0   |    1    |     0     |   0    |    0    |\n",
       "|   1    |   0   |      0      |   0   |    0    |     0     |   0    |    0    |\n",
       "|   1    |   0   |      0      |   1   |    0    |     0     |   0    |    0    |\n",
       "|   1    |   0   |      0      |   0   |    0    |     0     |   0    |    0    |\n",
       "|   0    |   1   |      0      |   0   |    0    |     0     |   0    |    0    |\n",
       "|   1    |   0   |      0      |   0   |    0    |     0     |   0    |    0    |\n",
       "|   0    |   0   |      0      |   0   |    0    |     0     |   0    |    0    |\n",
       "|   0    |   0   |      0      |   0   |    0    |     0     |   0    |    0    |\n",
       "|   0    |   0   |      0      |   0   |    0    |     0     |   0    |    0    |\n",
       "+--------+-------+-------------+-------+---------+-----------+--------+---------+\n",
       "+---------+---------+--------+----------+-----+---------+\n",
       "| Mystery | Romance | Sci-Fi | Thriller | War | Western |\n",
       "+---------+---------+--------+----------+-----+---------+\n",
       "|    0    |    0    |   0    |    0     |  0  |    0    |\n",
       "|    0    |    0    |   0    |    0     |  0  |    0    |\n",
       "|    0    |    1    |   0    |    0     |  0  |    0    |\n",
       "|    0    |    0    |   0    |    0     |  0  |    0    |\n",
       "|    0    |    0    |   0    |    0     |  0  |    0    |\n",
       "|    0    |    0    |   0    |    1     |  0  |    0    |\n",
       "|    0    |    1    |   0    |    0     |  0  |    0    |\n",
       "|    0    |    0    |   0    |    0     |  0  |    0    |\n",
       "|    0    |    0    |   0    |    0     |  0  |    0    |\n",
       "|    0    |    0    |   0    |    1     |  0  |    0    |\n",
       "+---------+---------+--------+----------+-----+---------+\n",
       "[10 rows x 20 columns]"
      ]
     },
     "execution_count": 898,
     "metadata": {},
     "output_type": "execute_result"
    }
   ],
   "source": [
    "genre.head()"
   ]
  },
  {
   "cell_type": "code",
   "execution_count": 899,
   "metadata": {
    "collapsed": false
   },
   "outputs": [
    {
     "data": {
      "text/html": [
       "<div style=\"max-height:1000px;max-width:1500px;overflow:auto;\"><table frame=\"box\" rules=\"cols\">\n",
       "    <tr>\n",
       "        <th style=\"padding-left: 1em; padding-right: 1em; text-align: center\">user</th>\n",
       "        <th style=\"padding-left: 1em; padding-right: 1em; text-align: center\">F</th>\n",
       "        <th style=\"padding-left: 1em; padding-right: 1em; text-align: center\">M</th>\n",
       "        <th style=\"padding-left: 1em; padding-right: 1em; text-align: center\">Under_18</th>\n",
       "        <th style=\"padding-left: 1em; padding-right: 1em; text-align: center\">18-24</th>\n",
       "        <th style=\"padding-left: 1em; padding-right: 1em; text-align: center\">25-34</th>\n",
       "        <th style=\"padding-left: 1em; padding-right: 1em; text-align: center\">35-44</th>\n",
       "        <th style=\"padding-left: 1em; padding-right: 1em; text-align: center\">45-49</th>\n",
       "        <th style=\"padding-left: 1em; padding-right: 1em; text-align: center\">50-55</th>\n",
       "        <th style=\"padding-left: 1em; padding-right: 1em; text-align: center\">Over_56</th>\n",
       "        <th style=\"padding-left: 1em; padding-right: 1em; text-align: center\">Other</th>\n",
       "        <th style=\"padding-left: 1em; padding-right: 1em; text-align: center\">Academic/Educator</th>\n",
       "        <th style=\"padding-left: 1em; padding-right: 1em; text-align: center\">Artist</th>\n",
       "        <th style=\"padding-left: 1em; padding-right: 1em; text-align: center\">Clerical/Admin</th>\n",
       "    </tr>\n",
       "    <tr>\n",
       "        <td style=\"padding-left: 1em; padding-right: 1em; text-align: center; vertical-align: top\">5454</td>\n",
       "        <td style=\"padding-left: 1em; padding-right: 1em; text-align: center; vertical-align: top\">0</td>\n",
       "        <td style=\"padding-left: 1em; padding-right: 1em; text-align: center; vertical-align: top\">1</td>\n",
       "        <td style=\"padding-left: 1em; padding-right: 1em; text-align: center; vertical-align: top\">0</td>\n",
       "        <td style=\"padding-left: 1em; padding-right: 1em; text-align: center; vertical-align: top\">0</td>\n",
       "        <td style=\"padding-left: 1em; padding-right: 1em; text-align: center; vertical-align: top\">0</td>\n",
       "        <td style=\"padding-left: 1em; padding-right: 1em; text-align: center; vertical-align: top\">1</td>\n",
       "        <td style=\"padding-left: 1em; padding-right: 1em; text-align: center; vertical-align: top\">0</td>\n",
       "        <td style=\"padding-left: 1em; padding-right: 1em; text-align: center; vertical-align: top\">0</td>\n",
       "        <td style=\"padding-left: 1em; padding-right: 1em; text-align: center; vertical-align: top\">0</td>\n",
       "        <td style=\"padding-left: 1em; padding-right: 1em; text-align: center; vertical-align: top\">0</td>\n",
       "        <td style=\"padding-left: 1em; padding-right: 1em; text-align: center; vertical-align: top\">0</td>\n",
       "        <td style=\"padding-left: 1em; padding-right: 1em; text-align: center; vertical-align: top\">0</td>\n",
       "        <td style=\"padding-left: 1em; padding-right: 1em; text-align: center; vertical-align: top\">0</td>\n",
       "    </tr>\n",
       "    <tr>\n",
       "        <td style=\"padding-left: 1em; padding-right: 1em; text-align: center; vertical-align: top\">1256</td>\n",
       "        <td style=\"padding-left: 1em; padding-right: 1em; text-align: center; vertical-align: top\">0</td>\n",
       "        <td style=\"padding-left: 1em; padding-right: 1em; text-align: center; vertical-align: top\">1</td>\n",
       "        <td style=\"padding-left: 1em; padding-right: 1em; text-align: center; vertical-align: top\">0</td>\n",
       "        <td style=\"padding-left: 1em; padding-right: 1em; text-align: center; vertical-align: top\">0</td>\n",
       "        <td style=\"padding-left: 1em; padding-right: 1em; text-align: center; vertical-align: top\">1</td>\n",
       "        <td style=\"padding-left: 1em; padding-right: 1em; text-align: center; vertical-align: top\">0</td>\n",
       "        <td style=\"padding-left: 1em; padding-right: 1em; text-align: center; vertical-align: top\">0</td>\n",
       "        <td style=\"padding-left: 1em; padding-right: 1em; text-align: center; vertical-align: top\">0</td>\n",
       "        <td style=\"padding-left: 1em; padding-right: 1em; text-align: center; vertical-align: top\">0</td>\n",
       "        <td style=\"padding-left: 1em; padding-right: 1em; text-align: center; vertical-align: top\">0</td>\n",
       "        <td style=\"padding-left: 1em; padding-right: 1em; text-align: center; vertical-align: top\">0</td>\n",
       "        <td style=\"padding-left: 1em; padding-right: 1em; text-align: center; vertical-align: top\">0</td>\n",
       "        <td style=\"padding-left: 1em; padding-right: 1em; text-align: center; vertical-align: top\">0</td>\n",
       "    </tr>\n",
       "    <tr>\n",
       "        <td style=\"padding-left: 1em; padding-right: 1em; text-align: center; vertical-align: top\">1517</td>\n",
       "        <td style=\"padding-left: 1em; padding-right: 1em; text-align: center; vertical-align: top\">0</td>\n",
       "        <td style=\"padding-left: 1em; padding-right: 1em; text-align: center; vertical-align: top\">1</td>\n",
       "        <td style=\"padding-left: 1em; padding-right: 1em; text-align: center; vertical-align: top\">0</td>\n",
       "        <td style=\"padding-left: 1em; padding-right: 1em; text-align: center; vertical-align: top\">1</td>\n",
       "        <td style=\"padding-left: 1em; padding-right: 1em; text-align: center; vertical-align: top\">0</td>\n",
       "        <td style=\"padding-left: 1em; padding-right: 1em; text-align: center; vertical-align: top\">0</td>\n",
       "        <td style=\"padding-left: 1em; padding-right: 1em; text-align: center; vertical-align: top\">0</td>\n",
       "        <td style=\"padding-left: 1em; padding-right: 1em; text-align: center; vertical-align: top\">0</td>\n",
       "        <td style=\"padding-left: 1em; padding-right: 1em; text-align: center; vertical-align: top\">0</td>\n",
       "        <td style=\"padding-left: 1em; padding-right: 1em; text-align: center; vertical-align: top\">1</td>\n",
       "        <td style=\"padding-left: 1em; padding-right: 1em; text-align: center; vertical-align: top\">0</td>\n",
       "        <td style=\"padding-left: 1em; padding-right: 1em; text-align: center; vertical-align: top\">0</td>\n",
       "        <td style=\"padding-left: 1em; padding-right: 1em; text-align: center; vertical-align: top\">0</td>\n",
       "    </tr>\n",
       "    <tr>\n",
       "        <td style=\"padding-left: 1em; padding-right: 1em; text-align: center; vertical-align: top\">1597</td>\n",
       "        <td style=\"padding-left: 1em; padding-right: 1em; text-align: center; vertical-align: top\">0</td>\n",
       "        <td style=\"padding-left: 1em; padding-right: 1em; text-align: center; vertical-align: top\">1</td>\n",
       "        <td style=\"padding-left: 1em; padding-right: 1em; text-align: center; vertical-align: top\">0</td>\n",
       "        <td style=\"padding-left: 1em; padding-right: 1em; text-align: center; vertical-align: top\">0</td>\n",
       "        <td style=\"padding-left: 1em; padding-right: 1em; text-align: center; vertical-align: top\">1</td>\n",
       "        <td style=\"padding-left: 1em; padding-right: 1em; text-align: center; vertical-align: top\">0</td>\n",
       "        <td style=\"padding-left: 1em; padding-right: 1em; text-align: center; vertical-align: top\">0</td>\n",
       "        <td style=\"padding-left: 1em; padding-right: 1em; text-align: center; vertical-align: top\">0</td>\n",
       "        <td style=\"padding-left: 1em; padding-right: 1em; text-align: center; vertical-align: top\">0</td>\n",
       "        <td style=\"padding-left: 1em; padding-right: 1em; text-align: center; vertical-align: top\">0</td>\n",
       "        <td style=\"padding-left: 1em; padding-right: 1em; text-align: center; vertical-align: top\">0</td>\n",
       "        <td style=\"padding-left: 1em; padding-right: 1em; text-align: center; vertical-align: top\">0</td>\n",
       "        <td style=\"padding-left: 1em; padding-right: 1em; text-align: center; vertical-align: top\">0</td>\n",
       "    </tr>\n",
       "    <tr>\n",
       "        <td style=\"padding-left: 1em; padding-right: 1em; text-align: center; vertical-align: top\">1845</td>\n",
       "        <td style=\"padding-left: 1em; padding-right: 1em; text-align: center; vertical-align: top\">0</td>\n",
       "        <td style=\"padding-left: 1em; padding-right: 1em; text-align: center; vertical-align: top\">1</td>\n",
       "        <td style=\"padding-left: 1em; padding-right: 1em; text-align: center; vertical-align: top\">0</td>\n",
       "        <td style=\"padding-left: 1em; padding-right: 1em; text-align: center; vertical-align: top\">0</td>\n",
       "        <td style=\"padding-left: 1em; padding-right: 1em; text-align: center; vertical-align: top\">1</td>\n",
       "        <td style=\"padding-left: 1em; padding-right: 1em; text-align: center; vertical-align: top\">0</td>\n",
       "        <td style=\"padding-left: 1em; padding-right: 1em; text-align: center; vertical-align: top\">0</td>\n",
       "        <td style=\"padding-left: 1em; padding-right: 1em; text-align: center; vertical-align: top\">0</td>\n",
       "        <td style=\"padding-left: 1em; padding-right: 1em; text-align: center; vertical-align: top\">0</td>\n",
       "        <td style=\"padding-left: 1em; padding-right: 1em; text-align: center; vertical-align: top\">0</td>\n",
       "        <td style=\"padding-left: 1em; padding-right: 1em; text-align: center; vertical-align: top\">0</td>\n",
       "        <td style=\"padding-left: 1em; padding-right: 1em; text-align: center; vertical-align: top\">1</td>\n",
       "        <td style=\"padding-left: 1em; padding-right: 1em; text-align: center; vertical-align: top\">0</td>\n",
       "    </tr>\n",
       "    <tr>\n",
       "        <td style=\"padding-left: 1em; padding-right: 1em; text-align: center; vertical-align: top\">3110</td>\n",
       "        <td style=\"padding-left: 1em; padding-right: 1em; text-align: center; vertical-align: top\">0</td>\n",
       "        <td style=\"padding-left: 1em; padding-right: 1em; text-align: center; vertical-align: top\">1</td>\n",
       "        <td style=\"padding-left: 1em; padding-right: 1em; text-align: center; vertical-align: top\">0</td>\n",
       "        <td style=\"padding-left: 1em; padding-right: 1em; text-align: center; vertical-align: top\">0</td>\n",
       "        <td style=\"padding-left: 1em; padding-right: 1em; text-align: center; vertical-align: top\">1</td>\n",
       "        <td style=\"padding-left: 1em; padding-right: 1em; text-align: center; vertical-align: top\">0</td>\n",
       "        <td style=\"padding-left: 1em; padding-right: 1em; text-align: center; vertical-align: top\">0</td>\n",
       "        <td style=\"padding-left: 1em; padding-right: 1em; text-align: center; vertical-align: top\">0</td>\n",
       "        <td style=\"padding-left: 1em; padding-right: 1em; text-align: center; vertical-align: top\">0</td>\n",
       "        <td style=\"padding-left: 1em; padding-right: 1em; text-align: center; vertical-align: top\">1</td>\n",
       "        <td style=\"padding-left: 1em; padding-right: 1em; text-align: center; vertical-align: top\">0</td>\n",
       "        <td style=\"padding-left: 1em; padding-right: 1em; text-align: center; vertical-align: top\">0</td>\n",
       "        <td style=\"padding-left: 1em; padding-right: 1em; text-align: center; vertical-align: top\">0</td>\n",
       "    </tr>\n",
       "    <tr>\n",
       "        <td style=\"padding-left: 1em; padding-right: 1em; text-align: center; vertical-align: top\">283</td>\n",
       "        <td style=\"padding-left: 1em; padding-right: 1em; text-align: center; vertical-align: top\">0</td>\n",
       "        <td style=\"padding-left: 1em; padding-right: 1em; text-align: center; vertical-align: top\">1</td>\n",
       "        <td style=\"padding-left: 1em; padding-right: 1em; text-align: center; vertical-align: top\">0</td>\n",
       "        <td style=\"padding-left: 1em; padding-right: 1em; text-align: center; vertical-align: top\">0</td>\n",
       "        <td style=\"padding-left: 1em; padding-right: 1em; text-align: center; vertical-align: top\">1</td>\n",
       "        <td style=\"padding-left: 1em; padding-right: 1em; text-align: center; vertical-align: top\">0</td>\n",
       "        <td style=\"padding-left: 1em; padding-right: 1em; text-align: center; vertical-align: top\">0</td>\n",
       "        <td style=\"padding-left: 1em; padding-right: 1em; text-align: center; vertical-align: top\">0</td>\n",
       "        <td style=\"padding-left: 1em; padding-right: 1em; text-align: center; vertical-align: top\">0</td>\n",
       "        <td style=\"padding-left: 1em; padding-right: 1em; text-align: center; vertical-align: top\">1</td>\n",
       "        <td style=\"padding-left: 1em; padding-right: 1em; text-align: center; vertical-align: top\">0</td>\n",
       "        <td style=\"padding-left: 1em; padding-right: 1em; text-align: center; vertical-align: top\">0</td>\n",
       "        <td style=\"padding-left: 1em; padding-right: 1em; text-align: center; vertical-align: top\">0</td>\n",
       "    </tr>\n",
       "    <tr>\n",
       "        <td style=\"padding-left: 1em; padding-right: 1em; text-align: center; vertical-align: top\">1581</td>\n",
       "        <td style=\"padding-left: 1em; padding-right: 1em; text-align: center; vertical-align: top\">1</td>\n",
       "        <td style=\"padding-left: 1em; padding-right: 1em; text-align: center; vertical-align: top\">0</td>\n",
       "        <td style=\"padding-left: 1em; padding-right: 1em; text-align: center; vertical-align: top\">0</td>\n",
       "        <td style=\"padding-left: 1em; padding-right: 1em; text-align: center; vertical-align: top\">1</td>\n",
       "        <td style=\"padding-left: 1em; padding-right: 1em; text-align: center; vertical-align: top\">0</td>\n",
       "        <td style=\"padding-left: 1em; padding-right: 1em; text-align: center; vertical-align: top\">0</td>\n",
       "        <td style=\"padding-left: 1em; padding-right: 1em; text-align: center; vertical-align: top\">0</td>\n",
       "        <td style=\"padding-left: 1em; padding-right: 1em; text-align: center; vertical-align: top\">0</td>\n",
       "        <td style=\"padding-left: 1em; padding-right: 1em; text-align: center; vertical-align: top\">0</td>\n",
       "        <td style=\"padding-left: 1em; padding-right: 1em; text-align: center; vertical-align: top\">0</td>\n",
       "        <td style=\"padding-left: 1em; padding-right: 1em; text-align: center; vertical-align: top\">0</td>\n",
       "        <td style=\"padding-left: 1em; padding-right: 1em; text-align: center; vertical-align: top\">0</td>\n",
       "        <td style=\"padding-left: 1em; padding-right: 1em; text-align: center; vertical-align: top\">0</td>\n",
       "    </tr>\n",
       "    <tr>\n",
       "        <td style=\"padding-left: 1em; padding-right: 1em; text-align: center; vertical-align: top\">1629</td>\n",
       "        <td style=\"padding-left: 1em; padding-right: 1em; text-align: center; vertical-align: top\">0</td>\n",
       "        <td style=\"padding-left: 1em; padding-right: 1em; text-align: center; vertical-align: top\">1</td>\n",
       "        <td style=\"padding-left: 1em; padding-right: 1em; text-align: center; vertical-align: top\">0</td>\n",
       "        <td style=\"padding-left: 1em; padding-right: 1em; text-align: center; vertical-align: top\">1</td>\n",
       "        <td style=\"padding-left: 1em; padding-right: 1em; text-align: center; vertical-align: top\">0</td>\n",
       "        <td style=\"padding-left: 1em; padding-right: 1em; text-align: center; vertical-align: top\">0</td>\n",
       "        <td style=\"padding-left: 1em; padding-right: 1em; text-align: center; vertical-align: top\">0</td>\n",
       "        <td style=\"padding-left: 1em; padding-right: 1em; text-align: center; vertical-align: top\">0</td>\n",
       "        <td style=\"padding-left: 1em; padding-right: 1em; text-align: center; vertical-align: top\">0</td>\n",
       "        <td style=\"padding-left: 1em; padding-right: 1em; text-align: center; vertical-align: top\">0</td>\n",
       "        <td style=\"padding-left: 1em; padding-right: 1em; text-align: center; vertical-align: top\">0</td>\n",
       "        <td style=\"padding-left: 1em; padding-right: 1em; text-align: center; vertical-align: top\">0</td>\n",
       "        <td style=\"padding-left: 1em; padding-right: 1em; text-align: center; vertical-align: top\">0</td>\n",
       "    </tr>\n",
       "    <tr>\n",
       "        <td style=\"padding-left: 1em; padding-right: 1em; text-align: center; vertical-align: top\">2822</td>\n",
       "        <td style=\"padding-left: 1em; padding-right: 1em; text-align: center; vertical-align: top\">0</td>\n",
       "        <td style=\"padding-left: 1em; padding-right: 1em; text-align: center; vertical-align: top\">1</td>\n",
       "        <td style=\"padding-left: 1em; padding-right: 1em; text-align: center; vertical-align: top\">0</td>\n",
       "        <td style=\"padding-left: 1em; padding-right: 1em; text-align: center; vertical-align: top\">0</td>\n",
       "        <td style=\"padding-left: 1em; padding-right: 1em; text-align: center; vertical-align: top\">0</td>\n",
       "        <td style=\"padding-left: 1em; padding-right: 1em; text-align: center; vertical-align: top\">0</td>\n",
       "        <td style=\"padding-left: 1em; padding-right: 1em; text-align: center; vertical-align: top\">0</td>\n",
       "        <td style=\"padding-left: 1em; padding-right: 1em; text-align: center; vertical-align: top\">1</td>\n",
       "        <td style=\"padding-left: 1em; padding-right: 1em; text-align: center; vertical-align: top\">0</td>\n",
       "        <td style=\"padding-left: 1em; padding-right: 1em; text-align: center; vertical-align: top\">0</td>\n",
       "        <td style=\"padding-left: 1em; padding-right: 1em; text-align: center; vertical-align: top\">0</td>\n",
       "        <td style=\"padding-left: 1em; padding-right: 1em; text-align: center; vertical-align: top\">0</td>\n",
       "        <td style=\"padding-left: 1em; padding-right: 1em; text-align: center; vertical-align: top\">0</td>\n",
       "    </tr>\n",
       "</table>\n",
       "<table frame=\"box\" rules=\"cols\">\n",
       "    <tr>\n",
       "        <th style=\"padding-left: 1em; padding-right: 1em; text-align: center\">College/Grad_Student</th>\n",
       "        <th style=\"padding-left: 1em; padding-right: 1em; text-align: center\">Customer_Service</th>\n",
       "        <th style=\"padding-left: 1em; padding-right: 1em; text-align: center\">Doctor/Health_Care</th>\n",
       "        <th style=\"padding-left: 1em; padding-right: 1em; text-align: center\">Executive/Managerial</th>\n",
       "        <th style=\"padding-left: 1em; padding-right: 1em; text-align: center\">Farmer</th>\n",
       "        <th style=\"padding-left: 1em; padding-right: 1em; text-align: center\">Homemaker</th>\n",
       "        <th style=\"padding-left: 1em; padding-right: 1em; text-align: center\">K-12_Student</th>\n",
       "    </tr>\n",
       "    <tr>\n",
       "        <td style=\"padding-left: 1em; padding-right: 1em; text-align: center; vertical-align: top\">0</td>\n",
       "        <td style=\"padding-left: 1em; padding-right: 1em; text-align: center; vertical-align: top\">0</td>\n",
       "        <td style=\"padding-left: 1em; padding-right: 1em; text-align: center; vertical-align: top\">0</td>\n",
       "        <td style=\"padding-left: 1em; padding-right: 1em; text-align: center; vertical-align: top\">1</td>\n",
       "        <td style=\"padding-left: 1em; padding-right: 1em; text-align: center; vertical-align: top\">0</td>\n",
       "        <td style=\"padding-left: 1em; padding-right: 1em; text-align: center; vertical-align: top\">0</td>\n",
       "        <td style=\"padding-left: 1em; padding-right: 1em; text-align: center; vertical-align: top\">0</td>\n",
       "    </tr>\n",
       "    <tr>\n",
       "        <td style=\"padding-left: 1em; padding-right: 1em; text-align: center; vertical-align: top\">0</td>\n",
       "        <td style=\"padding-left: 1em; padding-right: 1em; text-align: center; vertical-align: top\">0</td>\n",
       "        <td style=\"padding-left: 1em; padding-right: 1em; text-align: center; vertical-align: top\">0</td>\n",
       "        <td style=\"padding-left: 1em; padding-right: 1em; text-align: center; vertical-align: top\">0</td>\n",
       "        <td style=\"padding-left: 1em; padding-right: 1em; text-align: center; vertical-align: top\">0</td>\n",
       "        <td style=\"padding-left: 1em; padding-right: 1em; text-align: center; vertical-align: top\">0</td>\n",
       "        <td style=\"padding-left: 1em; padding-right: 1em; text-align: center; vertical-align: top\">0</td>\n",
       "    </tr>\n",
       "    <tr>\n",
       "        <td style=\"padding-left: 1em; padding-right: 1em; text-align: center; vertical-align: top\">0</td>\n",
       "        <td style=\"padding-left: 1em; padding-right: 1em; text-align: center; vertical-align: top\">0</td>\n",
       "        <td style=\"padding-left: 1em; padding-right: 1em; text-align: center; vertical-align: top\">0</td>\n",
       "        <td style=\"padding-left: 1em; padding-right: 1em; text-align: center; vertical-align: top\">0</td>\n",
       "        <td style=\"padding-left: 1em; padding-right: 1em; text-align: center; vertical-align: top\">0</td>\n",
       "        <td style=\"padding-left: 1em; padding-right: 1em; text-align: center; vertical-align: top\">0</td>\n",
       "        <td style=\"padding-left: 1em; padding-right: 1em; text-align: center; vertical-align: top\">0</td>\n",
       "    </tr>\n",
       "    <tr>\n",
       "        <td style=\"padding-left: 1em; padding-right: 1em; text-align: center; vertical-align: top\">0</td>\n",
       "        <td style=\"padding-left: 1em; padding-right: 1em; text-align: center; vertical-align: top\">0</td>\n",
       "        <td style=\"padding-left: 1em; padding-right: 1em; text-align: center; vertical-align: top\">0</td>\n",
       "        <td style=\"padding-left: 1em; padding-right: 1em; text-align: center; vertical-align: top\">0</td>\n",
       "        <td style=\"padding-left: 1em; padding-right: 1em; text-align: center; vertical-align: top\">0</td>\n",
       "        <td style=\"padding-left: 1em; padding-right: 1em; text-align: center; vertical-align: top\">0</td>\n",
       "        <td style=\"padding-left: 1em; padding-right: 1em; text-align: center; vertical-align: top\">0</td>\n",
       "    </tr>\n",
       "    <tr>\n",
       "        <td style=\"padding-left: 1em; padding-right: 1em; text-align: center; vertical-align: top\">0</td>\n",
       "        <td style=\"padding-left: 1em; padding-right: 1em; text-align: center; vertical-align: top\">0</td>\n",
       "        <td style=\"padding-left: 1em; padding-right: 1em; text-align: center; vertical-align: top\">0</td>\n",
       "        <td style=\"padding-left: 1em; padding-right: 1em; text-align: center; vertical-align: top\">0</td>\n",
       "        <td style=\"padding-left: 1em; padding-right: 1em; text-align: center; vertical-align: top\">0</td>\n",
       "        <td style=\"padding-left: 1em; padding-right: 1em; text-align: center; vertical-align: top\">0</td>\n",
       "        <td style=\"padding-left: 1em; padding-right: 1em; text-align: center; vertical-align: top\">0</td>\n",
       "    </tr>\n",
       "    <tr>\n",
       "        <td style=\"padding-left: 1em; padding-right: 1em; text-align: center; vertical-align: top\">0</td>\n",
       "        <td style=\"padding-left: 1em; padding-right: 1em; text-align: center; vertical-align: top\">0</td>\n",
       "        <td style=\"padding-left: 1em; padding-right: 1em; text-align: center; vertical-align: top\">0</td>\n",
       "        <td style=\"padding-left: 1em; padding-right: 1em; text-align: center; vertical-align: top\">0</td>\n",
       "        <td style=\"padding-left: 1em; padding-right: 1em; text-align: center; vertical-align: top\">0</td>\n",
       "        <td style=\"padding-left: 1em; padding-right: 1em; text-align: center; vertical-align: top\">0</td>\n",
       "        <td style=\"padding-left: 1em; padding-right: 1em; text-align: center; vertical-align: top\">0</td>\n",
       "    </tr>\n",
       "    <tr>\n",
       "        <td style=\"padding-left: 1em; padding-right: 1em; text-align: center; vertical-align: top\">0</td>\n",
       "        <td style=\"padding-left: 1em; padding-right: 1em; text-align: center; vertical-align: top\">0</td>\n",
       "        <td style=\"padding-left: 1em; padding-right: 1em; text-align: center; vertical-align: top\">0</td>\n",
       "        <td style=\"padding-left: 1em; padding-right: 1em; text-align: center; vertical-align: top\">0</td>\n",
       "        <td style=\"padding-left: 1em; padding-right: 1em; text-align: center; vertical-align: top\">0</td>\n",
       "        <td style=\"padding-left: 1em; padding-right: 1em; text-align: center; vertical-align: top\">0</td>\n",
       "        <td style=\"padding-left: 1em; padding-right: 1em; text-align: center; vertical-align: top\">0</td>\n",
       "    </tr>\n",
       "    <tr>\n",
       "        <td style=\"padding-left: 1em; padding-right: 1em; text-align: center; vertical-align: top\">1</td>\n",
       "        <td style=\"padding-left: 1em; padding-right: 1em; text-align: center; vertical-align: top\">0</td>\n",
       "        <td style=\"padding-left: 1em; padding-right: 1em; text-align: center; vertical-align: top\">0</td>\n",
       "        <td style=\"padding-left: 1em; padding-right: 1em; text-align: center; vertical-align: top\">0</td>\n",
       "        <td style=\"padding-left: 1em; padding-right: 1em; text-align: center; vertical-align: top\">0</td>\n",
       "        <td style=\"padding-left: 1em; padding-right: 1em; text-align: center; vertical-align: top\">0</td>\n",
       "        <td style=\"padding-left: 1em; padding-right: 1em; text-align: center; vertical-align: top\">0</td>\n",
       "    </tr>\n",
       "    <tr>\n",
       "        <td style=\"padding-left: 1em; padding-right: 1em; text-align: center; vertical-align: top\">1</td>\n",
       "        <td style=\"padding-left: 1em; padding-right: 1em; text-align: center; vertical-align: top\">0</td>\n",
       "        <td style=\"padding-left: 1em; padding-right: 1em; text-align: center; vertical-align: top\">0</td>\n",
       "        <td style=\"padding-left: 1em; padding-right: 1em; text-align: center; vertical-align: top\">0</td>\n",
       "        <td style=\"padding-left: 1em; padding-right: 1em; text-align: center; vertical-align: top\">0</td>\n",
       "        <td style=\"padding-left: 1em; padding-right: 1em; text-align: center; vertical-align: top\">0</td>\n",
       "        <td style=\"padding-left: 1em; padding-right: 1em; text-align: center; vertical-align: top\">0</td>\n",
       "    </tr>\n",
       "    <tr>\n",
       "        <td style=\"padding-left: 1em; padding-right: 1em; text-align: center; vertical-align: top\">0</td>\n",
       "        <td style=\"padding-left: 1em; padding-right: 1em; text-align: center; vertical-align: top\">0</td>\n",
       "        <td style=\"padding-left: 1em; padding-right: 1em; text-align: center; vertical-align: top\">0</td>\n",
       "        <td style=\"padding-left: 1em; padding-right: 1em; text-align: center; vertical-align: top\">1</td>\n",
       "        <td style=\"padding-left: 1em; padding-right: 1em; text-align: center; vertical-align: top\">0</td>\n",
       "        <td style=\"padding-left: 1em; padding-right: 1em; text-align: center; vertical-align: top\">0</td>\n",
       "        <td style=\"padding-left: 1em; padding-right: 1em; text-align: center; vertical-align: top\">0</td>\n",
       "    </tr>\n",
       "</table>\n",
       "<table frame=\"box\" rules=\"cols\">\n",
       "    <tr>\n",
       "        <th style=\"padding-left: 1em; padding-right: 1em; text-align: center\">Lawyer</th>\n",
       "        <th style=\"padding-left: 1em; padding-right: 1em; text-align: center\">Programmer</th>\n",
       "        <th style=\"padding-left: 1em; padding-right: 1em; text-align: center\">Retired</th>\n",
       "        <th style=\"padding-left: 1em; padding-right: 1em; text-align: center\">Sales/Marketing</th>\n",
       "        <th style=\"padding-left: 1em; padding-right: 1em; text-align: center\">Scientist</th>\n",
       "        <th style=\"padding-left: 1em; padding-right: 1em; text-align: center\">Self_Employed</th>\n",
       "        <th style=\"padding-left: 1em; padding-right: 1em; text-align: center\">Technician/Engineer</th>\n",
       "        <th style=\"padding-left: 1em; padding-right: 1em; text-align: center\">Tradesman/Craftsman</th>\n",
       "    </tr>\n",
       "    <tr>\n",
       "        <td style=\"padding-left: 1em; padding-right: 1em; text-align: center; vertical-align: top\">0</td>\n",
       "        <td style=\"padding-left: 1em; padding-right: 1em; text-align: center; vertical-align: top\">0</td>\n",
       "        <td style=\"padding-left: 1em; padding-right: 1em; text-align: center; vertical-align: top\">0</td>\n",
       "        <td style=\"padding-left: 1em; padding-right: 1em; text-align: center; vertical-align: top\">0</td>\n",
       "        <td style=\"padding-left: 1em; padding-right: 1em; text-align: center; vertical-align: top\">0</td>\n",
       "        <td style=\"padding-left: 1em; padding-right: 1em; text-align: center; vertical-align: top\">0</td>\n",
       "        <td style=\"padding-left: 1em; padding-right: 1em; text-align: center; vertical-align: top\">0</td>\n",
       "        <td style=\"padding-left: 1em; padding-right: 1em; text-align: center; vertical-align: top\">0</td>\n",
       "    </tr>\n",
       "    <tr>\n",
       "        <td style=\"padding-left: 1em; padding-right: 1em; text-align: center; vertical-align: top\">0</td>\n",
       "        <td style=\"padding-left: 1em; padding-right: 1em; text-align: center; vertical-align: top\">0</td>\n",
       "        <td style=\"padding-left: 1em; padding-right: 1em; text-align: center; vertical-align: top\">0</td>\n",
       "        <td style=\"padding-left: 1em; padding-right: 1em; text-align: center; vertical-align: top\">0</td>\n",
       "        <td style=\"padding-left: 1em; padding-right: 1em; text-align: center; vertical-align: top\">0</td>\n",
       "        <td style=\"padding-left: 1em; padding-right: 1em; text-align: center; vertical-align: top\">0</td>\n",
       "        <td style=\"padding-left: 1em; padding-right: 1em; text-align: center; vertical-align: top\">0</td>\n",
       "        <td style=\"padding-left: 1em; padding-right: 1em; text-align: center; vertical-align: top\">0</td>\n",
       "    </tr>\n",
       "    <tr>\n",
       "        <td style=\"padding-left: 1em; padding-right: 1em; text-align: center; vertical-align: top\">0</td>\n",
       "        <td style=\"padding-left: 1em; padding-right: 1em; text-align: center; vertical-align: top\">0</td>\n",
       "        <td style=\"padding-left: 1em; padding-right: 1em; text-align: center; vertical-align: top\">0</td>\n",
       "        <td style=\"padding-left: 1em; padding-right: 1em; text-align: center; vertical-align: top\">0</td>\n",
       "        <td style=\"padding-left: 1em; padding-right: 1em; text-align: center; vertical-align: top\">0</td>\n",
       "        <td style=\"padding-left: 1em; padding-right: 1em; text-align: center; vertical-align: top\">0</td>\n",
       "        <td style=\"padding-left: 1em; padding-right: 1em; text-align: center; vertical-align: top\">0</td>\n",
       "        <td style=\"padding-left: 1em; padding-right: 1em; text-align: center; vertical-align: top\">0</td>\n",
       "    </tr>\n",
       "    <tr>\n",
       "        <td style=\"padding-left: 1em; padding-right: 1em; text-align: center; vertical-align: top\">0</td>\n",
       "        <td style=\"padding-left: 1em; padding-right: 1em; text-align: center; vertical-align: top\">1</td>\n",
       "        <td style=\"padding-left: 1em; padding-right: 1em; text-align: center; vertical-align: top\">0</td>\n",
       "        <td style=\"padding-left: 1em; padding-right: 1em; text-align: center; vertical-align: top\">0</td>\n",
       "        <td style=\"padding-left: 1em; padding-right: 1em; text-align: center; vertical-align: top\">0</td>\n",
       "        <td style=\"padding-left: 1em; padding-right: 1em; text-align: center; vertical-align: top\">0</td>\n",
       "        <td style=\"padding-left: 1em; padding-right: 1em; text-align: center; vertical-align: top\">0</td>\n",
       "        <td style=\"padding-left: 1em; padding-right: 1em; text-align: center; vertical-align: top\">0</td>\n",
       "    </tr>\n",
       "    <tr>\n",
       "        <td style=\"padding-left: 1em; padding-right: 1em; text-align: center; vertical-align: top\">0</td>\n",
       "        <td style=\"padding-left: 1em; padding-right: 1em; text-align: center; vertical-align: top\">0</td>\n",
       "        <td style=\"padding-left: 1em; padding-right: 1em; text-align: center; vertical-align: top\">0</td>\n",
       "        <td style=\"padding-left: 1em; padding-right: 1em; text-align: center; vertical-align: top\">0</td>\n",
       "        <td style=\"padding-left: 1em; padding-right: 1em; text-align: center; vertical-align: top\">0</td>\n",
       "        <td style=\"padding-left: 1em; padding-right: 1em; text-align: center; vertical-align: top\">0</td>\n",
       "        <td style=\"padding-left: 1em; padding-right: 1em; text-align: center; vertical-align: top\">0</td>\n",
       "        <td style=\"padding-left: 1em; padding-right: 1em; text-align: center; vertical-align: top\">0</td>\n",
       "    </tr>\n",
       "    <tr>\n",
       "        <td style=\"padding-left: 1em; padding-right: 1em; text-align: center; vertical-align: top\">0</td>\n",
       "        <td style=\"padding-left: 1em; padding-right: 1em; text-align: center; vertical-align: top\">0</td>\n",
       "        <td style=\"padding-left: 1em; padding-right: 1em; text-align: center; vertical-align: top\">0</td>\n",
       "        <td style=\"padding-left: 1em; padding-right: 1em; text-align: center; vertical-align: top\">0</td>\n",
       "        <td style=\"padding-left: 1em; padding-right: 1em; text-align: center; vertical-align: top\">0</td>\n",
       "        <td style=\"padding-left: 1em; padding-right: 1em; text-align: center; vertical-align: top\">0</td>\n",
       "        <td style=\"padding-left: 1em; padding-right: 1em; text-align: center; vertical-align: top\">0</td>\n",
       "        <td style=\"padding-left: 1em; padding-right: 1em; text-align: center; vertical-align: top\">0</td>\n",
       "    </tr>\n",
       "    <tr>\n",
       "        <td style=\"padding-left: 1em; padding-right: 1em; text-align: center; vertical-align: top\">0</td>\n",
       "        <td style=\"padding-left: 1em; padding-right: 1em; text-align: center; vertical-align: top\">0</td>\n",
       "        <td style=\"padding-left: 1em; padding-right: 1em; text-align: center; vertical-align: top\">0</td>\n",
       "        <td style=\"padding-left: 1em; padding-right: 1em; text-align: center; vertical-align: top\">0</td>\n",
       "        <td style=\"padding-left: 1em; padding-right: 1em; text-align: center; vertical-align: top\">0</td>\n",
       "        <td style=\"padding-left: 1em; padding-right: 1em; text-align: center; vertical-align: top\">0</td>\n",
       "        <td style=\"padding-left: 1em; padding-right: 1em; text-align: center; vertical-align: top\">0</td>\n",
       "        <td style=\"padding-left: 1em; padding-right: 1em; text-align: center; vertical-align: top\">0</td>\n",
       "    </tr>\n",
       "    <tr>\n",
       "        <td style=\"padding-left: 1em; padding-right: 1em; text-align: center; vertical-align: top\">0</td>\n",
       "        <td style=\"padding-left: 1em; padding-right: 1em; text-align: center; vertical-align: top\">0</td>\n",
       "        <td style=\"padding-left: 1em; padding-right: 1em; text-align: center; vertical-align: top\">0</td>\n",
       "        <td style=\"padding-left: 1em; padding-right: 1em; text-align: center; vertical-align: top\">0</td>\n",
       "        <td style=\"padding-left: 1em; padding-right: 1em; text-align: center; vertical-align: top\">0</td>\n",
       "        <td style=\"padding-left: 1em; padding-right: 1em; text-align: center; vertical-align: top\">0</td>\n",
       "        <td style=\"padding-left: 1em; padding-right: 1em; text-align: center; vertical-align: top\">0</td>\n",
       "        <td style=\"padding-left: 1em; padding-right: 1em; text-align: center; vertical-align: top\">0</td>\n",
       "    </tr>\n",
       "    <tr>\n",
       "        <td style=\"padding-left: 1em; padding-right: 1em; text-align: center; vertical-align: top\">0</td>\n",
       "        <td style=\"padding-left: 1em; padding-right: 1em; text-align: center; vertical-align: top\">0</td>\n",
       "        <td style=\"padding-left: 1em; padding-right: 1em; text-align: center; vertical-align: top\">0</td>\n",
       "        <td style=\"padding-left: 1em; padding-right: 1em; text-align: center; vertical-align: top\">0</td>\n",
       "        <td style=\"padding-left: 1em; padding-right: 1em; text-align: center; vertical-align: top\">0</td>\n",
       "        <td style=\"padding-left: 1em; padding-right: 1em; text-align: center; vertical-align: top\">0</td>\n",
       "        <td style=\"padding-left: 1em; padding-right: 1em; text-align: center; vertical-align: top\">0</td>\n",
       "        <td style=\"padding-left: 1em; padding-right: 1em; text-align: center; vertical-align: top\">0</td>\n",
       "    </tr>\n",
       "    <tr>\n",
       "        <td style=\"padding-left: 1em; padding-right: 1em; text-align: center; vertical-align: top\">0</td>\n",
       "        <td style=\"padding-left: 1em; padding-right: 1em; text-align: center; vertical-align: top\">0</td>\n",
       "        <td style=\"padding-left: 1em; padding-right: 1em; text-align: center; vertical-align: top\">0</td>\n",
       "        <td style=\"padding-left: 1em; padding-right: 1em; text-align: center; vertical-align: top\">0</td>\n",
       "        <td style=\"padding-left: 1em; padding-right: 1em; text-align: center; vertical-align: top\">0</td>\n",
       "        <td style=\"padding-left: 1em; padding-right: 1em; text-align: center; vertical-align: top\">0</td>\n",
       "        <td style=\"padding-left: 1em; padding-right: 1em; text-align: center; vertical-align: top\">0</td>\n",
       "        <td style=\"padding-left: 1em; padding-right: 1em; text-align: center; vertical-align: top\">0</td>\n",
       "    </tr>\n",
       "</table>\n",
       "<table frame=\"box\" rules=\"cols\">\n",
       "    <tr>\n",
       "        <th style=\"padding-left: 1em; padding-right: 1em; text-align: center\">Unemployed</th>\n",
       "        <th style=\"padding-left: 1em; padding-right: 1em; text-align: center\">Writer</th>\n",
       "        <th style=\"padding-left: 1em; padding-right: 1em; text-align: center\">New_England</th>\n",
       "        <th style=\"padding-left: 1em; padding-right: 1em; text-align: center\">Northeast</th>\n",
       "        <th style=\"padding-left: 1em; padding-right: 1em; text-align: center\">Mid_Atlantic</th>\n",
       "        <th style=\"padding-left: 1em; padding-right: 1em; text-align: center\">Southeast</th>\n",
       "        <th style=\"padding-left: 1em; padding-right: 1em; text-align: center\">Eastern_Midwest</th>\n",
       "        <th style=\"padding-left: 1em; padding-right: 1em; text-align: center\">Upper_Midwest</th>\n",
       "        <th style=\"padding-left: 1em; padding-right: 1em; text-align: center\">Midwest</th>\n",
       "    </tr>\n",
       "    <tr>\n",
       "        <td style=\"padding-left: 1em; padding-right: 1em; text-align: center; vertical-align: top\">0</td>\n",
       "        <td style=\"padding-left: 1em; padding-right: 1em; text-align: center; vertical-align: top\">0</td>\n",
       "        <td style=\"padding-left: 1em; padding-right: 1em; text-align: center; vertical-align: top\">0</td>\n",
       "        <td style=\"padding-left: 1em; padding-right: 1em; text-align: center; vertical-align: top\">1</td>\n",
       "        <td style=\"padding-left: 1em; padding-right: 1em; text-align: center; vertical-align: top\">0</td>\n",
       "        <td style=\"padding-left: 1em; padding-right: 1em; text-align: center; vertical-align: top\">0</td>\n",
       "        <td style=\"padding-left: 1em; padding-right: 1em; text-align: center; vertical-align: top\">0</td>\n",
       "        <td style=\"padding-left: 1em; padding-right: 1em; text-align: center; vertical-align: top\">0</td>\n",
       "        <td style=\"padding-left: 1em; padding-right: 1em; text-align: center; vertical-align: top\">0</td>\n",
       "    </tr>\n",
       "    <tr>\n",
       "        <td style=\"padding-left: 1em; padding-right: 1em; text-align: center; vertical-align: top\">0</td>\n",
       "        <td style=\"padding-left: 1em; padding-right: 1em; text-align: center; vertical-align: top\">1</td>\n",
       "        <td style=\"padding-left: 1em; padding-right: 1em; text-align: center; vertical-align: top\">0</td>\n",
       "        <td style=\"padding-left: 1em; padding-right: 1em; text-align: center; vertical-align: top\">1</td>\n",
       "        <td style=\"padding-left: 1em; padding-right: 1em; text-align: center; vertical-align: top\">0</td>\n",
       "        <td style=\"padding-left: 1em; padding-right: 1em; text-align: center; vertical-align: top\">0</td>\n",
       "        <td style=\"padding-left: 1em; padding-right: 1em; text-align: center; vertical-align: top\">0</td>\n",
       "        <td style=\"padding-left: 1em; padding-right: 1em; text-align: center; vertical-align: top\">0</td>\n",
       "        <td style=\"padding-left: 1em; padding-right: 1em; text-align: center; vertical-align: top\">0</td>\n",
       "    </tr>\n",
       "    <tr>\n",
       "        <td style=\"padding-left: 1em; padding-right: 1em; text-align: center; vertical-align: top\">0</td>\n",
       "        <td style=\"padding-left: 1em; padding-right: 1em; text-align: center; vertical-align: top\">0</td>\n",
       "        <td style=\"padding-left: 1em; padding-right: 1em; text-align: center; vertical-align: top\">0</td>\n",
       "        <td style=\"padding-left: 1em; padding-right: 1em; text-align: center; vertical-align: top\">1</td>\n",
       "        <td style=\"padding-left: 1em; padding-right: 1em; text-align: center; vertical-align: top\">0</td>\n",
       "        <td style=\"padding-left: 1em; padding-right: 1em; text-align: center; vertical-align: top\">0</td>\n",
       "        <td style=\"padding-left: 1em; padding-right: 1em; text-align: center; vertical-align: top\">0</td>\n",
       "        <td style=\"padding-left: 1em; padding-right: 1em; text-align: center; vertical-align: top\">0</td>\n",
       "        <td style=\"padding-left: 1em; padding-right: 1em; text-align: center; vertical-align: top\">0</td>\n",
       "    </tr>\n",
       "    <tr>\n",
       "        <td style=\"padding-left: 1em; padding-right: 1em; text-align: center; vertical-align: top\">0</td>\n",
       "        <td style=\"padding-left: 1em; padding-right: 1em; text-align: center; vertical-align: top\">0</td>\n",
       "        <td style=\"padding-left: 1em; padding-right: 1em; text-align: center; vertical-align: top\">0</td>\n",
       "        <td style=\"padding-left: 1em; padding-right: 1em; text-align: center; vertical-align: top\">1</td>\n",
       "        <td style=\"padding-left: 1em; padding-right: 1em; text-align: center; vertical-align: top\">0</td>\n",
       "        <td style=\"padding-left: 1em; padding-right: 1em; text-align: center; vertical-align: top\">0</td>\n",
       "        <td style=\"padding-left: 1em; padding-right: 1em; text-align: center; vertical-align: top\">0</td>\n",
       "        <td style=\"padding-left: 1em; padding-right: 1em; text-align: center; vertical-align: top\">0</td>\n",
       "        <td style=\"padding-left: 1em; padding-right: 1em; text-align: center; vertical-align: top\">0</td>\n",
       "    </tr>\n",
       "    <tr>\n",
       "        <td style=\"padding-left: 1em; padding-right: 1em; text-align: center; vertical-align: top\">0</td>\n",
       "        <td style=\"padding-left: 1em; padding-right: 1em; text-align: center; vertical-align: top\">0</td>\n",
       "        <td style=\"padding-left: 1em; padding-right: 1em; text-align: center; vertical-align: top\">0</td>\n",
       "        <td style=\"padding-left: 1em; padding-right: 1em; text-align: center; vertical-align: top\">1</td>\n",
       "        <td style=\"padding-left: 1em; padding-right: 1em; text-align: center; vertical-align: top\">0</td>\n",
       "        <td style=\"padding-left: 1em; padding-right: 1em; text-align: center; vertical-align: top\">0</td>\n",
       "        <td style=\"padding-left: 1em; padding-right: 1em; text-align: center; vertical-align: top\">0</td>\n",
       "        <td style=\"padding-left: 1em; padding-right: 1em; text-align: center; vertical-align: top\">0</td>\n",
       "        <td style=\"padding-left: 1em; padding-right: 1em; text-align: center; vertical-align: top\">0</td>\n",
       "    </tr>\n",
       "    <tr>\n",
       "        <td style=\"padding-left: 1em; padding-right: 1em; text-align: center; vertical-align: top\">0</td>\n",
       "        <td style=\"padding-left: 1em; padding-right: 1em; text-align: center; vertical-align: top\">0</td>\n",
       "        <td style=\"padding-left: 1em; padding-right: 1em; text-align: center; vertical-align: top\">0</td>\n",
       "        <td style=\"padding-left: 1em; padding-right: 1em; text-align: center; vertical-align: top\">1</td>\n",
       "        <td style=\"padding-left: 1em; padding-right: 1em; text-align: center; vertical-align: top\">0</td>\n",
       "        <td style=\"padding-left: 1em; padding-right: 1em; text-align: center; vertical-align: top\">0</td>\n",
       "        <td style=\"padding-left: 1em; padding-right: 1em; text-align: center; vertical-align: top\">0</td>\n",
       "        <td style=\"padding-left: 1em; padding-right: 1em; text-align: center; vertical-align: top\">0</td>\n",
       "        <td style=\"padding-left: 1em; padding-right: 1em; text-align: center; vertical-align: top\">0</td>\n",
       "    </tr>\n",
       "    <tr>\n",
       "        <td style=\"padding-left: 1em; padding-right: 1em; text-align: center; vertical-align: top\">0</td>\n",
       "        <td style=\"padding-left: 1em; padding-right: 1em; text-align: center; vertical-align: top\">0</td>\n",
       "        <td style=\"padding-left: 1em; padding-right: 1em; text-align: center; vertical-align: top\">0</td>\n",
       "        <td style=\"padding-left: 1em; padding-right: 1em; text-align: center; vertical-align: top\">1</td>\n",
       "        <td style=\"padding-left: 1em; padding-right: 1em; text-align: center; vertical-align: top\">0</td>\n",
       "        <td style=\"padding-left: 1em; padding-right: 1em; text-align: center; vertical-align: top\">0</td>\n",
       "        <td style=\"padding-left: 1em; padding-right: 1em; text-align: center; vertical-align: top\">0</td>\n",
       "        <td style=\"padding-left: 1em; padding-right: 1em; text-align: center; vertical-align: top\">0</td>\n",
       "        <td style=\"padding-left: 1em; padding-right: 1em; text-align: center; vertical-align: top\">0</td>\n",
       "    </tr>\n",
       "    <tr>\n",
       "        <td style=\"padding-left: 1em; padding-right: 1em; text-align: center; vertical-align: top\">0</td>\n",
       "        <td style=\"padding-left: 1em; padding-right: 1em; text-align: center; vertical-align: top\">0</td>\n",
       "        <td style=\"padding-left: 1em; padding-right: 1em; text-align: center; vertical-align: top\">0</td>\n",
       "        <td style=\"padding-left: 1em; padding-right: 1em; text-align: center; vertical-align: top\">1</td>\n",
       "        <td style=\"padding-left: 1em; padding-right: 1em; text-align: center; vertical-align: top\">0</td>\n",
       "        <td style=\"padding-left: 1em; padding-right: 1em; text-align: center; vertical-align: top\">0</td>\n",
       "        <td style=\"padding-left: 1em; padding-right: 1em; text-align: center; vertical-align: top\">0</td>\n",
       "        <td style=\"padding-left: 1em; padding-right: 1em; text-align: center; vertical-align: top\">0</td>\n",
       "        <td style=\"padding-left: 1em; padding-right: 1em; text-align: center; vertical-align: top\">0</td>\n",
       "    </tr>\n",
       "    <tr>\n",
       "        <td style=\"padding-left: 1em; padding-right: 1em; text-align: center; vertical-align: top\">0</td>\n",
       "        <td style=\"padding-left: 1em; padding-right: 1em; text-align: center; vertical-align: top\">0</td>\n",
       "        <td style=\"padding-left: 1em; padding-right: 1em; text-align: center; vertical-align: top\">0</td>\n",
       "        <td style=\"padding-left: 1em; padding-right: 1em; text-align: center; vertical-align: top\">1</td>\n",
       "        <td style=\"padding-left: 1em; padding-right: 1em; text-align: center; vertical-align: top\">0</td>\n",
       "        <td style=\"padding-left: 1em; padding-right: 1em; text-align: center; vertical-align: top\">0</td>\n",
       "        <td style=\"padding-left: 1em; padding-right: 1em; text-align: center; vertical-align: top\">0</td>\n",
       "        <td style=\"padding-left: 1em; padding-right: 1em; text-align: center; vertical-align: top\">0</td>\n",
       "        <td style=\"padding-left: 1em; padding-right: 1em; text-align: center; vertical-align: top\">0</td>\n",
       "    </tr>\n",
       "    <tr>\n",
       "        <td style=\"padding-left: 1em; padding-right: 1em; text-align: center; vertical-align: top\">0</td>\n",
       "        <td style=\"padding-left: 1em; padding-right: 1em; text-align: center; vertical-align: top\">0</td>\n",
       "        <td style=\"padding-left: 1em; padding-right: 1em; text-align: center; vertical-align: top\">0</td>\n",
       "        <td style=\"padding-left: 1em; padding-right: 1em; text-align: center; vertical-align: top\">1</td>\n",
       "        <td style=\"padding-left: 1em; padding-right: 1em; text-align: center; vertical-align: top\">0</td>\n",
       "        <td style=\"padding-left: 1em; padding-right: 1em; text-align: center; vertical-align: top\">0</td>\n",
       "        <td style=\"padding-left: 1em; padding-right: 1em; text-align: center; vertical-align: top\">0</td>\n",
       "        <td style=\"padding-left: 1em; padding-right: 1em; text-align: center; vertical-align: top\">0</td>\n",
       "        <td style=\"padding-left: 1em; padding-right: 1em; text-align: center; vertical-align: top\">0</td>\n",
       "    </tr>\n",
       "</table>\n",
       "<table frame=\"box\" rules=\"cols\">\n",
       "    <tr>\n",
       "        <th style=\"padding-left: 1em; padding-right: 1em; text-align: center\">South_Central</th>\n",
       "        <th style=\"padding-left: 1em; padding-right: 1em; text-align: center\">Rocky_Mountain</th>\n",
       "        <th style=\"padding-left: 1em; padding-right: 1em; text-align: center\">...</th>\n",
       "    </tr>\n",
       "    <tr>\n",
       "        <td style=\"padding-left: 1em; padding-right: 1em; text-align: center; vertical-align: top\">0</td>\n",
       "        <td style=\"padding-left: 1em; padding-right: 1em; text-align: center; vertical-align: top\">0</td>\n",
       "        <td style=\"padding-left: 1em; padding-right: 1em; text-align: center; vertical-align: top\">...</td>\n",
       "    </tr>\n",
       "    <tr>\n",
       "        <td style=\"padding-left: 1em; padding-right: 1em; text-align: center; vertical-align: top\">0</td>\n",
       "        <td style=\"padding-left: 1em; padding-right: 1em; text-align: center; vertical-align: top\">0</td>\n",
       "        <td style=\"padding-left: 1em; padding-right: 1em; text-align: center; vertical-align: top\">...</td>\n",
       "    </tr>\n",
       "    <tr>\n",
       "        <td style=\"padding-left: 1em; padding-right: 1em; text-align: center; vertical-align: top\">0</td>\n",
       "        <td style=\"padding-left: 1em; padding-right: 1em; text-align: center; vertical-align: top\">0</td>\n",
       "        <td style=\"padding-left: 1em; padding-right: 1em; text-align: center; vertical-align: top\">...</td>\n",
       "    </tr>\n",
       "    <tr>\n",
       "        <td style=\"padding-left: 1em; padding-right: 1em; text-align: center; vertical-align: top\">0</td>\n",
       "        <td style=\"padding-left: 1em; padding-right: 1em; text-align: center; vertical-align: top\">0</td>\n",
       "        <td style=\"padding-left: 1em; padding-right: 1em; text-align: center; vertical-align: top\">...</td>\n",
       "    </tr>\n",
       "    <tr>\n",
       "        <td style=\"padding-left: 1em; padding-right: 1em; text-align: center; vertical-align: top\">0</td>\n",
       "        <td style=\"padding-left: 1em; padding-right: 1em; text-align: center; vertical-align: top\">0</td>\n",
       "        <td style=\"padding-left: 1em; padding-right: 1em; text-align: center; vertical-align: top\">...</td>\n",
       "    </tr>\n",
       "    <tr>\n",
       "        <td style=\"padding-left: 1em; padding-right: 1em; text-align: center; vertical-align: top\">0</td>\n",
       "        <td style=\"padding-left: 1em; padding-right: 1em; text-align: center; vertical-align: top\">0</td>\n",
       "        <td style=\"padding-left: 1em; padding-right: 1em; text-align: center; vertical-align: top\">...</td>\n",
       "    </tr>\n",
       "    <tr>\n",
       "        <td style=\"padding-left: 1em; padding-right: 1em; text-align: center; vertical-align: top\">0</td>\n",
       "        <td style=\"padding-left: 1em; padding-right: 1em; text-align: center; vertical-align: top\">0</td>\n",
       "        <td style=\"padding-left: 1em; padding-right: 1em; text-align: center; vertical-align: top\">...</td>\n",
       "    </tr>\n",
       "    <tr>\n",
       "        <td style=\"padding-left: 1em; padding-right: 1em; text-align: center; vertical-align: top\">0</td>\n",
       "        <td style=\"padding-left: 1em; padding-right: 1em; text-align: center; vertical-align: top\">0</td>\n",
       "        <td style=\"padding-left: 1em; padding-right: 1em; text-align: center; vertical-align: top\">...</td>\n",
       "    </tr>\n",
       "    <tr>\n",
       "        <td style=\"padding-left: 1em; padding-right: 1em; text-align: center; vertical-align: top\">0</td>\n",
       "        <td style=\"padding-left: 1em; padding-right: 1em; text-align: center; vertical-align: top\">0</td>\n",
       "        <td style=\"padding-left: 1em; padding-right: 1em; text-align: center; vertical-align: top\">...</td>\n",
       "    </tr>\n",
       "    <tr>\n",
       "        <td style=\"padding-left: 1em; padding-right: 1em; text-align: center; vertical-align: top\">0</td>\n",
       "        <td style=\"padding-left: 1em; padding-right: 1em; text-align: center; vertical-align: top\">0</td>\n",
       "        <td style=\"padding-left: 1em; padding-right: 1em; text-align: center; vertical-align: top\">...</td>\n",
       "    </tr>\n",
       "</table>\n",
       "[10 rows x 41 columns]<br/>\n",
       "</div>"
      ],
      "text/plain": [
       "Columns:\n",
       "\tuser\tint\n",
       "\tF\tint\n",
       "\tM\tint\n",
       "\tUnder_18\tint\n",
       "\t18-24\tint\n",
       "\t25-34\tint\n",
       "\t35-44\tint\n",
       "\t45-49\tint\n",
       "\t50-55\tint\n",
       "\tOver_56\tint\n",
       "\tOther\tint\n",
       "\tAcademic/Educator\tint\n",
       "\tArtist\tint\n",
       "\tClerical/Admin\tint\n",
       "\tCollege/Grad_Student\tint\n",
       "\tCustomer_Service\tint\n",
       "\tDoctor/Health_Care\tint\n",
       "\tExecutive/Managerial\tint\n",
       "\tFarmer\tint\n",
       "\tHomemaker\tint\n",
       "\tK-12_Student\tint\n",
       "\tLawyer\tint\n",
       "\tProgrammer\tint\n",
       "\tRetired\tint\n",
       "\tSales/Marketing\tint\n",
       "\tScientist\tint\n",
       "\tSelf_Employed\tint\n",
       "\tTechnician/Engineer\tint\n",
       "\tTradesman/Craftsman\tint\n",
       "\tUnemployed\tint\n",
       "\tWriter\tint\n",
       "\tNew_England\tint\n",
       "\tNortheast\tint\n",
       "\tMid_Atlantic\tint\n",
       "\tSoutheast\tint\n",
       "\tEastern_Midwest\tint\n",
       "\tUpper_Midwest\tint\n",
       "\tMidwest\tint\n",
       "\tSouth_Central\tint\n",
       "\tRocky_Mountain\tint\n",
       "\tPacific\tint\n",
       "\n",
       "Rows: 10\n",
       "\n",
       "Data:\n",
       "+------+---+---+----------+-------+-------+-------+-------+-------+---------+-------+\n",
       "| user | F | M | Under_18 | 18-24 | 25-34 | 35-44 | 45-49 | 50-55 | Over_56 | Other |\n",
       "+------+---+---+----------+-------+-------+-------+-------+-------+---------+-------+\n",
       "| 5454 | 0 | 1 |    0     |   0   |   0   |   1   |   0   |   0   |    0    |   0   |\n",
       "| 1256 | 0 | 1 |    0     |   0   |   1   |   0   |   0   |   0   |    0    |   0   |\n",
       "| 1517 | 0 | 1 |    0     |   1   |   0   |   0   |   0   |   0   |    0    |   1   |\n",
       "| 1597 | 0 | 1 |    0     |   0   |   1   |   0   |   0   |   0   |    0    |   0   |\n",
       "| 1845 | 0 | 1 |    0     |   0   |   1   |   0   |   0   |   0   |    0    |   0   |\n",
       "| 3110 | 0 | 1 |    0     |   0   |   1   |   0   |   0   |   0   |    0    |   1   |\n",
       "| 283  | 0 | 1 |    0     |   0   |   1   |   0   |   0   |   0   |    0    |   1   |\n",
       "| 1581 | 1 | 0 |    0     |   1   |   0   |   0   |   0   |   0   |    0    |   0   |\n",
       "| 1629 | 0 | 1 |    0     |   1   |   0   |   0   |   0   |   0   |    0    |   0   |\n",
       "| 2822 | 0 | 1 |    0     |   0   |   0   |   0   |   0   |   1   |    0    |   0   |\n",
       "+------+---+---+----------+-------+-------+-------+-------+-------+---------+-------+\n",
       "+-------------------+--------+----------------+----------------------+------------------+\n",
       "| Academic/Educator | Artist | Clerical/Admin | College/Grad_Student | Customer_Service |\n",
       "+-------------------+--------+----------------+----------------------+------------------+\n",
       "|         0         |   0    |       0        |          0           |        0         |\n",
       "|         0         |   0    |       0        |          0           |        0         |\n",
       "|         0         |   0    |       0        |          0           |        0         |\n",
       "|         0         |   0    |       0        |          0           |        0         |\n",
       "|         0         |   1    |       0        |          0           |        0         |\n",
       "|         0         |   0    |       0        |          0           |        0         |\n",
       "|         0         |   0    |       0        |          0           |        0         |\n",
       "|         0         |   0    |       0        |          1           |        0         |\n",
       "|         0         |   0    |       0        |          1           |        0         |\n",
       "|         0         |   0    |       0        |          0           |        0         |\n",
       "+-------------------+--------+----------------+----------------------+------------------+\n",
       "+--------------------+----------------------+--------+-----------+-----+\n",
       "| Doctor/Health_Care | Executive/Managerial | Farmer | Homemaker | ... |\n",
       "+--------------------+----------------------+--------+-----------+-----+\n",
       "|         0          |          1           |   0    |     0     | ... |\n",
       "|         0          |          0           |   0    |     0     | ... |\n",
       "|         0          |          0           |   0    |     0     | ... |\n",
       "|         0          |          0           |   0    |     0     | ... |\n",
       "|         0          |          0           |   0    |     0     | ... |\n",
       "|         0          |          0           |   0    |     0     | ... |\n",
       "|         0          |          0           |   0    |     0     | ... |\n",
       "|         0          |          0           |   0    |     0     | ... |\n",
       "|         0          |          0           |   0    |     0     | ... |\n",
       "|         0          |          1           |   0    |     0     | ... |\n",
       "+--------------------+----------------------+--------+-----------+-----+\n",
       "[10 rows x 41 columns]"
      ]
     },
     "execution_count": 899,
     "metadata": {},
     "output_type": "execute_result"
    }
   ],
   "source": [
    "users.head()"
   ]
  },
  {
   "cell_type": "markdown",
   "metadata": {},
   "source": [
    "We will  create a holdout set for cross validation of the data set to see what model and model parameters actually generalize well with out dataset. That also means we need a set of evaluation criteria. The first and very common measuer is the root mean squared error, RMSE. It takes into account the difference between the predicted rating and the actual rating of items. \n",
    "\n",
    "RMSE can be calculated in a number of different aggregated ways (i.e., splits and aggregation). Some ways include:\n",
    "    - Calculating the average RMSE of every entry in the dataset. \n",
    "    - Calculating the average RMSE for each user.\n",
    "    - Calculating the average RMSE for each item.\n",
    "\n",
    "So let's now create a holdout set and see if we can judge the RMSE on a per-item and per-user basis to find the best model for our recommender system."
   ]
  },
  {
   "cell_type": "code",
   "execution_count": 1070,
   "metadata": {
    "collapsed": false
   },
   "outputs": [],
   "source": [
    "train, test = gl.recommender.util.random_split_by_user(data,\n",
    "                                                    user_id=\"user\", item_id=\"movie\",\n",
    "                                                    max_num_users=100, item_test_proportion=0.2)"
   ]
  },
  {
   "cell_type": "markdown",
   "metadata": {},
   "source": [
    "### Model 0: Item-Item Collaborative Filtering Recommender System\n",
    "\n",
    "Now let's look at creating the item-item similarity matrix. That is, for each item, what are the top closest items based upon user ratings."
   ]
  },
  {
   "cell_type": "code",
   "execution_count": 1071,
   "metadata": {
    "collapsed": false
   },
   "outputs": [
    {
     "data": {
      "text/html": [
       "<pre>Recsys training: model = item_similarity</pre>"
      ],
      "text/plain": [
       "Recsys training: model = item_similarity"
      ]
     },
     "metadata": {},
     "output_type": "display_data"
    },
    {
     "data": {
      "text/html": [
       "<pre>Warning: Ignoring columns rating_id, movie_ID, genre;</pre>"
      ],
      "text/plain": [
       "Warning: Ignoring columns rating_id, movie_ID, genre;"
      ]
     },
     "metadata": {},
     "output_type": "display_data"
    },
    {
     "data": {
      "text/html": [
       "<pre>    To use these columns in scoring predictions, use a model that allows the use of additional features.</pre>"
      ],
      "text/plain": [
       "    To use these columns in scoring predictions, use a model that allows the use of additional features."
      ]
     },
     "metadata": {},
     "output_type": "display_data"
    },
    {
     "data": {
      "text/html": [
       "<pre>Preparing data set.</pre>"
      ],
      "text/plain": [
       "Preparing data set."
      ]
     },
     "metadata": {},
     "output_type": "display_data"
    },
    {
     "data": {
      "text/html": [
       "<pre>    Data has 933461 observations with 6040 users and 3732 items.</pre>"
      ],
      "text/plain": [
       "    Data has 933461 observations with 6040 users and 3732 items."
      ]
     },
     "metadata": {},
     "output_type": "display_data"
    },
    {
     "data": {
      "text/html": [
       "<pre>    Data prepared in: 1.31852s</pre>"
      ],
      "text/plain": [
       "    Data prepared in: 1.31852s"
      ]
     },
     "metadata": {},
     "output_type": "display_data"
    },
    {
     "data": {
      "text/html": [
       "<pre>Training model from provided data.</pre>"
      ],
      "text/plain": [
       "Training model from provided data."
      ]
     },
     "metadata": {},
     "output_type": "display_data"
    },
    {
     "data": {
      "text/html": [
       "<pre>Gathering per-item and per-user statistics.</pre>"
      ],
      "text/plain": [
       "Gathering per-item and per-user statistics."
      ]
     },
     "metadata": {},
     "output_type": "display_data"
    },
    {
     "data": {
      "text/html": [
       "<pre>+--------------------------------+------------+</pre>"
      ],
      "text/plain": [
       "+--------------------------------+------------+"
      ]
     },
     "metadata": {},
     "output_type": "display_data"
    },
    {
     "data": {
      "text/html": [
       "<pre>| Elapsed Time (Item Statistics) | % Complete |</pre>"
      ],
      "text/plain": [
       "| Elapsed Time (Item Statistics) | % Complete |"
      ]
     },
     "metadata": {},
     "output_type": "display_data"
    },
    {
     "data": {
      "text/html": [
       "<pre>+--------------------------------+------------+</pre>"
      ],
      "text/plain": [
       "+--------------------------------+------------+"
      ]
     },
     "metadata": {},
     "output_type": "display_data"
    },
    {
     "data": {
      "text/html": [
       "<pre>| 7.02ms                         | 16.5       |</pre>"
      ],
      "text/plain": [
       "| 7.02ms                         | 16.5       |"
      ]
     },
     "metadata": {},
     "output_type": "display_data"
    },
    {
     "data": {
      "text/html": [
       "<pre>| 45.12ms                        | 100        |</pre>"
      ],
      "text/plain": [
       "| 45.12ms                        | 100        |"
      ]
     },
     "metadata": {},
     "output_type": "display_data"
    },
    {
     "data": {
      "text/html": [
       "<pre>+--------------------------------+------------+</pre>"
      ],
      "text/plain": [
       "+--------------------------------+------------+"
      ]
     },
     "metadata": {},
     "output_type": "display_data"
    },
    {
     "data": {
      "text/html": [
       "<pre>Setting up lookup tables.</pre>"
      ],
      "text/plain": [
       "Setting up lookup tables."
      ]
     },
     "metadata": {},
     "output_type": "display_data"
    },
    {
     "data": {
      "text/html": [
       "<pre>Processing data in one pass using dense lookup tables.</pre>"
      ],
      "text/plain": [
       "Processing data in one pass using dense lookup tables."
      ]
     },
     "metadata": {},
     "output_type": "display_data"
    },
    {
     "data": {
      "text/html": [
       "<pre>+-------------------------------------+------------------+-----------------+</pre>"
      ],
      "text/plain": [
       "+-------------------------------------+------------------+-----------------+"
      ]
     },
     "metadata": {},
     "output_type": "display_data"
    },
    {
     "data": {
      "text/html": [
       "<pre>| Elapsed Time (Constructing Lookups) | Total % Complete | Items Processed |</pre>"
      ],
      "text/plain": [
       "| Elapsed Time (Constructing Lookups) | Total % Complete | Items Processed |"
      ]
     },
     "metadata": {},
     "output_type": "display_data"
    },
    {
     "data": {
      "text/html": [
       "<pre>+-------------------------------------+------------------+-----------------+</pre>"
      ],
      "text/plain": [
       "+-------------------------------------+------------------+-----------------+"
      ]
     },
     "metadata": {},
     "output_type": "display_data"
    },
    {
     "data": {
      "text/html": [
       "<pre>| 67.68ms                             | 0                | 0               |</pre>"
      ],
      "text/plain": [
       "| 67.68ms                             | 0                | 0               |"
      ]
     },
     "metadata": {},
     "output_type": "display_data"
    },
    {
     "data": {
      "text/html": [
       "<pre>| 1.06s                               | 57.25            | 2140            |</pre>"
      ],
      "text/plain": [
       "| 1.06s                               | 57.25            | 2140            |"
      ]
     },
     "metadata": {},
     "output_type": "display_data"
    },
    {
     "data": {
      "text/html": [
       "<pre>| 1.88s                               | 100              | 3732            |</pre>"
      ],
      "text/plain": [
       "| 1.88s                               | 100              | 3732            |"
      ]
     },
     "metadata": {},
     "output_type": "display_data"
    },
    {
     "data": {
      "text/html": [
       "<pre>+-------------------------------------+------------------+-----------------+</pre>"
      ],
      "text/plain": [
       "+-------------------------------------+------------------+-----------------+"
      ]
     },
     "metadata": {},
     "output_type": "display_data"
    },
    {
     "data": {
      "text/html": [
       "<pre>Finalizing lookup tables.</pre>"
      ],
      "text/plain": [
       "Finalizing lookup tables."
      ]
     },
     "metadata": {},
     "output_type": "display_data"
    },
    {
     "data": {
      "text/html": [
       "<pre>Generating candidate set for working with new users.</pre>"
      ],
      "text/plain": [
       "Generating candidate set for working with new users."
      ]
     },
     "metadata": {},
     "output_type": "display_data"
    },
    {
     "data": {
      "text/html": [
       "<pre>Finished training in 2.17452s</pre>"
      ],
      "text/plain": [
       "Finished training in 2.17452s"
      ]
     },
     "metadata": {},
     "output_type": "display_data"
    },
    {
     "name": "stdout",
     "output_type": "stream",
     "text": [
      "\n",
      "Precision and recall summary statistics by cutoff\n",
      "+--------+----------------+-----------------+\n",
      "| cutoff | mean_precision |   mean_recall   |\n",
      "+--------+----------------+-----------------+\n",
      "|   1    |      0.38      | 0.0232623326535 |\n",
      "|   2    |      0.36      | 0.0406010643261 |\n",
      "|   3    | 0.363333333333 | 0.0545103788212 |\n",
      "|   4    |     0.335      | 0.0638115648336 |\n",
      "|   5    |     0.324      | 0.0819640068196 |\n",
      "|   6    |     0.315      | 0.0947756968356 |\n",
      "|   7    | 0.308571428571 |  0.104038119814 |\n",
      "|   8    |      0.3       |  0.111740387834 |\n",
      "|   9    | 0.292222222222 |  0.119455292686 |\n",
      "|   10   |      0.28      |  0.126099223734 |\n",
      "+--------+----------------+-----------------+\n",
      "[10 rows x 3 columns]\n",
      "\n",
      "('\\nOverall RMSE: ', 3.7839137766989275)\n",
      "\n",
      "Per User RMSE (best)\n",
      "+------+-------+---------------+\n",
      "| user | count |      rmse     |\n",
      "+------+-------+---------------+\n",
      "| 5243 |   2   | 2.23125476292 |\n",
      "+------+-------+---------------+\n",
      "[1 rows x 3 columns]\n",
      "\n",
      "\n",
      "Per User RMSE (worst)\n",
      "+------+-------+---------------+\n",
      "| user | count |      rmse     |\n",
      "+------+-------+---------------+\n",
      "| 1423 |   10  | 4.75761835419 |\n",
      "+------+-------+---------------+\n",
      "[1 rows x 3 columns]\n",
      "\n",
      "\n",
      "Per Item RMSE (best)\n",
      "+--------------------+-------+----------------+\n",
      "|       movie        | count |      rmse      |\n",
      "+--------------------+-------+----------------+\n",
      "| Judge Dredd (1995) |   1   | 0.869982650694 |\n",
      "+--------------------+-------+----------------+\n",
      "[1 rows x 3 columns]\n",
      "\n",
      "\n",
      "Per Item RMSE (worst)\n",
      "+-----------------------------+-------+------+\n",
      "|            movie            | count | rmse |\n",
      "+-----------------------------+-------+------+\n",
      "| Raisin in the Sun, A (1961) |   1   | 5.0  |\n",
      "+-----------------------------+-------+------+\n",
      "[1 rows x 3 columns]\n",
      "\n"
     ]
    }
   ],
   "source": [
    "from IPython.display import display\n",
    "from IPython.display import Image\n",
    "\n",
    "gl.canvas.set_target('ipynb')\n",
    "\n",
    "\n",
    "item_item = gl.recommender.item_similarity_recommender.create(train, \n",
    "                                  user_id=\"user\", \n",
    "                                  item_id=\"movie\", \n",
    "                                  target=\"rating\",\n",
    "                                  item_data=genre,\n",
    "                                  user_data=users,\n",
    "                                  only_top_k=5,\n",
    "                                  similarity_type=\"cosine\")\n",
    "\n",
    "rmse_results = item_item.evaluate(test)"
   ]
  },
  {
   "cell_type": "markdown",
   "metadata": {},
   "source": [
    "##### Below is the RMSE for each item in the dataset. \n",
    "\n",
    "- None of these movies with the item-item model have a particularly good RMSE, suggesting this model may not be effective for this dataset. "
   ]
  },
  {
   "cell_type": "code",
   "execution_count": 1072,
   "metadata": {
    "collapsed": false
   },
   "outputs": [
    {
     "name": "stdout",
     "output_type": "stream",
     "text": [
      "dict_keys(['rmse_by_user', 'precision_recall_overall', 'rmse_by_item', 'precision_recall_by_user', 'rmse_overall'])\n",
      "+-------------------------------+-------+---------------+\n",
      "|             movie             | count |      rmse     |\n",
      "+-------------------------------+-------+---------------+\n",
      "|    Parent Trap, The (1998)    |   1   | 3.98038202922 |\n",
      "|        Sneakers (1992)        |   4   | 3.77281409661 |\n",
      "| Much Ado About Nothing (1993) |   5   | 4.46920605518 |\n",
      "|          X-Men (2000)         |   7   | 3.76275911101 |\n",
      "|       Dead Again (1991)       |   2   | 3.80788655293 |\n",
      "| Truth About Cats & Dogs, T... |   2   | 3.53206204568 |\n",
      "|    On the Waterfront (1954)   |   2   | 4.96185035326 |\n",
      "|      Men With Guns (1997)     |   1   |      3.0      |\n",
      "|    Ruby in Paradise (1993)    |   2   | 4.52566827987 |\n",
      "|  Raisin in the Sun, A (1961)  |   1   |      5.0      |\n",
      "+-------------------------------+-------+---------------+\n",
      "[1333 rows x 3 columns]\n",
      "Note: Only the head of the SFrame is printed.\n",
      "You can use print_rows(num_rows=m, num_columns=n) to print more rows and columns.\n"
     ]
    }
   ],
   "source": [
    "print rmse_results.viewkeys()\n",
    "print rmse_results['rmse_by_item']"
   ]
  },
  {
   "cell_type": "markdown",
   "metadata": {},
   "source": [
    "##### Below is the RMSE for each user in the dataset. \n",
    "\n",
    "- None of these users have a particularly good RMSE in the item-item model, providing further evidence that this is not  a good model for this dataset. "
   ]
  },
  {
   "cell_type": "code",
   "execution_count": 1074,
   "metadata": {
    "collapsed": false
   },
   "outputs": [
    {
     "data": {
      "text/html": [
       "<div style=\"max-height:1000px;max-width:1500px;overflow:auto;\"><table frame=\"box\" rules=\"cols\">\n",
       "    <tr>\n",
       "        <th style=\"padding-left: 1em; padding-right: 1em; text-align: center\">user</th>\n",
       "        <th style=\"padding-left: 1em; padding-right: 1em; text-align: center\">count</th>\n",
       "        <th style=\"padding-left: 1em; padding-right: 1em; text-align: center\">rmse</th>\n",
       "    </tr>\n",
       "    <tr>\n",
       "        <td style=\"padding-left: 1em; padding-right: 1em; text-align: center; vertical-align: top\">5021</td>\n",
       "        <td style=\"padding-left: 1em; padding-right: 1em; text-align: center; vertical-align: top\">39</td>\n",
       "        <td style=\"padding-left: 1em; padding-right: 1em; text-align: center; vertical-align: top\">3.78303102169</td>\n",
       "    </tr>\n",
       "    <tr>\n",
       "        <td style=\"padding-left: 1em; padding-right: 1em; text-align: center; vertical-align: top\">5893</td>\n",
       "        <td style=\"padding-left: 1em; padding-right: 1em; text-align: center; vertical-align: top\">22</td>\n",
       "        <td style=\"padding-left: 1em; padding-right: 1em; text-align: center; vertical-align: top\">3.8435170185</td>\n",
       "    </tr>\n",
       "    <tr>\n",
       "        <td style=\"padding-left: 1em; padding-right: 1em; text-align: center; vertical-align: top\">696</td>\n",
       "        <td style=\"padding-left: 1em; padding-right: 1em; text-align: center; vertical-align: top\">76</td>\n",
       "        <td style=\"padding-left: 1em; padding-right: 1em; text-align: center; vertical-align: top\">3.92603235454</td>\n",
       "    </tr>\n",
       "    <tr>\n",
       "        <td style=\"padding-left: 1em; padding-right: 1em; text-align: center; vertical-align: top\">578</td>\n",
       "        <td style=\"padding-left: 1em; padding-right: 1em; text-align: center; vertical-align: top\">5</td>\n",
       "        <td style=\"padding-left: 1em; padding-right: 1em; text-align: center; vertical-align: top\">4.23189077588</td>\n",
       "    </tr>\n",
       "    <tr>\n",
       "        <td style=\"padding-left: 1em; padding-right: 1em; text-align: center; vertical-align: top\">521</td>\n",
       "        <td style=\"padding-left: 1em; padding-right: 1em; text-align: center; vertical-align: top\">7</td>\n",
       "        <td style=\"padding-left: 1em; padding-right: 1em; text-align: center; vertical-align: top\">3.91303737913</td>\n",
       "    </tr>\n",
       "    <tr>\n",
       "        <td style=\"padding-left: 1em; padding-right: 1em; text-align: center; vertical-align: top\">5511</td>\n",
       "        <td style=\"padding-left: 1em; padding-right: 1em; text-align: center; vertical-align: top\">145</td>\n",
       "        <td style=\"padding-left: 1em; padding-right: 1em; text-align: center; vertical-align: top\">4.2847328094</td>\n",
       "    </tr>\n",
       "    <tr>\n",
       "        <td style=\"padding-left: 1em; padding-right: 1em; text-align: center; vertical-align: top\">1337</td>\n",
       "        <td style=\"padding-left: 1em; padding-right: 1em; text-align: center; vertical-align: top\">18</td>\n",
       "        <td style=\"padding-left: 1em; padding-right: 1em; text-align: center; vertical-align: top\">3.92031527637</td>\n",
       "    </tr>\n",
       "    <tr>\n",
       "        <td style=\"padding-left: 1em; padding-right: 1em; text-align: center; vertical-align: top\">4008</td>\n",
       "        <td style=\"padding-left: 1em; padding-right: 1em; text-align: center; vertical-align: top\">3</td>\n",
       "        <td style=\"padding-left: 1em; padding-right: 1em; text-align: center; vertical-align: top\">3.56952372712</td>\n",
       "    </tr>\n",
       "    <tr>\n",
       "        <td style=\"padding-left: 1em; padding-right: 1em; text-align: center; vertical-align: top\">4367</td>\n",
       "        <td style=\"padding-left: 1em; padding-right: 1em; text-align: center; vertical-align: top\">23</td>\n",
       "        <td style=\"padding-left: 1em; padding-right: 1em; text-align: center; vertical-align: top\">3.69875806778</td>\n",
       "    </tr>\n",
       "    <tr>\n",
       "        <td style=\"padding-left: 1em; padding-right: 1em; text-align: center; vertical-align: top\">852</td>\n",
       "        <td style=\"padding-left: 1em; padding-right: 1em; text-align: center; vertical-align: top\">7</td>\n",
       "        <td style=\"padding-left: 1em; padding-right: 1em; text-align: center; vertical-align: top\">3.93437795347</td>\n",
       "    </tr>\n",
       "</table>\n",
       "[100 rows x 3 columns]<br/>Note: Only the head of the SFrame is printed.<br/>You can use print_rows(num_rows=m, num_columns=n) to print more rows and columns.\n",
       "</div>"
      ],
      "text/plain": [
       "Columns:\n",
       "\tuser\tint\n",
       "\tcount\tint\n",
       "\trmse\tfloat\n",
       "\n",
       "Rows: 100\n",
       "\n",
       "Data:\n",
       "+------+-------+---------------+\n",
       "| user | count |      rmse     |\n",
       "+------+-------+---------------+\n",
       "| 5021 |   39  | 3.78303102169 |\n",
       "| 5893 |   22  |  3.8435170185 |\n",
       "| 696  |   76  | 3.92603235454 |\n",
       "| 578  |   5   | 4.23189077588 |\n",
       "| 521  |   7   | 3.91303737913 |\n",
       "| 5511 |  145  |  4.2847328094 |\n",
       "| 1337 |   18  | 3.92031527637 |\n",
       "| 4008 |   3   | 3.56952372712 |\n",
       "| 4367 |   23  | 3.69875806778 |\n",
       "| 852  |   7   | 3.93437795347 |\n",
       "+------+-------+---------------+\n",
       "[100 rows x 3 columns]\n",
       "Note: Only the head of the SFrame is printed.\n",
       "You can use print_rows(num_rows=m, num_columns=n) to print more rows and columns."
      ]
     },
     "execution_count": 1074,
     "metadata": {},
     "output_type": "execute_result"
    }
   ],
   "source": [
    "rmse_results['rmse_by_user']"
   ]
  },
  {
   "cell_type": "markdown",
   "metadata": {},
   "source": [
    "#### Recall and Precision\n",
    "\n",
    "Another evaluation criterion is the per-user-recall or the per-user-precision. These are typically smaller values because they require users with a large number of ratings. The idea behind them is that, given a number of highly rated items for a user, how many of them did my model also recommend. \n",
    "\n",
    "This is inherently difficult to calculate because the user has not rated every item in the dataset---we may have found 10 items that the user would have chosen and rated highly, but if the user never rated them, we can't be sure how good we are recommending them. \n",
    "\n",
    "Even still, its a good measure of how well you are rating the items that are most important to the user (assuming the user rated items they had strong opinions about). Its not perfect, but its the best we have to work with.\n",
    "\n",
    "The per-user-recall relates to the idea \"of all the items rated positively by the user, how many did your recommender find?\"\n",
    "\n",
    "The per-user-precision relates to the idea \"of the k items found by your recommender, how many were rated positively by the user?\"\n",
    "\n",
    "___\n",
    "Recall and precision work best in a binary classification data set (i.e. Thumbs up / Thumbs Down), where there is only one prediction.\n",
    "\n",
    "#####  RMSE works best when predicting a value amongst a range of continous values. Since our ratings in the MovieLens dataset are on continuous scale, RMSE is the measure used to identify the best model for the recommender system."
   ]
  },
  {
   "cell_type": "markdown",
   "metadata": {},
   "source": [
    "### Model 1: User-Item Ranking Factorization Without Tuning"
   ]
  },
  {
   "cell_type": "code",
   "execution_count": 1077,
   "metadata": {
    "collapsed": false
   },
   "outputs": [
    {
     "data": {
      "text/html": [
       "<pre>Recsys training: model = ranking_factorization_recommender</pre>"
      ],
      "text/plain": [
       "Recsys training: model = ranking_factorization_recommender"
      ]
     },
     "metadata": {},
     "output_type": "display_data"
    },
    {
     "data": {
      "text/html": [
       "<pre>Preparing data set.</pre>"
      ],
      "text/plain": [
       "Preparing data set."
      ]
     },
     "metadata": {},
     "output_type": "display_data"
    },
    {
     "data": {
      "text/html": [
       "<pre>    Data has 933461 observations with 6040 users and 3732 items.</pre>"
      ],
      "text/plain": [
       "    Data has 933461 observations with 6040 users and 3732 items."
      ]
     },
     "metadata": {},
     "output_type": "display_data"
    },
    {
     "data": {
      "text/html": [
       "<pre>    Data prepared in: 1.8255s</pre>"
      ],
      "text/plain": [
       "    Data prepared in: 1.8255s"
      ]
     },
     "metadata": {},
     "output_type": "display_data"
    },
    {
     "data": {
      "text/html": [
       "<pre>Training ranking_factorization_recommender for recommendations.</pre>"
      ],
      "text/plain": [
       "Training ranking_factorization_recommender for recommendations."
      ]
     },
     "metadata": {},
     "output_type": "display_data"
    },
    {
     "data": {
      "text/html": [
       "<pre>+--------------------------------+--------------------------------------------------+----------+</pre>"
      ],
      "text/plain": [
       "+--------------------------------+--------------------------------------------------+----------+"
      ]
     },
     "metadata": {},
     "output_type": "display_data"
    },
    {
     "data": {
      "text/html": [
       "<pre>| Parameter                      | Description                                      | Value    |</pre>"
      ],
      "text/plain": [
       "| Parameter                      | Description                                      | Value    |"
      ]
     },
     "metadata": {},
     "output_type": "display_data"
    },
    {
     "data": {
      "text/html": [
       "<pre>+--------------------------------+--------------------------------------------------+----------+</pre>"
      ],
      "text/plain": [
       "+--------------------------------+--------------------------------------------------+----------+"
      ]
     },
     "metadata": {},
     "output_type": "display_data"
    },
    {
     "data": {
      "text/html": [
       "<pre>| num_factors                    | Factor Dimension                                 | 32       |</pre>"
      ],
      "text/plain": [
       "| num_factors                    | Factor Dimension                                 | 32       |"
      ]
     },
     "metadata": {},
     "output_type": "display_data"
    },
    {
     "data": {
      "text/html": [
       "<pre>| regularization                 | L2 Regularization on Factors                     | 1e-009   |</pre>"
      ],
      "text/plain": [
       "| regularization                 | L2 Regularization on Factors                     | 1e-009   |"
      ]
     },
     "metadata": {},
     "output_type": "display_data"
    },
    {
     "data": {
      "text/html": [
       "<pre>| solver                         | Solver used for training                         | adagrad  |</pre>"
      ],
      "text/plain": [
       "| solver                         | Solver used for training                         | adagrad  |"
      ]
     },
     "metadata": {},
     "output_type": "display_data"
    },
    {
     "data": {
      "text/html": [
       "<pre>| linear_regularization          | L2 Regularization on Linear Coefficients         | 1e-009   |</pre>"
      ],
      "text/plain": [
       "| linear_regularization          | L2 Regularization on Linear Coefficients         | 1e-009   |"
      ]
     },
     "metadata": {},
     "output_type": "display_data"
    },
    {
     "data": {
      "text/html": [
       "<pre>| ranking_regularization         | Rank-based Regularization Weight                 | 0.25     |</pre>"
      ],
      "text/plain": [
       "| ranking_regularization         | Rank-based Regularization Weight                 | 0.25     |"
      ]
     },
     "metadata": {},
     "output_type": "display_data"
    },
    {
     "data": {
      "text/html": [
       "<pre>| side_data_factorization        | Assign Factors for Side Data                     | True     |</pre>"
      ],
      "text/plain": [
       "| side_data_factorization        | Assign Factors for Side Data                     | True     |"
      ]
     },
     "metadata": {},
     "output_type": "display_data"
    },
    {
     "data": {
      "text/html": [
       "<pre>| max_iterations                 | Maximum Number of Iterations                     | 25       |</pre>"
      ],
      "text/plain": [
       "| max_iterations                 | Maximum Number of Iterations                     | 25       |"
      ]
     },
     "metadata": {},
     "output_type": "display_data"
    },
    {
     "data": {
      "text/html": [
       "<pre>+--------------------------------+--------------------------------------------------+----------+</pre>"
      ],
      "text/plain": [
       "+--------------------------------+--------------------------------------------------+----------+"
      ]
     },
     "metadata": {},
     "output_type": "display_data"
    },
    {
     "data": {
      "text/html": [
       "<pre>  Optimizing model using SGD; tuning step size.</pre>"
      ],
      "text/plain": [
       "  Optimizing model using SGD; tuning step size."
      ]
     },
     "metadata": {},
     "output_type": "display_data"
    },
    {
     "data": {
      "text/html": [
       "<pre>  Using 116682 / 933461 points for tuning the step size.</pre>"
      ],
      "text/plain": [
       "  Using 116682 / 933461 points for tuning the step size."
      ]
     },
     "metadata": {},
     "output_type": "display_data"
    },
    {
     "data": {
      "text/html": [
       "<pre>+---------+-------------------+------------------------------------------+</pre>"
      ],
      "text/plain": [
       "+---------+-------------------+------------------------------------------+"
      ]
     },
     "metadata": {},
     "output_type": "display_data"
    },
    {
     "data": {
      "text/html": [
       "<pre>| Attempt | Initial Step Size | Estimated Objective Value                |</pre>"
      ],
      "text/plain": [
       "| Attempt | Initial Step Size | Estimated Objective Value                |"
      ]
     },
     "metadata": {},
     "output_type": "display_data"
    },
    {
     "data": {
      "text/html": [
       "<pre>+---------+-------------------+------------------------------------------+</pre>"
      ],
      "text/plain": [
       "+---------+-------------------+------------------------------------------+"
      ]
     },
     "metadata": {},
     "output_type": "display_data"
    },
    {
     "data": {
      "text/html": [
       "<pre>| 0       | 1                 | Not Viable                               |</pre>"
      ],
      "text/plain": [
       "| 0       | 1                 | Not Viable                               |"
      ]
     },
     "metadata": {},
     "output_type": "display_data"
    },
    {
     "data": {
      "text/html": [
       "<pre>| 1       | 0.25              | Not Viable                               |</pre>"
      ],
      "text/plain": [
       "| 1       | 0.25              | Not Viable                               |"
      ]
     },
     "metadata": {},
     "output_type": "display_data"
    },
    {
     "data": {
      "text/html": [
       "<pre>| 2       | 0.0625            | Not Viable                               |</pre>"
      ],
      "text/plain": [
       "| 2       | 0.0625            | Not Viable                               |"
      ]
     },
     "metadata": {},
     "output_type": "display_data"
    },
    {
     "data": {
      "text/html": [
       "<pre>| 3       | 0.015625          | Not Viable                               |</pre>"
      ],
      "text/plain": [
       "| 3       | 0.015625          | Not Viable                               |"
      ]
     },
     "metadata": {},
     "output_type": "display_data"
    },
    {
     "data": {
      "text/html": [
       "<pre>| 4       | 0.00390625        | No Decrease (2.41703 >= 2.39684)         |</pre>"
      ],
      "text/plain": [
       "| 4       | 0.00390625        | No Decrease (2.41703 >= 2.39684)         |"
      ]
     },
     "metadata": {},
     "output_type": "display_data"
    },
    {
     "data": {
      "text/html": [
       "<pre>| 5       | 0.000976562       | 2.22937                                  |</pre>"
      ],
      "text/plain": [
       "| 5       | 0.000976562       | 2.22937                                  |"
      ]
     },
     "metadata": {},
     "output_type": "display_data"
    },
    {
     "data": {
      "text/html": [
       "<pre>| 6       | 0.000488281       | 2.31289                                  |</pre>"
      ],
      "text/plain": [
       "| 6       | 0.000488281       | 2.31289                                  |"
      ]
     },
     "metadata": {},
     "output_type": "display_data"
    },
    {
     "data": {
      "text/html": [
       "<pre>| 7       | 0.000244141       | 2.34643                                  |</pre>"
      ],
      "text/plain": [
       "| 7       | 0.000244141       | 2.34643                                  |"
      ]
     },
     "metadata": {},
     "output_type": "display_data"
    },
    {
     "data": {
      "text/html": [
       "<pre>| 8       | 0.00012207        | 2.37092                                  |</pre>"
      ],
      "text/plain": [
       "| 8       | 0.00012207        | 2.37092                                  |"
      ]
     },
     "metadata": {},
     "output_type": "display_data"
    },
    {
     "data": {
      "text/html": [
       "<pre>+---------+-------------------+------------------------------------------+</pre>"
      ],
      "text/plain": [
       "+---------+-------------------+------------------------------------------+"
      ]
     },
     "metadata": {},
     "output_type": "display_data"
    },
    {
     "data": {
      "text/html": [
       "<pre>| Final   | 0.000976562       | 2.22937                                  |</pre>"
      ],
      "text/plain": [
       "| Final   | 0.000976562       | 2.22937                                  |"
      ]
     },
     "metadata": {},
     "output_type": "display_data"
    },
    {
     "data": {
      "text/html": [
       "<pre>+---------+-------------------+------------------------------------------+</pre>"
      ],
      "text/plain": [
       "+---------+-------------------+------------------------------------------+"
      ]
     },
     "metadata": {},
     "output_type": "display_data"
    },
    {
     "data": {
      "text/html": [
       "<pre>Starting Optimization.</pre>"
      ],
      "text/plain": [
       "Starting Optimization."
      ]
     },
     "metadata": {},
     "output_type": "display_data"
    },
    {
     "data": {
      "text/html": [
       "<pre>+---------+--------------+-------------------+-----------------------+-------------+</pre>"
      ],
      "text/plain": [
       "+---------+--------------+-------------------+-----------------------+-------------+"
      ]
     },
     "metadata": {},
     "output_type": "display_data"
    },
    {
     "data": {
      "text/html": [
       "<pre>| Iter.   | Elapsed Time | Approx. Objective | Approx. Training RMSE | Step Size   |</pre>"
      ],
      "text/plain": [
       "| Iter.   | Elapsed Time | Approx. Objective | Approx. Training RMSE | Step Size   |"
      ]
     },
     "metadata": {},
     "output_type": "display_data"
    },
    {
     "data": {
      "text/html": [
       "<pre>+---------+--------------+-------------------+-----------------------+-------------+</pre>"
      ],
      "text/plain": [
       "+---------+--------------+-------------------+-----------------------+-------------+"
      ]
     },
     "metadata": {},
     "output_type": "display_data"
    },
    {
     "data": {
      "text/html": [
       "<pre>| Initial | 0us          | 2.39904           | 1.10612               |             |</pre>"
      ],
      "text/plain": [
       "| Initial | 0us          | 2.39904           | 1.10612               |             |"
      ]
     },
     "metadata": {},
     "output_type": "display_data"
    },
    {
     "data": {
      "text/html": [
       "<pre>+---------+--------------+-------------------+-----------------------+-------------+</pre>"
      ],
      "text/plain": [
       "+---------+--------------+-------------------+-----------------------+-------------+"
      ]
     },
     "metadata": {},
     "output_type": "display_data"
    },
    {
     "data": {
      "text/html": [
       "<pre>| 1       | 21.65s       | 2.3015            | 1.10953               | 0.000976562 |</pre>"
      ],
      "text/plain": [
       "| 1       | 21.65s       | 2.3015            | 1.10953               | 0.000976562 |"
      ]
     },
     "metadata": {},
     "output_type": "display_data"
    },
    {
     "data": {
      "text/html": [
       "<pre>| 2       | 43.04s       | 2.24088           | 1.12845               | 0.000976562 |</pre>"
      ],
      "text/plain": [
       "| 2       | 43.04s       | 2.24088           | 1.12845               | 0.000976562 |"
      ]
     },
     "metadata": {},
     "output_type": "display_data"
    },
    {
     "data": {
      "text/html": [
       "<pre>| 3       | 1m 0s        | 2.25126           | 1.14448               | 0.000976562 |</pre>"
      ],
      "text/plain": [
       "| 3       | 1m 0s        | 2.25126           | 1.14448               | 0.000976562 |"
      ]
     },
     "metadata": {},
     "output_type": "display_data"
    },
    {
     "data": {
      "text/html": [
       "<pre>| 4       | 1m 18s       | 2.23332           | 1.15626               | 0.000976562 |</pre>"
      ],
      "text/plain": [
       "| 4       | 1m 18s       | 2.23332           | 1.15626               | 0.000976562 |"
      ]
     },
     "metadata": {},
     "output_type": "display_data"
    },
    {
     "data": {
      "text/html": [
       "<pre>| 5       | 1m 36s       | 2.34718           | 1.20906               | 0.000976562 |</pre>"
      ],
      "text/plain": [
       "| 5       | 1m 36s       | 2.34718           | 1.20906               | 0.000976562 |"
      ]
     },
     "metadata": {},
     "output_type": "display_data"
    },
    {
     "data": {
      "text/html": [
       "<pre>| 6       | 1m 55s       | 2.38866           | 1.23606               | 0.000976562 |</pre>"
      ],
      "text/plain": [
       "| 6       | 1m 55s       | 2.38866           | 1.23606               | 0.000976562 |"
      ]
     },
     "metadata": {},
     "output_type": "display_data"
    },
    {
     "data": {
      "text/html": [
       "<pre>| 7       | 2m 17s       | 2.47349           | 1.26221               | 0.000976562 |</pre>"
      ],
      "text/plain": [
       "| 7       | 2m 17s       | 2.47349           | 1.26221               | 0.000976562 |"
      ]
     },
     "metadata": {},
     "output_type": "display_data"
    },
    {
     "data": {
      "text/html": [
       "<pre>| 8       | 2m 35s       | 2.65148           | 1.3429                | 0.000976562 |</pre>"
      ],
      "text/plain": [
       "| 8       | 2m 35s       | 2.65148           | 1.3429                | 0.000976562 |"
      ]
     },
     "metadata": {},
     "output_type": "display_data"
    },
    {
     "data": {
      "text/html": [
       "<pre>| 9       | 3m 0s        | 2.7165            | 1.3614                | 0.000976562 |</pre>"
      ],
      "text/plain": [
       "| 9       | 3m 0s        | 2.7165            | 1.3614                | 0.000976562 |"
      ]
     },
     "metadata": {},
     "output_type": "display_data"
    },
    {
     "data": {
      "text/html": [
       "<pre>| 10      | 3m 26s       | 2.85079           | 1.41036               | 0.000976562 |</pre>"
      ],
      "text/plain": [
       "| 10      | 3m 26s       | 2.85079           | 1.41036               | 0.000976562 |"
      ]
     },
     "metadata": {},
     "output_type": "display_data"
    },
    {
     "data": {
      "text/html": [
       "<pre>| 11      | 3m 44s       | 3.17323           | 1.51109               | 0.000976562 |</pre>"
      ],
      "text/plain": [
       "| 11      | 3m 44s       | 3.17323           | 1.51109               | 0.000976562 |"
      ]
     },
     "metadata": {},
     "output_type": "display_data"
    },
    {
     "data": {
      "text/html": [
       "<pre>| 12      | 4m 20s       | DIVERGED          | DIVERGED              | 0.000976562 |</pre>"
      ],
      "text/plain": [
       "| 12      | 4m 20s       | DIVERGED          | DIVERGED              | 0.000976562 |"
      ]
     },
     "metadata": {},
     "output_type": "display_data"
    },
    {
     "data": {
      "text/html": [
       "<pre>| RESET   | 4m 27s       | 2.39933           | 1.10613               |             |</pre>"
      ],
      "text/plain": [
       "| RESET   | 4m 27s       | 2.39933           | 1.10613               |             |"
      ]
     },
     "metadata": {},
     "output_type": "display_data"
    },
    {
     "data": {
      "text/html": [
       "<pre>| 1       | 4m 49s       | 2.33178           | 1.09728               | 0.000488281 |</pre>"
      ],
      "text/plain": [
       "| 1       | 4m 49s       | 2.33178           | 1.09728               | 0.000488281 |"
      ]
     },
     "metadata": {},
     "output_type": "display_data"
    },
    {
     "data": {
      "text/html": [
       "<pre>| 2       | 5m 7s        | 2.2651            | 1.09174               | 0.000488281 |</pre>"
      ],
      "text/plain": [
       "| 2       | 5m 7s        | 2.2651            | 1.09174               | 0.000488281 |"
      ]
     },
     "metadata": {},
     "output_type": "display_data"
    },
    {
     "data": {
      "text/html": [
       "<pre>| 3       | 5m 26s       | 2.2253            | 1.09059               | 0.000488281 |</pre>"
      ],
      "text/plain": [
       "| 3       | 5m 26s       | 2.2253            | 1.09059               | 0.000488281 |"
      ]
     },
     "metadata": {},
     "output_type": "display_data"
    },
    {
     "data": {
      "text/html": [
       "<pre>| 4       | 5m 45s       | 2.19328           | 1.09012               | 0.000488281 |</pre>"
      ],
      "text/plain": [
       "| 4       | 5m 45s       | 2.19328           | 1.09012               | 0.000488281 |"
      ]
     },
     "metadata": {},
     "output_type": "display_data"
    },
    {
     "data": {
      "text/html": [
       "<pre>| 5       | 6m 8s        | 2.17469           | 1.09028               | 0.000488281 |</pre>"
      ],
      "text/plain": [
       "| 5       | 6m 8s        | 2.17469           | 1.09028               | 0.000488281 |"
      ]
     },
     "metadata": {},
     "output_type": "display_data"
    },
    {
     "data": {
      "text/html": [
       "<pre>| 6       | 6m 25s       | 2.15982           | 1.09202               | 0.000488281 |</pre>"
      ],
      "text/plain": [
       "| 6       | 6m 25s       | 2.15982           | 1.09202               | 0.000488281 |"
      ]
     },
     "metadata": {},
     "output_type": "display_data"
    },
    {
     "data": {
      "text/html": [
       "<pre>| 7       | 6m 45s       | 2.1442            | 1.0928                | 0.000488281 |</pre>"
      ],
      "text/plain": [
       "| 7       | 6m 45s       | 2.1442            | 1.0928                | 0.000488281 |"
      ]
     },
     "metadata": {},
     "output_type": "display_data"
    },
    {
     "data": {
      "text/html": [
       "<pre>| 8       | 7m 7s        | 2.13922           | 1.09618               | 0.000488281 |</pre>"
      ],
      "text/plain": [
       "| 8       | 7m 7s        | 2.13922           | 1.09618               | 0.000488281 |"
      ]
     },
     "metadata": {},
     "output_type": "display_data"
    },
    {
     "data": {
      "text/html": [
       "<pre>| 9       | 7m 26s       | 2.13086           | 1.09652               | 0.000488281 |</pre>"
      ],
      "text/plain": [
       "| 9       | 7m 26s       | 2.13086           | 1.09652               | 0.000488281 |"
      ]
     },
     "metadata": {},
     "output_type": "display_data"
    },
    {
     "data": {
      "text/html": [
       "<pre>| 10      | 7m 48s       | 2.12626           | 1.10118               | 0.000488281 |</pre>"
      ],
      "text/plain": [
       "| 10      | 7m 48s       | 2.12626           | 1.10118               | 0.000488281 |"
      ]
     },
     "metadata": {},
     "output_type": "display_data"
    },
    {
     "data": {
      "text/html": [
       "<pre>| 11      | 8m 7s        | 2.1176            | 1.10124               | 0.000488281 |</pre>"
      ],
      "text/plain": [
       "| 11      | 8m 7s        | 2.1176            | 1.10124               | 0.000488281 |"
      ]
     },
     "metadata": {},
     "output_type": "display_data"
    },
    {
     "data": {
      "text/html": [
       "<pre>| 12      | 8m 26s       | 2.11548           | 1.10331               | 0.000488281 |</pre>"
      ],
      "text/plain": [
       "| 12      | 8m 26s       | 2.11548           | 1.10331               | 0.000488281 |"
      ]
     },
     "metadata": {},
     "output_type": "display_data"
    },
    {
     "data": {
      "text/html": [
       "<pre>| 13      | 8m 46s       | 2.11671           | 1.10822               | 0.000488281 |</pre>"
      ],
      "text/plain": [
       "| 13      | 8m 46s       | 2.11671           | 1.10822               | 0.000488281 |"
      ]
     },
     "metadata": {},
     "output_type": "display_data"
    },
    {
     "data": {
      "text/html": [
       "<pre>| 14      | 9m 6s        | 2.11314           | 1.11193               | 0.000488281 |</pre>"
      ],
      "text/plain": [
       "| 14      | 9m 6s        | 2.11314           | 1.11193               | 0.000488281 |"
      ]
     },
     "metadata": {},
     "output_type": "display_data"
    },
    {
     "data": {
      "text/html": [
       "<pre>| 15      | 3h 45m       | 2.11413           | 1.11466               | 0.000488281 |</pre>"
      ],
      "text/plain": [
       "| 15      | 3h 45m       | 2.11413           | 1.11466               | 0.000488281 |"
      ]
     },
     "metadata": {},
     "output_type": "display_data"
    },
    {
     "data": {
      "text/html": [
       "<pre>| 16      | 3h 46m       | 2.12075           | 1.12326               | 0.000488281 |</pre>"
      ],
      "text/plain": [
       "| 16      | 3h 46m       | 2.12075           | 1.12326               | 0.000488281 |"
      ]
     },
     "metadata": {},
     "output_type": "display_data"
    },
    {
     "data": {
      "text/html": [
       "<pre>| 17      | 3h 46m       | 2.12425           | 1.12634               | 0.000488281 |</pre>"
      ],
      "text/plain": [
       "| 17      | 3h 46m       | 2.12425           | 1.12634               | 0.000488281 |"
      ]
     },
     "metadata": {},
     "output_type": "display_data"
    },
    {
     "data": {
      "text/html": [
       "<pre>| 18      | 3h 46m       | 2.12877           | 1.13139               | 0.000488281 |</pre>"
      ],
      "text/plain": [
       "| 18      | 3h 46m       | 2.12877           | 1.13139               | 0.000488281 |"
      ]
     },
     "metadata": {},
     "output_type": "display_data"
    },
    {
     "data": {
      "text/html": [
       "<pre>+---------+--------------+-------------------+-----------------------+-------------+</pre>"
      ],
      "text/plain": [
       "+---------+--------------+-------------------+-----------------------+-------------+"
      ]
     },
     "metadata": {},
     "output_type": "display_data"
    },
    {
     "data": {
      "text/html": [
       "<pre>Optimization Complete: Maximum number of passes through the data reached (hard limit).</pre>"
      ],
      "text/plain": [
       "Optimization Complete: Maximum number of passes through the data reached (hard limit)."
      ]
     },
     "metadata": {},
     "output_type": "display_data"
    },
    {
     "data": {
      "text/html": [
       "<pre>Computing final objective value and training RMSE.</pre>"
      ],
      "text/plain": [
       "Computing final objective value and training RMSE."
      ]
     },
     "metadata": {},
     "output_type": "display_data"
    },
    {
     "data": {
      "text/html": [
       "<pre>       Final objective value: 2.14343</pre>"
      ],
      "text/plain": [
       "       Final objective value: 2.14343"
      ]
     },
     "metadata": {},
     "output_type": "display_data"
    },
    {
     "data": {
      "text/html": [
       "<pre>       Final training RMSE: 1.13547</pre>"
      ],
      "text/plain": [
       "       Final training RMSE: 1.13547"
      ]
     },
     "metadata": {},
     "output_type": "display_data"
    },
    {
     "name": "stdout",
     "output_type": "stream",
     "text": [
      "\n",
      "Precision and recall summary statistics by cutoff\n",
      "+--------+-----------------+------------------+\n",
      "| cutoff |  mean_precision |   mean_recall    |\n",
      "+--------+-----------------+------------------+\n",
      "|   1    |       0.15      | 0.00529605792029 |\n",
      "|   2    |      0.115      | 0.00730184849237 |\n",
      "|   3    | 0.0933333333333 | 0.00864253780872 |\n",
      "|   4    |      0.0925     | 0.0108872705848  |\n",
      "|   5    |      0.082      | 0.0122516549515  |\n",
      "|   6    | 0.0833333333333 | 0.0147624616073  |\n",
      "|   7    | 0.0842857142857 | 0.0186810745431  |\n",
      "|   8    |      0.085      | 0.0217056959539  |\n",
      "|   9    | 0.0788888888889 | 0.0222318098673  |\n",
      "|   10   |      0.081      | 0.0306022077321  |\n",
      "+--------+-----------------+------------------+\n",
      "[10 rows x 3 columns]\n",
      "\n",
      "('\\nOverall RMSE: ', 1.1374176930923514)\n",
      "\n",
      "Per User RMSE (best)\n",
      "+------+-------+----------------+\n",
      "| user | count |      rmse      |\n",
      "+------+-------+----------------+\n",
      "| 4548 |   4   | 0.157152163657 |\n",
      "+------+-------+----------------+\n",
      "[1 rows x 3 columns]\n",
      "\n",
      "\n",
      "Per User RMSE (worst)\n",
      "+------+-------+---------------+\n",
      "| user | count |      rmse     |\n",
      "+------+-------+---------------+\n",
      "| 1989 |   7   | 1.95916101934 |\n",
      "+------+-------+---------------+\n",
      "[1 rows x 3 columns]\n",
      "\n",
      "\n",
      "Per Item RMSE (best)\n",
      "+--------------------------+-------+------------------+\n",
      "|          movie           | count |       rmse       |\n",
      "+--------------------------+-------+------------------+\n",
      "| Gnome-Mobile, The (1967) |   1   | 0.00149134028717 |\n",
      "+--------------------------+-------+------------------+\n",
      "[1 rows x 3 columns]\n",
      "\n",
      "\n",
      "Per Item RMSE (worst)\n",
      "+--------------+-------+---------------+\n",
      "|    movie     | count |      rmse     |\n",
      "+--------------+-------+---------------+\n",
      "| F/X 2 (1992) |   1   | 2.91106500387 |\n",
      "+--------------+-------+---------------+\n",
      "[1 rows x 3 columns]\n",
      "\n"
     ]
    }
   ],
   "source": [
    "rec1 = gl.recommender.ranking_factorization_recommender.create(train, \n",
    "                                  user_id=\"user\", \n",
    "                                  item_id=\"movie\", \n",
    "                                  target=\"rating\",\n",
    "                                  item_data=genre,\n",
    "                                  user_data=users)\n",
    "\n",
    "rmse_results = rec1.evaluate(test)"
   ]
  },
  {
   "cell_type": "markdown",
   "metadata": {},
   "source": [
    "###  Model 2: User-Item Ranking Factorization with Regularization of some parameters in the model"
   ]
  },
  {
   "cell_type": "code",
   "execution_count": 1079,
   "metadata": {
    "collapsed": false
   },
   "outputs": [
    {
     "data": {
      "text/html": [
       "<pre>Recsys training: model = ranking_factorization_recommender</pre>"
      ],
      "text/plain": [
       "Recsys training: model = ranking_factorization_recommender"
      ]
     },
     "metadata": {},
     "output_type": "display_data"
    },
    {
     "data": {
      "text/html": [
       "<pre>Preparing data set.</pre>"
      ],
      "text/plain": [
       "Preparing data set."
      ]
     },
     "metadata": {},
     "output_type": "display_data"
    },
    {
     "data": {
      "text/html": [
       "<pre>    Data has 933461 observations with 6040 users and 3732 items.</pre>"
      ],
      "text/plain": [
       "    Data has 933461 observations with 6040 users and 3732 items."
      ]
     },
     "metadata": {},
     "output_type": "display_data"
    },
    {
     "data": {
      "text/html": [
       "<pre>    Data prepared in: 1.73399s</pre>"
      ],
      "text/plain": [
       "    Data prepared in: 1.73399s"
      ]
     },
     "metadata": {},
     "output_type": "display_data"
    },
    {
     "data": {
      "text/html": [
       "<pre>Training ranking_factorization_recommender for recommendations.</pre>"
      ],
      "text/plain": [
       "Training ranking_factorization_recommender for recommendations."
      ]
     },
     "metadata": {},
     "output_type": "display_data"
    },
    {
     "data": {
      "text/html": [
       "<pre>+--------------------------------+--------------------------------------------------+----------+</pre>"
      ],
      "text/plain": [
       "+--------------------------------+--------------------------------------------------+----------+"
      ]
     },
     "metadata": {},
     "output_type": "display_data"
    },
    {
     "data": {
      "text/html": [
       "<pre>| Parameter                      | Description                                      | Value    |</pre>"
      ],
      "text/plain": [
       "| Parameter                      | Description                                      | Value    |"
      ]
     },
     "metadata": {},
     "output_type": "display_data"
    },
    {
     "data": {
      "text/html": [
       "<pre>+--------------------------------+--------------------------------------------------+----------+</pre>"
      ],
      "text/plain": [
       "+--------------------------------+--------------------------------------------------+----------+"
      ]
     },
     "metadata": {},
     "output_type": "display_data"
    },
    {
     "data": {
      "text/html": [
       "<pre>| num_factors                    | Factor Dimension                                 | 16       |</pre>"
      ],
      "text/plain": [
       "| num_factors                    | Factor Dimension                                 | 16       |"
      ]
     },
     "metadata": {},
     "output_type": "display_data"
    },
    {
     "data": {
      "text/html": [
       "<pre>| regularization                 | L2 Regularization on Factors                     | 0.01     |</pre>"
      ],
      "text/plain": [
       "| regularization                 | L2 Regularization on Factors                     | 0.01     |"
      ]
     },
     "metadata": {},
     "output_type": "display_data"
    },
    {
     "data": {
      "text/html": [
       "<pre>| solver                         | Solver used for training                         | adagrad  |</pre>"
      ],
      "text/plain": [
       "| solver                         | Solver used for training                         | adagrad  |"
      ]
     },
     "metadata": {},
     "output_type": "display_data"
    },
    {
     "data": {
      "text/html": [
       "<pre>| linear_regularization          | L2 Regularization on Linear Coefficients         | 0.001    |</pre>"
      ],
      "text/plain": [
       "| linear_regularization          | L2 Regularization on Linear Coefficients         | 0.001    |"
      ]
     },
     "metadata": {},
     "output_type": "display_data"
    },
    {
     "data": {
      "text/html": [
       "<pre>| ranking_regularization         | Rank-based Regularization Weight                 | 0.25     |</pre>"
      ],
      "text/plain": [
       "| ranking_regularization         | Rank-based Regularization Weight                 | 0.25     |"
      ]
     },
     "metadata": {},
     "output_type": "display_data"
    },
    {
     "data": {
      "text/html": [
       "<pre>| side_data_factorization        | Assign Factors for Side Data                     | True     |</pre>"
      ],
      "text/plain": [
       "| side_data_factorization        | Assign Factors for Side Data                     | True     |"
      ]
     },
     "metadata": {},
     "output_type": "display_data"
    },
    {
     "data": {
      "text/html": [
       "<pre>| max_iterations                 | Maximum Number of Iterations                     | 25       |</pre>"
      ],
      "text/plain": [
       "| max_iterations                 | Maximum Number of Iterations                     | 25       |"
      ]
     },
     "metadata": {},
     "output_type": "display_data"
    },
    {
     "data": {
      "text/html": [
       "<pre>+--------------------------------+--------------------------------------------------+----------+</pre>"
      ],
      "text/plain": [
       "+--------------------------------+--------------------------------------------------+----------+"
      ]
     },
     "metadata": {},
     "output_type": "display_data"
    },
    {
     "data": {
      "text/html": [
       "<pre>  Optimizing model using SGD; tuning step size.</pre>"
      ],
      "text/plain": [
       "  Optimizing model using SGD; tuning step size."
      ]
     },
     "metadata": {},
     "output_type": "display_data"
    },
    {
     "data": {
      "text/html": [
       "<pre>  Using 116682 / 933461 points for tuning the step size.</pre>"
      ],
      "text/plain": [
       "  Using 116682 / 933461 points for tuning the step size."
      ]
     },
     "metadata": {},
     "output_type": "display_data"
    },
    {
     "data": {
      "text/html": [
       "<pre>+---------+-------------------+------------------------------------------+</pre>"
      ],
      "text/plain": [
       "+---------+-------------------+------------------------------------------+"
      ]
     },
     "metadata": {},
     "output_type": "display_data"
    },
    {
     "data": {
      "text/html": [
       "<pre>| Attempt | Initial Step Size | Estimated Objective Value                |</pre>"
      ],
      "text/plain": [
       "| Attempt | Initial Step Size | Estimated Objective Value                |"
      ]
     },
     "metadata": {},
     "output_type": "display_data"
    },
    {
     "data": {
      "text/html": [
       "<pre>+---------+-------------------+------------------------------------------+</pre>"
      ],
      "text/plain": [
       "+---------+-------------------+------------------------------------------+"
      ]
     },
     "metadata": {},
     "output_type": "display_data"
    },
    {
     "data": {
      "text/html": [
       "<pre>| 0       | 0.00789319        | 2.09073                                  |</pre>"
      ],
      "text/plain": [
       "| 0       | 0.00789319        | 2.09073                                  |"
      ]
     },
     "metadata": {},
     "output_type": "display_data"
    },
    {
     "data": {
      "text/html": [
       "<pre>| 1       | 0.00394659        | 2.14379                                  |</pre>"
      ],
      "text/plain": [
       "| 1       | 0.00394659        | 2.14379                                  |"
      ]
     },
     "metadata": {},
     "output_type": "display_data"
    },
    {
     "data": {
      "text/html": [
       "<pre>| 2       | 0.0019733         | 2.20751                                  |</pre>"
      ],
      "text/plain": [
       "| 2       | 0.0019733         | 2.20751                                  |"
      ]
     },
     "metadata": {},
     "output_type": "display_data"
    },
    {
     "data": {
      "text/html": [
       "<pre>| 3       | 0.000986648       | 2.27084                                  |</pre>"
      ],
      "text/plain": [
       "| 3       | 0.000986648       | 2.27084                                  |"
      ]
     },
     "metadata": {},
     "output_type": "display_data"
    },
    {
     "data": {
      "text/html": [
       "<pre>+---------+-------------------+------------------------------------------+</pre>"
      ],
      "text/plain": [
       "+---------+-------------------+------------------------------------------+"
      ]
     },
     "metadata": {},
     "output_type": "display_data"
    },
    {
     "data": {
      "text/html": [
       "<pre>| Final   | 0.00789319        | 2.09073                                  |</pre>"
      ],
      "text/plain": [
       "| Final   | 0.00789319        | 2.09073                                  |"
      ]
     },
     "metadata": {},
     "output_type": "display_data"
    },
    {
     "data": {
      "text/html": [
       "<pre>+---------+-------------------+------------------------------------------+</pre>"
      ],
      "text/plain": [
       "+---------+-------------------+------------------------------------------+"
      ]
     },
     "metadata": {},
     "output_type": "display_data"
    },
    {
     "data": {
      "text/html": [
       "<pre>Starting Optimization.</pre>"
      ],
      "text/plain": [
       "Starting Optimization."
      ]
     },
     "metadata": {},
     "output_type": "display_data"
    },
    {
     "data": {
      "text/html": [
       "<pre>+---------+--------------+-------------------+-----------------------+-------------+</pre>"
      ],
      "text/plain": [
       "+---------+--------------+-------------------+-----------------------+-------------+"
      ]
     },
     "metadata": {},
     "output_type": "display_data"
    },
    {
     "data": {
      "text/html": [
       "<pre>| Iter.   | Elapsed Time | Approx. Objective | Approx. Training RMSE | Step Size   |</pre>"
      ],
      "text/plain": [
       "| Iter.   | Elapsed Time | Approx. Objective | Approx. Training RMSE | Step Size   |"
      ]
     },
     "metadata": {},
     "output_type": "display_data"
    },
    {
     "data": {
      "text/html": [
       "<pre>+---------+--------------+-------------------+-----------------------+-------------+</pre>"
      ],
      "text/plain": [
       "+---------+--------------+-------------------+-----------------------+-------------+"
      ]
     },
     "metadata": {},
     "output_type": "display_data"
    },
    {
     "data": {
      "text/html": [
       "<pre>| Initial | 0us          | 2.39905           | 1.10612               |             |</pre>"
      ],
      "text/plain": [
       "| Initial | 0us          | 2.39905           | 1.10612               |             |"
      ]
     },
     "metadata": {},
     "output_type": "display_data"
    },
    {
     "data": {
      "text/html": [
       "<pre>+---------+--------------+-------------------+-----------------------+-------------+</pre>"
      ],
      "text/plain": [
       "+---------+--------------+-------------------+-----------------------+-------------+"
      ]
     },
     "metadata": {},
     "output_type": "display_data"
    },
    {
     "data": {
      "text/html": [
       "<pre>| 1       | 12.14s       | 2.15254           | 1.08756               | 0.00789319  |</pre>"
      ],
      "text/plain": [
       "| 1       | 12.14s       | 2.15254           | 1.08756               | 0.00789319  |"
      ]
     },
     "metadata": {},
     "output_type": "display_data"
    },
    {
     "data": {
      "text/html": [
       "<pre>| 2       | 24.02s       | 2.16689           | 1.08537               | 0.00789319  |</pre>"
      ],
      "text/plain": [
       "| 2       | 24.02s       | 2.16689           | 1.08537               | 0.00789319  |"
      ]
     },
     "metadata": {},
     "output_type": "display_data"
    },
    {
     "data": {
      "text/html": [
       "<pre>| 3       | 40.35s       | 2.07805           | 1.07905               | 0.00789319  |</pre>"
      ],
      "text/plain": [
       "| 3       | 40.35s       | 2.07805           | 1.07905               | 0.00789319  |"
      ]
     },
     "metadata": {},
     "output_type": "display_data"
    },
    {
     "data": {
      "text/html": [
       "<pre>| 4       | 52.25s       | 2.04562           | 1.07167               | 0.00789319  |</pre>"
      ],
      "text/plain": [
       "| 4       | 52.25s       | 2.04562           | 1.07167               | 0.00789319  |"
      ]
     },
     "metadata": {},
     "output_type": "display_data"
    },
    {
     "data": {
      "text/html": [
       "<pre>| 5       | 1m 4s        | 2.03046           | 1.06558               | 0.00789319  |</pre>"
      ],
      "text/plain": [
       "| 5       | 1m 4s        | 2.03046           | 1.06558               | 0.00789319  |"
      ]
     },
     "metadata": {},
     "output_type": "display_data"
    },
    {
     "data": {
      "text/html": [
       "<pre>| 6       | 1m 20s       | 2.02203           | 1.06162               | 0.00789319  |</pre>"
      ],
      "text/plain": [
       "| 6       | 1m 20s       | 2.02203           | 1.06162               | 0.00789319  |"
      ]
     },
     "metadata": {},
     "output_type": "display_data"
    },
    {
     "data": {
      "text/html": [
       "<pre>| 7       | 1m 39s       | 2.01681           | 1.05828               | 0.00789319  |</pre>"
      ],
      "text/plain": [
       "| 7       | 1m 39s       | 2.01681           | 1.05828               | 0.00789319  |"
      ]
     },
     "metadata": {},
     "output_type": "display_data"
    },
    {
     "data": {
      "text/html": [
       "<pre>| 8       | 1m 51s       | 2.01394           | 1.055                 | 0.00789319  |</pre>"
      ],
      "text/plain": [
       "| 8       | 1m 51s       | 2.01394           | 1.055                 | 0.00789319  |"
      ]
     },
     "metadata": {},
     "output_type": "display_data"
    },
    {
     "data": {
      "text/html": [
       "<pre>| 9       | 2m 3s        | 2.01175           | 1.05305               | 0.00789319  |</pre>"
      ],
      "text/plain": [
       "| 9       | 2m 3s        | 2.01175           | 1.05305               | 0.00789319  |"
      ]
     },
     "metadata": {},
     "output_type": "display_data"
    },
    {
     "data": {
      "text/html": [
       "<pre>| 10      | 2m 52s       | 2.01153           | 1.05117               | 0.00789319  |</pre>"
      ],
      "text/plain": [
       "| 10      | 2m 52s       | 2.01153           | 1.05117               | 0.00789319  |"
      ]
     },
     "metadata": {},
     "output_type": "display_data"
    },
    {
     "data": {
      "text/html": [
       "<pre>| 11      | 3m 4s        | 2.01077           | 1.04966               | 0.00789319  |</pre>"
      ],
      "text/plain": [
       "| 11      | 3m 4s        | 2.01077           | 1.04966               | 0.00789319  |"
      ]
     },
     "metadata": {},
     "output_type": "display_data"
    },
    {
     "data": {
      "text/html": [
       "<pre>| 12      | 3m 15s       | 2.00993           | 1.04817               | 0.00789319  |</pre>"
      ],
      "text/plain": [
       "| 12      | 3m 15s       | 2.00993           | 1.04817               | 0.00789319  |"
      ]
     },
     "metadata": {},
     "output_type": "display_data"
    },
    {
     "data": {
      "text/html": [
       "<pre>| 13      | 3m 27s       | 2.01029           | 1.04739               | 0.00789319  |</pre>"
      ],
      "text/plain": [
       "| 13      | 3m 27s       | 2.01029           | 1.04739               | 0.00789319  |"
      ]
     },
     "metadata": {},
     "output_type": "display_data"
    },
    {
     "data": {
      "text/html": [
       "<pre>| 14      | 3m 39s       | 2.01052           | 1.04619               | 0.00789319  |</pre>"
      ],
      "text/plain": [
       "| 14      | 3m 39s       | 2.01052           | 1.04619               | 0.00789319  |"
      ]
     },
     "metadata": {},
     "output_type": "display_data"
    },
    {
     "data": {
      "text/html": [
       "<pre>| 15      | 3m 51s       | 2.01134           | 1.04565               | 0.00789319  |</pre>"
      ],
      "text/plain": [
       "| 15      | 3m 51s       | 2.01134           | 1.04565               | 0.00789319  |"
      ]
     },
     "metadata": {},
     "output_type": "display_data"
    },
    {
     "data": {
      "text/html": [
       "<pre>| 16      | 4m 2s        | 2.01157           | 1.04499               | 0.00789319  |</pre>"
      ],
      "text/plain": [
       "| 16      | 4m 2s        | 2.01157           | 1.04499               | 0.00789319  |"
      ]
     },
     "metadata": {},
     "output_type": "display_data"
    },
    {
     "data": {
      "text/html": [
       "<pre>| 17      | 4m 19s       | 2.01143           | 1.0443                | 0.00789319  |</pre>"
      ],
      "text/plain": [
       "| 17      | 4m 19s       | 2.01143           | 1.0443                | 0.00789319  |"
      ]
     },
     "metadata": {},
     "output_type": "display_data"
    },
    {
     "data": {
      "text/html": [
       "<pre>| 18      | 4m 33s       | 2.01181           | 1.04347               | 0.00789319  |</pre>"
      ],
      "text/plain": [
       "| 18      | 4m 33s       | 2.01181           | 1.04347               | 0.00789319  |"
      ]
     },
     "metadata": {},
     "output_type": "display_data"
    },
    {
     "data": {
      "text/html": [
       "<pre>| 19      | 4m 47s       | 2.01261           | 1.04348               | 0.00789319  |</pre>"
      ],
      "text/plain": [
       "| 19      | 4m 47s       | 2.01261           | 1.04348               | 0.00789319  |"
      ]
     },
     "metadata": {},
     "output_type": "display_data"
    },
    {
     "data": {
      "text/html": [
       "<pre>| 20      | 4m 59s       | 2.01267           | 1.04281               | 0.00789319  |</pre>"
      ],
      "text/plain": [
       "| 20      | 4m 59s       | 2.01267           | 1.04281               | 0.00789319  |"
      ]
     },
     "metadata": {},
     "output_type": "display_data"
    },
    {
     "data": {
      "text/html": [
       "<pre>| 21      | 5m 10s       | 2.01299           | 1.04235               | 0.00789319  |</pre>"
      ],
      "text/plain": [
       "| 21      | 5m 10s       | 2.01299           | 1.04235               | 0.00789319  |"
      ]
     },
     "metadata": {},
     "output_type": "display_data"
    },
    {
     "data": {
      "text/html": [
       "<pre>| 22      | 5m 22s       | 2.01342           | 1.04182               | 0.00789319  |</pre>"
      ],
      "text/plain": [
       "| 22      | 5m 22s       | 2.01342           | 1.04182               | 0.00789319  |"
      ]
     },
     "metadata": {},
     "output_type": "display_data"
    },
    {
     "data": {
      "text/html": [
       "<pre>| 23      | 5m 38s       | 2.01348           | 1.04171               | 0.00789319  |</pre>"
      ],
      "text/plain": [
       "| 23      | 5m 38s       | 2.01348           | 1.04171               | 0.00789319  |"
      ]
     },
     "metadata": {},
     "output_type": "display_data"
    },
    {
     "data": {
      "text/html": [
       "<pre>| 24      | 5m 50s       | 2.01417           | 1.04116               | 0.00789319  |</pre>"
      ],
      "text/plain": [
       "| 24      | 5m 50s       | 2.01417           | 1.04116               | 0.00789319  |"
      ]
     },
     "metadata": {},
     "output_type": "display_data"
    },
    {
     "data": {
      "text/html": [
       "<pre>| 25      | 6m 5s        | 2.01433           | 1.041                 | 0.00789319  |</pre>"
      ],
      "text/plain": [
       "| 25      | 6m 5s        | 2.01433           | 1.041                 | 0.00789319  |"
      ]
     },
     "metadata": {},
     "output_type": "display_data"
    },
    {
     "data": {
      "text/html": [
       "<pre>+---------+--------------+-------------------+-----------------------+-------------+</pre>"
      ],
      "text/plain": [
       "+---------+--------------+-------------------+-----------------------+-------------+"
      ]
     },
     "metadata": {},
     "output_type": "display_data"
    },
    {
     "data": {
      "text/html": [
       "<pre>Optimization Complete: Maximum number of passes through the data reached.</pre>"
      ],
      "text/plain": [
       "Optimization Complete: Maximum number of passes through the data reached."
      ]
     },
     "metadata": {},
     "output_type": "display_data"
    },
    {
     "data": {
      "text/html": [
       "<pre>Computing final objective value and training RMSE.</pre>"
      ],
      "text/plain": [
       "Computing final objective value and training RMSE."
      ]
     },
     "metadata": {},
     "output_type": "display_data"
    },
    {
     "data": {
      "text/html": [
       "<pre>       Final objective value: 2.03253</pre>"
      ],
      "text/plain": [
       "       Final objective value: 2.03253"
      ]
     },
     "metadata": {},
     "output_type": "display_data"
    },
    {
     "data": {
      "text/html": [
       "<pre>       Final training RMSE: 1.04</pre>"
      ],
      "text/plain": [
       "       Final training RMSE: 1.04"
      ]
     },
     "metadata": {},
     "output_type": "display_data"
    },
    {
     "name": "stdout",
     "output_type": "stream",
     "text": [
      "\n",
      "Precision and recall summary statistics by cutoff\n",
      "+--------+----------------+------------------+\n",
      "| cutoff | mean_precision |   mean_recall    |\n",
      "+--------+----------------+------------------+\n",
      "|   1    |      0.15      | 0.00349882547178 |\n",
      "|   2    |     0.145      | 0.00856173889483 |\n",
      "|   3    | 0.156666666667 |  0.015178509962  |\n",
      "|   4    |     0.155      | 0.0250474286176  |\n",
      "|   5    |      0.15      | 0.0297722688099  |\n",
      "|   6    | 0.146666666667 | 0.0331049989539  |\n",
      "|   7    | 0.145714285714 | 0.0368966603692  |\n",
      "|   8    |    0.14625     |  0.041569108373  |\n",
      "|   9    | 0.142222222222 | 0.0435990079044  |\n",
      "|   10   |     0.138      | 0.0475761224807  |\n",
      "+--------+----------------+------------------+\n",
      "[10 rows x 3 columns]\n",
      "\n",
      "('\\nOverall RMSE: ', 1.0505611182211272)\n",
      "\n",
      "Per User RMSE (best)\n",
      "+------+-------+----------------+\n",
      "| user | count |      rmse      |\n",
      "+------+-------+----------------+\n",
      "| 4548 |   4   | 0.282300290973 |\n",
      "+------+-------+----------------+\n",
      "[1 rows x 3 columns]\n",
      "\n",
      "\n",
      "Per User RMSE (worst)\n",
      "+------+-------+---------------+\n",
      "| user | count |      rmse     |\n",
      "+------+-------+---------------+\n",
      "| 1989 |   7   | 1.80231423566 |\n",
      "+------+-------+---------------+\n",
      "[1 rows x 3 columns]\n",
      "\n",
      "\n",
      "Per Item RMSE (best)\n",
      "+----------------------+-------+-------------------+\n",
      "|        movie         | count |        rmse       |\n",
      "+----------------------+-------+-------------------+\n",
      "| Arachnophobia (1990) |   1   | 0.000177021413925 |\n",
      "+----------------------+-------+-------------------+\n",
      "[1 rows x 3 columns]\n",
      "\n",
      "\n",
      "Per Item RMSE (worst)\n",
      "+-------------------------------+-------+--------------+\n",
      "|             movie             | count |     rmse     |\n",
      "+-------------------------------+-------+--------------+\n",
      "| Godzilla 2000 (Gojira ni-s... |   1   | 2.4451174178 |\n",
      "+-------------------------------+-------+--------------+\n",
      "[1 rows x 3 columns]\n",
      "\n"
     ]
    }
   ],
   "source": [
    "rec2 = gl.recommender.ranking_factorization_recommender.create(train, \n",
    "                                  user_id=\"user\", \n",
    "                                  item_id=\"movie\", \n",
    "                                  target=\"rating\",\n",
    "                                  item_data=genre,\n",
    "                                  user_data=users,\n",
    "                                  num_factors=16,                 # override the default value\n",
    "                                  regularization=1e-02,           # override the default value\n",
    "                                  linear_regularization = 1e-3)   # override the default value\n",
    "\n",
    "rmse_results = rec2.evaluate(test)"
   ]
  },
  {
   "cell_type": "code",
   "execution_count": 1080,
   "metadata": {
    "collapsed": false
   },
   "outputs": [
    {
     "name": "stdout",
     "output_type": "stream",
     "text": [
      "PROGRESS: Evaluate model M0\n",
      "\n",
      "Precision and recall summary statistics by cutoff\n",
      "+--------+----------------+-----------------+\n",
      "| cutoff | mean_precision |   mean_recall   |\n",
      "+--------+----------------+-----------------+\n",
      "|   1    |      0.38      | 0.0232623326535 |\n",
      "|   2    |      0.36      | 0.0406010643261 |\n",
      "|   3    | 0.363333333333 | 0.0545103788212 |\n",
      "|   4    |     0.335      | 0.0638115648336 |\n",
      "|   5    |     0.324      | 0.0819640068196 |\n",
      "|   6    |     0.315      | 0.0947756968356 |\n",
      "|   7    | 0.308571428571 |  0.104038119814 |\n",
      "|   8    |      0.3       |  0.111740387834 |\n",
      "|   9    | 0.292222222222 |  0.119455292686 |\n",
      "|   10   |      0.28      |  0.126099223734 |\n",
      "+--------+----------------+-----------------+\n",
      "[10 rows x 3 columns]\n",
      "\n",
      "('\\nOverall RMSE: ', 3.7839137766989275)\n",
      "\n",
      "Per User RMSE (best)\n",
      "+------+-------+---------------+\n",
      "| user | count |      rmse     |\n",
      "+------+-------+---------------+\n",
      "| 5243 |   2   | 2.23125476292 |\n",
      "+------+-------+---------------+\n",
      "[1 rows x 3 columns]\n",
      "\n",
      "\n",
      "Per User RMSE (worst)\n",
      "+------+-------+---------------+\n",
      "| user | count |      rmse     |\n",
      "+------+-------+---------------+\n",
      "| 1423 |   10  | 4.75761835419 |\n",
      "+------+-------+---------------+\n",
      "[1 rows x 3 columns]\n",
      "\n",
      "\n",
      "Per Item RMSE (best)\n",
      "+--------------------+-------+----------------+\n",
      "|       movie        | count |      rmse      |\n",
      "+--------------------+-------+----------------+\n",
      "| Judge Dredd (1995) |   1   | 0.869982650694 |\n",
      "+--------------------+-------+----------------+\n",
      "[1 rows x 3 columns]\n",
      "\n",
      "\n",
      "Per Item RMSE (worst)\n",
      "+-----------------------------+-------+------+\n",
      "|            movie            | count | rmse |\n",
      "+-----------------------------+-------+------+\n",
      "| Raisin in the Sun, A (1961) |   1   | 5.0  |\n",
      "+-----------------------------+-------+------+\n",
      "[1 rows x 3 columns]\n",
      "\n",
      "PROGRESS: Evaluate model M1\n",
      "\n",
      "Precision and recall summary statistics by cutoff\n",
      "+--------+-----------------+------------------+\n",
      "| cutoff |  mean_precision |   mean_recall    |\n",
      "+--------+-----------------+------------------+\n",
      "|   1    |       0.15      | 0.00529605792029 |\n",
      "|   2    |      0.115      | 0.00730184849237 |\n",
      "|   3    | 0.0933333333333 | 0.00864253780872 |\n",
      "|   4    |      0.0925     | 0.0108872705848  |\n",
      "|   5    |      0.082      | 0.0122516549515  |\n",
      "|   6    | 0.0833333333333 | 0.0147624616073  |\n",
      "|   7    | 0.0842857142857 | 0.0186810745431  |\n",
      "|   8    |      0.085      | 0.0217056959539  |\n",
      "|   9    | 0.0788888888889 | 0.0222318098673  |\n",
      "|   10   |      0.081      | 0.0306022077321  |\n",
      "+--------+-----------------+------------------+\n",
      "[10 rows x 3 columns]\n",
      "\n",
      "('\\nOverall RMSE: ', 1.1374176930923514)\n",
      "\n",
      "Per User RMSE (best)\n",
      "+------+-------+----------------+\n",
      "| user | count |      rmse      |\n",
      "+------+-------+----------------+\n",
      "| 4548 |   4   | 0.157152163657 |\n",
      "+------+-------+----------------+\n",
      "[1 rows x 3 columns]\n",
      "\n",
      "\n",
      "Per User RMSE (worst)\n",
      "+------+-------+---------------+\n",
      "| user | count |      rmse     |\n",
      "+------+-------+---------------+\n",
      "| 1989 |   7   | 1.95916101934 |\n",
      "+------+-------+---------------+\n",
      "[1 rows x 3 columns]\n",
      "\n",
      "\n",
      "Per Item RMSE (best)\n",
      "+--------------------------+-------+------------------+\n",
      "|          movie           | count |       rmse       |\n",
      "+--------------------------+-------+------------------+\n",
      "| Gnome-Mobile, The (1967) |   1   | 0.00149134028717 |\n",
      "+--------------------------+-------+------------------+\n",
      "[1 rows x 3 columns]\n",
      "\n",
      "\n",
      "Per Item RMSE (worst)\n",
      "+--------------+-------+---------------+\n",
      "|    movie     | count |      rmse     |\n",
      "+--------------+-------+---------------+\n",
      "| F/X 2 (1992) |   1   | 2.91106500387 |\n",
      "+--------------+-------+---------------+\n",
      "[1 rows x 3 columns]\n",
      "\n",
      "PROGRESS: Evaluate model M2\n",
      "\n",
      "Precision and recall summary statistics by cutoff\n",
      "+--------+----------------+------------------+\n",
      "| cutoff | mean_precision |   mean_recall    |\n",
      "+--------+----------------+------------------+\n",
      "|   1    |      0.15      | 0.00349882547178 |\n",
      "|   2    |     0.145      | 0.00856173889483 |\n",
      "|   3    | 0.156666666667 |  0.015178509962  |\n",
      "|   4    |     0.155      | 0.0250474286176  |\n",
      "|   5    |      0.15      | 0.0297722688099  |\n",
      "|   6    | 0.146666666667 | 0.0331049989539  |\n",
      "|   7    | 0.145714285714 | 0.0368966603692  |\n",
      "|   8    |    0.14625     |  0.041569108373  |\n",
      "|   9    | 0.142222222222 | 0.0435990079044  |\n",
      "|   10   |     0.138      | 0.0475761224807  |\n",
      "+--------+----------------+------------------+\n",
      "[10 rows x 3 columns]\n",
      "\n",
      "('\\nOverall RMSE: ', 1.0505611182211272)\n",
      "\n",
      "Per User RMSE (best)\n",
      "+------+-------+----------------+\n",
      "| user | count |      rmse      |\n",
      "+------+-------+----------------+\n",
      "| 4548 |   4   | 0.282300290973 |\n",
      "+------+-------+----------------+\n",
      "[1 rows x 3 columns]\n",
      "\n",
      "\n",
      "Per User RMSE (worst)\n",
      "+------+-------+---------------+\n",
      "| user | count |      rmse     |\n",
      "+------+-------+---------------+\n",
      "| 1989 |   7   | 1.80231423566 |\n",
      "+------+-------+---------------+\n",
      "[1 rows x 3 columns]\n",
      "\n",
      "\n",
      "Per Item RMSE (best)\n",
      "+----------------------+-------+-------------------+\n",
      "|        movie         | count |        rmse       |\n",
      "+----------------------+-------+-------------------+\n",
      "| Arachnophobia (1990) |   1   | 0.000177021413925 |\n",
      "+----------------------+-------+-------------------+\n",
      "[1 rows x 3 columns]\n",
      "\n",
      "\n",
      "Per Item RMSE (worst)\n",
      "+-------------------------------+-------+--------------+\n",
      "|             movie             | count |     rmse     |\n",
      "+-------------------------------+-------+--------------+\n",
      "| Godzilla 2000 (Gojira ni-s... |   1   | 2.4451174178 |\n",
      "+-------------------------------+-------+--------------+\n",
      "[1 rows x 3 columns]\n",
      "\n"
     ]
    }
   ],
   "source": [
    "comparison = gl.recommender.util.compare_models(test, [item_item, rec1, rec2])"
   ]
  },
  {
   "cell_type": "markdown",
   "metadata": {},
   "source": [
    "#### Automatically search through some parameters to Optimize Model 3"
   ]
  },
  {
   "cell_type": "code",
   "execution_count": 1083,
   "metadata": {
    "collapsed": false
   },
   "outputs": [
    {
     "name": "stderr",
     "output_type": "stream",
     "text": [
      "[INFO] graphlab.deploy.job: Validating job.\n",
      "[INFO] graphlab.deploy.map_job: Validation complete. Job: 'Model-Parameter-Search-Jan-03-2017-12-11-2700000' ready for execution\n",
      "[INFO] graphlab.deploy.map_job: Job: 'Model-Parameter-Search-Jan-03-2017-12-11-2700000' scheduled.\n",
      "[INFO] graphlab.deploy.job: Validating job.\n",
      "[INFO] graphlab.deploy.map_job: A job with name 'Model-Parameter-Search-Jan-03-2017-12-11-2700000' already exists. Renaming the job to 'Model-Parameter-Search-Jan-03-2017-12-11-2700000-504e5'.\n",
      "[INFO] graphlab.deploy.map_job: Validation complete. Job: 'Model-Parameter-Search-Jan-03-2017-12-11-2700000-504e5' ready for execution\n",
      "[INFO] graphlab.deploy.map_job: Job: 'Model-Parameter-Search-Jan-03-2017-12-11-2700000-504e5' scheduled.\n"
     ]
    }
   ],
   "source": [
    "params = {'user_id': 'user', \n",
    "          'item_id': 'movie', \n",
    "          'target': 'rating',\n",
    "          'num_factors': [8, 12, 16, 24, 32, 40, 48, 56, 64, 72], \n",
    "          'regularization':[0.001] ,\n",
    "          'linear_regularization': [0.001]}\n",
    "\n",
    "job = gl.model_parameter_search.create( (train,test),\n",
    "        gl.recommender.ranking_factorization_recommender.create,\n",
    "        params,\n",
    "        max_models=10,\n",
    "        environment=None)\n"
   ]
  },
  {
   "cell_type": "code",
   "execution_count": 1084,
   "metadata": {
    "collapsed": false
   },
   "outputs": [
    {
     "data": {
      "text/plain": [
       "{'Canceled': 0, 'Completed': 0, 'Failed': 0, 'Pending': 10, 'Running': 0}"
      ]
     },
     "execution_count": 1084,
     "metadata": {},
     "output_type": "execute_result"
    }
   ],
   "source": [
    "job.get_status()"
   ]
  },
  {
   "cell_type": "code",
   "execution_count": 1171,
   "metadata": {
    "collapsed": false
   },
   "outputs": [
    {
     "data": {
      "text/html": [
       "<div style=\"max-height:1000px;max-width:1500px;overflow:auto;\"><table frame=\"box\" rules=\"cols\">\n",
       "    <tr>\n",
       "        <th style=\"padding-left: 1em; padding-right: 1em; text-align: center\">model_id</th>\n",
       "        <th style=\"padding-left: 1em; padding-right: 1em; text-align: center\">item_id</th>\n",
       "        <th style=\"padding-left: 1em; padding-right: 1em; text-align: center\">linear_regularization</th>\n",
       "        <th style=\"padding-left: 1em; padding-right: 1em; text-align: center\">max_iterations</th>\n",
       "        <th style=\"padding-left: 1em; padding-right: 1em; text-align: center\">num_factors</th>\n",
       "        <th style=\"padding-left: 1em; padding-right: 1em; text-align: center\">num_sampled_negative_exam<br>ples ...</th>\n",
       "        <th style=\"padding-left: 1em; padding-right: 1em; text-align: center\">ranking_regularization</th>\n",
       "    </tr>\n",
       "    <tr>\n",
       "        <td style=\"padding-left: 1em; padding-right: 1em; text-align: center; vertical-align: top\">9</td>\n",
       "        <td style=\"padding-left: 1em; padding-right: 1em; text-align: center; vertical-align: top\">movie</td>\n",
       "        <td style=\"padding-left: 1em; padding-right: 1em; text-align: center; vertical-align: top\">0.001</td>\n",
       "        <td style=\"padding-left: 1em; padding-right: 1em; text-align: center; vertical-align: top\">50</td>\n",
       "        <td style=\"padding-left: 1em; padding-right: 1em; text-align: center; vertical-align: top\">48</td>\n",
       "        <td style=\"padding-left: 1em; padding-right: 1em; text-align: center; vertical-align: top\">4</td>\n",
       "        <td style=\"padding-left: 1em; padding-right: 1em; text-align: center; vertical-align: top\">0.5</td>\n",
       "    </tr>\n",
       "    <tr>\n",
       "        <td style=\"padding-left: 1em; padding-right: 1em; text-align: center; vertical-align: top\">8</td>\n",
       "        <td style=\"padding-left: 1em; padding-right: 1em; text-align: center; vertical-align: top\">movie</td>\n",
       "        <td style=\"padding-left: 1em; padding-right: 1em; text-align: center; vertical-align: top\">0.001</td>\n",
       "        <td style=\"padding-left: 1em; padding-right: 1em; text-align: center; vertical-align: top\">25</td>\n",
       "        <td style=\"padding-left: 1em; padding-right: 1em; text-align: center; vertical-align: top\">72</td>\n",
       "        <td style=\"padding-left: 1em; padding-right: 1em; text-align: center; vertical-align: top\">8</td>\n",
       "        <td style=\"padding-left: 1em; padding-right: 1em; text-align: center; vertical-align: top\">0.25</td>\n",
       "    </tr>\n",
       "    <tr>\n",
       "        <td style=\"padding-left: 1em; padding-right: 1em; text-align: center; vertical-align: top\">1</td>\n",
       "        <td style=\"padding-left: 1em; padding-right: 1em; text-align: center; vertical-align: top\">movie</td>\n",
       "        <td style=\"padding-left: 1em; padding-right: 1em; text-align: center; vertical-align: top\">0.001</td>\n",
       "        <td style=\"padding-left: 1em; padding-right: 1em; text-align: center; vertical-align: top\">50</td>\n",
       "        <td style=\"padding-left: 1em; padding-right: 1em; text-align: center; vertical-align: top\">24</td>\n",
       "        <td style=\"padding-left: 1em; padding-right: 1em; text-align: center; vertical-align: top\">4</td>\n",
       "        <td style=\"padding-left: 1em; padding-right: 1em; text-align: center; vertical-align: top\">0.5</td>\n",
       "    </tr>\n",
       "    <tr>\n",
       "        <td style=\"padding-left: 1em; padding-right: 1em; text-align: center; vertical-align: top\">0</td>\n",
       "        <td style=\"padding-left: 1em; padding-right: 1em; text-align: center; vertical-align: top\">movie</td>\n",
       "        <td style=\"padding-left: 1em; padding-right: 1em; text-align: center; vertical-align: top\">0.001</td>\n",
       "        <td style=\"padding-left: 1em; padding-right: 1em; text-align: center; vertical-align: top\">25</td>\n",
       "        <td style=\"padding-left: 1em; padding-right: 1em; text-align: center; vertical-align: top\">12</td>\n",
       "        <td style=\"padding-left: 1em; padding-right: 1em; text-align: center; vertical-align: top\">4</td>\n",
       "        <td style=\"padding-left: 1em; padding-right: 1em; text-align: center; vertical-align: top\">0.25</td>\n",
       "    </tr>\n",
       "    <tr>\n",
       "        <td style=\"padding-left: 1em; padding-right: 1em; text-align: center; vertical-align: top\">3</td>\n",
       "        <td style=\"padding-left: 1em; padding-right: 1em; text-align: center; vertical-align: top\">movie</td>\n",
       "        <td style=\"padding-left: 1em; padding-right: 1em; text-align: center; vertical-align: top\">0.001</td>\n",
       "        <td style=\"padding-left: 1em; padding-right: 1em; text-align: center; vertical-align: top\">50</td>\n",
       "        <td style=\"padding-left: 1em; padding-right: 1em; text-align: center; vertical-align: top\">40</td>\n",
       "        <td style=\"padding-left: 1em; padding-right: 1em; text-align: center; vertical-align: top\">4</td>\n",
       "        <td style=\"padding-left: 1em; padding-right: 1em; text-align: center; vertical-align: top\">0.5</td>\n",
       "    </tr>\n",
       "    <tr>\n",
       "        <td style=\"padding-left: 1em; padding-right: 1em; text-align: center; vertical-align: top\">2</td>\n",
       "        <td style=\"padding-left: 1em; padding-right: 1em; text-align: center; vertical-align: top\">movie</td>\n",
       "        <td style=\"padding-left: 1em; padding-right: 1em; text-align: center; vertical-align: top\">0.001</td>\n",
       "        <td style=\"padding-left: 1em; padding-right: 1em; text-align: center; vertical-align: top\">50</td>\n",
       "        <td style=\"padding-left: 1em; padding-right: 1em; text-align: center; vertical-align: top\">8</td>\n",
       "        <td style=\"padding-left: 1em; padding-right: 1em; text-align: center; vertical-align: top\">4</td>\n",
       "        <td style=\"padding-left: 1em; padding-right: 1em; text-align: center; vertical-align: top\">0.25</td>\n",
       "    </tr>\n",
       "    <tr>\n",
       "        <td style=\"padding-left: 1em; padding-right: 1em; text-align: center; vertical-align: top\">5</td>\n",
       "        <td style=\"padding-left: 1em; padding-right: 1em; text-align: center; vertical-align: top\">movie</td>\n",
       "        <td style=\"padding-left: 1em; padding-right: 1em; text-align: center; vertical-align: top\">0.001</td>\n",
       "        <td style=\"padding-left: 1em; padding-right: 1em; text-align: center; vertical-align: top\">25</td>\n",
       "        <td style=\"padding-left: 1em; padding-right: 1em; text-align: center; vertical-align: top\">48</td>\n",
       "        <td style=\"padding-left: 1em; padding-right: 1em; text-align: center; vertical-align: top\">4</td>\n",
       "        <td style=\"padding-left: 1em; padding-right: 1em; text-align: center; vertical-align: top\">0.1</td>\n",
       "    </tr>\n",
       "    <tr>\n",
       "        <td style=\"padding-left: 1em; padding-right: 1em; text-align: center; vertical-align: top\">4</td>\n",
       "        <td style=\"padding-left: 1em; padding-right: 1em; text-align: center; vertical-align: top\">movie</td>\n",
       "        <td style=\"padding-left: 1em; padding-right: 1em; text-align: center; vertical-align: top\">0.001</td>\n",
       "        <td style=\"padding-left: 1em; padding-right: 1em; text-align: center; vertical-align: top\">25</td>\n",
       "        <td style=\"padding-left: 1em; padding-right: 1em; text-align: center; vertical-align: top\">8</td>\n",
       "        <td style=\"padding-left: 1em; padding-right: 1em; text-align: center; vertical-align: top\">8</td>\n",
       "        <td style=\"padding-left: 1em; padding-right: 1em; text-align: center; vertical-align: top\">0.25</td>\n",
       "    </tr>\n",
       "    <tr>\n",
       "        <td style=\"padding-left: 1em; padding-right: 1em; text-align: center; vertical-align: top\">7</td>\n",
       "        <td style=\"padding-left: 1em; padding-right: 1em; text-align: center; vertical-align: top\">movie</td>\n",
       "        <td style=\"padding-left: 1em; padding-right: 1em; text-align: center; vertical-align: top\">0.001</td>\n",
       "        <td style=\"padding-left: 1em; padding-right: 1em; text-align: center; vertical-align: top\">50</td>\n",
       "        <td style=\"padding-left: 1em; padding-right: 1em; text-align: center; vertical-align: top\">16</td>\n",
       "        <td style=\"padding-left: 1em; padding-right: 1em; text-align: center; vertical-align: top\">4</td>\n",
       "        <td style=\"padding-left: 1em; padding-right: 1em; text-align: center; vertical-align: top\">0.5</td>\n",
       "    </tr>\n",
       "    <tr>\n",
       "        <td style=\"padding-left: 1em; padding-right: 1em; text-align: center; vertical-align: top\">6</td>\n",
       "        <td style=\"padding-left: 1em; padding-right: 1em; text-align: center; vertical-align: top\">movie</td>\n",
       "        <td style=\"padding-left: 1em; padding-right: 1em; text-align: center; vertical-align: top\">0.001</td>\n",
       "        <td style=\"padding-left: 1em; padding-right: 1em; text-align: center; vertical-align: top\">25</td>\n",
       "        <td style=\"padding-left: 1em; padding-right: 1em; text-align: center; vertical-align: top\">56</td>\n",
       "        <td style=\"padding-left: 1em; padding-right: 1em; text-align: center; vertical-align: top\">8</td>\n",
       "        <td style=\"padding-left: 1em; padding-right: 1em; text-align: center; vertical-align: top\">0.1</td>\n",
       "    </tr>\n",
       "</table>\n",
       "<table frame=\"box\" rules=\"cols\">\n",
       "    <tr>\n",
       "        <th style=\"padding-left: 1em; padding-right: 1em; text-align: center\">regularization</th>\n",
       "        <th style=\"padding-left: 1em; padding-right: 1em; text-align: center\">target</th>\n",
       "        <th style=\"padding-left: 1em; padding-right: 1em; text-align: center\">user_id</th>\n",
       "        <th style=\"padding-left: 1em; padding-right: 1em; text-align: center\">training_precision@5</th>\n",
       "        <th style=\"padding-left: 1em; padding-right: 1em; text-align: center\">training_recall@5</th>\n",
       "        <th style=\"padding-left: 1em; padding-right: 1em; text-align: center\">training_rmse</th>\n",
       "        <th style=\"padding-left: 1em; padding-right: 1em; text-align: center\">validation_precision@5</th>\n",
       "    </tr>\n",
       "    <tr>\n",
       "        <td style=\"padding-left: 1em; padding-right: 1em; text-align: center; vertical-align: top\">0.001</td>\n",
       "        <td style=\"padding-left: 1em; padding-right: 1em; text-align: center; vertical-align: top\">rating</td>\n",
       "        <td style=\"padding-left: 1em; padding-right: 1em; text-align: center; vertical-align: top\">user</td>\n",
       "        <td style=\"padding-left: 1em; padding-right: 1em; text-align: center; vertical-align: top\">0.356986754967</td>\n",
       "        <td style=\"padding-left: 1em; padding-right: 1em; text-align: center; vertical-align: top\">0.015935120991</td>\n",
       "        <td style=\"padding-left: 1em; padding-right: 1em; text-align: center; vertical-align: top\">0.989595777496</td>\n",
       "        <td style=\"padding-left: 1em; padding-right: 1em; text-align: center; vertical-align: top\">0.148</td>\n",
       "    </tr>\n",
       "    <tr>\n",
       "        <td style=\"padding-left: 1em; padding-right: 1em; text-align: center; vertical-align: top\">0.001</td>\n",
       "        <td style=\"padding-left: 1em; padding-right: 1em; text-align: center; vertical-align: top\">rating</td>\n",
       "        <td style=\"padding-left: 1em; padding-right: 1em; text-align: center; vertical-align: top\">user</td>\n",
       "        <td style=\"padding-left: 1em; padding-right: 1em; text-align: center; vertical-align: top\">0.394039735099</td>\n",
       "        <td style=\"padding-left: 1em; padding-right: 1em; text-align: center; vertical-align: top\">0.0190262206911</td>\n",
       "        <td style=\"padding-left: 1em; padding-right: 1em; text-align: center; vertical-align: top\">0.978526911048</td>\n",
       "        <td style=\"padding-left: 1em; padding-right: 1em; text-align: center; vertical-align: top\">0.148</td>\n",
       "    </tr>\n",
       "    <tr>\n",
       "        <td style=\"padding-left: 1em; padding-right: 1em; text-align: center; vertical-align: top\">0.001</td>\n",
       "        <td style=\"padding-left: 1em; padding-right: 1em; text-align: center; vertical-align: top\">rating</td>\n",
       "        <td style=\"padding-left: 1em; padding-right: 1em; text-align: center; vertical-align: top\">user</td>\n",
       "        <td style=\"padding-left: 1em; padding-right: 1em; text-align: center; vertical-align: top\">0.351390728477</td>\n",
       "        <td style=\"padding-left: 1em; padding-right: 1em; text-align: center; vertical-align: top\">0.0155437984304</td>\n",
       "        <td style=\"padding-left: 1em; padding-right: 1em; text-align: center; vertical-align: top\">0.994745895348</td>\n",
       "        <td style=\"padding-left: 1em; padding-right: 1em; text-align: center; vertical-align: top\">0.136</td>\n",
       "    </tr>\n",
       "    <tr>\n",
       "        <td style=\"padding-left: 1em; padding-right: 1em; text-align: center; vertical-align: top\">0.001</td>\n",
       "        <td style=\"padding-left: 1em; padding-right: 1em; text-align: center; vertical-align: top\">rating</td>\n",
       "        <td style=\"padding-left: 1em; padding-right: 1em; text-align: center; vertical-align: top\">user</td>\n",
       "        <td style=\"padding-left: 1em; padding-right: 1em; text-align: center; vertical-align: top\">0.389768211921</td>\n",
       "        <td style=\"padding-left: 1em; padding-right: 1em; text-align: center; vertical-align: top\">0.0188614275931</td>\n",
       "        <td style=\"padding-left: 1em; padding-right: 1em; text-align: center; vertical-align: top\">0.973188723318</td>\n",
       "        <td style=\"padding-left: 1em; padding-right: 1em; text-align: center; vertical-align: top\">0.152</td>\n",
       "    </tr>\n",
       "    <tr>\n",
       "        <td style=\"padding-left: 1em; padding-right: 1em; text-align: center; vertical-align: top\">0.001</td>\n",
       "        <td style=\"padding-left: 1em; padding-right: 1em; text-align: center; vertical-align: top\">rating</td>\n",
       "        <td style=\"padding-left: 1em; padding-right: 1em; text-align: center; vertical-align: top\">user</td>\n",
       "        <td style=\"padding-left: 1em; padding-right: 1em; text-align: center; vertical-align: top\">0.354139072848</td>\n",
       "        <td style=\"padding-left: 1em; padding-right: 1em; text-align: center; vertical-align: top\">0.0157390749507</td>\n",
       "        <td style=\"padding-left: 1em; padding-right: 1em; text-align: center; vertical-align: top\">0.989263415436</td>\n",
       "        <td style=\"padding-left: 1em; padding-right: 1em; text-align: center; vertical-align: top\">0.144</td>\n",
       "    </tr>\n",
       "    <tr>\n",
       "        <td style=\"padding-left: 1em; padding-right: 1em; text-align: center; vertical-align: top\">0.001</td>\n",
       "        <td style=\"padding-left: 1em; padding-right: 1em; text-align: center; vertical-align: top\">rating</td>\n",
       "        <td style=\"padding-left: 1em; padding-right: 1em; text-align: center; vertical-align: top\">user</td>\n",
       "        <td style=\"padding-left: 1em; padding-right: 1em; text-align: center; vertical-align: top\">0.376589403974</td>\n",
       "        <td style=\"padding-left: 1em; padding-right: 1em; text-align: center; vertical-align: top\">0.0178459232059</td>\n",
       "        <td style=\"padding-left: 1em; padding-right: 1em; text-align: center; vertical-align: top\">0.972293696545</td>\n",
       "        <td style=\"padding-left: 1em; padding-right: 1em; text-align: center; vertical-align: top\">0.154</td>\n",
       "    </tr>\n",
       "    <tr>\n",
       "        <td style=\"padding-left: 1em; padding-right: 1em; text-align: center; vertical-align: top\">0.001</td>\n",
       "        <td style=\"padding-left: 1em; padding-right: 1em; text-align: center; vertical-align: top\">rating</td>\n",
       "        <td style=\"padding-left: 1em; padding-right: 1em; text-align: center; vertical-align: top\">user</td>\n",
       "        <td style=\"padding-left: 1em; padding-right: 1em; text-align: center; vertical-align: top\">0.383543046358</td>\n",
       "        <td style=\"padding-left: 1em; padding-right: 1em; text-align: center; vertical-align: top\">0.0184218119545</td>\n",
       "        <td style=\"padding-left: 1em; padding-right: 1em; text-align: center; vertical-align: top\">0.952701673632</td>\n",
       "        <td style=\"padding-left: 1em; padding-right: 1em; text-align: center; vertical-align: top\">0.138</td>\n",
       "    </tr>\n",
       "    <tr>\n",
       "        <td style=\"padding-left: 1em; padding-right: 1em; text-align: center; vertical-align: top\">0.001</td>\n",
       "        <td style=\"padding-left: 1em; padding-right: 1em; text-align: center; vertical-align: top\">rating</td>\n",
       "        <td style=\"padding-left: 1em; padding-right: 1em; text-align: center; vertical-align: top\">user</td>\n",
       "        <td style=\"padding-left: 1em; padding-right: 1em; text-align: center; vertical-align: top\">0.400165562914</td>\n",
       "        <td style=\"padding-left: 1em; padding-right: 1em; text-align: center; vertical-align: top\">0.0190656447473</td>\n",
       "        <td style=\"padding-left: 1em; padding-right: 1em; text-align: center; vertical-align: top\">0.987003555923</td>\n",
       "        <td style=\"padding-left: 1em; padding-right: 1em; text-align: center; vertical-align: top\">0.16</td>\n",
       "    </tr>\n",
       "    <tr>\n",
       "        <td style=\"padding-left: 1em; padding-right: 1em; text-align: center; vertical-align: top\">0.001</td>\n",
       "        <td style=\"padding-left: 1em; padding-right: 1em; text-align: center; vertical-align: top\">rating</td>\n",
       "        <td style=\"padding-left: 1em; padding-right: 1em; text-align: center; vertical-align: top\">user</td>\n",
       "        <td style=\"padding-left: 1em; padding-right: 1em; text-align: center; vertical-align: top\">0.348774834437</td>\n",
       "        <td style=\"padding-left: 1em; padding-right: 1em; text-align: center; vertical-align: top\">0.0153816518762</td>\n",
       "        <td style=\"padding-left: 1em; padding-right: 1em; text-align: center; vertical-align: top\">0.998402319655</td>\n",
       "        <td style=\"padding-left: 1em; padding-right: 1em; text-align: center; vertical-align: top\">0.134</td>\n",
       "    </tr>\n",
       "    <tr>\n",
       "        <td style=\"padding-left: 1em; padding-right: 1em; text-align: center; vertical-align: top\">0.001</td>\n",
       "        <td style=\"padding-left: 1em; padding-right: 1em; text-align: center; vertical-align: top\">rating</td>\n",
       "        <td style=\"padding-left: 1em; padding-right: 1em; text-align: center; vertical-align: top\">user</td>\n",
       "        <td style=\"padding-left: 1em; padding-right: 1em; text-align: center; vertical-align: top\">0.401456953642</td>\n",
       "        <td style=\"padding-left: 1em; padding-right: 1em; text-align: center; vertical-align: top\">0.01967891266</td>\n",
       "        <td style=\"padding-left: 1em; padding-right: 1em; text-align: center; vertical-align: top\">0.953834074064</td>\n",
       "        <td style=\"padding-left: 1em; padding-right: 1em; text-align: center; vertical-align: top\">0.144</td>\n",
       "    </tr>\n",
       "</table>\n",
       "<table frame=\"box\" rules=\"cols\">\n",
       "    <tr>\n",
       "        <th style=\"padding-left: 1em; padding-right: 1em; text-align: center\">validation_recall@5</th>\n",
       "        <th style=\"padding-left: 1em; padding-right: 1em; text-align: center\">validation_rmse</th>\n",
       "    </tr>\n",
       "    <tr>\n",
       "        <td style=\"padding-left: 1em; padding-right: 1em; text-align: center; vertical-align: top\">0.0235726933136</td>\n",
       "        <td style=\"padding-left: 1em; padding-right: 1em; text-align: center; vertical-align: top\">1.02466401865</td>\n",
       "    </tr>\n",
       "    <tr>\n",
       "        <td style=\"padding-left: 1em; padding-right: 1em; text-align: center; vertical-align: top\">0.0202214189242</td>\n",
       "        <td style=\"padding-left: 1em; padding-right: 1em; text-align: center; vertical-align: top\">1.00602579782</td>\n",
       "    </tr>\n",
       "    <tr>\n",
       "        <td style=\"padding-left: 1em; padding-right: 1em; text-align: center; vertical-align: top\">0.0222011734762</td>\n",
       "        <td style=\"padding-left: 1em; padding-right: 1em; text-align: center; vertical-align: top\">1.02947644248</td>\n",
       "    </tr>\n",
       "    <tr>\n",
       "        <td style=\"padding-left: 1em; padding-right: 1em; text-align: center; vertical-align: top\">0.0225933779043</td>\n",
       "        <td style=\"padding-left: 1em; padding-right: 1em; text-align: center; vertical-align: top\">1.00047201139</td>\n",
       "    </tr>\n",
       "    <tr>\n",
       "        <td style=\"padding-left: 1em; padding-right: 1em; text-align: center; vertical-align: top\">0.0238024409669</td>\n",
       "        <td style=\"padding-left: 1em; padding-right: 1em; text-align: center; vertical-align: top\">1.02328479959</td>\n",
       "    </tr>\n",
       "    <tr>\n",
       "        <td style=\"padding-left: 1em; padding-right: 1em; text-align: center; vertical-align: top\">0.0248692673016</td>\n",
       "        <td style=\"padding-left: 1em; padding-right: 1em; text-align: center; vertical-align: top\">1.00039254677</td>\n",
       "    </tr>\n",
       "    <tr>\n",
       "        <td style=\"padding-left: 1em; padding-right: 1em; text-align: center; vertical-align: top\">0.0242531704475</td>\n",
       "        <td style=\"padding-left: 1em; padding-right: 1em; text-align: center; vertical-align: top\">0.971985857441</td>\n",
       "    </tr>\n",
       "    <tr>\n",
       "        <td style=\"padding-left: 1em; padding-right: 1em; text-align: center; vertical-align: top\">0.0256925282164</td>\n",
       "        <td style=\"padding-left: 1em; padding-right: 1em; text-align: center; vertical-align: top\">1.0128369509</td>\n",
       "    </tr>\n",
       "    <tr>\n",
       "        <td style=\"padding-left: 1em; padding-right: 1em; text-align: center; vertical-align: top\">0.0229191387824</td>\n",
       "        <td style=\"padding-left: 1em; padding-right: 1em; text-align: center; vertical-align: top\">1.03271382248</td>\n",
       "    </tr>\n",
       "    <tr>\n",
       "        <td style=\"padding-left: 1em; padding-right: 1em; text-align: center; vertical-align: top\">0.0240288518902</td>\n",
       "        <td style=\"padding-left: 1em; padding-right: 1em; text-align: center; vertical-align: top\">0.971837107941</td>\n",
       "    </tr>\n",
       "</table>\n",
       "[10 rows x 16 columns]<br/>\n",
       "</div>"
      ],
      "text/plain": [
       "Columns:\n",
       "\tmodel_id\tint\n",
       "\titem_id\tstr\n",
       "\tlinear_regularization\tfloat\n",
       "\tmax_iterations\tint\n",
       "\tnum_factors\tint\n",
       "\tnum_sampled_negative_examples\tint\n",
       "\tranking_regularization\tfloat\n",
       "\tregularization\tfloat\n",
       "\ttarget\tstr\n",
       "\tuser_id\tstr\n",
       "\ttraining_precision@5\tfloat\n",
       "\ttraining_recall@5\tfloat\n",
       "\ttraining_rmse\tfloat\n",
       "\tvalidation_precision@5\tfloat\n",
       "\tvalidation_recall@5\tfloat\n",
       "\tvalidation_rmse\tfloat\n",
       "\n",
       "Rows: 10\n",
       "\n",
       "Data:\n",
       "+----------+---------+-----------------------+----------------+-------------+-------------------------------+\n",
       "| model_id | item_id | linear_regularization | max_iterations | num_factors | num_sampled_negative_examples |\n",
       "+----------+---------+-----------------------+----------------+-------------+-------------------------------+\n",
       "|    9     |  movie  |         0.001         |       50       |      48     |               4               |\n",
       "|    8     |  movie  |         0.001         |       25       |      72     |               8               |\n",
       "|    1     |  movie  |         0.001         |       50       |      24     |               4               |\n",
       "|    0     |  movie  |         0.001         |       25       |      12     |               4               |\n",
       "|    3     |  movie  |         0.001         |       50       |      40     |               4               |\n",
       "|    2     |  movie  |         0.001         |       50       |      8      |               4               |\n",
       "|    5     |  movie  |         0.001         |       25       |      48     |               4               |\n",
       "|    4     |  movie  |         0.001         |       25       |      8      |               8               |\n",
       "|    7     |  movie  |         0.001         |       50       |      16     |               4               |\n",
       "|    6     |  movie  |         0.001         |       25       |      56     |               8               |\n",
       "+----------+---------+-----------------------+----------------+-------------+-------------------------------+\n",
       "+------------------------+----------------+--------+---------+----------------------+\n",
       "| ranking_regularization | regularization | target | user_id | training_precision@5 |\n",
       "+------------------------+----------------+--------+---------+----------------------+\n",
       "|          0.5           |     0.001      | rating |   user  |    0.356986754967    |\n",
       "|          0.25          |     0.001      | rating |   user  |    0.394039735099    |\n",
       "|          0.5           |     0.001      | rating |   user  |    0.351390728477    |\n",
       "|          0.25          |     0.001      | rating |   user  |    0.389768211921    |\n",
       "|          0.5           |     0.001      | rating |   user  |    0.354139072848    |\n",
       "|          0.25          |     0.001      | rating |   user  |    0.376589403974    |\n",
       "|          0.1           |     0.001      | rating |   user  |    0.383543046358    |\n",
       "|          0.25          |     0.001      | rating |   user  |    0.400165562914    |\n",
       "|          0.5           |     0.001      | rating |   user  |    0.348774834437    |\n",
       "|          0.1           |     0.001      | rating |   user  |    0.401456953642    |\n",
       "+------------------------+----------------+--------+---------+----------------------+\n",
       "+-------------------+----------------+------------------------+---------------------+\n",
       "| training_recall@5 | training_rmse  | validation_precision@5 | validation_recall@5 |\n",
       "+-------------------+----------------+------------------------+---------------------+\n",
       "|   0.015935120991  | 0.989595777496 |         0.148          |   0.0235726933136   |\n",
       "|  0.0190262206911  | 0.978526911048 |         0.148          |   0.0202214189242   |\n",
       "|  0.0155437984304  | 0.994745895348 |         0.136          |   0.0222011734762   |\n",
       "|  0.0188614275931  | 0.973188723318 |         0.152          |   0.0225933779043   |\n",
       "|  0.0157390749507  | 0.989263415436 |         0.144          |   0.0238024409669   |\n",
       "|  0.0178459232059  | 0.972293696545 |         0.154          |   0.0248692673016   |\n",
       "|  0.0184218119545  | 0.952701673632 |         0.138          |   0.0242531704475   |\n",
       "|  0.0190656447473  | 0.987003555923 |          0.16          |   0.0256925282164   |\n",
       "|  0.0153816518762  | 0.998402319655 |         0.134          |   0.0229191387824   |\n",
       "|   0.01967891266   | 0.953834074064 |         0.144          |   0.0240288518902   |\n",
       "+-------------------+----------------+------------------------+---------------------+\n",
       "+-----------------+\n",
       "| validation_rmse |\n",
       "+-----------------+\n",
       "|  1.02466401865  |\n",
       "|  1.00602579782  |\n",
       "|  1.02947644248  |\n",
       "|  1.00047201139  |\n",
       "|  1.02328479959  |\n",
       "|  1.00039254677  |\n",
       "|  0.971985857441 |\n",
       "|   1.0128369509  |\n",
       "|  1.03271382248  |\n",
       "|  0.971837107941 |\n",
       "+-----------------+\n",
       "[10 rows x 16 columns]"
      ]
     },
     "execution_count": 1171,
     "metadata": {},
     "output_type": "execute_result"
    }
   ],
   "source": [
    "job_result = job.get_results()\n",
    "\n",
    "job_result.head()"
   ]
  },
  {
   "cell_type": "code",
   "execution_count": 1086,
   "metadata": {
    "collapsed": false
   },
   "outputs": [
    {
     "data": {
      "text/plain": [
       "[Class                            : RankingFactorizationRecommender\n",
       " \n",
       " Schema\n",
       " ------\n",
       " User ID                          : user\n",
       " Item ID                          : movie\n",
       " Target                           : rating\n",
       " Additional observation features  : 3\n",
       " User side features               : []\n",
       " Item side features               : []\n",
       " \n",
       " Statistics\n",
       " ----------\n",
       " Number of observations           : 933461\n",
       " Number of users                  : 6040\n",
       " Number of items                  : 3512\n",
       " \n",
       " Training summary\n",
       " ----------------\n",
       " Training time                    : 60.8007\n",
       " \n",
       " Model Parameters\n",
       " ----------------\n",
       " Model class                      : RankingFactorizationRecommender\n",
       " num_factors                      : 12\n",
       " binary_target                    : 0\n",
       " side_data_factorization          : 1\n",
       " solver                           : auto\n",
       " nmf                              : 0\n",
       " max_iterations                   : 25\n",
       " \n",
       " Regularization Settings\n",
       " -----------------------\n",
       " regularization                   : 0.001\n",
       " regularization_type              : normal\n",
       " linear_regularization            : 0.001\n",
       " ranking_regularization           : 0.25\n",
       " unobserved_rating_value          : -1.79769313486e+308\n",
       " num_sampled_negative_examples    : 4\n",
       " ials_confidence_scaling_type     : auto\n",
       " ials_confidence_scaling_factor   : 1\n",
       " \n",
       " Optimization Settings\n",
       " ---------------------\n",
       " init_random_sigma                : 0.01\n",
       " sgd_convergence_interval         : 4\n",
       " sgd_convergence_threshold        : 0.0\n",
       " sgd_max_trial_iterations         : 5\n",
       " sgd_sampling_block_size          : 131072\n",
       " sgd_step_adjustment_interval     : 4\n",
       " sgd_step_size                    : 0.0\n",
       " sgd_trial_sample_minimum_size    : 10000\n",
       " sgd_trial_sample_proportion      : 0.125\n",
       " step_size_decrease_rate          : 0.75\n",
       " additional_iterations_if_unhealthy : 5\n",
       " adagrad_momentum_weighting       : 0.9\n",
       " num_tempering_iterations         : 4\n",
       " tempering_regularization_start_value : 0.0\n",
       " track_exact_loss                 : 0,\n",
       " Class                            : RankingFactorizationRecommender\n",
       " \n",
       " Schema\n",
       " ------\n",
       " User ID                          : user\n",
       " Item ID                          : movie\n",
       " Target                           : rating\n",
       " Additional observation features  : 3\n",
       " User side features               : []\n",
       " Item side features               : []\n",
       " \n",
       " Statistics\n",
       " ----------\n",
       " Number of observations           : 933461\n",
       " Number of users                  : 6040\n",
       " Number of items                  : 3512\n",
       " \n",
       " Training summary\n",
       " ----------------\n",
       " Training time                    : 114.6042\n",
       " \n",
       " Model Parameters\n",
       " ----------------\n",
       " Model class                      : RankingFactorizationRecommender\n",
       " num_factors                      : 24\n",
       " binary_target                    : 0\n",
       " side_data_factorization          : 1\n",
       " solver                           : auto\n",
       " nmf                              : 0\n",
       " max_iterations                   : 50\n",
       " \n",
       " Regularization Settings\n",
       " -----------------------\n",
       " regularization                   : 0.001\n",
       " regularization_type              : normal\n",
       " linear_regularization            : 0.001\n",
       " ranking_regularization           : 0.5\n",
       " unobserved_rating_value          : -1.79769313486e+308\n",
       " num_sampled_negative_examples    : 4\n",
       " ials_confidence_scaling_type     : auto\n",
       " ials_confidence_scaling_factor   : 1\n",
       " \n",
       " Optimization Settings\n",
       " ---------------------\n",
       " init_random_sigma                : 0.01\n",
       " sgd_convergence_interval         : 4\n",
       " sgd_convergence_threshold        : 0.0\n",
       " sgd_max_trial_iterations         : 5\n",
       " sgd_sampling_block_size          : 131072\n",
       " sgd_step_adjustment_interval     : 4\n",
       " sgd_step_size                    : 0.0\n",
       " sgd_trial_sample_minimum_size    : 10000\n",
       " sgd_trial_sample_proportion      : 0.125\n",
       " step_size_decrease_rate          : 0.75\n",
       " additional_iterations_if_unhealthy : 5\n",
       " adagrad_momentum_weighting       : 0.9\n",
       " num_tempering_iterations         : 4\n",
       " tempering_regularization_start_value : 0.0\n",
       " track_exact_loss                 : 0,\n",
       " Class                            : RankingFactorizationRecommender\n",
       " \n",
       " Schema\n",
       " ------\n",
       " User ID                          : user\n",
       " Item ID                          : movie\n",
       " Target                           : rating\n",
       " Additional observation features  : 3\n",
       " User side features               : []\n",
       " Item side features               : []\n",
       " \n",
       " Statistics\n",
       " ----------\n",
       " Number of observations           : 933461\n",
       " Number of users                  : 6040\n",
       " Number of items                  : 3512\n",
       " \n",
       " Training summary\n",
       " ----------------\n",
       " Training time                    : 63.656\n",
       " \n",
       " Model Parameters\n",
       " ----------------\n",
       " Model class                      : RankingFactorizationRecommender\n",
       " num_factors                      : 8\n",
       " binary_target                    : 0\n",
       " side_data_factorization          : 1\n",
       " solver                           : auto\n",
       " nmf                              : 0\n",
       " max_iterations                   : 50\n",
       " \n",
       " Regularization Settings\n",
       " -----------------------\n",
       " regularization                   : 0.001\n",
       " regularization_type              : normal\n",
       " linear_regularization            : 0.001\n",
       " ranking_regularization           : 0.25\n",
       " unobserved_rating_value          : -1.79769313486e+308\n",
       " num_sampled_negative_examples    : 4\n",
       " ials_confidence_scaling_type     : auto\n",
       " ials_confidence_scaling_factor   : 1\n",
       " \n",
       " Optimization Settings\n",
       " ---------------------\n",
       " init_random_sigma                : 0.01\n",
       " sgd_convergence_interval         : 4\n",
       " sgd_convergence_threshold        : 0.0\n",
       " sgd_max_trial_iterations         : 5\n",
       " sgd_sampling_block_size          : 131072\n",
       " sgd_step_adjustment_interval     : 4\n",
       " sgd_step_size                    : 0.0\n",
       " sgd_trial_sample_minimum_size    : 10000\n",
       " sgd_trial_sample_proportion      : 0.125\n",
       " step_size_decrease_rate          : 0.75\n",
       " additional_iterations_if_unhealthy : 5\n",
       " adagrad_momentum_weighting       : 0.9\n",
       " num_tempering_iterations         : 4\n",
       " tempering_regularization_start_value : 0.0\n",
       " track_exact_loss                 : 0,\n",
       " Class                            : RankingFactorizationRecommender\n",
       " \n",
       " Schema\n",
       " ------\n",
       " User ID                          : user\n",
       " Item ID                          : movie\n",
       " Target                           : rating\n",
       " Additional observation features  : 3\n",
       " User side features               : []\n",
       " Item side features               : []\n",
       " \n",
       " Statistics\n",
       " ----------\n",
       " Number of observations           : 933461\n",
       " Number of users                  : 6040\n",
       " Number of items                  : 3512\n",
       " \n",
       " Training summary\n",
       " ----------------\n",
       " Training time                    : 148.7143\n",
       " \n",
       " Model Parameters\n",
       " ----------------\n",
       " Model class                      : RankingFactorizationRecommender\n",
       " num_factors                      : 40\n",
       " binary_target                    : 0\n",
       " side_data_factorization          : 1\n",
       " solver                           : auto\n",
       " nmf                              : 0\n",
       " max_iterations                   : 50\n",
       " \n",
       " Regularization Settings\n",
       " -----------------------\n",
       " regularization                   : 0.001\n",
       " regularization_type              : normal\n",
       " linear_regularization            : 0.001\n",
       " ranking_regularization           : 0.5\n",
       " unobserved_rating_value          : -1.79769313486e+308\n",
       " num_sampled_negative_examples    : 4\n",
       " ials_confidence_scaling_type     : auto\n",
       " ials_confidence_scaling_factor   : 1\n",
       " \n",
       " Optimization Settings\n",
       " ---------------------\n",
       " init_random_sigma                : 0.01\n",
       " sgd_convergence_interval         : 4\n",
       " sgd_convergence_threshold        : 0.0\n",
       " sgd_max_trial_iterations         : 5\n",
       " sgd_sampling_block_size          : 131072\n",
       " sgd_step_adjustment_interval     : 4\n",
       " sgd_step_size                    : 0.0\n",
       " sgd_trial_sample_minimum_size    : 10000\n",
       " sgd_trial_sample_proportion      : 0.125\n",
       " step_size_decrease_rate          : 0.75\n",
       " additional_iterations_if_unhealthy : 5\n",
       " adagrad_momentum_weighting       : 0.9\n",
       " num_tempering_iterations         : 4\n",
       " tempering_regularization_start_value : 0.0\n",
       " track_exact_loss                 : 0,\n",
       " Class                            : RankingFactorizationRecommender\n",
       " \n",
       " Schema\n",
       " ------\n",
       " User ID                          : user\n",
       " Item ID                          : movie\n",
       " Target                           : rating\n",
       " Additional observation features  : 3\n",
       " User side features               : []\n",
       " Item side features               : []\n",
       " \n",
       " Statistics\n",
       " ----------\n",
       " Number of observations           : 933461\n",
       " Number of users                  : 6040\n",
       " Number of items                  : 3512\n",
       " \n",
       " Training summary\n",
       " ----------------\n",
       " Training time                    : 35.4064\n",
       " \n",
       " Model Parameters\n",
       " ----------------\n",
       " Model class                      : RankingFactorizationRecommender\n",
       " num_factors                      : 8\n",
       " binary_target                    : 0\n",
       " side_data_factorization          : 1\n",
       " solver                           : auto\n",
       " nmf                              : 0\n",
       " max_iterations                   : 25\n",
       " \n",
       " Regularization Settings\n",
       " -----------------------\n",
       " regularization                   : 0.001\n",
       " regularization_type              : normal\n",
       " linear_regularization            : 0.001\n",
       " ranking_regularization           : 0.25\n",
       " unobserved_rating_value          : -1.79769313486e+308\n",
       " num_sampled_negative_examples    : 8\n",
       " ials_confidence_scaling_type     : auto\n",
       " ials_confidence_scaling_factor   : 1\n",
       " \n",
       " Optimization Settings\n",
       " ---------------------\n",
       " init_random_sigma                : 0.01\n",
       " sgd_convergence_interval         : 4\n",
       " sgd_convergence_threshold        : 0.0\n",
       " sgd_max_trial_iterations         : 5\n",
       " sgd_sampling_block_size          : 131072\n",
       " sgd_step_adjustment_interval     : 4\n",
       " sgd_step_size                    : 0.0\n",
       " sgd_trial_sample_minimum_size    : 10000\n",
       " sgd_trial_sample_proportion      : 0.125\n",
       " step_size_decrease_rate          : 0.75\n",
       " additional_iterations_if_unhealthy : 5\n",
       " adagrad_momentum_weighting       : 0.9\n",
       " num_tempering_iterations         : 4\n",
       " tempering_regularization_start_value : 0.0\n",
       " track_exact_loss                 : 0,\n",
       " Class                            : RankingFactorizationRecommender\n",
       " \n",
       " Schema\n",
       " ------\n",
       " User ID                          : user\n",
       " Item ID                          : movie\n",
       " Target                           : rating\n",
       " Additional observation features  : 3\n",
       " User side features               : []\n",
       " Item side features               : []\n",
       " \n",
       " Statistics\n",
       " ----------\n",
       " Number of observations           : 933461\n",
       " Number of users                  : 6040\n",
       " Number of items                  : 3512\n",
       " \n",
       " Training summary\n",
       " ----------------\n",
       " Training time                    : 83.2362\n",
       " \n",
       " Model Parameters\n",
       " ----------------\n",
       " Model class                      : RankingFactorizationRecommender\n",
       " num_factors                      : 48\n",
       " binary_target                    : 0\n",
       " side_data_factorization          : 1\n",
       " solver                           : auto\n",
       " nmf                              : 0\n",
       " max_iterations                   : 25\n",
       " \n",
       " Regularization Settings\n",
       " -----------------------\n",
       " regularization                   : 0.001\n",
       " regularization_type              : normal\n",
       " linear_regularization            : 0.001\n",
       " ranking_regularization           : 0.1\n",
       " unobserved_rating_value          : -1.79769313486e+308\n",
       " num_sampled_negative_examples    : 4\n",
       " ials_confidence_scaling_type     : auto\n",
       " ials_confidence_scaling_factor   : 1\n",
       " \n",
       " Optimization Settings\n",
       " ---------------------\n",
       " init_random_sigma                : 0.01\n",
       " sgd_convergence_interval         : 4\n",
       " sgd_convergence_threshold        : 0.0\n",
       " sgd_max_trial_iterations         : 5\n",
       " sgd_sampling_block_size          : 131072\n",
       " sgd_step_adjustment_interval     : 4\n",
       " sgd_step_size                    : 0.0\n",
       " sgd_trial_sample_minimum_size    : 10000\n",
       " sgd_trial_sample_proportion      : 0.125\n",
       " step_size_decrease_rate          : 0.75\n",
       " additional_iterations_if_unhealthy : 5\n",
       " adagrad_momentum_weighting       : 0.9\n",
       " num_tempering_iterations         : 4\n",
       " tempering_regularization_start_value : 0.0\n",
       " track_exact_loss                 : 0,\n",
       " Class                            : RankingFactorizationRecommender\n",
       " \n",
       " Schema\n",
       " ------\n",
       " User ID                          : user\n",
       " Item ID                          : movie\n",
       " Target                           : rating\n",
       " Additional observation features  : 3\n",
       " User side features               : []\n",
       " Item side features               : []\n",
       " \n",
       " Statistics\n",
       " ----------\n",
       " Number of observations           : 933461\n",
       " Number of users                  : 6040\n",
       " Number of items                  : 3512\n",
       " \n",
       " Training summary\n",
       " ----------------\n",
       " Training time                    : 128.0186\n",
       " \n",
       " Model Parameters\n",
       " ----------------\n",
       " Model class                      : RankingFactorizationRecommender\n",
       " num_factors                      : 56\n",
       " binary_target                    : 0\n",
       " side_data_factorization          : 1\n",
       " solver                           : auto\n",
       " nmf                              : 0\n",
       " max_iterations                   : 25\n",
       " \n",
       " Regularization Settings\n",
       " -----------------------\n",
       " regularization                   : 0.001\n",
       " regularization_type              : normal\n",
       " linear_regularization            : 0.001\n",
       " ranking_regularization           : 0.1\n",
       " unobserved_rating_value          : -1.79769313486e+308\n",
       " num_sampled_negative_examples    : 8\n",
       " ials_confidence_scaling_type     : auto\n",
       " ials_confidence_scaling_factor   : 1\n",
       " \n",
       " Optimization Settings\n",
       " ---------------------\n",
       " init_random_sigma                : 0.01\n",
       " sgd_convergence_interval         : 4\n",
       " sgd_convergence_threshold        : 0.0\n",
       " sgd_max_trial_iterations         : 5\n",
       " sgd_sampling_block_size          : 131072\n",
       " sgd_step_adjustment_interval     : 4\n",
       " sgd_step_size                    : 0.0\n",
       " sgd_trial_sample_minimum_size    : 10000\n",
       " sgd_trial_sample_proportion      : 0.125\n",
       " step_size_decrease_rate          : 0.75\n",
       " additional_iterations_if_unhealthy : 5\n",
       " adagrad_momentum_weighting       : 0.9\n",
       " num_tempering_iterations         : 4\n",
       " tempering_regularization_start_value : 0.0\n",
       " track_exact_loss                 : 0,\n",
       " Class                            : RankingFactorizationRecommender\n",
       " \n",
       " Schema\n",
       " ------\n",
       " User ID                          : user\n",
       " Item ID                          : movie\n",
       " Target                           : rating\n",
       " Additional observation features  : 3\n",
       " User side features               : []\n",
       " Item side features               : []\n",
       " \n",
       " Statistics\n",
       " ----------\n",
       " Number of observations           : 933461\n",
       " Number of users                  : 6040\n",
       " Number of items                  : 3512\n",
       " \n",
       " Training summary\n",
       " ----------------\n",
       " Training time                    : 101.8217\n",
       " \n",
       " Model Parameters\n",
       " ----------------\n",
       " Model class                      : RankingFactorizationRecommender\n",
       " num_factors                      : 16\n",
       " binary_target                    : 0\n",
       " side_data_factorization          : 1\n",
       " solver                           : auto\n",
       " nmf                              : 0\n",
       " max_iterations                   : 50\n",
       " \n",
       " Regularization Settings\n",
       " -----------------------\n",
       " regularization                   : 0.001\n",
       " regularization_type              : normal\n",
       " linear_regularization            : 0.001\n",
       " ranking_regularization           : 0.5\n",
       " unobserved_rating_value          : -1.79769313486e+308\n",
       " num_sampled_negative_examples    : 4\n",
       " ials_confidence_scaling_type     : auto\n",
       " ials_confidence_scaling_factor   : 1\n",
       " \n",
       " Optimization Settings\n",
       " ---------------------\n",
       " init_random_sigma                : 0.01\n",
       " sgd_convergence_interval         : 4\n",
       " sgd_convergence_threshold        : 0.0\n",
       " sgd_max_trial_iterations         : 5\n",
       " sgd_sampling_block_size          : 131072\n",
       " sgd_step_adjustment_interval     : 4\n",
       " sgd_step_size                    : 0.0\n",
       " sgd_trial_sample_minimum_size    : 10000\n",
       " sgd_trial_sample_proportion      : 0.125\n",
       " step_size_decrease_rate          : 0.75\n",
       " additional_iterations_if_unhealthy : 5\n",
       " adagrad_momentum_weighting       : 0.9\n",
       " num_tempering_iterations         : 4\n",
       " tempering_regularization_start_value : 0.0\n",
       " track_exact_loss                 : 0,\n",
       " Class                            : RankingFactorizationRecommender\n",
       " \n",
       " Schema\n",
       " ------\n",
       " User ID                          : user\n",
       " Item ID                          : movie\n",
       " Target                           : rating\n",
       " Additional observation features  : 3\n",
       " User side features               : []\n",
       " Item side features               : []\n",
       " \n",
       " Statistics\n",
       " ----------\n",
       " Number of observations           : 933461\n",
       " Number of users                  : 6040\n",
       " Number of items                  : 3512\n",
       " \n",
       " Training summary\n",
       " ----------------\n",
       " Training time                    : 143.7377\n",
       " \n",
       " Model Parameters\n",
       " ----------------\n",
       " Model class                      : RankingFactorizationRecommender\n",
       " num_factors                      : 72\n",
       " binary_target                    : 0\n",
       " side_data_factorization          : 1\n",
       " solver                           : auto\n",
       " nmf                              : 0\n",
       " max_iterations                   : 25\n",
       " \n",
       " Regularization Settings\n",
       " -----------------------\n",
       " regularization                   : 0.001\n",
       " regularization_type              : normal\n",
       " linear_regularization            : 0.001\n",
       " ranking_regularization           : 0.25\n",
       " unobserved_rating_value          : -1.79769313486e+308\n",
       " num_sampled_negative_examples    : 8\n",
       " ials_confidence_scaling_type     : auto\n",
       " ials_confidence_scaling_factor   : 1\n",
       " \n",
       " Optimization Settings\n",
       " ---------------------\n",
       " init_random_sigma                : 0.01\n",
       " sgd_convergence_interval         : 4\n",
       " sgd_convergence_threshold        : 0.0\n",
       " sgd_max_trial_iterations         : 5\n",
       " sgd_sampling_block_size          : 131072\n",
       " sgd_step_adjustment_interval     : 4\n",
       " sgd_step_size                    : 0.0\n",
       " sgd_trial_sample_minimum_size    : 10000\n",
       " sgd_trial_sample_proportion      : 0.125\n",
       " step_size_decrease_rate          : 0.75\n",
       " additional_iterations_if_unhealthy : 5\n",
       " adagrad_momentum_weighting       : 0.9\n",
       " num_tempering_iterations         : 4\n",
       " tempering_regularization_start_value : 0.0\n",
       " track_exact_loss                 : 0,\n",
       " Class                            : RankingFactorizationRecommender\n",
       " \n",
       " Schema\n",
       " ------\n",
       " User ID                          : user\n",
       " Item ID                          : movie\n",
       " Target                           : rating\n",
       " Additional observation features  : 3\n",
       " User side features               : []\n",
       " Item side features               : []\n",
       " \n",
       " Statistics\n",
       " ----------\n",
       " Number of observations           : 933461\n",
       " Number of users                  : 6040\n",
       " Number of items                  : 3512\n",
       " \n",
       " Training summary\n",
       " ----------------\n",
       " Training time                    : 195.3767\n",
       " \n",
       " Model Parameters\n",
       " ----------------\n",
       " Model class                      : RankingFactorizationRecommender\n",
       " num_factors                      : 48\n",
       " binary_target                    : 0\n",
       " side_data_factorization          : 1\n",
       " solver                           : auto\n",
       " nmf                              : 0\n",
       " max_iterations                   : 50\n",
       " \n",
       " Regularization Settings\n",
       " -----------------------\n",
       " regularization                   : 0.001\n",
       " regularization_type              : normal\n",
       " linear_regularization            : 0.001\n",
       " ranking_regularization           : 0.5\n",
       " unobserved_rating_value          : -1.79769313486e+308\n",
       " num_sampled_negative_examples    : 4\n",
       " ials_confidence_scaling_type     : auto\n",
       " ials_confidence_scaling_factor   : 1\n",
       " \n",
       " Optimization Settings\n",
       " ---------------------\n",
       " init_random_sigma                : 0.01\n",
       " sgd_convergence_interval         : 4\n",
       " sgd_convergence_threshold        : 0.0\n",
       " sgd_max_trial_iterations         : 5\n",
       " sgd_sampling_block_size          : 131072\n",
       " sgd_step_adjustment_interval     : 4\n",
       " sgd_step_size                    : 0.0\n",
       " sgd_trial_sample_minimum_size    : 10000\n",
       " sgd_trial_sample_proportion      : 0.125\n",
       " step_size_decrease_rate          : 0.75\n",
       " additional_iterations_if_unhealthy : 5\n",
       " adagrad_momentum_weighting       : 0.9\n",
       " num_tempering_iterations         : 4\n",
       " tempering_regularization_start_value : 0.0\n",
       " track_exact_loss                 : 0]"
      ]
     },
     "execution_count": 1086,
     "metadata": {},
     "output_type": "execute_result"
    }
   ],
   "source": [
    "models = job.get_models()\n",
    "models"
   ]
  },
  {
   "cell_type": "code",
   "execution_count": 1093,
   "metadata": {
    "collapsed": false
   },
   "outputs": [
    {
     "data": {
      "text/plain": [
       "Class                            : RankingFactorizationRecommender\n",
       "\n",
       "Schema\n",
       "------\n",
       "User ID                          : user\n",
       "Item ID                          : movie\n",
       "Target                           : rating\n",
       "Additional observation features  : 3\n",
       "User side features               : []\n",
       "Item side features               : []\n",
       "\n",
       "Statistics\n",
       "----------\n",
       "Number of observations           : 933461\n",
       "Number of users                  : 6040\n",
       "Number of items                  : 3512\n",
       "\n",
       "Training summary\n",
       "----------------\n",
       "Training time                    : 128.0186\n",
       "\n",
       "Model Parameters\n",
       "----------------\n",
       "Model class                      : RankingFactorizationRecommender\n",
       "num_factors                      : 56\n",
       "binary_target                    : 0\n",
       "side_data_factorization          : 1\n",
       "solver                           : auto\n",
       "nmf                              : 0\n",
       "max_iterations                   : 25\n",
       "\n",
       "Regularization Settings\n",
       "-----------------------\n",
       "regularization                   : 0.001\n",
       "regularization_type              : normal\n",
       "linear_regularization            : 0.001\n",
       "ranking_regularization           : 0.1\n",
       "unobserved_rating_value          : -1.79769313486e+308\n",
       "num_sampled_negative_examples    : 8\n",
       "ials_confidence_scaling_type     : auto\n",
       "ials_confidence_scaling_factor   : 1\n",
       "\n",
       "Optimization Settings\n",
       "---------------------\n",
       "init_random_sigma                : 0.01\n",
       "sgd_convergence_interval         : 4\n",
       "sgd_convergence_threshold        : 0.0\n",
       "sgd_max_trial_iterations         : 5\n",
       "sgd_sampling_block_size          : 131072\n",
       "sgd_step_adjustment_interval     : 4\n",
       "sgd_step_size                    : 0.0\n",
       "sgd_trial_sample_minimum_size    : 10000\n",
       "sgd_trial_sample_proportion      : 0.125\n",
       "step_size_decrease_rate          : 0.75\n",
       "additional_iterations_if_unhealthy : 5\n",
       "adagrad_momentum_weighting       : 0.9\n",
       "num_tempering_iterations         : 4\n",
       "tempering_regularization_start_value : 0.0\n",
       "track_exact_loss                 : 0"
      ]
     },
     "execution_count": 1093,
     "metadata": {},
     "output_type": "execute_result"
    }
   ],
   "source": [
    "models[6]"
   ]
  },
  {
   "cell_type": "code",
   "execution_count": 1089,
   "metadata": {
    "collapsed": false
   },
   "outputs": [
    {
     "data": {
      "text/plain": [
       "{'item_id': 'movie',\n",
       " 'linear_regularization': 0.001,\n",
       " 'max_iterations': 25,\n",
       " 'num_factors': 56,\n",
       " 'num_sampled_negative_examples': 8,\n",
       " 'ranking_regularization': 0.1,\n",
       " 'regularization': 0.001,\n",
       " 'target': 'rating',\n",
       " 'user_id': 'user'}"
      ]
     },
     "execution_count": 1089,
     "metadata": {},
     "output_type": "execute_result"
    }
   ],
   "source": [
    "bst_prms = job.get_best_params()\n",
    "bst_prms"
   ]
  },
  {
   "cell_type": "markdown",
   "metadata": {},
   "source": [
    "### Model 3: User-Item Ranking Factorization with Tuning and Optimization of Best Parameters"
   ]
  },
  {
   "cell_type": "code",
   "execution_count": 1094,
   "metadata": {
    "collapsed": false
   },
   "outputs": [
    {
     "data": {
      "text/html": [
       "<pre>Recsys training: model = ranking_factorization_recommender</pre>"
      ],
      "text/plain": [
       "Recsys training: model = ranking_factorization_recommender"
      ]
     },
     "metadata": {},
     "output_type": "display_data"
    },
    {
     "data": {
      "text/html": [
       "<pre>Preparing data set.</pre>"
      ],
      "text/plain": [
       "Preparing data set."
      ]
     },
     "metadata": {},
     "output_type": "display_data"
    },
    {
     "data": {
      "text/html": [
       "<pre>    Data has 933461 observations with 6040 users and 3732 items.</pre>"
      ],
      "text/plain": [
       "    Data has 933461 observations with 6040 users and 3732 items."
      ]
     },
     "metadata": {},
     "output_type": "display_data"
    },
    {
     "data": {
      "text/html": [
       "<pre>    Data prepared in: 1.70822s</pre>"
      ],
      "text/plain": [
       "    Data prepared in: 1.70822s"
      ]
     },
     "metadata": {},
     "output_type": "display_data"
    },
    {
     "data": {
      "text/html": [
       "<pre>Training ranking_factorization_recommender for recommendations.</pre>"
      ],
      "text/plain": [
       "Training ranking_factorization_recommender for recommendations."
      ]
     },
     "metadata": {},
     "output_type": "display_data"
    },
    {
     "data": {
      "text/html": [
       "<pre>+--------------------------------+--------------------------------------------------+----------+</pre>"
      ],
      "text/plain": [
       "+--------------------------------+--------------------------------------------------+----------+"
      ]
     },
     "metadata": {},
     "output_type": "display_data"
    },
    {
     "data": {
      "text/html": [
       "<pre>| Parameter                      | Description                                      | Value    |</pre>"
      ],
      "text/plain": [
       "| Parameter                      | Description                                      | Value    |"
      ]
     },
     "metadata": {},
     "output_type": "display_data"
    },
    {
     "data": {
      "text/html": [
       "<pre>+--------------------------------+--------------------------------------------------+----------+</pre>"
      ],
      "text/plain": [
       "+--------------------------------+--------------------------------------------------+----------+"
      ]
     },
     "metadata": {},
     "output_type": "display_data"
    },
    {
     "data": {
      "text/html": [
       "<pre>| num_factors                    | Factor Dimension                                 | 56       |</pre>"
      ],
      "text/plain": [
       "| num_factors                    | Factor Dimension                                 | 56       |"
      ]
     },
     "metadata": {},
     "output_type": "display_data"
    },
    {
     "data": {
      "text/html": [
       "<pre>| regularization                 | L2 Regularization on Factors                     | 0.001    |</pre>"
      ],
      "text/plain": [
       "| regularization                 | L2 Regularization on Factors                     | 0.001    |"
      ]
     },
     "metadata": {},
     "output_type": "display_data"
    },
    {
     "data": {
      "text/html": [
       "<pre>| solver                         | Solver used for training                         | adagrad  |</pre>"
      ],
      "text/plain": [
       "| solver                         | Solver used for training                         | adagrad  |"
      ]
     },
     "metadata": {},
     "output_type": "display_data"
    },
    {
     "data": {
      "text/html": [
       "<pre>| linear_regularization          | L2 Regularization on Linear Coefficients         | 0.001    |</pre>"
      ],
      "text/plain": [
       "| linear_regularization          | L2 Regularization on Linear Coefficients         | 0.001    |"
      ]
     },
     "metadata": {},
     "output_type": "display_data"
    },
    {
     "data": {
      "text/html": [
       "<pre>| ranking_regularization         | Rank-based Regularization Weight                 | 0.1      |</pre>"
      ],
      "text/plain": [
       "| ranking_regularization         | Rank-based Regularization Weight                 | 0.1      |"
      ]
     },
     "metadata": {},
     "output_type": "display_data"
    },
    {
     "data": {
      "text/html": [
       "<pre>| num_sampled_negative_examples  | # Negative Samples Considered per Observation    | 8        |</pre>"
      ],
      "text/plain": [
       "| num_sampled_negative_examples  | # Negative Samples Considered per Observation    | 8        |"
      ]
     },
     "metadata": {},
     "output_type": "display_data"
    },
    {
     "data": {
      "text/html": [
       "<pre>| side_data_factorization        | Assign Factors for Side Data                     | True     |</pre>"
      ],
      "text/plain": [
       "| side_data_factorization        | Assign Factors for Side Data                     | True     |"
      ]
     },
     "metadata": {},
     "output_type": "display_data"
    },
    {
     "data": {
      "text/html": [
       "<pre>| max_iterations                 | Maximum Number of Iterations                     | 25       |</pre>"
      ],
      "text/plain": [
       "| max_iterations                 | Maximum Number of Iterations                     | 25       |"
      ]
     },
     "metadata": {},
     "output_type": "display_data"
    },
    {
     "data": {
      "text/html": [
       "<pre>+--------------------------------+--------------------------------------------------+----------+</pre>"
      ],
      "text/plain": [
       "+--------------------------------+--------------------------------------------------+----------+"
      ]
     },
     "metadata": {},
     "output_type": "display_data"
    },
    {
     "data": {
      "text/html": [
       "<pre>  Optimizing model using SGD; tuning step size.</pre>"
      ],
      "text/plain": [
       "  Optimizing model using SGD; tuning step size."
      ]
     },
     "metadata": {},
     "output_type": "display_data"
    },
    {
     "data": {
      "text/html": [
       "<pre>  Using 116682 / 933461 points for tuning the step size.</pre>"
      ],
      "text/plain": [
       "  Using 116682 / 933461 points for tuning the step size."
      ]
     },
     "metadata": {},
     "output_type": "display_data"
    },
    {
     "data": {
      "text/html": [
       "<pre>+---------+-------------------+------------------------------------------+</pre>"
      ],
      "text/plain": [
       "+---------+-------------------+------------------------------------------+"
      ]
     },
     "metadata": {},
     "output_type": "display_data"
    },
    {
     "data": {
      "text/html": [
       "<pre>| Attempt | Initial Step Size | Estimated Objective Value                |</pre>"
      ],
      "text/plain": [
       "| Attempt | Initial Step Size | Estimated Objective Value                |"
      ]
     },
     "metadata": {},
     "output_type": "display_data"
    },
    {
     "data": {
      "text/html": [
       "<pre>+---------+-------------------+------------------------------------------+</pre>"
      ],
      "text/plain": [
       "+---------+-------------------+------------------------------------------+"
      ]
     },
     "metadata": {},
     "output_type": "display_data"
    },
    {
     "data": {
      "text/html": [
       "<pre>| 0       | 0.0789319         | Not Viable                               |</pre>"
      ],
      "text/plain": [
       "| 0       | 0.0789319         | Not Viable                               |"
      ]
     },
     "metadata": {},
     "output_type": "display_data"
    },
    {
     "data": {
      "text/html": [
       "<pre>| 1       | 0.019733          | Not Viable                               |</pre>"
      ],
      "text/plain": [
       "| 1       | 0.019733          | Not Viable                               |"
      ]
     },
     "metadata": {},
     "output_type": "display_data"
    },
    {
     "data": {
      "text/html": [
       "<pre>| 2       | 0.00493324        | 1.64521                                  |</pre>"
      ],
      "text/plain": [
       "| 2       | 0.00493324        | 1.64521                                  |"
      ]
     },
     "metadata": {},
     "output_type": "display_data"
    },
    {
     "data": {
      "text/html": [
       "<pre>| 3       | 0.00246662        | 1.60245                                  |</pre>"
      ],
      "text/plain": [
       "| 3       | 0.00246662        | 1.60245                                  |"
      ]
     },
     "metadata": {},
     "output_type": "display_data"
    },
    {
     "data": {
      "text/html": [
       "<pre>| 4       | 0.00123331        | 1.61707                                  |</pre>"
      ],
      "text/plain": [
       "| 4       | 0.00123331        | 1.61707                                  |"
      ]
     },
     "metadata": {},
     "output_type": "display_data"
    },
    {
     "data": {
      "text/html": [
       "<pre>| 5       | 0.000616655       | 1.64281                                  |</pre>"
      ],
      "text/plain": [
       "| 5       | 0.000616655       | 1.64281                                  |"
      ]
     },
     "metadata": {},
     "output_type": "display_data"
    },
    {
     "data": {
      "text/html": [
       "<pre>| 6       | 0.000308328       | 1.66541                                  |</pre>"
      ],
      "text/plain": [
       "| 6       | 0.000308328       | 1.66541                                  |"
      ]
     },
     "metadata": {},
     "output_type": "display_data"
    },
    {
     "data": {
      "text/html": [
       "<pre>+---------+-------------------+------------------------------------------+</pre>"
      ],
      "text/plain": [
       "+---------+-------------------+------------------------------------------+"
      ]
     },
     "metadata": {},
     "output_type": "display_data"
    },
    {
     "data": {
      "text/html": [
       "<pre>| Final   | 0.00246662        | 1.60245                                  |</pre>"
      ],
      "text/plain": [
       "| Final   | 0.00246662        | 1.60245                                  |"
      ]
     },
     "metadata": {},
     "output_type": "display_data"
    },
    {
     "data": {
      "text/html": [
       "<pre>+---------+-------------------+------------------------------------------+</pre>"
      ],
      "text/plain": [
       "+---------+-------------------+------------------------------------------+"
      ]
     },
     "metadata": {},
     "output_type": "display_data"
    },
    {
     "data": {
      "text/html": [
       "<pre>Starting Optimization.</pre>"
      ],
      "text/plain": [
       "Starting Optimization."
      ]
     },
     "metadata": {},
     "output_type": "display_data"
    },
    {
     "data": {
      "text/html": [
       "<pre>+---------+--------------+-------------------+-----------------------+-------------+</pre>"
      ],
      "text/plain": [
       "+---------+--------------+-------------------+-----------------------+-------------+"
      ]
     },
     "metadata": {},
     "output_type": "display_data"
    },
    {
     "data": {
      "text/html": [
       "<pre>| Iter.   | Elapsed Time | Approx. Objective | Approx. Training RMSE | Step Size   |</pre>"
      ],
      "text/plain": [
       "| Iter.   | Elapsed Time | Approx. Objective | Approx. Training RMSE | Step Size   |"
      ]
     },
     "metadata": {},
     "output_type": "display_data"
    },
    {
     "data": {
      "text/html": [
       "<pre>+---------+--------------+-------------------+-----------------------+-------------+</pre>"
      ],
      "text/plain": [
       "+---------+--------------+-------------------+-----------------------+-------------+"
      ]
     },
     "metadata": {},
     "output_type": "display_data"
    },
    {
     "data": {
      "text/html": [
       "<pre>| Initial | 501us        | 1.69378           | 1.10612               |             |</pre>"
      ],
      "text/plain": [
       "| Initial | 501us        | 1.69378           | 1.10612               |             |"
      ]
     },
     "metadata": {},
     "output_type": "display_data"
    },
    {
     "data": {
      "text/html": [
       "<pre>+---------+--------------+-------------------+-----------------------+-------------+</pre>"
      ],
      "text/plain": [
       "+---------+--------------+-------------------+-----------------------+-------------+"
      ]
     },
     "metadata": {},
     "output_type": "display_data"
    },
    {
     "data": {
      "text/html": [
       "<pre>| 1       | 38.43s       | 1.61212           | 1.06891               | 0.00246662  |</pre>"
      ],
      "text/plain": [
       "| 1       | 38.43s       | 1.61212           | 1.06891               | 0.00246662  |"
      ]
     },
     "metadata": {},
     "output_type": "display_data"
    },
    {
     "data": {
      "text/html": [
       "<pre>| 2       | 1m 23s       | 1.63052           | 1.07077               | 0.00246662  |</pre>"
      ],
      "text/plain": [
       "| 2       | 1m 23s       | 1.63052           | 1.07077               | 0.00246662  |"
      ]
     },
     "metadata": {},
     "output_type": "display_data"
    },
    {
     "data": {
      "text/html": [
       "<pre>| 3       | 1m 58s       | 1.60142           | 1.05457               | 0.00246662  |</pre>"
      ],
      "text/plain": [
       "| 3       | 1m 58s       | 1.60142           | 1.05457               | 0.00246662  |"
      ]
     },
     "metadata": {},
     "output_type": "display_data"
    },
    {
     "data": {
      "text/html": [
       "<pre>| 4       | 2m 35s       | 1.61285           | 1.0501                | 0.00246662  |</pre>"
      ],
      "text/plain": [
       "| 4       | 2m 35s       | 1.61285           | 1.0501                | 0.00246662  |"
      ]
     },
     "metadata": {},
     "output_type": "display_data"
    },
    {
     "data": {
      "text/html": [
       "<pre>| 5       | 3m 18s       | 1.65486           | 1.059                 | 0.00246662  |</pre>"
      ],
      "text/plain": [
       "| 5       | 3m 18s       | 1.65486           | 1.059                 | 0.00246662  |"
      ]
     },
     "metadata": {},
     "output_type": "display_data"
    },
    {
     "data": {
      "text/html": [
       "<pre>| 6       | 4m 3s        | 1.77546           | 1.09257               | 0.00246662  |</pre>"
      ],
      "text/plain": [
       "| 6       | 4m 3s        | 1.77546           | 1.09257               | 0.00246662  |"
      ]
     },
     "metadata": {},
     "output_type": "display_data"
    },
    {
     "data": {
      "text/html": [
       "<pre>| 7       | 4m 39s       | 2.05563           | 1.18246               | 0.00246662  |</pre>"
      ],
      "text/plain": [
       "| 7       | 4m 39s       | 2.05563           | 1.18246               | 0.00246662  |"
      ]
     },
     "metadata": {},
     "output_type": "display_data"
    },
    {
     "data": {
      "text/html": [
       "<pre>| 8       | 5m 18s       | 2.537             | 1.30732               | 0.00246662  |</pre>"
      ],
      "text/plain": [
       "| 8       | 5m 18s       | 2.537             | 1.30732               | 0.00246662  |"
      ]
     },
     "metadata": {},
     "output_type": "display_data"
    },
    {
     "data": {
      "text/html": [
       "<pre>| 9       | 6m 12s       | DIVERGED          | DIVERGED              | 0.00246662  |</pre>"
      ],
      "text/plain": [
       "| 9       | 6m 12s       | DIVERGED          | DIVERGED              | 0.00246662  |"
      ]
     },
     "metadata": {},
     "output_type": "display_data"
    },
    {
     "data": {
      "text/html": [
       "<pre>| RESET   | 6m 29s       | 1.694             | 1.10615               |             |</pre>"
      ],
      "text/plain": [
       "| RESET   | 6m 29s       | 1.694             | 1.10615               |             |"
      ]
     },
     "metadata": {},
     "output_type": "display_data"
    },
    {
     "data": {
      "text/html": [
       "<pre>| 1       | 7m 8s        | 1.65031           | 1.07973               | 0.00123331  |</pre>"
      ],
      "text/plain": [
       "| 1       | 7m 8s        | 1.65031           | 1.07973               | 0.00123331  |"
      ]
     },
     "metadata": {},
     "output_type": "display_data"
    },
    {
     "data": {
      "text/html": [
       "<pre>| 2       | 7m 45s       | 1.63789           | 1.07748               | 0.00123331  |</pre>"
      ],
      "text/plain": [
       "| 2       | 7m 45s       | 1.63789           | 1.07748               | 0.00123331  |"
      ]
     },
     "metadata": {},
     "output_type": "display_data"
    },
    {
     "data": {
      "text/html": [
       "<pre>| 3       | 8m 24s       | 1.62192           | 1.06982               | 0.00123331  |</pre>"
      ],
      "text/plain": [
       "| 3       | 8m 24s       | 1.62192           | 1.06982               | 0.00123331  |"
      ]
     },
     "metadata": {},
     "output_type": "display_data"
    },
    {
     "data": {
      "text/html": [
       "<pre>| 4       | 9m 0s        | 1.61354           | 1.06439               | 0.00123331  |</pre>"
      ],
      "text/plain": [
       "| 4       | 9m 0s        | 1.61354           | 1.06439               | 0.00123331  |"
      ]
     },
     "metadata": {},
     "output_type": "display_data"
    },
    {
     "data": {
      "text/html": [
       "<pre>| 5       | 9m 39s       | 1.60607           | 1.06019               | 0.00123331  |</pre>"
      ],
      "text/plain": [
       "| 5       | 9m 39s       | 1.60607           | 1.06019               | 0.00123331  |"
      ]
     },
     "metadata": {},
     "output_type": "display_data"
    },
    {
     "data": {
      "text/html": [
       "<pre>| 6       | 10m 15s      | 1.60387           | 1.05719               | 0.00123331  |</pre>"
      ],
      "text/plain": [
       "| 6       | 10m 15s      | 1.60387           | 1.05719               | 0.00123331  |"
      ]
     },
     "metadata": {},
     "output_type": "display_data"
    },
    {
     "data": {
      "text/html": [
       "<pre>| 7       | 10m 53s      | 1.59589           | 1.05248               | 0.00123331  |</pre>"
      ],
      "text/plain": [
       "| 7       | 10m 53s      | 1.59589           | 1.05248               | 0.00123331  |"
      ]
     },
     "metadata": {},
     "output_type": "display_data"
    },
    {
     "data": {
      "text/html": [
       "<pre>| 8       | 11m 30s      | 1.59606           | 1.05028               | 0.00123331  |</pre>"
      ],
      "text/plain": [
       "| 8       | 11m 30s      | 1.59606           | 1.05028               | 0.00123331  |"
      ]
     },
     "metadata": {},
     "output_type": "display_data"
    },
    {
     "data": {
      "text/html": [
       "<pre>| 9       | 12m 11s      | 1.59347           | 1.04747               | 0.00123331  |</pre>"
      ],
      "text/plain": [
       "| 9       | 12m 11s      | 1.59347           | 1.04747               | 0.00123331  |"
      ]
     },
     "metadata": {},
     "output_type": "display_data"
    },
    {
     "data": {
      "text/html": [
       "<pre>| 10      | 12m 50s      | 1.59103           | 1.04441               | 0.00123331  |</pre>"
      ],
      "text/plain": [
       "| 10      | 12m 50s      | 1.59103           | 1.04441               | 0.00123331  |"
      ]
     },
     "metadata": {},
     "output_type": "display_data"
    },
    {
     "data": {
      "text/html": [
       "<pre>| 11      | 13m 27s      | 1.59703           | 1.04443               | 0.00123331  |</pre>"
      ],
      "text/plain": [
       "| 11      | 13m 27s      | 1.59703           | 1.04443               | 0.00123331  |"
      ]
     },
     "metadata": {},
     "output_type": "display_data"
    },
    {
     "data": {
      "text/html": [
       "<pre>| 12      | 14m 4s       | 1.59682           | 1.0425                | 0.00123331  |</pre>"
      ],
      "text/plain": [
       "| 12      | 14m 4s       | 1.59682           | 1.0425                | 0.00123331  |"
      ]
     },
     "metadata": {},
     "output_type": "display_data"
    },
    {
     "data": {
      "text/html": [
       "<pre>| 13      | 14m 41s      | 1.59817           | 1.04111               | 0.00123331  |</pre>"
      ],
      "text/plain": [
       "| 13      | 14m 41s      | 1.59817           | 1.04111               | 0.00123331  |"
      ]
     },
     "metadata": {},
     "output_type": "display_data"
    },
    {
     "data": {
      "text/html": [
       "<pre>| 14      | 15m 22s      | 1.59922           | 1.03973               | 0.00123331  |</pre>"
      ],
      "text/plain": [
       "| 14      | 15m 22s      | 1.59922           | 1.03973               | 0.00123331  |"
      ]
     },
     "metadata": {},
     "output_type": "display_data"
    },
    {
     "data": {
      "text/html": [
       "<pre>| 15      | 15m 58s      | 1.60795           | 1.04108               | 0.00123331  |</pre>"
      ],
      "text/plain": [
       "| 15      | 15m 58s      | 1.60795           | 1.04108               | 0.00123331  |"
      ]
     },
     "metadata": {},
     "output_type": "display_data"
    },
    {
     "data": {
      "text/html": [
       "<pre>| 16      | 16m 35s      | 1.61023           | 1.04026               | 0.00123331  |</pre>"
      ],
      "text/plain": [
       "| 16      | 16m 35s      | 1.61023           | 1.04026               | 0.00123331  |"
      ]
     },
     "metadata": {},
     "output_type": "display_data"
    },
    {
     "data": {
      "text/html": [
       "<pre>| 17      | 17m 14s      | 1.6155            | 1.04045               | 0.00123331  |</pre>"
      ],
      "text/plain": [
       "| 17      | 17m 14s      | 1.6155            | 1.04045               | 0.00123331  |"
      ]
     },
     "metadata": {},
     "output_type": "display_data"
    },
    {
     "data": {
      "text/html": [
       "<pre>| 18      | 17m 51s      | 1.61519           | 1.0387                | 0.00123331  |</pre>"
      ],
      "text/plain": [
       "| 18      | 17m 51s      | 1.61519           | 1.0387                | 0.00123331  |"
      ]
     },
     "metadata": {},
     "output_type": "display_data"
    },
    {
     "data": {
      "text/html": [
       "<pre>| 19      | 18m 36s      | 1.622             | 1.03966               | 0.00123331  |</pre>"
      ],
      "text/plain": [
       "| 19      | 18m 36s      | 1.622             | 1.03966               | 0.00123331  |"
      ]
     },
     "metadata": {},
     "output_type": "display_data"
    },
    {
     "data": {
      "text/html": [
       "<pre>| 20      | 19m 13s      | 1.62543           | 1.03938               | 0.00123331  |</pre>"
      ],
      "text/plain": [
       "| 20      | 19m 13s      | 1.62543           | 1.03938               | 0.00123331  |"
      ]
     },
     "metadata": {},
     "output_type": "display_data"
    },
    {
     "data": {
      "text/html": [
       "<pre>| 21      | 19m 50s      | 1.63214           | 1.04048               | 0.00123331  |</pre>"
      ],
      "text/plain": [
       "| 21      | 19m 50s      | 1.63214           | 1.04048               | 0.00123331  |"
      ]
     },
     "metadata": {},
     "output_type": "display_data"
    },
    {
     "data": {
      "text/html": [
       "<pre>+---------+--------------+-------------------+-----------------------+-------------+</pre>"
      ],
      "text/plain": [
       "+---------+--------------+-------------------+-----------------------+-------------+"
      ]
     },
     "metadata": {},
     "output_type": "display_data"
    },
    {
     "data": {
      "text/html": [
       "<pre>Optimization Complete: Maximum number of passes through the data reached (hard limit).</pre>"
      ],
      "text/plain": [
       "Optimization Complete: Maximum number of passes through the data reached (hard limit)."
      ]
     },
     "metadata": {},
     "output_type": "display_data"
    },
    {
     "data": {
      "text/html": [
       "<pre>Computing final objective value and training RMSE.</pre>"
      ],
      "text/plain": [
       "Computing final objective value and training RMSE."
      ]
     },
     "metadata": {},
     "output_type": "display_data"
    },
    {
     "data": {
      "text/html": [
       "<pre>       Final objective value: 1.63275</pre>"
      ],
      "text/plain": [
       "       Final objective value: 1.63275"
      ]
     },
     "metadata": {},
     "output_type": "display_data"
    },
    {
     "data": {
      "text/html": [
       "<pre>       Final training RMSE: 1.03762</pre>"
      ],
      "text/plain": [
       "       Final training RMSE: 1.03762"
      ]
     },
     "metadata": {},
     "output_type": "display_data"
    },
    {
     "name": "stdout",
     "output_type": "stream",
     "text": [
      "\n",
      "Precision and recall summary statistics by cutoff\n",
      "+--------+----------------+------------------+\n",
      "| cutoff | mean_precision |   mean_recall    |\n",
      "+--------+----------------+------------------+\n",
      "|   1    |      0.14      | 0.00338913953434 |\n",
      "|   2    |     0.145      | 0.00959184629413 |\n",
      "|   3    |      0.13      | 0.0113816810997  |\n",
      "|   4    |     0.1375     | 0.0161581328612  |\n",
      "|   5    |     0.146      | 0.0257204829802  |\n",
      "|   6    |     0.145      | 0.0316692466165  |\n",
      "|   7    | 0.138571428571 | 0.0342851473543  |\n",
      "|   8    |    0.13375     | 0.0377354809934  |\n",
      "|   9    | 0.127777777778 | 0.0403621593696  |\n",
      "|   10   |     0.124      | 0.0436160317676  |\n",
      "+--------+----------------+------------------+\n",
      "[10 rows x 3 columns]\n",
      "\n",
      "('\\nOverall RMSE: ', 1.0347673013130234)\n",
      "\n",
      "Per User RMSE (best)\n",
      "+------+-------+----------------+\n",
      "| user | count |      rmse      |\n",
      "+------+-------+----------------+\n",
      "| 4536 |   2   | 0.109056620619 |\n",
      "+------+-------+----------------+\n",
      "[1 rows x 3 columns]\n",
      "\n",
      "\n",
      "Per User RMSE (worst)\n",
      "+------+-------+--------------+\n",
      "| user | count |     rmse     |\n",
      "+------+-------+--------------+\n",
      "| 1989 |   7   | 1.9732955549 |\n",
      "+------+-------+--------------+\n",
      "[1 rows x 3 columns]\n",
      "\n",
      "\n",
      "Per Item RMSE (best)\n",
      "+-------------------+-------+-----------------+\n",
      "|       movie       | count |       rmse      |\n",
      "+-------------------+-------+-----------------+\n",
      "| Dreamscape (1984) |   1   | 0.0015442710003 |\n",
      "+-------------------+-------+-----------------+\n",
      "[1 rows x 3 columns]\n",
      "\n",
      "\n",
      "Per Item RMSE (worst)\n",
      "+-------------------+-------+---------------+\n",
      "|       movie       | count |      rmse     |\n",
      "+-------------------+-------+---------------+\n",
      "| Psycho III (1986) |   1   | 3.02716279106 |\n",
      "+-------------------+-------+---------------+\n",
      "[1 rows x 3 columns]\n",
      "\n"
     ]
    }
   ],
   "source": [
    "rec3 = gl.recommender.ranking_factorization_recommender.create(train, \n",
    "                                  user_id=\"user\", \n",
    "                                  item_id=\"movie\", \n",
    "                                  target=\"rating\",\n",
    "                                  user_data=users,\n",
    "                                  item_data=genre,\n",
    "                                  side_data_factorization=True,                             \n",
    "                                  max_iterations=25,\n",
    "                                  num_factors=56,                 \n",
    "                                  regularization=0.001,\n",
    "                                  ranking_regularization = 0.1,    \n",
    "                                  linear_regularization = 0.001,\n",
    "                                  num_sampled_negative_examples = 8)\n",
    "rmse_results = rec3.evaluate(test)"
   ]
  },
  {
   "cell_type": "markdown",
   "metadata": {},
   "source": [
    "### Model 4: User-Item Factorization "
   ]
  },
  {
   "cell_type": "code",
   "execution_count": 1126,
   "metadata": {
    "collapsed": false,
    "scrolled": true
   },
   "outputs": [
    {
     "data": {
      "text/html": [
       "<pre>Recsys training: model = factorization_recommender</pre>"
      ],
      "text/plain": [
       "Recsys training: model = factorization_recommender"
      ]
     },
     "metadata": {},
     "output_type": "display_data"
    },
    {
     "data": {
      "text/html": [
       "<pre>Preparing data set.</pre>"
      ],
      "text/plain": [
       "Preparing data set."
      ]
     },
     "metadata": {},
     "output_type": "display_data"
    },
    {
     "data": {
      "text/html": [
       "<pre>    Data has 933461 observations with 6040 users and 3732 items.</pre>"
      ],
      "text/plain": [
       "    Data has 933461 observations with 6040 users and 3732 items."
      ]
     },
     "metadata": {},
     "output_type": "display_data"
    },
    {
     "data": {
      "text/html": [
       "<pre>    Data prepared in: 1.91063s</pre>"
      ],
      "text/plain": [
       "    Data prepared in: 1.91063s"
      ]
     },
     "metadata": {},
     "output_type": "display_data"
    },
    {
     "data": {
      "text/html": [
       "<pre>Training factorization_recommender for recommendations.</pre>"
      ],
      "text/plain": [
       "Training factorization_recommender for recommendations."
      ]
     },
     "metadata": {},
     "output_type": "display_data"
    },
    {
     "data": {
      "text/html": [
       "<pre>+--------------------------------+--------------------------------------------------+----------+</pre>"
      ],
      "text/plain": [
       "+--------------------------------+--------------------------------------------------+----------+"
      ]
     },
     "metadata": {},
     "output_type": "display_data"
    },
    {
     "data": {
      "text/html": [
       "<pre>| Parameter                      | Description                                      | Value    |</pre>"
      ],
      "text/plain": [
       "| Parameter                      | Description                                      | Value    |"
      ]
     },
     "metadata": {},
     "output_type": "display_data"
    },
    {
     "data": {
      "text/html": [
       "<pre>+--------------------------------+--------------------------------------------------+----------+</pre>"
      ],
      "text/plain": [
       "+--------------------------------+--------------------------------------------------+----------+"
      ]
     },
     "metadata": {},
     "output_type": "display_data"
    },
    {
     "data": {
      "text/html": [
       "<pre>| num_factors                    | Factor Dimension                                 | 8        |</pre>"
      ],
      "text/plain": [
       "| num_factors                    | Factor Dimension                                 | 8        |"
      ]
     },
     "metadata": {},
     "output_type": "display_data"
    },
    {
     "data": {
      "text/html": [
       "<pre>| regularization                 | L2 Regularization on Factors                     | 1e-008   |</pre>"
      ],
      "text/plain": [
       "| regularization                 | L2 Regularization on Factors                     | 1e-008   |"
      ]
     },
     "metadata": {},
     "output_type": "display_data"
    },
    {
     "data": {
      "text/html": [
       "<pre>| solver                         | Solver used for training                         | adagrad  |</pre>"
      ],
      "text/plain": [
       "| solver                         | Solver used for training                         | adagrad  |"
      ]
     },
     "metadata": {},
     "output_type": "display_data"
    },
    {
     "data": {
      "text/html": [
       "<pre>| linear_regularization          | L2 Regularization on Linear Coefficients         | 1e-010   |</pre>"
      ],
      "text/plain": [
       "| linear_regularization          | L2 Regularization on Linear Coefficients         | 1e-010   |"
      ]
     },
     "metadata": {},
     "output_type": "display_data"
    },
    {
     "data": {
      "text/html": [
       "<pre>| side_data_factorization        | Assign Factors for Side Data                     | True     |</pre>"
      ],
      "text/plain": [
       "| side_data_factorization        | Assign Factors for Side Data                     | True     |"
      ]
     },
     "metadata": {},
     "output_type": "display_data"
    },
    {
     "data": {
      "text/html": [
       "<pre>| max_iterations                 | Maximum Number of Iterations                     | 50       |</pre>"
      ],
      "text/plain": [
       "| max_iterations                 | Maximum Number of Iterations                     | 50       |"
      ]
     },
     "metadata": {},
     "output_type": "display_data"
    },
    {
     "data": {
      "text/html": [
       "<pre>+--------------------------------+--------------------------------------------------+----------+</pre>"
      ],
      "text/plain": [
       "+--------------------------------+--------------------------------------------------+----------+"
      ]
     },
     "metadata": {},
     "output_type": "display_data"
    },
    {
     "data": {
      "text/html": [
       "<pre>  Optimizing model using SGD; tuning step size.</pre>"
      ],
      "text/plain": [
       "  Optimizing model using SGD; tuning step size."
      ]
     },
     "metadata": {},
     "output_type": "display_data"
    },
    {
     "data": {
      "text/html": [
       "<pre>  Using 116682 / 933461 points for tuning the step size.</pre>"
      ],
      "text/plain": [
       "  Using 116682 / 933461 points for tuning the step size."
      ]
     },
     "metadata": {},
     "output_type": "display_data"
    },
    {
     "data": {
      "text/html": [
       "<pre>+---------+-------------------+------------------------------------------+</pre>"
      ],
      "text/plain": [
       "+---------+-------------------+------------------------------------------+"
      ]
     },
     "metadata": {},
     "output_type": "display_data"
    },
    {
     "data": {
      "text/html": [
       "<pre>| Attempt | Initial Step Size | Estimated Objective Value                |</pre>"
      ],
      "text/plain": [
       "| Attempt | Initial Step Size | Estimated Objective Value                |"
      ]
     },
     "metadata": {},
     "output_type": "display_data"
    },
    {
     "data": {
      "text/html": [
       "<pre>+---------+-------------------+------------------------------------------+</pre>"
      ],
      "text/plain": [
       "+---------+-------------------+------------------------------------------+"
      ]
     },
     "metadata": {},
     "output_type": "display_data"
    },
    {
     "data": {
      "text/html": [
       "<pre>| 0       | 1                 | Not Viable                               |</pre>"
      ],
      "text/plain": [
       "| 0       | 1                 | Not Viable                               |"
      ]
     },
     "metadata": {},
     "output_type": "display_data"
    },
    {
     "data": {
      "text/html": [
       "<pre>| 1       | 0.25              | Not Viable                               |</pre>"
      ],
      "text/plain": [
       "| 1       | 0.25              | Not Viable                               |"
      ]
     },
     "metadata": {},
     "output_type": "display_data"
    },
    {
     "data": {
      "text/html": [
       "<pre>| 2       | 0.0625            | No Decrease (7.27282 >= 1.21994)         |</pre>"
      ],
      "text/plain": [
       "| 2       | 0.0625            | No Decrease (7.27282 >= 1.21994)         |"
      ]
     },
     "metadata": {},
     "output_type": "display_data"
    },
    {
     "data": {
      "text/html": [
       "<pre>| 3       | 0.015625          | No Decrease (1.50888 >= 1.21994)         |</pre>"
      ],
      "text/plain": [
       "| 3       | 0.015625          | No Decrease (1.50888 >= 1.21994)         |"
      ]
     },
     "metadata": {},
     "output_type": "display_data"
    },
    {
     "data": {
      "text/html": [
       "<pre>| 4       | 0.00390625        | 1.05326                                  |</pre>"
      ],
      "text/plain": [
       "| 4       | 0.00390625        | 1.05326                                  |"
      ]
     },
     "metadata": {},
     "output_type": "display_data"
    },
    {
     "data": {
      "text/html": [
       "<pre>| 5       | 0.00195312        | 1.10149                                  |</pre>"
      ],
      "text/plain": [
       "| 5       | 0.00195312        | 1.10149                                  |"
      ]
     },
     "metadata": {},
     "output_type": "display_data"
    },
    {
     "data": {
      "text/html": [
       "<pre>| 6       | 0.000976562       | 1.1575                                   |</pre>"
      ],
      "text/plain": [
       "| 6       | 0.000976562       | 1.1575                                   |"
      ]
     },
     "metadata": {},
     "output_type": "display_data"
    },
    {
     "data": {
      "text/html": [
       "<pre>| 7       | 0.000488281       | 1.178                                    |</pre>"
      ],
      "text/plain": [
       "| 7       | 0.000488281       | 1.178                                    |"
      ]
     },
     "metadata": {},
     "output_type": "display_data"
    },
    {
     "data": {
      "text/html": [
       "<pre>+---------+-------------------+------------------------------------------+</pre>"
      ],
      "text/plain": [
       "+---------+-------------------+------------------------------------------+"
      ]
     },
     "metadata": {},
     "output_type": "display_data"
    },
    {
     "data": {
      "text/html": [
       "<pre>| Final   | 0.00390625        | 1.05326                                  |</pre>"
      ],
      "text/plain": [
       "| Final   | 0.00390625        | 1.05326                                  |"
      ]
     },
     "metadata": {},
     "output_type": "display_data"
    },
    {
     "data": {
      "text/html": [
       "<pre>+---------+-------------------+------------------------------------------+</pre>"
      ],
      "text/plain": [
       "+---------+-------------------+------------------------------------------+"
      ]
     },
     "metadata": {},
     "output_type": "display_data"
    },
    {
     "data": {
      "text/html": [
       "<pre>Starting Optimization.</pre>"
      ],
      "text/plain": [
       "Starting Optimization."
      ]
     },
     "metadata": {},
     "output_type": "display_data"
    },
    {
     "data": {
      "text/html": [
       "<pre>+---------+--------------+-------------------+-----------------------+-------------+</pre>"
      ],
      "text/plain": [
       "+---------+--------------+-------------------+-----------------------+-------------+"
      ]
     },
     "metadata": {},
     "output_type": "display_data"
    },
    {
     "data": {
      "text/html": [
       "<pre>| Iter.   | Elapsed Time | Approx. Objective | Approx. Training RMSE | Step Size   |</pre>"
      ],
      "text/plain": [
       "| Iter.   | Elapsed Time | Approx. Objective | Approx. Training RMSE | Step Size   |"
      ]
     },
     "metadata": {},
     "output_type": "display_data"
    },
    {
     "data": {
      "text/html": [
       "<pre>+---------+--------------+-------------------+-----------------------+-------------+</pre>"
      ],
      "text/plain": [
       "+---------+--------------+-------------------+-----------------------+-------------+"
      ]
     },
     "metadata": {},
     "output_type": "display_data"
    },
    {
     "data": {
      "text/html": [
       "<pre>| Initial | 0us          | 1.2235            | 1.10612               |             |</pre>"
      ],
      "text/plain": [
       "| Initial | 0us          | 1.2235            | 1.10612               |             |"
      ]
     },
     "metadata": {},
     "output_type": "display_data"
    },
    {
     "data": {
      "text/html": [
       "<pre>+---------+--------------+-------------------+-----------------------+-------------+</pre>"
      ],
      "text/plain": [
       "+---------+--------------+-------------------+-----------------------+-------------+"
      ]
     },
     "metadata": {},
     "output_type": "display_data"
    },
    {
     "data": {
      "text/html": [
       "<pre>| 1       | 3.03s        | 1.39217           | 1.1799                | 0.00390625  |</pre>"
      ],
      "text/plain": [
       "| 1       | 3.03s        | 1.39217           | 1.1799                | 0.00390625  |"
      ]
     },
     "metadata": {},
     "output_type": "display_data"
    },
    {
     "data": {
      "text/html": [
       "<pre>| 2       | 6.89s        | 1.74333           | 1.32035               | 0.00390625  |</pre>"
      ],
      "text/plain": [
       "| 2       | 6.89s        | 1.74333           | 1.32035               | 0.00390625  |"
      ]
     },
     "metadata": {},
     "output_type": "display_data"
    },
    {
     "data": {
      "text/html": [
       "<pre>| 3       | 9.71s        | 2.27813           | 1.50935               | 0.00390625  |</pre>"
      ],
      "text/plain": [
       "| 3       | 9.71s        | 2.27813           | 1.50935               | 0.00390625  |"
      ]
     },
     "metadata": {},
     "output_type": "display_data"
    },
    {
     "data": {
      "text/html": [
       "<pre>| 4       | 13.29s       | DIVERGED          | DIVERGED              | 0.00390625  |</pre>"
      ],
      "text/plain": [
       "| 4       | 13.29s       | DIVERGED          | DIVERGED              | 0.00390625  |"
      ]
     },
     "metadata": {},
     "output_type": "display_data"
    },
    {
     "data": {
      "text/html": [
       "<pre>| RESET   | 13.91s       | 1.22346           | 1.1061                |             |</pre>"
      ],
      "text/plain": [
       "| RESET   | 13.91s       | 1.22346           | 1.1061                |             |"
      ]
     },
     "metadata": {},
     "output_type": "display_data"
    },
    {
     "data": {
      "text/html": [
       "<pre>| 1       | 16.61s       | 1.1243            | 1.06033               | 0.00195312  |</pre>"
      ],
      "text/plain": [
       "| 1       | 16.61s       | 1.1243            | 1.06033               | 0.00195312  |"
      ]
     },
     "metadata": {},
     "output_type": "display_data"
    },
    {
     "data": {
      "text/html": [
       "<pre>| 2       | 19.46s       | 1.06438           | 1.03169               | 0.00195312  |</pre>"
      ],
      "text/plain": [
       "| 2       | 19.46s       | 1.06438           | 1.03169               | 0.00195312  |"
      ]
     },
     "metadata": {},
     "output_type": "display_data"
    },
    {
     "data": {
      "text/html": [
       "<pre>| 3       | 22.18s       | 1.03637           | 1.01802               | 0.00195312  |</pre>"
      ],
      "text/plain": [
       "| 3       | 22.18s       | 1.03637           | 1.01802               | 0.00195312  |"
      ]
     },
     "metadata": {},
     "output_type": "display_data"
    },
    {
     "data": {
      "text/html": [
       "<pre>| 4       | 25.03s       | 1.01918           | 1.00954               | 0.00195312  |</pre>"
      ],
      "text/plain": [
       "| 4       | 25.03s       | 1.01918           | 1.00954               | 0.00195312  |"
      ]
     },
     "metadata": {},
     "output_type": "display_data"
    },
    {
     "data": {
      "text/html": [
       "<pre>| 5       | 27.75s       | 1.00882           | 1.0044                | 0.00195312  |</pre>"
      ],
      "text/plain": [
       "| 5       | 27.75s       | 1.00882           | 1.0044                | 0.00195312  |"
      ]
     },
     "metadata": {},
     "output_type": "display_data"
    },
    {
     "data": {
      "text/html": [
       "<pre>| 6       | 30.75s       | 1.00114           | 1.00057               | 0.00195312  |</pre>"
      ],
      "text/plain": [
       "| 6       | 30.75s       | 1.00114           | 1.00057               | 0.00195312  |"
      ]
     },
     "metadata": {},
     "output_type": "display_data"
    },
    {
     "data": {
      "text/html": [
       "<pre>| 7       | 33.55s       | 0.99606           | 0.998028              | 0.00195312  |</pre>"
      ],
      "text/plain": [
       "| 7       | 33.55s       | 0.99606           | 0.998028              | 0.00195312  |"
      ]
     },
     "metadata": {},
     "output_type": "display_data"
    },
    {
     "data": {
      "text/html": [
       "<pre>| 8       | 36.32s       | 0.992525          | 0.996255              | 0.00195312  |</pre>"
      ],
      "text/plain": [
       "| 8       | 36.32s       | 0.992525          | 0.996255              | 0.00195312  |"
      ]
     },
     "metadata": {},
     "output_type": "display_data"
    },
    {
     "data": {
      "text/html": [
       "<pre>| 9       | 39.11s       | 0.990579          | 0.995278              | 0.00195312  |</pre>"
      ],
      "text/plain": [
       "| 9       | 39.11s       | 0.990579          | 0.995278              | 0.00195312  |"
      ]
     },
     "metadata": {},
     "output_type": "display_data"
    },
    {
     "data": {
      "text/html": [
       "<pre>| 10      | 42.52s       | 0.993214          | 0.996601              | 0.00195312  |</pre>"
      ],
      "text/plain": [
       "| 10      | 42.52s       | 0.993214          | 0.996601              | 0.00195312  |"
      ]
     },
     "metadata": {},
     "output_type": "display_data"
    },
    {
     "data": {
      "text/html": [
       "<pre>| 11      | 45.51s       | 0.99494           | 0.997466              | 0.00195312  |</pre>"
      ],
      "text/plain": [
       "| 11      | 45.51s       | 0.99494           | 0.997466              | 0.00195312  |"
      ]
     },
     "metadata": {},
     "output_type": "display_data"
    },
    {
     "data": {
      "text/html": [
       "<pre>| 12      | 48.74s       | 1.00094           | 1.00047               | 0.00195312  |</pre>"
      ],
      "text/plain": [
       "| 12      | 48.74s       | 1.00094           | 1.00047               | 0.00195312  |"
      ]
     },
     "metadata": {},
     "output_type": "display_data"
    },
    {
     "data": {
      "text/html": [
       "<pre>| 13      | 51.39s       | 1.01374           | 1.00684               | 0.00195312  |</pre>"
      ],
      "text/plain": [
       "| 13      | 51.39s       | 1.01374           | 1.00684               | 0.00195312  |"
      ]
     },
     "metadata": {},
     "output_type": "display_data"
    },
    {
     "data": {
      "text/html": [
       "<pre>| 14      | 54.27s       | 1.02442           | 1.01213               | 0.00195312  |</pre>"
      ],
      "text/plain": [
       "| 14      | 54.27s       | 1.02442           | 1.01213               | 0.00195312  |"
      ]
     },
     "metadata": {},
     "output_type": "display_data"
    },
    {
     "data": {
      "text/html": [
       "<pre>| 15      | 57.00s       | 1.0619            | 1.03049               | 0.00195312  |</pre>"
      ],
      "text/plain": [
       "| 15      | 57.00s       | 1.0619            | 1.03049               | 0.00195312  |"
      ]
     },
     "metadata": {},
     "output_type": "display_data"
    },
    {
     "data": {
      "text/html": [
       "<pre>| 16      | 59.72s       | 1.09451           | 1.04619               | 0.00195312  |</pre>"
      ],
      "text/plain": [
       "| 16      | 59.72s       | 1.09451           | 1.04619               | 0.00195312  |"
      ]
     },
     "metadata": {},
     "output_type": "display_data"
    },
    {
     "data": {
      "text/html": [
       "<pre>| 17      | 1m 2s        | 1.17001           | 1.08167               | 0.00195312  |</pre>"
      ],
      "text/plain": [
       "| 17      | 1m 2s        | 1.17001           | 1.08167               | 0.00195312  |"
      ]
     },
     "metadata": {},
     "output_type": "display_data"
    },
    {
     "data": {
      "text/html": [
       "<pre>| 18      | 1m 5s        | 1.2853            | 1.13371               | 0.00195312  |</pre>"
      ],
      "text/plain": [
       "| 18      | 1m 5s        | 1.2853            | 1.13371               | 0.00195312  |"
      ]
     },
     "metadata": {},
     "output_type": "display_data"
    },
    {
     "data": {
      "text/html": [
       "<pre>| 19      | 1m 8s        | 1.46891           | 1.21198               | 0.00195312  |</pre>"
      ],
      "text/plain": [
       "| 19      | 1m 8s        | 1.46891           | 1.21198               | 0.00195312  |"
      ]
     },
     "metadata": {},
     "output_type": "display_data"
    },
    {
     "data": {
      "text/html": [
       "<pre>| 20      | 1m 11s       | 1.78585           | 1.33635               | 0.00195312  |</pre>"
      ],
      "text/plain": [
       "| 20      | 1m 11s       | 1.78585           | 1.33635               | 0.00195312  |"
      ]
     },
     "metadata": {},
     "output_type": "display_data"
    },
    {
     "data": {
      "text/html": [
       "<pre>| 21      | 1m 14s       | 2.34927           | 1.53273               | 0.00195312  |</pre>"
      ],
      "text/plain": [
       "| 21      | 1m 14s       | 2.34927           | 1.53273               | 0.00195312  |"
      ]
     },
     "metadata": {},
     "output_type": "display_data"
    },
    {
     "data": {
      "text/html": [
       "<pre>| 22      | 1m 17s       | DIVERGED          | DIVERGED              | 0.00195312  |</pre>"
      ],
      "text/plain": [
       "| 22      | 1m 17s       | DIVERGED          | DIVERGED              | 0.00195312  |"
      ]
     },
     "metadata": {},
     "output_type": "display_data"
    },
    {
     "data": {
      "text/html": [
       "<pre>| RESET   | 1m 18s       | 1.22356           | 1.10615               |             |</pre>"
      ],
      "text/plain": [
       "| RESET   | 1m 18s       | 1.22356           | 1.10615               |             |"
      ]
     },
     "metadata": {},
     "output_type": "display_data"
    },
    {
     "data": {
      "text/html": [
       "<pre>| 1       | 1m 20s       | 1.1657            | 1.07968               | 0.000976562 |</pre>"
      ],
      "text/plain": [
       "| 1       | 1m 20s       | 1.1657            | 1.07968               | 0.000976562 |"
      ]
     },
     "metadata": {},
     "output_type": "display_data"
    },
    {
     "data": {
      "text/html": [
       "<pre>| 2       | 1m 23s       | 1.1286            | 1.06236               | 0.000976562 |</pre>"
      ],
      "text/plain": [
       "| 2       | 1m 23s       | 1.1286            | 1.06236               | 0.000976562 |"
      ]
     },
     "metadata": {},
     "output_type": "display_data"
    },
    {
     "data": {
      "text/html": [
       "<pre>| 3       | 1m 26s       | 1.10489           | 1.05114               | 0.000976562 |</pre>"
      ],
      "text/plain": [
       "| 3       | 1m 26s       | 1.10489           | 1.05114               | 0.000976562 |"
      ]
     },
     "metadata": {},
     "output_type": "display_data"
    },
    {
     "data": {
      "text/html": [
       "<pre>| 4       | 1m 30s       | 1.08846           | 1.04329               | 0.000976562 |</pre>"
      ],
      "text/plain": [
       "| 4       | 1m 30s       | 1.08846           | 1.04329               | 0.000976562 |"
      ]
     },
     "metadata": {},
     "output_type": "display_data"
    },
    {
     "data": {
      "text/html": [
       "<pre>| 5       | 1m 33s       | 1.07651           | 1.03755               | 0.000976562 |</pre>"
      ],
      "text/plain": [
       "| 5       | 1m 33s       | 1.07651           | 1.03755               | 0.000976562 |"
      ]
     },
     "metadata": {},
     "output_type": "display_data"
    },
    {
     "data": {
      "text/html": [
       "<pre>| 6       | 1m 36s       | 1.06709           | 1.033                 | 0.000976562 |</pre>"
      ],
      "text/plain": [
       "| 6       | 1m 36s       | 1.06709           | 1.033                 | 0.000976562 |"
      ]
     },
     "metadata": {},
     "output_type": "display_data"
    },
    {
     "data": {
      "text/html": [
       "<pre>| 7       | 1m 39s       | 1.05929           | 1.02922               | 0.000976562 |</pre>"
      ],
      "text/plain": [
       "| 7       | 1m 39s       | 1.05929           | 1.02922               | 0.000976562 |"
      ]
     },
     "metadata": {},
     "output_type": "display_data"
    },
    {
     "data": {
      "text/html": [
       "<pre>| 8       | 1m 43s       | 1.05255           | 1.02594               | 0.000976562 |</pre>"
      ],
      "text/plain": [
       "| 8       | 1m 43s       | 1.05255           | 1.02594               | 0.000976562 |"
      ]
     },
     "metadata": {},
     "output_type": "display_data"
    },
    {
     "data": {
      "text/html": [
       "<pre>| 9       | 1m 46s       | 1.04688           | 1.02317               | 0.000976562 |</pre>"
      ],
      "text/plain": [
       "| 9       | 1m 46s       | 1.04688           | 1.02317               | 0.000976562 |"
      ]
     },
     "metadata": {},
     "output_type": "display_data"
    },
    {
     "data": {
      "text/html": [
       "<pre>| 10      | 1m 48s       | 1.04158           | 1.02058               | 0.000976562 |</pre>"
      ],
      "text/plain": [
       "| 10      | 1m 48s       | 1.04158           | 1.02058               | 0.000976562 |"
      ]
     },
     "metadata": {},
     "output_type": "display_data"
    },
    {
     "data": {
      "text/html": [
       "<pre>| 11      | 1m 51s       | 1.03679           | 1.01823               | 0.000976562 |</pre>"
      ],
      "text/plain": [
       "| 11      | 1m 51s       | 1.03679           | 1.01823               | 0.000976562 |"
      ]
     },
     "metadata": {},
     "output_type": "display_data"
    },
    {
     "data": {
      "text/html": [
       "<pre>| 12      | 1m 54s       | 1.03239           | 1.01607               | 0.000976562 |</pre>"
      ],
      "text/plain": [
       "| 12      | 1m 54s       | 1.03239           | 1.01607               | 0.000976562 |"
      ]
     },
     "metadata": {},
     "output_type": "display_data"
    },
    {
     "data": {
      "text/html": [
       "<pre>| 13      | 1m 57s       | 1.02831           | 1.01406               | 0.000976562 |</pre>"
      ],
      "text/plain": [
       "| 13      | 1m 57s       | 1.02831           | 1.01406               | 0.000976562 |"
      ]
     },
     "metadata": {},
     "output_type": "display_data"
    },
    {
     "data": {
      "text/html": [
       "<pre>| 14      | 2m 0s        | 1.02463           | 1.01224               | 0.000976562 |</pre>"
      ],
      "text/plain": [
       "| 14      | 2m 0s        | 1.02463           | 1.01224               | 0.000976562 |"
      ]
     },
     "metadata": {},
     "output_type": "display_data"
    },
    {
     "data": {
      "text/html": [
       "<pre>| 15      | 2m 3s        | 1.02104           | 1.01046               | 0.000976562 |</pre>"
      ],
      "text/plain": [
       "| 15      | 2m 3s        | 1.02104           | 1.01046               | 0.000976562 |"
      ]
     },
     "metadata": {},
     "output_type": "display_data"
    },
    {
     "data": {
      "text/html": [
       "<pre>| 16      | 2m 5s        | 1.01766           | 1.00879               | 0.000976562 |</pre>"
      ],
      "text/plain": [
       "| 16      | 2m 5s        | 1.01766           | 1.00879               | 0.000976562 |"
      ]
     },
     "metadata": {},
     "output_type": "display_data"
    },
    {
     "data": {
      "text/html": [
       "<pre>| 17      | 2m 8s        | 1.01459           | 1.00727               | 0.000976562 |</pre>"
      ],
      "text/plain": [
       "| 17      | 2m 8s        | 1.01459           | 1.00727               | 0.000976562 |"
      ]
     },
     "metadata": {},
     "output_type": "display_data"
    },
    {
     "data": {
      "text/html": [
       "<pre>| 18      | 2m 11s       | 1.01163           | 1.0058                | 0.000976562 |</pre>"
      ],
      "text/plain": [
       "| 18      | 2m 11s       | 1.01163           | 1.0058                | 0.000976562 |"
      ]
     },
     "metadata": {},
     "output_type": "display_data"
    },
    {
     "data": {
      "text/html": [
       "<pre>| 19      | 2m 14s       | 1.00883           | 1.0044                | 0.000976562 |</pre>"
      ],
      "text/plain": [
       "| 19      | 2m 14s       | 1.00883           | 1.0044                | 0.000976562 |"
      ]
     },
     "metadata": {},
     "output_type": "display_data"
    },
    {
     "data": {
      "text/html": [
       "<pre>| 20      | 2m 17s       | 1.00632           | 1.00315               | 0.000976562 |</pre>"
      ],
      "text/plain": [
       "| 20      | 2m 17s       | 1.00632           | 1.00315               | 0.000976562 |"
      ]
     },
     "metadata": {},
     "output_type": "display_data"
    },
    {
     "data": {
      "text/html": [
       "<pre>| 21      | 2m 20s       | 1.00396           | 1.00198               | 0.000976562 |</pre>"
      ],
      "text/plain": [
       "| 21      | 2m 20s       | 1.00396           | 1.00198               | 0.000976562 |"
      ]
     },
     "metadata": {},
     "output_type": "display_data"
    },
    {
     "data": {
      "text/html": [
       "<pre>| 22      | 2m 22s       | 1.00168           | 1.00084               | 0.000976562 |</pre>"
      ],
      "text/plain": [
       "| 22      | 2m 22s       | 1.00168           | 1.00084               | 0.000976562 |"
      ]
     },
     "metadata": {},
     "output_type": "display_data"
    },
    {
     "data": {
      "text/html": [
       "<pre>| 23      | 2m 25s       | 0.999568          | 0.999784              | 0.000976562 |</pre>"
      ],
      "text/plain": [
       "| 23      | 2m 25s       | 0.999568          | 0.999784              | 0.000976562 |"
      ]
     },
     "metadata": {},
     "output_type": "display_data"
    },
    {
     "data": {
      "text/html": [
       "<pre>| 24      | 2m 28s       | 0.997611          | 0.998804              | 0.000976562 |</pre>"
      ],
      "text/plain": [
       "| 24      | 2m 28s       | 0.997611          | 0.998804              | 0.000976562 |"
      ]
     },
     "metadata": {},
     "output_type": "display_data"
    },
    {
     "data": {
      "text/html": [
       "<pre>| 25      | 2m 31s       | 0.995646          | 0.99782               | 0.000976562 |</pre>"
      ],
      "text/plain": [
       "| 25      | 2m 31s       | 0.995646          | 0.99782               | 0.000976562 |"
      ]
     },
     "metadata": {},
     "output_type": "display_data"
    },
    {
     "data": {
      "text/html": [
       "<pre>| 26      | 2m 34s       | 0.994042          | 0.997016              | 0.000976562 |</pre>"
      ],
      "text/plain": [
       "| 26      | 2m 34s       | 0.994042          | 0.997016              | 0.000976562 |"
      ]
     },
     "metadata": {},
     "output_type": "display_data"
    },
    {
     "data": {
      "text/html": [
       "<pre>| 27      | 2m 37s       | 0.992458          | 0.996222              | 0.000976562 |</pre>"
      ],
      "text/plain": [
       "| 27      | 2m 37s       | 0.992458          | 0.996222              | 0.000976562 |"
      ]
     },
     "metadata": {},
     "output_type": "display_data"
    },
    {
     "data": {
      "text/html": [
       "<pre>| 28      | 2m 39s       | 0.990968          | 0.995473              | 0.000976562 |</pre>"
      ],
      "text/plain": [
       "| 28      | 2m 39s       | 0.990968          | 0.995473              | 0.000976562 |"
      ]
     },
     "metadata": {},
     "output_type": "display_data"
    },
    {
     "data": {
      "text/html": [
       "<pre>| 29      | 2m 42s       | 0.989626          | 0.994799              | 0.000976562 |</pre>"
      ],
      "text/plain": [
       "| 29      | 2m 42s       | 0.989626          | 0.994799              | 0.000976562 |"
      ]
     },
     "metadata": {},
     "output_type": "display_data"
    },
    {
     "data": {
      "text/html": [
       "<pre>+---------+--------------+-------------------+-----------------------+-------------+</pre>"
      ],
      "text/plain": [
       "+---------+--------------+-------------------+-----------------------+-------------+"
      ]
     },
     "metadata": {},
     "output_type": "display_data"
    },
    {
     "data": {
      "text/html": [
       "<pre>Optimization Complete: Maximum number of passes through the data reached (hard limit).</pre>"
      ],
      "text/plain": [
       "Optimization Complete: Maximum number of passes through the data reached (hard limit)."
      ]
     },
     "metadata": {},
     "output_type": "display_data"
    },
    {
     "data": {
      "text/html": [
       "<pre>Computing final objective value and training RMSE.</pre>"
      ],
      "text/plain": [
       "Computing final objective value and training RMSE."
      ]
     },
     "metadata": {},
     "output_type": "display_data"
    },
    {
     "data": {
      "text/html": [
       "<pre>       Final objective value: 0.988944</pre>"
      ],
      "text/plain": [
       "       Final objective value: 0.988944"
      ]
     },
     "metadata": {},
     "output_type": "display_data"
    },
    {
     "data": {
      "text/html": [
       "<pre>       Final training RMSE: 0.994456</pre>"
      ],
      "text/plain": [
       "       Final training RMSE: 0.994456"
      ]
     },
     "metadata": {},
     "output_type": "display_data"
    },
    {
     "name": "stdout",
     "output_type": "stream",
     "text": [
      "\n",
      "Precision and recall summary statistics by cutoff\n",
      "+--------+-----------------+------------------+\n",
      "| cutoff |  mean_precision |   mean_recall    |\n",
      "+--------+-----------------+------------------+\n",
      "|   1    |       0.03      | 0.00191420361248 |\n",
      "|   2    |       0.03      | 0.00259004280061 |\n",
      "|   3    | 0.0533333333333 | 0.00600523234059 |\n",
      "|   4    |      0.0625     | 0.00870707251546 |\n",
      "|   5    |      0.062      | 0.0106093286375  |\n",
      "|   6    | 0.0566666666667 | 0.0122409075848  |\n",
      "|   7    | 0.0542857142857 | 0.0132648127703  |\n",
      "|   8    |     0.05125     | 0.0138938977376  |\n",
      "|   9    |       0.05      | 0.0152383877194  |\n",
      "|   10   |      0.049      | 0.0159369171311  |\n",
      "+--------+-----------------+------------------+\n",
      "[10 rows x 3 columns]\n",
      "\n",
      "('\\nOverall RMSE: ', 0.9913613867405786)\n",
      "\n",
      "Per User RMSE (best)\n",
      "+------+-------+----------------+\n",
      "| user | count |      rmse      |\n",
      "+------+-------+----------------+\n",
      "| 4536 |   2   | 0.271212730913 |\n",
      "+------+-------+----------------+\n",
      "[1 rows x 3 columns]\n",
      "\n",
      "\n",
      "Per User RMSE (worst)\n",
      "+------+-------+---------------+\n",
      "| user | count |      rmse     |\n",
      "+------+-------+---------------+\n",
      "| 1989 |   7   | 1.81163403639 |\n",
      "+------+-------+---------------+\n",
      "[1 rows x 3 columns]\n",
      "\n",
      "\n",
      "Per Item RMSE (best)\n",
      "+-------------------+-------+------------------+\n",
      "|       movie       | count |       rmse       |\n",
      "+-------------------+-------+------------------+\n",
      "| Volunteers (1985) |   1   | 0.00239740737482 |\n",
      "+-------------------+-------+------------------+\n",
      "[1 rows x 3 columns]\n",
      "\n",
      "\n",
      "Per Item RMSE (worst)\n",
      "+-------------------------------+-------+---------------+\n",
      "|             movie             | count |      rmse     |\n",
      "+-------------------------------+-------+---------------+\n",
      "| Death in the Garden (Mort ... |   1   | 2.79631625519 |\n",
      "+-------------------------------+-------+---------------+\n",
      "[1 rows x 3 columns]\n",
      "\n"
     ]
    }
   ],
   "source": [
    "rec4 = gl.recommender.factorization_recommender.create(train, \n",
    "                                  user_id=\"user\", \n",
    "                                  item_id=\"movie\", \n",
    "                                  target=\"rating\",\n",
    "                                  user_data=users,\n",
    "                                  item_data=genre)\n",
    "rmse_results = rec4.evaluate(test)"
   ]
  },
  {
   "cell_type": "code",
   "execution_count": 1168,
   "metadata": {
    "collapsed": false
   },
   "outputs": [
    {
     "name": "stdout",
     "output_type": "stream",
     "text": [
      "+------------------------------------+---------------------------------------------------------+----------------+------+\n",
      "|               movie                |                         similar                         |     score      | rank |\n",
      "+------------------------------------+---------------------------------------------------------+----------------+------+\n",
      "|          Toy Story (1995)          |                 Quest for Camelot (1998)                | 0.993225097656 |  1   |\n",
      "|          Toy Story (1995)          |                My Science Project (1985)                | 0.992123186588 |  2   |\n",
      "|          Toy Story (1995)          |              Little Shop of Horrors (1986)              |  0.9907797575  |  3   |\n",
      "|           Jumanji (1995)           |               Fistful of Dollars, A (1964)              | 0.999126791954 |  1   |\n",
      "|           Jumanji (1995)           |                  Aristocats, The (1970)                 | 0.999027431011 |  2   |\n",
      "|           Jumanji (1995)           |                     Screamers (1995)                    | 0.998770594597 |  3   |\n",
      "|      Grumpier Old Men (1995)       |                Vampire in Brooklyn (1995)               | 0.999818384647 |  1   |\n",
      "|      Grumpier Old Men (1995)       |                     Boomerang (1992)                    | 0.999795198441 |  2   |\n",
      "|      Grumpier Old Men (1995)       |                 Perez Family, The (1995)                | 0.999330461025 |  3   |\n",
      "|      Waiting to Exhale (1995)      |                  Street Fighter (1994)                  | 0.999129116535 |  1   |\n",
      "|      Waiting to Exhale (1995)      |                 Terminal Velocity (1994)                | 0.999088406563 |  2   |\n",
      "|      Waiting to Exhale (1995)      |                    To Die For (1995)                    | 0.999072790146 |  3   |\n",
      "| Father of the Bride Part II (1995) |                    Son in Law (1993)                    | 0.99980789423  |  1   |\n",
      "| Father of the Bride Part II (1995) |                    Paper, The (1994)                    | 0.999761343002 |  2   |\n",
      "| Father of the Bride Part II (1995) | To Wong Foo, Thanks for Everything! Julie Newmar (1995) | 0.999760866165 |  3   |\n",
      "+------------------------------------+---------------------------------------------------------+----------------+------+\n",
      "[11196 rows x 4 columns]\n",
      "\n"
     ]
    }
   ],
   "source": [
    "similar_items = rec4.get_similar_items(k=3)\n",
    "similar_items.print_rows(num_rows=15, max_column_width=120)"
   ]
  },
  {
   "cell_type": "code",
   "execution_count": 1127,
   "metadata": {
    "collapsed": false
   },
   "outputs": [
    {
     "name": "stdout",
     "output_type": "stream",
     "text": [
      "PROGRESS: Evaluate model M0\n",
      "('\\nOverall RMSE: ', 3.7839137766989275)\n",
      "\n",
      "Per User RMSE (best)\n",
      "+------+-------+---------------+\n",
      "| user | count |      rmse     |\n",
      "+------+-------+---------------+\n",
      "| 5243 |   2   | 2.23125476292 |\n",
      "+------+-------+---------------+\n",
      "[1 rows x 3 columns]\n",
      "\n",
      "\n",
      "Per User RMSE (worst)\n",
      "+------+-------+---------------+\n",
      "| user | count |      rmse     |\n",
      "+------+-------+---------------+\n",
      "| 1423 |   10  | 4.75761835419 |\n",
      "+------+-------+---------------+\n",
      "[1 rows x 3 columns]\n",
      "\n",
      "\n",
      "Per Item RMSE (best)\n",
      "+--------------------+-------+----------------+\n",
      "|       movie        | count |      rmse      |\n",
      "+--------------------+-------+----------------+\n",
      "| Judge Dredd (1995) |   1   | 0.869982650694 |\n",
      "+--------------------+-------+----------------+\n",
      "[1 rows x 3 columns]\n",
      "\n",
      "\n",
      "Per Item RMSE (worst)\n",
      "+-----------------------------+-------+------+\n",
      "|            movie            | count | rmse |\n",
      "+-----------------------------+-------+------+\n",
      "| Raisin in the Sun, A (1961) |   1   | 5.0  |\n",
      "+-----------------------------+-------+------+\n",
      "[1 rows x 3 columns]\n",
      "\n",
      "PROGRESS: Evaluate model M1\n",
      "('\\nOverall RMSE: ', 1.1374176930923514)\n",
      "\n",
      "Per User RMSE (best)\n",
      "+------+-------+----------------+\n",
      "| user | count |      rmse      |\n",
      "+------+-------+----------------+\n",
      "| 4548 |   4   | 0.157152163657 |\n",
      "+------+-------+----------------+\n",
      "[1 rows x 3 columns]\n",
      "\n",
      "\n",
      "Per User RMSE (worst)\n",
      "+------+-------+---------------+\n",
      "| user | count |      rmse     |\n",
      "+------+-------+---------------+\n",
      "| 1989 |   7   | 1.95916101934 |\n",
      "+------+-------+---------------+\n",
      "[1 rows x 3 columns]\n",
      "\n",
      "\n",
      "Per Item RMSE (best)\n",
      "+--------------------------+-------+------------------+\n",
      "|          movie           | count |       rmse       |\n",
      "+--------------------------+-------+------------------+\n",
      "| Gnome-Mobile, The (1967) |   1   | 0.00149134028717 |\n",
      "+--------------------------+-------+------------------+\n",
      "[1 rows x 3 columns]\n",
      "\n",
      "\n",
      "Per Item RMSE (worst)\n",
      "+--------------+-------+---------------+\n",
      "|    movie     | count |      rmse     |\n",
      "+--------------+-------+---------------+\n",
      "| F/X 2 (1992) |   1   | 2.91106500387 |\n",
      "+--------------+-------+---------------+\n",
      "[1 rows x 3 columns]\n",
      "\n",
      "PROGRESS: Evaluate model M2\n",
      "('\\nOverall RMSE: ', 1.0505611182211272)\n",
      "\n",
      "Per User RMSE (best)\n",
      "+------+-------+----------------+\n",
      "| user | count |      rmse      |\n",
      "+------+-------+----------------+\n",
      "| 4548 |   4   | 0.282300290973 |\n",
      "+------+-------+----------------+\n",
      "[1 rows x 3 columns]\n",
      "\n",
      "\n",
      "Per User RMSE (worst)\n",
      "+------+-------+---------------+\n",
      "| user | count |      rmse     |\n",
      "+------+-------+---------------+\n",
      "| 1989 |   7   | 1.80231423566 |\n",
      "+------+-------+---------------+\n",
      "[1 rows x 3 columns]\n",
      "\n",
      "\n",
      "Per Item RMSE (best)\n",
      "+----------------------+-------+-------------------+\n",
      "|        movie         | count |        rmse       |\n",
      "+----------------------+-------+-------------------+\n",
      "| Arachnophobia (1990) |   1   | 0.000177021413925 |\n",
      "+----------------------+-------+-------------------+\n",
      "[1 rows x 3 columns]\n",
      "\n",
      "\n",
      "Per Item RMSE (worst)\n",
      "+-------------------------------+-------+--------------+\n",
      "|             movie             | count |     rmse     |\n",
      "+-------------------------------+-------+--------------+\n",
      "| Godzilla 2000 (Gojira ni-s... |   1   | 2.4451174178 |\n",
      "+-------------------------------+-------+--------------+\n",
      "[1 rows x 3 columns]\n",
      "\n",
      "PROGRESS: Evaluate model M3\n",
      "('\\nOverall RMSE: ', 1.0347673013130234)\n",
      "\n",
      "Per User RMSE (best)\n",
      "+------+-------+----------------+\n",
      "| user | count |      rmse      |\n",
      "+------+-------+----------------+\n",
      "| 4536 |   2   | 0.109056620619 |\n",
      "+------+-------+----------------+\n",
      "[1 rows x 3 columns]\n",
      "\n",
      "\n",
      "Per User RMSE (worst)\n",
      "+------+-------+--------------+\n",
      "| user | count |     rmse     |\n",
      "+------+-------+--------------+\n",
      "| 1989 |   7   | 1.9732955549 |\n",
      "+------+-------+--------------+\n",
      "[1 rows x 3 columns]\n",
      "\n",
      "\n",
      "Per Item RMSE (best)\n",
      "+-------------------+-------+-----------------+\n",
      "|       movie       | count |       rmse      |\n",
      "+-------------------+-------+-----------------+\n",
      "| Dreamscape (1984) |   1   | 0.0015442710003 |\n",
      "+-------------------+-------+-----------------+\n",
      "[1 rows x 3 columns]\n",
      "\n",
      "\n",
      "Per Item RMSE (worst)\n",
      "+-------------------+-------+---------------+\n",
      "|       movie       | count |      rmse     |\n",
      "+-------------------+-------+---------------+\n",
      "| Psycho III (1986) |   1   | 3.02716279106 |\n",
      "+-------------------+-------+---------------+\n",
      "[1 rows x 3 columns]\n",
      "\n",
      "PROGRESS: Evaluate model M4\n",
      "('\\nOverall RMSE: ', 0.9913613867405786)\n",
      "\n",
      "Per User RMSE (best)\n",
      "+------+-------+----------------+\n",
      "| user | count |      rmse      |\n",
      "+------+-------+----------------+\n",
      "| 4536 |   2   | 0.271212730913 |\n",
      "+------+-------+----------------+\n",
      "[1 rows x 3 columns]\n",
      "\n",
      "\n",
      "Per User RMSE (worst)\n",
      "+------+-------+---------------+\n",
      "| user | count |      rmse     |\n",
      "+------+-------+---------------+\n",
      "| 1989 |   7   | 1.81163403639 |\n",
      "+------+-------+---------------+\n",
      "[1 rows x 3 columns]\n",
      "\n",
      "\n",
      "Per Item RMSE (best)\n",
      "+-------------------+-------+------------------+\n",
      "|       movie       | count |       rmse       |\n",
      "+-------------------+-------+------------------+\n",
      "| Volunteers (1985) |   1   | 0.00239740737482 |\n",
      "+-------------------+-------+------------------+\n",
      "[1 rows x 3 columns]\n",
      "\n",
      "\n",
      "Per Item RMSE (worst)\n",
      "+-------------------------------+-------+---------------+\n",
      "|             movie             | count |      rmse     |\n",
      "+-------------------------------+-------+---------------+\n",
      "| Death in the Garden (Mort ... |   1   | 2.79631625519 |\n",
      "+-------------------------------+-------+---------------+\n",
      "[1 rows x 3 columns]\n",
      "\n"
     ]
    }
   ],
   "source": [
    "rmse = gl.recommender.util.compare_models(test, [item_item, rec1, rec2, rec3, rec4], metric='rmse')"
   ]
  },
  {
   "cell_type": "markdown",
   "metadata": {},
   "source": [
    "### Final Recommender System Model Selection"
   ]
  },
  {
   "cell_type": "code",
   "execution_count": 1130,
   "metadata": {
    "collapsed": false
   },
   "outputs": [
    {
     "data": {
      "image/png": "[encoded data removed]",
      "text/plain": [
       "<IPython.core.display.Image object>"
      ]
     },
     "execution_count": 1130,
     "metadata": {
      "image/png": {
       "height": 800,
       "width": 800
      }
     },
     "output_type": "execute_result"
    }
   ],
   "source": [
    "from IPython.display import Image\n",
    "PATH = \"C:/Users/DM/\"\n",
    "Image(filename = PATH + \"model_Review.png\", width=800, height=800)"
   ]
  },
  {
   "cell_type": "markdown",
   "metadata": {},
   "source": [
    "#### With Model 4 having the lowest Root Mean Squared Error, the User-Item Factorization Recommender is selected as the best model for the Movielens dataset."
   ]
  },
  {
   "cell_type": "markdown",
   "metadata": {},
   "source": [
    "## Section 4: Association Rule Mining"
   ]
  },
  {
   "cell_type": "markdown",
   "metadata": {},
   "source": [
    "Below, we can identify the frequent patterns of MovieLens users to see which movies were most frequently watched together. \n",
    "\n",
    "- The most frequent 4 movie pattern was: \"Jurassic Park (1993)', 'Matrix, The (1999)', 'Men in Black (1997)', 'Total Recall (1990)'\" having been watched by 1202 users. \n",
    "\n",
    "- The most frequent 2 movie pattern was from the 1153 users who watched 'Back to the Future Part II', 1061 users watched 'Back to the Future'. This equates to a 92% confidence of those who watched 'Back to the Future Part II' will watch 'Back to the Future'."
   ]
  },
  {
   "cell_type": "code",
   "execution_count": 1102,
   "metadata": {
    "collapsed": false
   },
   "outputs": [
    {
     "data": {
      "text/html": [
       "<pre>Indexing complete. Found 3512 unique items.</pre>"
      ],
      "text/plain": [
       "Indexing complete. Found 3512 unique items."
      ]
     },
     "metadata": {},
     "output_type": "display_data"
    },
    {
     "data": {
      "text/html": [
       "<pre>Preprocessing complete. Found 6040 unique transactions.</pre>"
      ],
      "text/plain": [
       "Preprocessing complete. Found 6040 unique transactions."
      ]
     },
     "metadata": {},
     "output_type": "display_data"
    },
    {
     "data": {
      "text/html": [
       "<pre>Building frequent pattern tree.</pre>"
      ],
      "text/plain": [
       "Building frequent pattern tree."
      ]
     },
     "metadata": {},
     "output_type": "display_data"
    },
    {
     "data": {
      "text/html": [
       "<pre>+-----------+----------------+------------+----------------------+------------------+</pre>"
      ],
      "text/plain": [
       "+-----------+----------------+------------+----------------------+------------------+"
      ]
     },
     "metadata": {},
     "output_type": "display_data"
    },
    {
     "data": {
      "text/html": [
       "<pre>| Iteration | Num. Patterns  | Support    | Current Min Support  | Elapsed Time     |</pre>"
      ],
      "text/plain": [
       "| Iteration | Num. Patterns  | Support    | Current Min Support  | Elapsed Time     |"
      ]
     },
     "metadata": {},
     "output_type": "display_data"
    },
    {
     "data": {
      "text/html": [
       "<pre>+-----------+----------------+------------+----------------------+------------------+</pre>"
      ],
      "text/plain": [
       "+-----------+----------------+------------+----------------------+------------------+"
      ]
     },
     "metadata": {},
     "output_type": "display_data"
    },
    {
     "data": {
      "text/html": [
       "<pre>| 0         | 0              | 3420       | 7                    | 0us              |</pre>"
      ],
      "text/plain": [
       "| 0         | 0              | 3420       | 7                    | 0us              |"
      ]
     },
     "metadata": {},
     "output_type": "display_data"
    },
    {
     "data": {
      "text/html": [
       "<pre>| 1         | 0              | 2662       | 7                    | 502us            |</pre>"
      ],
      "text/plain": [
       "| 1         | 0              | 2662       | 7                    | 502us            |"
      ]
     },
     "metadata": {},
     "output_type": "display_data"
    },
    {
     "data": {
      "text/html": [
       "<pre>| 2         | 0              | 2650       | 7                    | 502us            |</pre>"
      ],
      "text/plain": [
       "| 2         | 0              | 2650       | 7                    | 502us            |"
      ]
     },
     "metadata": {},
     "output_type": "display_data"
    },
    {
     "data": {
      "text/html": [
       "<pre>| 3         | 0              | 2582       | 7                    | 502us            |</pre>"
      ],
      "text/plain": [
       "| 3         | 0              | 2582       | 7                    | 502us            |"
      ]
     },
     "metadata": {},
     "output_type": "display_data"
    },
    {
     "data": {
      "text/html": [
       "<pre>| 4         | 1              | 2575       | 7                    | 502us            |</pre>"
      ],
      "text/plain": [
       "| 4         | 1              | 2575       | 7                    | 502us            |"
      ]
     },
     "metadata": {},
     "output_type": "display_data"
    },
    {
     "data": {
      "text/html": [
       "<pre>| 5         | 6              | 2567       | 7                    | 502us            |</pre>"
      ],
      "text/plain": [
       "| 5         | 6              | 2567       | 7                    | 502us            |"
      ]
     },
     "metadata": {},
     "output_type": "display_data"
    },
    {
     "data": {
      "text/html": [
       "<pre>| 6         | 22             | 2530       | 7                    | 502us            |</pre>"
      ],
      "text/plain": [
       "| 6         | 22             | 2530       | 7                    | 502us            |"
      ]
     },
     "metadata": {},
     "output_type": "display_data"
    },
    {
     "data": {
      "text/html": [
       "<pre>| 7         | 64             | 2509       | 7                    | 1.504ms          |</pre>"
      ],
      "text/plain": [
       "| 7         | 64             | 2509       | 7                    | 1.504ms          |"
      ]
     },
     "metadata": {},
     "output_type": "display_data"
    },
    {
     "data": {
      "text/html": [
       "<pre>| 8         | 163            | 2507       | 7                    | 3.009ms          |</pre>"
      ],
      "text/plain": [
       "| 8         | 163            | 2507       | 7                    | 3.009ms          |"
      ]
     },
     "metadata": {},
     "output_type": "display_data"
    },
    {
     "data": {
      "text/html": [
       "<pre>| 9         | 382            | 2452       | 7                    | 9.025ms          |</pre>"
      ],
      "text/plain": [
       "| 9         | 382            | 2452       | 7                    | 9.025ms          |"
      ]
     },
     "metadata": {},
     "output_type": "display_data"
    },
    {
     "data": {
      "text/html": [
       "<pre>| 10        | 500            | 2430       | 581                  | 350.584ms        |</pre>"
      ],
      "text/plain": [
       "| 10        | 500            | 2430       | 581                  | 350.584ms        |"
      ]
     },
     "metadata": {},
     "output_type": "display_data"
    },
    {
     "data": {
      "text/html": [
       "<pre>| 11        | 500            | 2362       | 658                  | 389.707ms        |</pre>"
      ],
      "text/plain": [
       "| 11        | 500            | 2362       | 658                  | 389.707ms        |"
      ]
     },
     "metadata": {},
     "output_type": "display_data"
    },
    {
     "data": {
      "text/html": [
       "<pre>| 12        | 500            | 2312       | 679                  | 421.291ms        |</pre>"
      ],
      "text/plain": [
       "| 12        | 500            | 2312       | 679                  | 421.291ms        |"
      ]
     },
     "metadata": {},
     "output_type": "display_data"
    },
    {
     "data": {
      "text/html": [
       "<pre>| 13        | 500            | 2298       | 707                  | 469.419ms        |</pre>"
      ],
      "text/plain": [
       "| 13        | 500            | 2298       | 707                  | 469.419ms        |"
      ]
     },
     "metadata": {},
     "output_type": "display_data"
    },
    {
     "data": {
      "text/html": [
       "<pre>| 14        | 500            | 2279       | 724                  | 504.513ms        |</pre>"
      ],
      "text/plain": [
       "| 14        | 500            | 2279       | 724                  | 504.513ms        |"
      ]
     },
     "metadata": {},
     "output_type": "display_data"
    },
    {
     "data": {
      "text/html": [
       "<pre>| 15        | 500            | 2270       | 741                  | 557.654ms        |</pre>"
      ],
      "text/plain": [
       "| 15        | 500            | 2270       | 741                  | 557.654ms        |"
      ]
     },
     "metadata": {},
     "output_type": "display_data"
    },
    {
     "data": {
      "text/html": [
       "<pre>| 16        | 500            | 2258       | 755                  | 617.814ms        |</pre>"
      ],
      "text/plain": [
       "| 16        | 500            | 2258       | 755                  | 617.814ms        |"
      ]
     },
     "metadata": {},
     "output_type": "display_data"
    },
    {
     "data": {
      "text/html": [
       "<pre>| 17        | 500            | 2231       | 765                  | 668.448ms        |</pre>"
      ],
      "text/plain": [
       "| 17        | 500            | 2231       | 765                  | 668.448ms        |"
      ]
     },
     "metadata": {},
     "output_type": "display_data"
    },
    {
     "data": {
      "text/html": [
       "<pre>| 18        | 500            | 2219       | 768                  | 698.529ms        |</pre>"
      ],
      "text/plain": [
       "| 18        | 500            | 2219       | 768                  | 698.529ms        |"
      ]
     },
     "metadata": {},
     "output_type": "display_data"
    },
    {
     "data": {
      "text/html": [
       "<pre>| 19        | 500            | 2217       | 783                  | 782.253ms        |</pre>"
      ],
      "text/plain": [
       "| 19        | 500            | 2217       | 783                  | 782.253ms        |"
      ]
     },
     "metadata": {},
     "output_type": "display_data"
    },
    {
     "data": {
      "text/html": [
       "<pre>| 20        | 500            | 2185       | 784                  | 825.366ms        |</pre>"
      ],
      "text/plain": [
       "| 20        | 500            | 2185       | 784                  | 825.366ms        |"
      ]
     },
     "metadata": {},
     "output_type": "display_data"
    },
    {
     "data": {
      "text/html": [
       "<pre>| 21        | 500            | 2173       | 786                  | 885.024ms        |</pre>"
      ],
      "text/plain": [
       "| 21        | 500            | 2173       | 786                  | 885.024ms        |"
      ]
     },
     "metadata": {},
     "output_type": "display_data"
    },
    {
     "data": {
      "text/html": [
       "<pre>| 22        | 500            | 2164       | 788                  | 949.711ms        |</pre>"
      ],
      "text/plain": [
       "| 22        | 500            | 2164       | 788                  | 949.711ms        |"
      ]
     },
     "metadata": {},
     "output_type": "display_data"
    },
    {
     "data": {
      "text/html": [
       "<pre>| 23        | 500            | 2092       | 805                  | 1.07s            |</pre>"
      ],
      "text/plain": [
       "| 23        | 500            | 2092       | 805                  | 1.07s            |"
      ]
     },
     "metadata": {},
     "output_type": "display_data"
    },
    {
     "data": {
      "text/html": [
       "<pre>| 24        | 500            | 2072       | 811                  | 1.14s            |</pre>"
      ],
      "text/plain": [
       "| 24        | 500            | 2072       | 811                  | 1.14s            |"
      ]
     },
     "metadata": {},
     "output_type": "display_data"
    },
    {
     "data": {
      "text/html": [
       "<pre>| 25        | 500            | 2017       | 812                  | 1.20s            |</pre>"
      ],
      "text/plain": [
       "| 25        | 500            | 2017       | 812                  | 1.20s            |"
      ]
     },
     "metadata": {},
     "output_type": "display_data"
    },
    {
     "data": {
      "text/html": [
       "<pre>| 26        | 500            | 1990       | 815                  | 1.26s            |</pre>"
      ],
      "text/plain": [
       "| 26        | 500            | 1990       | 815                  | 1.26s            |"
      ]
     },
     "metadata": {},
     "output_type": "display_data"
    },
    {
     "data": {
      "text/html": [
       "<pre>| 27        | 500            | 1986       | 827                  | 1.38s            |</pre>"
      ],
      "text/plain": [
       "| 27        | 500            | 1986       | 827                  | 1.38s            |"
      ]
     },
     "metadata": {},
     "output_type": "display_data"
    },
    {
     "data": {
      "text/html": [
       "<pre>| 28        | 500            | 1919       | 834                  | 1.46s            |</pre>"
      ],
      "text/plain": [
       "| 28        | 500            | 1919       | 834                  | 1.46s            |"
      ]
     },
     "metadata": {},
     "output_type": "display_data"
    },
    {
     "data": {
      "text/html": [
       "<pre>| 29        | 500            | 1814       | 834                  | 1.51s            |</pre>"
      ],
      "text/plain": [
       "| 29        | 500            | 1814       | 834                  | 1.51s            |"
      ]
     },
     "metadata": {},
     "output_type": "display_data"
    },
    {
     "data": {
      "text/html": [
       "<pre>| 30        | 500            | 1792       | 841                  | 1.61s            |</pre>"
      ],
      "text/plain": [
       "| 30        | 500            | 1792       | 841                  | 1.61s            |"
      ]
     },
     "metadata": {},
     "output_type": "display_data"
    },
    {
     "data": {
      "text/html": [
       "<pre>| 31        | 500            | 1791       | 841                  | 1.68s            |</pre>"
      ],
      "text/plain": [
       "| 31        | 500            | 1791       | 841                  | 1.68s            |"
      ]
     },
     "metadata": {},
     "output_type": "display_data"
    },
    {
     "data": {
      "text/html": [
       "<pre>| 32        | 500            | 1783       | 843                  | 1.75s            |</pre>"
      ],
      "text/plain": [
       "| 32        | 500            | 1783       | 843                  | 1.75s            |"
      ]
     },
     "metadata": {},
     "output_type": "display_data"
    },
    {
     "data": {
      "text/html": [
       "<pre>| 33        | 500            | 1780       | 843                  | 1.83s            |</pre>"
      ],
      "text/plain": [
       "| 33        | 500            | 1780       | 843                  | 1.83s            |"
      ]
     },
     "metadata": {},
     "output_type": "display_data"
    },
    {
     "data": {
      "text/html": [
       "<pre>| 34        | 500            | 1746       | 846                  | 1.93s            |</pre>"
      ],
      "text/plain": [
       "| 34        | 500            | 1746       | 846                  | 1.93s            |"
      ]
     },
     "metadata": {},
     "output_type": "display_data"
    },
    {
     "data": {
      "text/html": [
       "<pre>| 35        | 500            | 1726       | 846                  | 1.98s            |</pre>"
      ],
      "text/plain": [
       "| 35        | 500            | 1726       | 846                  | 1.98s            |"
      ]
     },
     "metadata": {},
     "output_type": "display_data"
    },
    {
     "data": {
      "text/html": [
       "<pre>| 36        | 500            | 1723       | 848                  | 2.06s            |</pre>"
      ],
      "text/plain": [
       "| 36        | 500            | 1723       | 848                  | 2.06s            |"
      ]
     },
     "metadata": {},
     "output_type": "display_data"
    },
    {
     "data": {
      "text/html": [
       "<pre>| 37        | 500            | 1722       | 848                  | 2.12s            |</pre>"
      ],
      "text/plain": [
       "| 37        | 500            | 1722       | 848                  | 2.12s            |"
      ]
     },
     "metadata": {},
     "output_type": "display_data"
    },
    {
     "data": {
      "text/html": [
       "<pre>| 38        | 500            | 1720       | 848                  | 2.14s            |</pre>"
      ],
      "text/plain": [
       "| 38        | 500            | 1720       | 848                  | 2.14s            |"
      ]
     },
     "metadata": {},
     "output_type": "display_data"
    },
    {
     "data": {
      "text/html": [
       "<pre>| 39        | 500            | 1713       | 848                  | 2.18s            |</pre>"
      ],
      "text/plain": [
       "| 39        | 500            | 1713       | 848                  | 2.18s            |"
      ]
     },
     "metadata": {},
     "output_type": "display_data"
    },
    {
     "data": {
      "text/html": [
       "<pre>| 40        | 500            | 1711       | 848                  | 2.25s            |</pre>"
      ],
      "text/plain": [
       "| 40        | 500            | 1711       | 848                  | 2.25s            |"
      ]
     },
     "metadata": {},
     "output_type": "display_data"
    },
    {
     "data": {
      "text/html": [
       "<pre>| 41        | 500            | 1695       | 849                  | 2.31s            |</pre>"
      ],
      "text/plain": [
       "| 41        | 500            | 1695       | 849                  | 2.31s            |"
      ]
     },
     "metadata": {},
     "output_type": "display_data"
    },
    {
     "data": {
      "text/html": [
       "<pre>| 42        | 500            | 1691       | 849                  | 2.34s            |</pre>"
      ],
      "text/plain": [
       "| 42        | 500            | 1691       | 849                  | 2.34s            |"
      ]
     },
     "metadata": {},
     "output_type": "display_data"
    },
    {
     "data": {
      "text/html": [
       "<pre>| 43        | 500            | 1666       | 849                  | 2.42s            |</pre>"
      ],
      "text/plain": [
       "| 43        | 500            | 1666       | 849                  | 2.42s            |"
      ]
     },
     "metadata": {},
     "output_type": "display_data"
    },
    {
     "data": {
      "text/html": [
       "<pre>| 44        | 500            | 1659       | 849                  | 2.45s            |</pre>"
      ],
      "text/plain": [
       "| 44        | 500            | 1659       | 849                  | 2.45s            |"
      ]
     },
     "metadata": {},
     "output_type": "display_data"
    },
    {
     "data": {
      "text/html": [
       "<pre>| 45        | 500            | 1654       | 851                  | 2.54s            |</pre>"
      ],
      "text/plain": [
       "| 45        | 500            | 1654       | 851                  | 2.54s            |"
      ]
     },
     "metadata": {},
     "output_type": "display_data"
    },
    {
     "data": {
      "text/html": [
       "<pre>| 46        | 500            | 1644       | 851                  | 2.59s            |</pre>"
      ],
      "text/plain": [
       "| 46        | 500            | 1644       | 851                  | 2.59s            |"
      ]
     },
     "metadata": {},
     "output_type": "display_data"
    },
    {
     "data": {
      "text/html": [
       "<pre>| 47        | 500            | 1644       | 852                  | 2.67s            |</pre>"
      ],
      "text/plain": [
       "| 47        | 500            | 1644       | 852                  | 2.67s            |"
      ]
     },
     "metadata": {},
     "output_type": "display_data"
    },
    {
     "data": {
      "text/html": [
       "<pre>| 48        | 500            | 1624       | 853                  | 2.73s            |</pre>"
      ],
      "text/plain": [
       "| 48        | 500            | 1624       | 853                  | 2.73s            |"
      ]
     },
     "metadata": {},
     "output_type": "display_data"
    },
    {
     "data": {
      "text/html": [
       "<pre>| 49        | 500            | 1621       | 853                  | 2.82s            |</pre>"
      ],
      "text/plain": [
       "| 49        | 500            | 1621       | 853                  | 2.82s            |"
      ]
     },
     "metadata": {},
     "output_type": "display_data"
    },
    {
     "data": {
      "text/html": [
       "<pre>| 50        | 500            | 1593       | 855                  | 2.94s            |</pre>"
      ],
      "text/plain": [
       "| 50        | 500            | 1593       | 855                  | 2.94s            |"
      ]
     },
     "metadata": {},
     "output_type": "display_data"
    },
    {
     "data": {
      "text/html": [
       "<pre>| 51        | 500            | 1579       | 855                  | 3.01s            |</pre>"
      ],
      "text/plain": [
       "| 51        | 500            | 1579       | 855                  | 3.01s            |"
      ]
     },
     "metadata": {},
     "output_type": "display_data"
    },
    {
     "data": {
      "text/html": [
       "<pre>| 52        | 500            | 1564       | 855                  | 3.04s            |</pre>"
      ],
      "text/plain": [
       "| 52        | 500            | 1564       | 855                  | 3.04s            |"
      ]
     },
     "metadata": {},
     "output_type": "display_data"
    },
    {
     "data": {
      "text/html": [
       "<pre>| 53        | 500            | 1542       | 855                  | 3.09s            |</pre>"
      ],
      "text/plain": [
       "| 53        | 500            | 1542       | 855                  | 3.09s            |"
      ]
     },
     "metadata": {},
     "output_type": "display_data"
    },
    {
     "data": {
      "text/html": [
       "<pre>| 54        | 500            | 1539       | 855                  | 3.14s            |</pre>"
      ],
      "text/plain": [
       "| 54        | 500            | 1539       | 855                  | 3.14s            |"
      ]
     },
     "metadata": {},
     "output_type": "display_data"
    },
    {
     "data": {
      "text/html": [
       "<pre>| 55        | 500            | 1531       | 855                  | 3.16s            |</pre>"
      ],
      "text/plain": [
       "| 55        | 500            | 1531       | 855                  | 3.16s            |"
      ]
     },
     "metadata": {},
     "output_type": "display_data"
    },
    {
     "data": {
      "text/html": [
       "<pre>| 56        | 500            | 1518       | 855                  | 3.20s            |</pre>"
      ],
      "text/plain": [
       "| 56        | 500            | 1518       | 855                  | 3.20s            |"
      ]
     },
     "metadata": {},
     "output_type": "display_data"
    },
    {
     "data": {
      "text/html": [
       "<pre>| 57        | 500            | 1508       | 855                  | 3.22s            |</pre>"
      ],
      "text/plain": [
       "| 57        | 500            | 1508       | 855                  | 3.22s            |"
      ]
     },
     "metadata": {},
     "output_type": "display_data"
    },
    {
     "data": {
      "text/html": [
       "<pre>| 58        | 500            | 1504       | 855                  | 3.27s            |</pre>"
      ],
      "text/plain": [
       "| 58        | 500            | 1504       | 855                  | 3.27s            |"
      ]
     },
     "metadata": {},
     "output_type": "display_data"
    },
    {
     "data": {
      "text/html": [
       "<pre>| 59        | 500            | 1488       | 855                  | 3.28s            |</pre>"
      ],
      "text/plain": [
       "| 59        | 500            | 1488       | 855                  | 3.28s            |"
      ]
     },
     "metadata": {},
     "output_type": "display_data"
    },
    {
     "data": {
      "text/html": [
       "<pre>| 60        | 500            | 1483       | 855                  | 3.32s            |</pre>"
      ],
      "text/plain": [
       "| 60        | 500            | 1483       | 855                  | 3.32s            |"
      ]
     },
     "metadata": {},
     "output_type": "display_data"
    },
    {
     "data": {
      "text/html": [
       "<pre>| 61        | 500            | 1466       | 855                  | 3.39s            |</pre>"
      ],
      "text/plain": [
       "| 61        | 500            | 1466       | 855                  | 3.39s            |"
      ]
     },
     "metadata": {},
     "output_type": "display_data"
    },
    {
     "data": {
      "text/html": [
       "<pre>| 62        | 500            | 1461       | 855                  | 3.46s            |</pre>"
      ],
      "text/plain": [
       "| 62        | 500            | 1461       | 855                  | 3.46s            |"
      ]
     },
     "metadata": {},
     "output_type": "display_data"
    },
    {
     "data": {
      "text/html": [
       "<pre>| 63        | 500            | 1447       | 855                  | 3.48s            |</pre>"
      ],
      "text/plain": [
       "| 63        | 500            | 1447       | 855                  | 3.48s            |"
      ]
     },
     "metadata": {},
     "output_type": "display_data"
    },
    {
     "data": {
      "text/html": [
       "<pre>| 64        | 500            | 1446       | 855                  | 3.50s            |</pre>"
      ],
      "text/plain": [
       "| 64        | 500            | 1446       | 855                  | 3.50s            |"
      ]
     },
     "metadata": {},
     "output_type": "display_data"
    },
    {
     "data": {
      "text/html": [
       "<pre>| 65        | 500            | 1443       | 855                  | 3.53s            |</pre>"
      ],
      "text/plain": [
       "| 65        | 500            | 1443       | 855                  | 3.53s            |"
      ]
     },
     "metadata": {},
     "output_type": "display_data"
    },
    {
     "data": {
      "text/html": [
       "<pre>| 66        | 500            | 1431       | 855                  | 3.56s            |</pre>"
      ],
      "text/plain": [
       "| 66        | 500            | 1431       | 855                  | 3.56s            |"
      ]
     },
     "metadata": {},
     "output_type": "display_data"
    },
    {
     "data": {
      "text/html": [
       "<pre>| 67        | 500            | 1427       | 855                  | 3.60s            |</pre>"
      ],
      "text/plain": [
       "| 67        | 500            | 1427       | 855                  | 3.60s            |"
      ]
     },
     "metadata": {},
     "output_type": "display_data"
    },
    {
     "data": {
      "text/html": [
       "<pre>| 68        | 500            | 1417       | 855                  | 3.66s            |</pre>"
      ],
      "text/plain": [
       "| 68        | 500            | 1417       | 855                  | 3.66s            |"
      ]
     },
     "metadata": {},
     "output_type": "display_data"
    },
    {
     "data": {
      "text/html": [
       "<pre>| 69        | 500            | 1414       | 855                  | 3.69s            |</pre>"
      ],
      "text/plain": [
       "| 69        | 500            | 1414       | 855                  | 3.69s            |"
      ]
     },
     "metadata": {},
     "output_type": "display_data"
    },
    {
     "data": {
      "text/html": [
       "<pre>| 70        | 500            | 1414       | 855                  | 3.72s            |</pre>"
      ],
      "text/plain": [
       "| 70        | 500            | 1414       | 855                  | 3.72s            |"
      ]
     },
     "metadata": {},
     "output_type": "display_data"
    },
    {
     "data": {
      "text/html": [
       "<pre>| 71        | 500            | 1414       | 856                  | 3.74s            |</pre>"
      ],
      "text/plain": [
       "| 71        | 500            | 1414       | 856                  | 3.74s            |"
      ]
     },
     "metadata": {},
     "output_type": "display_data"
    },
    {
     "data": {
      "text/html": [
       "<pre>| 72        | 500            | 1407       | 856                  | 3.76s            |</pre>"
      ],
      "text/plain": [
       "| 72        | 500            | 1407       | 856                  | 3.76s            |"
      ]
     },
     "metadata": {},
     "output_type": "display_data"
    },
    {
     "data": {
      "text/html": [
       "<pre>| 73        | 500            | 1398       | 856                  | 3.78s            |</pre>"
      ],
      "text/plain": [
       "| 73        | 500            | 1398       | 856                  | 3.78s            |"
      ]
     },
     "metadata": {},
     "output_type": "display_data"
    },
    {
     "data": {
      "text/html": [
       "<pre>| 74        | 500            | 1385       | 856                  | 3.80s            |</pre>"
      ],
      "text/plain": [
       "| 74        | 500            | 1385       | 856                  | 3.80s            |"
      ]
     },
     "metadata": {},
     "output_type": "display_data"
    },
    {
     "data": {
      "text/html": [
       "<pre>| 75        | 500            | 1377       | 856                  | 3.81s            |</pre>"
      ],
      "text/plain": [
       "| 75        | 500            | 1377       | 856                  | 3.81s            |"
      ]
     },
     "metadata": {},
     "output_type": "display_data"
    },
    {
     "data": {
      "text/html": [
       "<pre>| 76        | 500            | 1377       | 856                  | 3.82s            |</pre>"
      ],
      "text/plain": [
       "| 76        | 500            | 1377       | 856                  | 3.82s            |"
      ]
     },
     "metadata": {},
     "output_type": "display_data"
    },
    {
     "data": {
      "text/html": [
       "<pre>| 77        | 500            | 1370       | 856                  | 3.84s            |</pre>"
      ],
      "text/plain": [
       "| 77        | 500            | 1370       | 856                  | 3.84s            |"
      ]
     },
     "metadata": {},
     "output_type": "display_data"
    },
    {
     "data": {
      "text/html": [
       "<pre>| 78        | 500            | 1368       | 857                  | 3.85s            |</pre>"
      ],
      "text/plain": [
       "| 78        | 500            | 1368       | 857                  | 3.85s            |"
      ]
     },
     "metadata": {},
     "output_type": "display_data"
    },
    {
     "data": {
      "text/html": [
       "<pre>| 79        | 500            | 1367       | 857                  | 3.87s            |</pre>"
      ],
      "text/plain": [
       "| 79        | 500            | 1367       | 857                  | 3.87s            |"
      ]
     },
     "metadata": {},
     "output_type": "display_data"
    },
    {
     "data": {
      "text/html": [
       "<pre>| 80        | 500            | 1366       | 857                  | 3.88s            |</pre>"
      ],
      "text/plain": [
       "| 80        | 500            | 1366       | 857                  | 3.88s            |"
      ]
     },
     "metadata": {},
     "output_type": "display_data"
    },
    {
     "data": {
      "text/html": [
       "<pre>| 81        | 500            | 1355       | 857                  | 3.89s            |</pre>"
      ],
      "text/plain": [
       "| 81        | 500            | 1355       | 857                  | 3.89s            |"
      ]
     },
     "metadata": {},
     "output_type": "display_data"
    },
    {
     "data": {
      "text/html": [
       "<pre>| 82        | 500            | 1354       | 857                  | 3.90s            |</pre>"
      ],
      "text/plain": [
       "| 82        | 500            | 1354       | 857                  | 3.90s            |"
      ]
     },
     "metadata": {},
     "output_type": "display_data"
    },
    {
     "data": {
      "text/html": [
       "<pre>| 83        | 500            | 1352       | 857                  | 3.91s            |</pre>"
      ],
      "text/plain": [
       "| 83        | 500            | 1352       | 857                  | 3.91s            |"
      ]
     },
     "metadata": {},
     "output_type": "display_data"
    },
    {
     "data": {
      "text/html": [
       "<pre>| 84        | 500            | 1349       | 857                  | 3.93s            |</pre>"
      ],
      "text/plain": [
       "| 84        | 500            | 1349       | 857                  | 3.93s            |"
      ]
     },
     "metadata": {},
     "output_type": "display_data"
    },
    {
     "data": {
      "text/html": [
       "<pre>| 85        | 500            | 1349       | 857                  | 3.94s            |</pre>"
      ],
      "text/plain": [
       "| 85        | 500            | 1349       | 857                  | 3.94s            |"
      ]
     },
     "metadata": {},
     "output_type": "display_data"
    },
    {
     "data": {
      "text/html": [
       "<pre>| 86        | 500            | 1344       | 857                  | 3.95s            |</pre>"
      ],
      "text/plain": [
       "| 86        | 500            | 1344       | 857                  | 3.95s            |"
      ]
     },
     "metadata": {},
     "output_type": "display_data"
    },
    {
     "data": {
      "text/html": [
       "<pre>| 87        | 500            | 1335       | 857                  | 3.97s            |</pre>"
      ],
      "text/plain": [
       "| 87        | 500            | 1335       | 857                  | 3.97s            |"
      ]
     },
     "metadata": {},
     "output_type": "display_data"
    },
    {
     "data": {
      "text/html": [
       "<pre>| 88        | 500            | 1335       | 857                  | 3.99s            |</pre>"
      ],
      "text/plain": [
       "| 88        | 500            | 1335       | 857                  | 3.99s            |"
      ]
     },
     "metadata": {},
     "output_type": "display_data"
    },
    {
     "data": {
      "text/html": [
       "<pre>| 89        | 500            | 1330       | 857                  | 4.00s            |</pre>"
      ],
      "text/plain": [
       "| 89        | 500            | 1330       | 857                  | 4.00s            |"
      ]
     },
     "metadata": {},
     "output_type": "display_data"
    },
    {
     "data": {
      "text/html": [
       "<pre>| 90        | 500            | 1327       | 857                  | 4.01s            |</pre>"
      ],
      "text/plain": [
       "| 90        | 500            | 1327       | 857                  | 4.01s            |"
      ]
     },
     "metadata": {},
     "output_type": "display_data"
    },
    {
     "data": {
      "text/html": [
       "<pre>| 91        | 500            | 1326       | 857                  | 4.02s            |</pre>"
      ],
      "text/plain": [
       "| 91        | 500            | 1326       | 857                  | 4.02s            |"
      ]
     },
     "metadata": {},
     "output_type": "display_data"
    },
    {
     "data": {
      "text/html": [
       "<pre>| 92        | 500            | 1325       | 857                  | 4.03s            |</pre>"
      ],
      "text/plain": [
       "| 92        | 500            | 1325       | 857                  | 4.03s            |"
      ]
     },
     "metadata": {},
     "output_type": "display_data"
    },
    {
     "data": {
      "text/html": [
       "<pre>| 93        | 500            | 1324       | 857                  | 4.05s            |</pre>"
      ],
      "text/plain": [
       "| 93        | 500            | 1324       | 857                  | 4.05s            |"
      ]
     },
     "metadata": {},
     "output_type": "display_data"
    },
    {
     "data": {
      "text/html": [
       "<pre>| 94        | 500            | 1311       | 857                  | 4.06s            |</pre>"
      ],
      "text/plain": [
       "| 94        | 500            | 1311       | 857                  | 4.06s            |"
      ]
     },
     "metadata": {},
     "output_type": "display_data"
    },
    {
     "data": {
      "text/html": [
       "<pre>| 95        | 500            | 1309       | 857                  | 4.07s            |</pre>"
      ],
      "text/plain": [
       "| 95        | 500            | 1309       | 857                  | 4.07s            |"
      ]
     },
     "metadata": {},
     "output_type": "display_data"
    },
    {
     "data": {
      "text/html": [
       "<pre>| 96        | 500            | 1308       | 857                  | 4.08s            |</pre>"
      ],
      "text/plain": [
       "| 96        | 500            | 1308       | 857                  | 4.08s            |"
      ]
     },
     "metadata": {},
     "output_type": "display_data"
    },
    {
     "data": {
      "text/html": [
       "<pre>| 97        | 500            | 1294       | 857                  | 4.10s            |</pre>"
      ],
      "text/plain": [
       "| 97        | 500            | 1294       | 857                  | 4.10s            |"
      ]
     },
     "metadata": {},
     "output_type": "display_data"
    },
    {
     "data": {
      "text/html": [
       "<pre>| 98        | 500            | 1259       | 857                  | 4.11s            |</pre>"
      ],
      "text/plain": [
       "| 98        | 500            | 1259       | 857                  | 4.11s            |"
      ]
     },
     "metadata": {},
     "output_type": "display_data"
    },
    {
     "data": {
      "text/html": [
       "<pre>| 99        | 500            | 1258       | 857                  | 4.12s            |</pre>"
      ],
      "text/plain": [
       "| 99        | 500            | 1258       | 857                  | 4.12s            |"
      ]
     },
     "metadata": {},
     "output_type": "display_data"
    },
    {
     "data": {
      "text/html": [
       "<pre>| 100       | 500            | 1256       | 857                  | 4.13s            |</pre>"
      ],
      "text/plain": [
       "| 100       | 500            | 1256       | 857                  | 4.13s            |"
      ]
     },
     "metadata": {},
     "output_type": "display_data"
    },
    {
     "data": {
      "text/html": [
       "<pre>| 101       | 500            | 1249       | 857                  | 4.15s            |</pre>"
      ],
      "text/plain": [
       "| 101       | 500            | 1249       | 857                  | 4.15s            |"
      ]
     },
     "metadata": {},
     "output_type": "display_data"
    },
    {
     "data": {
      "text/html": [
       "<pre>| 102       | 500            | 1247       | 857                  | 4.16s            |</pre>"
      ],
      "text/plain": [
       "| 102       | 500            | 1247       | 857                  | 4.16s            |"
      ]
     },
     "metadata": {},
     "output_type": "display_data"
    },
    {
     "data": {
      "text/html": [
       "<pre>| 103       | 500            | 1238       | 857                  | 4.17s            |</pre>"
      ],
      "text/plain": [
       "| 103       | 500            | 1238       | 857                  | 4.17s            |"
      ]
     },
     "metadata": {},
     "output_type": "display_data"
    },
    {
     "data": {
      "text/html": [
       "<pre>| 104       | 500            | 1235       | 857                  | 4.18s            |</pre>"
      ],
      "text/plain": [
       "| 104       | 500            | 1235       | 857                  | 4.18s            |"
      ]
     },
     "metadata": {},
     "output_type": "display_data"
    },
    {
     "data": {
      "text/html": [
       "<pre>| 105       | 500            | 1234       | 857                  | 4.19s            |</pre>"
      ],
      "text/plain": [
       "| 105       | 500            | 1234       | 857                  | 4.19s            |"
      ]
     },
     "metadata": {},
     "output_type": "display_data"
    },
    {
     "data": {
      "text/html": [
       "<pre>| 106       | 500            | 1231       | 857                  | 4.20s            |</pre>"
      ],
      "text/plain": [
       "| 106       | 500            | 1231       | 857                  | 4.20s            |"
      ]
     },
     "metadata": {},
     "output_type": "display_data"
    },
    {
     "data": {
      "text/html": [
       "<pre>| 107       | 500            | 1230       | 857                  | 4.21s            |</pre>"
      ],
      "text/plain": [
       "| 107       | 500            | 1230       | 857                  | 4.21s            |"
      ]
     },
     "metadata": {},
     "output_type": "display_data"
    },
    {
     "data": {
      "text/html": [
       "<pre>| 108       | 500            | 1225       | 857                  | 4.22s            |</pre>"
      ],
      "text/plain": [
       "| 108       | 500            | 1225       | 857                  | 4.22s            |"
      ]
     },
     "metadata": {},
     "output_type": "display_data"
    },
    {
     "data": {
      "text/html": [
       "<pre>| 109       | 500            | 1223       | 857                  | 4.24s            |</pre>"
      ],
      "text/plain": [
       "| 109       | 500            | 1223       | 857                  | 4.24s            |"
      ]
     },
     "metadata": {},
     "output_type": "display_data"
    },
    {
     "data": {
      "text/html": [
       "<pre>| 110       | 500            | 1221       | 857                  | 4.25s            |</pre>"
      ],
      "text/plain": [
       "| 110       | 500            | 1221       | 857                  | 4.25s            |"
      ]
     },
     "metadata": {},
     "output_type": "display_data"
    },
    {
     "data": {
      "text/html": [
       "<pre>| 111       | 500            | 1221       | 857                  | 4.26s            |</pre>"
      ],
      "text/plain": [
       "| 111       | 500            | 1221       | 857                  | 4.26s            |"
      ]
     },
     "metadata": {},
     "output_type": "display_data"
    },
    {
     "data": {
      "text/html": [
       "<pre>| 112       | 500            | 1217       | 857                  | 4.27s            |</pre>"
      ],
      "text/plain": [
       "| 112       | 500            | 1217       | 857                  | 4.27s            |"
      ]
     },
     "metadata": {},
     "output_type": "display_data"
    },
    {
     "data": {
      "text/html": [
       "<pre>| 113       | 500            | 1216       | 857                  | 4.29s            |</pre>"
      ],
      "text/plain": [
       "| 113       | 500            | 1216       | 857                  | 4.29s            |"
      ]
     },
     "metadata": {},
     "output_type": "display_data"
    },
    {
     "data": {
      "text/html": [
       "<pre>| 114       | 500            | 1203       | 857                  | 4.30s            |</pre>"
      ],
      "text/plain": [
       "| 114       | 500            | 1203       | 857                  | 4.30s            |"
      ]
     },
     "metadata": {},
     "output_type": "display_data"
    },
    {
     "data": {
      "text/html": [
       "<pre>| 115       | 500            | 1194       | 857                  | 4.31s            |</pre>"
      ],
      "text/plain": [
       "| 115       | 500            | 1194       | 857                  | 4.31s            |"
      ]
     },
     "metadata": {},
     "output_type": "display_data"
    },
    {
     "data": {
      "text/html": [
       "<pre>| 116       | 500            | 1185       | 857                  | 4.32s            |</pre>"
      ],
      "text/plain": [
       "| 116       | 500            | 1185       | 857                  | 4.32s            |"
      ]
     },
     "metadata": {},
     "output_type": "display_data"
    },
    {
     "data": {
      "text/html": [
       "<pre>| 117       | 500            | 1180       | 857                  | 4.33s            |</pre>"
      ],
      "text/plain": [
       "| 117       | 500            | 1180       | 857                  | 4.33s            |"
      ]
     },
     "metadata": {},
     "output_type": "display_data"
    },
    {
     "data": {
      "text/html": [
       "<pre>| 118       | 500            | 1176       | 857                  | 4.34s            |</pre>"
      ],
      "text/plain": [
       "| 118       | 500            | 1176       | 857                  | 4.34s            |"
      ]
     },
     "metadata": {},
     "output_type": "display_data"
    },
    {
     "data": {
      "text/html": [
       "<pre>| 119       | 500            | 1175       | 857                  | 4.36s            |</pre>"
      ],
      "text/plain": [
       "| 119       | 500            | 1175       | 857                  | 4.36s            |"
      ]
     },
     "metadata": {},
     "output_type": "display_data"
    },
    {
     "data": {
      "text/html": [
       "<pre>| 120       | 500            | 1173       | 857                  | 4.37s            |</pre>"
      ],
      "text/plain": [
       "| 120       | 500            | 1173       | 857                  | 4.37s            |"
      ]
     },
     "metadata": {},
     "output_type": "display_data"
    },
    {
     "data": {
      "text/html": [
       "<pre>| 121       | 500            | 1159       | 857                  | 4.38s            |</pre>"
      ],
      "text/plain": [
       "| 121       | 500            | 1159       | 857                  | 4.38s            |"
      ]
     },
     "metadata": {},
     "output_type": "display_data"
    },
    {
     "data": {
      "text/html": [
       "<pre>| 122       | 500            | 1156       | 857                  | 4.39s            |</pre>"
      ],
      "text/plain": [
       "| 122       | 500            | 1156       | 857                  | 4.39s            |"
      ]
     },
     "metadata": {},
     "output_type": "display_data"
    },
    {
     "data": {
      "text/html": [
       "<pre>| 123       | 500            | 1155       | 857                  | 4.40s            |</pre>"
      ],
      "text/plain": [
       "| 123       | 500            | 1155       | 857                  | 4.40s            |"
      ]
     },
     "metadata": {},
     "output_type": "display_data"
    },
    {
     "data": {
      "text/html": [
       "<pre>| 124       | 500            | 1155       | 857                  | 4.42s            |</pre>"
      ],
      "text/plain": [
       "| 124       | 500            | 1155       | 857                  | 4.42s            |"
      ]
     },
     "metadata": {},
     "output_type": "display_data"
    },
    {
     "data": {
      "text/html": [
       "<pre>| 125       | 500            | 1153       | 857                  | 4.43s            |</pre>"
      ],
      "text/plain": [
       "| 125       | 500            | 1153       | 857                  | 4.43s            |"
      ]
     },
     "metadata": {},
     "output_type": "display_data"
    },
    {
     "data": {
      "text/html": [
       "<pre>| 126       | 500            | 1152       | 857                  | 4.44s            |</pre>"
      ],
      "text/plain": [
       "| 126       | 500            | 1152       | 857                  | 4.44s            |"
      ]
     },
     "metadata": {},
     "output_type": "display_data"
    },
    {
     "data": {
      "text/html": [
       "<pre>| 127       | 500            | 1149       | 857                  | 4.45s            |</pre>"
      ],
      "text/plain": [
       "| 127       | 500            | 1149       | 857                  | 4.45s            |"
      ]
     },
     "metadata": {},
     "output_type": "display_data"
    },
    {
     "data": {
      "text/html": [
       "<pre>| 128       | 500            | 1145       | 857                  | 4.46s            |</pre>"
      ],
      "text/plain": [
       "| 128       | 500            | 1145       | 857                  | 4.46s            |"
      ]
     },
     "metadata": {},
     "output_type": "display_data"
    },
    {
     "data": {
      "text/html": [
       "<pre>| 129       | 500            | 1139       | 857                  | 4.48s            |</pre>"
      ],
      "text/plain": [
       "| 129       | 500            | 1139       | 857                  | 4.48s            |"
      ]
     },
     "metadata": {},
     "output_type": "display_data"
    },
    {
     "data": {
      "text/html": [
       "<pre>| 130       | 500            | 1136       | 857                  | 4.49s            |</pre>"
      ],
      "text/plain": [
       "| 130       | 500            | 1136       | 857                  | 4.49s            |"
      ]
     },
     "metadata": {},
     "output_type": "display_data"
    },
    {
     "data": {
      "text/html": [
       "<pre>| 131       | 500            | 1132       | 857                  | 4.50s            |</pre>"
      ],
      "text/plain": [
       "| 131       | 500            | 1132       | 857                  | 4.50s            |"
      ]
     },
     "metadata": {},
     "output_type": "display_data"
    },
    {
     "data": {
      "text/html": [
       "<pre>| 132       | 500            | 1131       | 857                  | 4.52s            |</pre>"
      ],
      "text/plain": [
       "| 132       | 500            | 1131       | 857                  | 4.52s            |"
      ]
     },
     "metadata": {},
     "output_type": "display_data"
    },
    {
     "data": {
      "text/html": [
       "<pre>| 133       | 500            | 1127       | 857                  | 4.53s            |</pre>"
      ],
      "text/plain": [
       "| 133       | 500            | 1127       | 857                  | 4.53s            |"
      ]
     },
     "metadata": {},
     "output_type": "display_data"
    },
    {
     "data": {
      "text/html": [
       "<pre>| 134       | 500            | 1126       | 857                  | 4.55s            |</pre>"
      ],
      "text/plain": [
       "| 134       | 500            | 1126       | 857                  | 4.55s            |"
      ]
     },
     "metadata": {},
     "output_type": "display_data"
    },
    {
     "data": {
      "text/html": [
       "<pre>| 135       | 500            | 1123       | 857                  | 4.56s            |</pre>"
      ],
      "text/plain": [
       "| 135       | 500            | 1123       | 857                  | 4.56s            |"
      ]
     },
     "metadata": {},
     "output_type": "display_data"
    },
    {
     "data": {
      "text/html": [
       "<pre>| 136       | 500            | 1122       | 857                  | 4.58s            |</pre>"
      ],
      "text/plain": [
       "| 136       | 500            | 1122       | 857                  | 4.58s            |"
      ]
     },
     "metadata": {},
     "output_type": "display_data"
    },
    {
     "data": {
      "text/html": [
       "<pre>| 137       | 500            | 1119       | 857                  | 4.59s            |</pre>"
      ],
      "text/plain": [
       "| 137       | 500            | 1119       | 857                  | 4.59s            |"
      ]
     },
     "metadata": {},
     "output_type": "display_data"
    },
    {
     "data": {
      "text/html": [
       "<pre>| 138       | 500            | 1118       | 857                  | 4.61s            |</pre>"
      ],
      "text/plain": [
       "| 138       | 500            | 1118       | 857                  | 4.61s            |"
      ]
     },
     "metadata": {},
     "output_type": "display_data"
    },
    {
     "data": {
      "text/html": [
       "<pre>| 139       | 500            | 1116       | 857                  | 4.62s            |</pre>"
      ],
      "text/plain": [
       "| 139       | 500            | 1116       | 857                  | 4.62s            |"
      ]
     },
     "metadata": {},
     "output_type": "display_data"
    },
    {
     "data": {
      "text/html": [
       "<pre>| 140       | 500            | 1115       | 857                  | 4.63s            |</pre>"
      ],
      "text/plain": [
       "| 140       | 500            | 1115       | 857                  | 4.63s            |"
      ]
     },
     "metadata": {},
     "output_type": "display_data"
    },
    {
     "data": {
      "text/html": [
       "<pre>| 141       | 500            | 1113       | 857                  | 4.64s            |</pre>"
      ],
      "text/plain": [
       "| 141       | 500            | 1113       | 857                  | 4.64s            |"
      ]
     },
     "metadata": {},
     "output_type": "display_data"
    },
    {
     "data": {
      "text/html": [
       "<pre>| 142       | 500            | 1113       | 857                  | 4.65s            |</pre>"
      ],
      "text/plain": [
       "| 142       | 500            | 1113       | 857                  | 4.65s            |"
      ]
     },
     "metadata": {},
     "output_type": "display_data"
    },
    {
     "data": {
      "text/html": [
       "<pre>| 143       | 500            | 1112       | 857                  | 4.66s            |</pre>"
      ],
      "text/plain": [
       "| 143       | 500            | 1112       | 857                  | 4.66s            |"
      ]
     },
     "metadata": {},
     "output_type": "display_data"
    },
    {
     "data": {
      "text/html": [
       "<pre>| 144       | 500            | 1110       | 857                  | 4.68s            |</pre>"
      ],
      "text/plain": [
       "| 144       | 500            | 1110       | 857                  | 4.68s            |"
      ]
     },
     "metadata": {},
     "output_type": "display_data"
    },
    {
     "data": {
      "text/html": [
       "<pre>| 145       | 500            | 1107       | 857                  | 4.69s            |</pre>"
      ],
      "text/plain": [
       "| 145       | 500            | 1107       | 857                  | 4.69s            |"
      ]
     },
     "metadata": {},
     "output_type": "display_data"
    },
    {
     "data": {
      "text/html": [
       "<pre>| 146       | 500            | 1106       | 857                  | 4.70s            |</pre>"
      ],
      "text/plain": [
       "| 146       | 500            | 1106       | 857                  | 4.70s            |"
      ]
     },
     "metadata": {},
     "output_type": "display_data"
    },
    {
     "data": {
      "text/html": [
       "<pre>| 147       | 500            | 1106       | 857                  | 4.72s            |</pre>"
      ],
      "text/plain": [
       "| 147       | 500            | 1106       | 857                  | 4.72s            |"
      ]
     },
     "metadata": {},
     "output_type": "display_data"
    },
    {
     "data": {
      "text/html": [
       "<pre>| 148       | 500            | 1099       | 857                  | 4.74s            |</pre>"
      ],
      "text/plain": [
       "| 148       | 500            | 1099       | 857                  | 4.74s            |"
      ]
     },
     "metadata": {},
     "output_type": "display_data"
    },
    {
     "data": {
      "text/html": [
       "<pre>| 149       | 500            | 1096       | 857                  | 4.75s            |</pre>"
      ],
      "text/plain": [
       "| 149       | 500            | 1096       | 857                  | 4.75s            |"
      ]
     },
     "metadata": {},
     "output_type": "display_data"
    },
    {
     "data": {
      "text/html": [
       "<pre>| 150       | 500            | 1092       | 857                  | 4.76s            |</pre>"
      ],
      "text/plain": [
       "| 150       | 500            | 1092       | 857                  | 4.76s            |"
      ]
     },
     "metadata": {},
     "output_type": "display_data"
    },
    {
     "data": {
      "text/html": [
       "<pre>| 151       | 500            | 1091       | 857                  | 4.78s            |</pre>"
      ],
      "text/plain": [
       "| 151       | 500            | 1091       | 857                  | 4.78s            |"
      ]
     },
     "metadata": {},
     "output_type": "display_data"
    },
    {
     "data": {
      "text/html": [
       "<pre>| 152       | 500            | 1087       | 857                  | 4.79s            |</pre>"
      ],
      "text/plain": [
       "| 152       | 500            | 1087       | 857                  | 4.79s            |"
      ]
     },
     "metadata": {},
     "output_type": "display_data"
    },
    {
     "data": {
      "text/html": [
       "<pre>| 153       | 500            | 1084       | 857                  | 4.81s            |</pre>"
      ],
      "text/plain": [
       "| 153       | 500            | 1084       | 857                  | 4.81s            |"
      ]
     },
     "metadata": {},
     "output_type": "display_data"
    },
    {
     "data": {
      "text/html": [
       "<pre>| 154       | 500            | 1084       | 857                  | 4.82s            |</pre>"
      ],
      "text/plain": [
       "| 154       | 500            | 1084       | 857                  | 4.82s            |"
      ]
     },
     "metadata": {},
     "output_type": "display_data"
    },
    {
     "data": {
      "text/html": [
       "<pre>| 155       | 500            | 1082       | 857                  | 4.84s            |</pre>"
      ],
      "text/plain": [
       "| 155       | 500            | 1082       | 857                  | 4.84s            |"
      ]
     },
     "metadata": {},
     "output_type": "display_data"
    },
    {
     "data": {
      "text/html": [
       "<pre>| 156       | 500            | 1077       | 857                  | 4.85s            |</pre>"
      ],
      "text/plain": [
       "| 156       | 500            | 1077       | 857                  | 4.85s            |"
      ]
     },
     "metadata": {},
     "output_type": "display_data"
    },
    {
     "data": {
      "text/html": [
       "<pre>| 157       | 500            | 1074       | 857                  | 4.87s            |</pre>"
      ],
      "text/plain": [
       "| 157       | 500            | 1074       | 857                  | 4.87s            |"
      ]
     },
     "metadata": {},
     "output_type": "display_data"
    },
    {
     "data": {
      "text/html": [
       "<pre>| 158       | 500            | 1073       | 857                  | 4.88s            |</pre>"
      ],
      "text/plain": [
       "| 158       | 500            | 1073       | 857                  | 4.88s            |"
      ]
     },
     "metadata": {},
     "output_type": "display_data"
    },
    {
     "data": {
      "text/html": [
       "<pre>| 159       | 500            | 1070       | 857                  | 4.89s            |</pre>"
      ],
      "text/plain": [
       "| 159       | 500            | 1070       | 857                  | 4.89s            |"
      ]
     },
     "metadata": {},
     "output_type": "display_data"
    },
    {
     "data": {
      "text/html": [
       "<pre>| 160       | 500            | 1070       | 857                  | 4.91s            |</pre>"
      ],
      "text/plain": [
       "| 160       | 500            | 1070       | 857                  | 4.91s            |"
      ]
     },
     "metadata": {},
     "output_type": "display_data"
    },
    {
     "data": {
      "text/html": [
       "<pre>| 161       | 500            | 1066       | 857                  | 4.92s            |</pre>"
      ],
      "text/plain": [
       "| 161       | 500            | 1066       | 857                  | 4.92s            |"
      ]
     },
     "metadata": {},
     "output_type": "display_data"
    },
    {
     "data": {
      "text/html": [
       "<pre>| 162       | 500            | 1063       | 857                  | 4.94s            |</pre>"
      ],
      "text/plain": [
       "| 162       | 500            | 1063       | 857                  | 4.94s            |"
      ]
     },
     "metadata": {},
     "output_type": "display_data"
    },
    {
     "data": {
      "text/html": [
       "<pre>| 163       | 500            | 1062       | 857                  | 4.95s            |</pre>"
      ],
      "text/plain": [
       "| 163       | 500            | 1062       | 857                  | 4.95s            |"
      ]
     },
     "metadata": {},
     "output_type": "display_data"
    },
    {
     "data": {
      "text/html": [
       "<pre>| 164       | 500            | 1058       | 857                  | 4.96s            |</pre>"
      ],
      "text/plain": [
       "| 164       | 500            | 1058       | 857                  | 4.96s            |"
      ]
     },
     "metadata": {},
     "output_type": "display_data"
    },
    {
     "data": {
      "text/html": [
       "<pre>| 165       | 500            | 1058       | 857                  | 4.98s            |</pre>"
      ],
      "text/plain": [
       "| 165       | 500            | 1058       | 857                  | 4.98s            |"
      ]
     },
     "metadata": {},
     "output_type": "display_data"
    },
    {
     "data": {
      "text/html": [
       "<pre>| 166       | 500            | 1053       | 857                  | 4.99s            |</pre>"
      ],
      "text/plain": [
       "| 166       | 500            | 1053       | 857                  | 4.99s            |"
      ]
     },
     "metadata": {},
     "output_type": "display_data"
    },
    {
     "data": {
      "text/html": [
       "<pre>| 167       | 500            | 1052       | 857                  | 5.01s            |</pre>"
      ],
      "text/plain": [
       "| 167       | 500            | 1052       | 857                  | 5.01s            |"
      ]
     },
     "metadata": {},
     "output_type": "display_data"
    },
    {
     "data": {
      "text/html": [
       "<pre>| 168       | 500            | 1047       | 857                  | 5.02s            |</pre>"
      ],
      "text/plain": [
       "| 168       | 500            | 1047       | 857                  | 5.02s            |"
      ]
     },
     "metadata": {},
     "output_type": "display_data"
    },
    {
     "data": {
      "text/html": [
       "<pre>| 169       | 500            | 1046       | 857                  | 5.04s            |</pre>"
      ],
      "text/plain": [
       "| 169       | 500            | 1046       | 857                  | 5.04s            |"
      ]
     },
     "metadata": {},
     "output_type": "display_data"
    },
    {
     "data": {
      "text/html": [
       "<pre>| 170       | 500            | 1045       | 857                  | 5.05s            |</pre>"
      ],
      "text/plain": [
       "| 170       | 500            | 1045       | 857                  | 5.05s            |"
      ]
     },
     "metadata": {},
     "output_type": "display_data"
    },
    {
     "data": {
      "text/html": [
       "<pre>| 171       | 500            | 1045       | 857                  | 5.07s            |</pre>"
      ],
      "text/plain": [
       "| 171       | 500            | 1045       | 857                  | 5.07s            |"
      ]
     },
     "metadata": {},
     "output_type": "display_data"
    },
    {
     "data": {
      "text/html": [
       "<pre>| 172       | 500            | 1043       | 857                  | 5.08s            |</pre>"
      ],
      "text/plain": [
       "| 172       | 500            | 1043       | 857                  | 5.08s            |"
      ]
     },
     "metadata": {},
     "output_type": "display_data"
    },
    {
     "data": {
      "text/html": [
       "<pre>| 173       | 500            | 1041       | 857                  | 5.09s            |</pre>"
      ],
      "text/plain": [
       "| 173       | 500            | 1041       | 857                  | 5.09s            |"
      ]
     },
     "metadata": {},
     "output_type": "display_data"
    },
    {
     "data": {
      "text/html": [
       "<pre>| 174       | 500            | 1038       | 857                  | 5.11s            |</pre>"
      ],
      "text/plain": [
       "| 174       | 500            | 1038       | 857                  | 5.11s            |"
      ]
     },
     "metadata": {},
     "output_type": "display_data"
    },
    {
     "data": {
      "text/html": [
       "<pre>| 175       | 500            | 1031       | 857                  | 5.12s            |</pre>"
      ],
      "text/plain": [
       "| 175       | 500            | 1031       | 857                  | 5.12s            |"
      ]
     },
     "metadata": {},
     "output_type": "display_data"
    },
    {
     "data": {
      "text/html": [
       "<pre>| 176       | 500            | 1029       | 857                  | 5.14s            |</pre>"
      ],
      "text/plain": [
       "| 176       | 500            | 1029       | 857                  | 5.14s            |"
      ]
     },
     "metadata": {},
     "output_type": "display_data"
    },
    {
     "data": {
      "text/html": [
       "<pre>| 177       | 500            | 1027       | 857                  | 5.15s            |</pre>"
      ],
      "text/plain": [
       "| 177       | 500            | 1027       | 857                  | 5.15s            |"
      ]
     },
     "metadata": {},
     "output_type": "display_data"
    },
    {
     "data": {
      "text/html": [
       "<pre>| 178       | 500            | 1027       | 857                  | 5.17s            |</pre>"
      ],
      "text/plain": [
       "| 178       | 500            | 1027       | 857                  | 5.17s            |"
      ]
     },
     "metadata": {},
     "output_type": "display_data"
    },
    {
     "data": {
      "text/html": [
       "<pre>| 179       | 500            | 1017       | 857                  | 5.18s            |</pre>"
      ],
      "text/plain": [
       "| 179       | 500            | 1017       | 857                  | 5.18s            |"
      ]
     },
     "metadata": {},
     "output_type": "display_data"
    },
    {
     "data": {
      "text/html": [
       "<pre>| 180       | 500            | 1011       | 857                  | 5.20s            |</pre>"
      ],
      "text/plain": [
       "| 180       | 500            | 1011       | 857                  | 5.20s            |"
      ]
     },
     "metadata": {},
     "output_type": "display_data"
    },
    {
     "data": {
      "text/html": [
       "<pre>| 181       | 500            | 1009       | 857                  | 5.21s            |</pre>"
      ],
      "text/plain": [
       "| 181       | 500            | 1009       | 857                  | 5.21s            |"
      ]
     },
     "metadata": {},
     "output_type": "display_data"
    },
    {
     "data": {
      "text/html": [
       "<pre>| 182       | 500            | 1009       | 857                  | 5.23s            |</pre>"
      ],
      "text/plain": [
       "| 182       | 500            | 1009       | 857                  | 5.23s            |"
      ]
     },
     "metadata": {},
     "output_type": "display_data"
    },
    {
     "data": {
      "text/html": [
       "<pre>| 183       | 500            | 1008       | 857                  | 5.24s            |</pre>"
      ],
      "text/plain": [
       "| 183       | 500            | 1008       | 857                  | 5.24s            |"
      ]
     },
     "metadata": {},
     "output_type": "display_data"
    },
    {
     "data": {
      "text/html": [
       "<pre>| 184       | 500            | 1006       | 857                  | 5.26s            |</pre>"
      ],
      "text/plain": [
       "| 184       | 500            | 1006       | 857                  | 5.26s            |"
      ]
     },
     "metadata": {},
     "output_type": "display_data"
    },
    {
     "data": {
      "text/html": [
       "<pre>| 185       | 500            | 1005       | 857                  | 5.27s            |</pre>"
      ],
      "text/plain": [
       "| 185       | 500            | 1005       | 857                  | 5.27s            |"
      ]
     },
     "metadata": {},
     "output_type": "display_data"
    },
    {
     "data": {
      "text/html": [
       "<pre>| 186       | 500            | 1003       | 857                  | 5.29s            |</pre>"
      ],
      "text/plain": [
       "| 186       | 500            | 1003       | 857                  | 5.29s            |"
      ]
     },
     "metadata": {},
     "output_type": "display_data"
    },
    {
     "data": {
      "text/html": [
       "<pre>| 187       | 500            | 1002       | 857                  | 5.30s            |</pre>"
      ],
      "text/plain": [
       "| 187       | 500            | 1002       | 857                  | 5.30s            |"
      ]
     },
     "metadata": {},
     "output_type": "display_data"
    },
    {
     "data": {
      "text/html": [
       "<pre>| 188       | 500            | 997        | 857                  | 5.32s            |</pre>"
      ],
      "text/plain": [
       "| 188       | 500            | 997        | 857                  | 5.32s            |"
      ]
     },
     "metadata": {},
     "output_type": "display_data"
    },
    {
     "data": {
      "text/html": [
       "<pre>| 189       | 500            | 994        | 857                  | 5.33s            |</pre>"
      ],
      "text/plain": [
       "| 189       | 500            | 994        | 857                  | 5.33s            |"
      ]
     },
     "metadata": {},
     "output_type": "display_data"
    },
    {
     "data": {
      "text/html": [
       "<pre>| 190       | 500            | 994        | 857                  | 5.34s            |</pre>"
      ],
      "text/plain": [
       "| 190       | 500            | 994        | 857                  | 5.34s            |"
      ]
     },
     "metadata": {},
     "output_type": "display_data"
    },
    {
     "data": {
      "text/html": [
       "<pre>| 191       | 500            | 990        | 857                  | 5.35s            |</pre>"
      ],
      "text/plain": [
       "| 191       | 500            | 990        | 857                  | 5.35s            |"
      ]
     },
     "metadata": {},
     "output_type": "display_data"
    },
    {
     "data": {
      "text/html": [
       "<pre>| 192       | 500            | 986        | 857                  | 5.37s            |</pre>"
      ],
      "text/plain": [
       "| 192       | 500            | 986        | 857                  | 5.37s            |"
      ]
     },
     "metadata": {},
     "output_type": "display_data"
    },
    {
     "data": {
      "text/html": [
       "<pre>| 193       | 500            | 986        | 857                  | 5.38s            |</pre>"
      ],
      "text/plain": [
       "| 193       | 500            | 986        | 857                  | 5.38s            |"
      ]
     },
     "metadata": {},
     "output_type": "display_data"
    },
    {
     "data": {
      "text/html": [
       "<pre>| 194       | 500            | 986        | 857                  | 5.40s            |</pre>"
      ],
      "text/plain": [
       "| 194       | 500            | 986        | 857                  | 5.40s            |"
      ]
     },
     "metadata": {},
     "output_type": "display_data"
    },
    {
     "data": {
      "text/html": [
       "<pre>| 195       | 500            | 984        | 857                  | 5.41s            |</pre>"
      ],
      "text/plain": [
       "| 195       | 500            | 984        | 857                  | 5.41s            |"
      ]
     },
     "metadata": {},
     "output_type": "display_data"
    },
    {
     "data": {
      "text/html": [
       "<pre>| 196       | 500            | 983        | 857                  | 5.42s            |</pre>"
      ],
      "text/plain": [
       "| 196       | 500            | 983        | 857                  | 5.42s            |"
      ]
     },
     "metadata": {},
     "output_type": "display_data"
    },
    {
     "data": {
      "text/html": [
       "<pre>| 197       | 500            | 980        | 857                  | 5.44s            |</pre>"
      ],
      "text/plain": [
       "| 197       | 500            | 980        | 857                  | 5.44s            |"
      ]
     },
     "metadata": {},
     "output_type": "display_data"
    },
    {
     "data": {
      "text/html": [
       "<pre>| 198       | 500            | 978        | 857                  | 5.45s            |</pre>"
      ],
      "text/plain": [
       "| 198       | 500            | 978        | 857                  | 5.45s            |"
      ]
     },
     "metadata": {},
     "output_type": "display_data"
    },
    {
     "data": {
      "text/html": [
       "<pre>| 199       | 500            | 975        | 857                  | 5.46s            |</pre>"
      ],
      "text/plain": [
       "| 199       | 500            | 975        | 857                  | 5.46s            |"
      ]
     },
     "metadata": {},
     "output_type": "display_data"
    },
    {
     "data": {
      "text/html": [
       "<pre>| 200       | 500            | 974        | 857                  | 5.47s            |</pre>"
      ],
      "text/plain": [
       "| 200       | 500            | 974        | 857                  | 5.47s            |"
      ]
     },
     "metadata": {},
     "output_type": "display_data"
    },
    {
     "data": {
      "text/html": [
       "<pre>| 201       | 500            | 973        | 857                  | 5.49s            |</pre>"
      ],
      "text/plain": [
       "| 201       | 500            | 973        | 857                  | 5.49s            |"
      ]
     },
     "metadata": {},
     "output_type": "display_data"
    },
    {
     "data": {
      "text/html": [
       "<pre>| 202       | 500            | 967        | 857                  | 5.50s            |</pre>"
      ],
      "text/plain": [
       "| 202       | 500            | 967        | 857                  | 5.50s            |"
      ]
     },
     "metadata": {},
     "output_type": "display_data"
    },
    {
     "data": {
      "text/html": [
       "<pre>| 203       | 500            | 965        | 857                  | 5.51s            |</pre>"
      ],
      "text/plain": [
       "| 203       | 500            | 965        | 857                  | 5.51s            |"
      ]
     },
     "metadata": {},
     "output_type": "display_data"
    },
    {
     "data": {
      "text/html": [
       "<pre>| 204       | 500            | 963        | 857                  | 5.53s            |</pre>"
      ],
      "text/plain": [
       "| 204       | 500            | 963        | 857                  | 5.53s            |"
      ]
     },
     "metadata": {},
     "output_type": "display_data"
    },
    {
     "data": {
      "text/html": [
       "<pre>| 205       | 500            | 962        | 857                  | 5.54s            |</pre>"
      ],
      "text/plain": [
       "| 205       | 500            | 962        | 857                  | 5.54s            |"
      ]
     },
     "metadata": {},
     "output_type": "display_data"
    },
    {
     "data": {
      "text/html": [
       "<pre>| 206       | 500            | 949        | 857                  | 5.56s            |</pre>"
      ],
      "text/plain": [
       "| 206       | 500            | 949        | 857                  | 5.56s            |"
      ]
     },
     "metadata": {},
     "output_type": "display_data"
    },
    {
     "data": {
      "text/html": [
       "<pre>| 207       | 500            | 946        | 857                  | 5.57s            |</pre>"
      ],
      "text/plain": [
       "| 207       | 500            | 946        | 857                  | 5.57s            |"
      ]
     },
     "metadata": {},
     "output_type": "display_data"
    },
    {
     "data": {
      "text/html": [
       "<pre>| 208       | 500            | 943        | 857                  | 5.59s            |</pre>"
      ],
      "text/plain": [
       "| 208       | 500            | 943        | 857                  | 5.59s            |"
      ]
     },
     "metadata": {},
     "output_type": "display_data"
    },
    {
     "data": {
      "text/html": [
       "<pre>| 209       | 500            | 943        | 857                  | 5.60s            |</pre>"
      ],
      "text/plain": [
       "| 209       | 500            | 943        | 857                  | 5.60s            |"
      ]
     },
     "metadata": {},
     "output_type": "display_data"
    },
    {
     "data": {
      "text/html": [
       "<pre>| 210       | 500            | 943        | 857                  | 5.62s            |</pre>"
      ],
      "text/plain": [
       "| 210       | 500            | 943        | 857                  | 5.62s            |"
      ]
     },
     "metadata": {},
     "output_type": "display_data"
    },
    {
     "data": {
      "text/html": [
       "<pre>| 211       | 500            | 942        | 857                  | 5.63s            |</pre>"
      ],
      "text/plain": [
       "| 211       | 500            | 942        | 857                  | 5.63s            |"
      ]
     },
     "metadata": {},
     "output_type": "display_data"
    },
    {
     "data": {
      "text/html": [
       "<pre>| 212       | 500            | 941        | 857                  | 5.64s            |</pre>"
      ],
      "text/plain": [
       "| 212       | 500            | 941        | 857                  | 5.64s            |"
      ]
     },
     "metadata": {},
     "output_type": "display_data"
    },
    {
     "data": {
      "text/html": [
       "<pre>| 213       | 500            | 936        | 857                  | 5.66s            |</pre>"
      ],
      "text/plain": [
       "| 213       | 500            | 936        | 857                  | 5.66s            |"
      ]
     },
     "metadata": {},
     "output_type": "display_data"
    },
    {
     "data": {
      "text/html": [
       "<pre>| 214       | 500            | 935        | 857                  | 5.67s            |</pre>"
      ],
      "text/plain": [
       "| 214       | 500            | 935        | 857                  | 5.67s            |"
      ]
     },
     "metadata": {},
     "output_type": "display_data"
    },
    {
     "data": {
      "text/html": [
       "<pre>| 215       | 500            | 934        | 857                  | 5.69s            |</pre>"
      ],
      "text/plain": [
       "| 215       | 500            | 934        | 857                  | 5.69s            |"
      ]
     },
     "metadata": {},
     "output_type": "display_data"
    },
    {
     "data": {
      "text/html": [
       "<pre>| 216       | 500            | 933        | 857                  | 5.70s            |</pre>"
      ],
      "text/plain": [
       "| 216       | 500            | 933        | 857                  | 5.70s            |"
      ]
     },
     "metadata": {},
     "output_type": "display_data"
    },
    {
     "data": {
      "text/html": [
       "<pre>| 217       | 500            | 931        | 857                  | 5.71s            |</pre>"
      ],
      "text/plain": [
       "| 217       | 500            | 931        | 857                  | 5.71s            |"
      ]
     },
     "metadata": {},
     "output_type": "display_data"
    },
    {
     "data": {
      "text/html": [
       "<pre>| 218       | 500            | 928        | 857                  | 5.73s            |</pre>"
      ],
      "text/plain": [
       "| 218       | 500            | 928        | 857                  | 5.73s            |"
      ]
     },
     "metadata": {},
     "output_type": "display_data"
    },
    {
     "data": {
      "text/html": [
       "<pre>| 219       | 500            | 927        | 857                  | 5.74s            |</pre>"
      ],
      "text/plain": [
       "| 219       | 500            | 927        | 857                  | 5.74s            |"
      ]
     },
     "metadata": {},
     "output_type": "display_data"
    },
    {
     "data": {
      "text/html": [
       "<pre>| 220       | 500            | 926        | 857                  | 5.75s            |</pre>"
      ],
      "text/plain": [
       "| 220       | 500            | 926        | 857                  | 5.75s            |"
      ]
     },
     "metadata": {},
     "output_type": "display_data"
    },
    {
     "data": {
      "text/html": [
       "<pre>| 221       | 500            | 924        | 857                  | 5.76s            |</pre>"
      ],
      "text/plain": [
       "| 221       | 500            | 924        | 857                  | 5.76s            |"
      ]
     },
     "metadata": {},
     "output_type": "display_data"
    },
    {
     "data": {
      "text/html": [
       "<pre>| 222       | 500            | 924        | 857                  | 5.78s            |</pre>"
      ],
      "text/plain": [
       "| 222       | 500            | 924        | 857                  | 5.78s            |"
      ]
     },
     "metadata": {},
     "output_type": "display_data"
    },
    {
     "data": {
      "text/html": [
       "<pre>| 223       | 500            | 921        | 857                  | 5.79s            |</pre>"
      ],
      "text/plain": [
       "| 223       | 500            | 921        | 857                  | 5.79s            |"
      ]
     },
     "metadata": {},
     "output_type": "display_data"
    },
    {
     "data": {
      "text/html": [
       "<pre>| 224       | 500            | 911        | 857                  | 5.81s            |</pre>"
      ],
      "text/plain": [
       "| 224       | 500            | 911        | 857                  | 5.81s            |"
      ]
     },
     "metadata": {},
     "output_type": "display_data"
    },
    {
     "data": {
      "text/html": [
       "<pre>| 225       | 500            | 911        | 857                  | 5.83s            |</pre>"
      ],
      "text/plain": [
       "| 225       | 500            | 911        | 857                  | 5.83s            |"
      ]
     },
     "metadata": {},
     "output_type": "display_data"
    },
    {
     "data": {
      "text/html": [
       "<pre>| 226       | 500            | 910        | 857                  | 5.84s            |</pre>"
      ],
      "text/plain": [
       "| 226       | 500            | 910        | 857                  | 5.84s            |"
      ]
     },
     "metadata": {},
     "output_type": "display_data"
    },
    {
     "data": {
      "text/html": [
       "<pre>| 227       | 500            | 909        | 857                  | 5.86s            |</pre>"
      ],
      "text/plain": [
       "| 227       | 500            | 909        | 857                  | 5.86s            |"
      ]
     },
     "metadata": {},
     "output_type": "display_data"
    },
    {
     "data": {
      "text/html": [
       "<pre>| 228       | 500            | 907        | 857                  | 5.87s            |</pre>"
      ],
      "text/plain": [
       "| 228       | 500            | 907        | 857                  | 5.87s            |"
      ]
     },
     "metadata": {},
     "output_type": "display_data"
    },
    {
     "data": {
      "text/html": [
       "<pre>| 229       | 500            | 905        | 857                  | 5.89s            |</pre>"
      ],
      "text/plain": [
       "| 229       | 500            | 905        | 857                  | 5.89s            |"
      ]
     },
     "metadata": {},
     "output_type": "display_data"
    },
    {
     "data": {
      "text/html": [
       "<pre>| 230       | 500            | 905        | 857                  | 5.90s            |</pre>"
      ],
      "text/plain": [
       "| 230       | 500            | 905        | 857                  | 5.90s            |"
      ]
     },
     "metadata": {},
     "output_type": "display_data"
    },
    {
     "data": {
      "text/html": [
       "<pre>| 231       | 500            | 902        | 857                  | 5.91s            |</pre>"
      ],
      "text/plain": [
       "| 231       | 500            | 902        | 857                  | 5.91s            |"
      ]
     },
     "metadata": {},
     "output_type": "display_data"
    },
    {
     "data": {
      "text/html": [
       "<pre>| 232       | 500            | 901        | 857                  | 5.93s            |</pre>"
      ],
      "text/plain": [
       "| 232       | 500            | 901        | 857                  | 5.93s            |"
      ]
     },
     "metadata": {},
     "output_type": "display_data"
    },
    {
     "data": {
      "text/html": [
       "<pre>| 233       | 500            | 899        | 857                  | 5.94s            |</pre>"
      ],
      "text/plain": [
       "| 233       | 500            | 899        | 857                  | 5.94s            |"
      ]
     },
     "metadata": {},
     "output_type": "display_data"
    },
    {
     "data": {
      "text/html": [
       "<pre>| 234       | 500            | 893        | 857                  | 5.96s            |</pre>"
      ],
      "text/plain": [
       "| 234       | 500            | 893        | 857                  | 5.96s            |"
      ]
     },
     "metadata": {},
     "output_type": "display_data"
    },
    {
     "data": {
      "text/html": [
       "<pre>| 235       | 500            | 893        | 857                  | 5.97s            |</pre>"
      ],
      "text/plain": [
       "| 235       | 500            | 893        | 857                  | 5.97s            |"
      ]
     },
     "metadata": {},
     "output_type": "display_data"
    },
    {
     "data": {
      "text/html": [
       "<pre>| 236       | 500            | 892        | 857                  | 5.98s            |</pre>"
      ],
      "text/plain": [
       "| 236       | 500            | 892        | 857                  | 5.98s            |"
      ]
     },
     "metadata": {},
     "output_type": "display_data"
    },
    {
     "data": {
      "text/html": [
       "<pre>| 237       | 500            | 886        | 857                  | 5.99s            |</pre>"
      ],
      "text/plain": [
       "| 237       | 500            | 886        | 857                  | 5.99s            |"
      ]
     },
     "metadata": {},
     "output_type": "display_data"
    },
    {
     "data": {
      "text/html": [
       "<pre>| 238       | 500            | 884        | 857                  | 6.01s            |</pre>"
      ],
      "text/plain": [
       "| 238       | 500            | 884        | 857                  | 6.01s            |"
      ]
     },
     "metadata": {},
     "output_type": "display_data"
    },
    {
     "data": {
      "text/html": [
       "<pre>| 239       | 500            | 882        | 857                  | 6.02s            |</pre>"
      ],
      "text/plain": [
       "| 239       | 500            | 882        | 857                  | 6.02s            |"
      ]
     },
     "metadata": {},
     "output_type": "display_data"
    },
    {
     "data": {
      "text/html": [
       "<pre>| 240       | 500            | 882        | 857                  | 6.04s            |</pre>"
      ],
      "text/plain": [
       "| 240       | 500            | 882        | 857                  | 6.04s            |"
      ]
     },
     "metadata": {},
     "output_type": "display_data"
    },
    {
     "data": {
      "text/html": [
       "<pre>| 241       | 500            | 882        | 857                  | 6.05s            |</pre>"
      ],
      "text/plain": [
       "| 241       | 500            | 882        | 857                  | 6.05s            |"
      ]
     },
     "metadata": {},
     "output_type": "display_data"
    },
    {
     "data": {
      "text/html": [
       "<pre>| 242       | 500            | 881        | 857                  | 6.07s            |</pre>"
      ],
      "text/plain": [
       "| 242       | 500            | 881        | 857                  | 6.07s            |"
      ]
     },
     "metadata": {},
     "output_type": "display_data"
    },
    {
     "data": {
      "text/html": [
       "<pre>| 243       | 500            | 881        | 857                  | 6.09s            |</pre>"
      ],
      "text/plain": [
       "| 243       | 500            | 881        | 857                  | 6.09s            |"
      ]
     },
     "metadata": {},
     "output_type": "display_data"
    },
    {
     "data": {
      "text/html": [
       "<pre>| 244       | 500            | 881        | 857                  | 6.10s            |</pre>"
      ],
      "text/plain": [
       "| 244       | 500            | 881        | 857                  | 6.10s            |"
      ]
     },
     "metadata": {},
     "output_type": "display_data"
    },
    {
     "data": {
      "text/html": [
       "<pre>| 245       | 500            | 880        | 857                  | 6.11s            |</pre>"
      ],
      "text/plain": [
       "| 245       | 500            | 880        | 857                  | 6.11s            |"
      ]
     },
     "metadata": {},
     "output_type": "display_data"
    },
    {
     "data": {
      "text/html": [
       "<pre>| 246       | 500            | 880        | 857                  | 6.13s            |</pre>"
      ],
      "text/plain": [
       "| 246       | 500            | 880        | 857                  | 6.13s            |"
      ]
     },
     "metadata": {},
     "output_type": "display_data"
    },
    {
     "data": {
      "text/html": [
       "<pre>| 247       | 500            | 875        | 857                  | 6.14s            |</pre>"
      ],
      "text/plain": [
       "| 247       | 500            | 875        | 857                  | 6.14s            |"
      ]
     },
     "metadata": {},
     "output_type": "display_data"
    },
    {
     "data": {
      "text/html": [
       "<pre>| 248       | 500            | 873        | 857                  | 6.16s            |</pre>"
      ],
      "text/plain": [
       "| 248       | 500            | 873        | 857                  | 6.16s            |"
      ]
     },
     "metadata": {},
     "output_type": "display_data"
    },
    {
     "data": {
      "text/html": [
       "<pre>| 249       | 500            | 869        | 857                  | 6.17s            |</pre>"
      ],
      "text/plain": [
       "| 249       | 500            | 869        | 857                  | 6.17s            |"
      ]
     },
     "metadata": {},
     "output_type": "display_data"
    },
    {
     "data": {
      "text/html": [
       "<pre>| 250       | 500            | 869        | 857                  | 6.19s            |</pre>"
      ],
      "text/plain": [
       "| 250       | 500            | 869        | 857                  | 6.19s            |"
      ]
     },
     "metadata": {},
     "output_type": "display_data"
    },
    {
     "data": {
      "text/html": [
       "<pre>| 251       | 500            | 866        | 857                  | 6.20s            |</pre>"
      ],
      "text/plain": [
       "| 251       | 500            | 866        | 857                  | 6.20s            |"
      ]
     },
     "metadata": {},
     "output_type": "display_data"
    },
    {
     "data": {
      "text/html": [
       "<pre>| 252       | 500            | 865        | 857                  | 6.21s            |</pre>"
      ],
      "text/plain": [
       "| 252       | 500            | 865        | 857                  | 6.21s            |"
      ]
     },
     "metadata": {},
     "output_type": "display_data"
    },
    {
     "data": {
      "text/html": [
       "<pre>| 253       | 500            | 862        | 857                  | 6.23s            |</pre>"
      ],
      "text/plain": [
       "| 253       | 500            | 862        | 857                  | 6.23s            |"
      ]
     },
     "metadata": {},
     "output_type": "display_data"
    },
    {
     "data": {
      "text/html": [
       "<pre>| 254       | 500            | 861        | 857                  | 6.24s            |</pre>"
      ],
      "text/plain": [
       "| 254       | 500            | 861        | 857                  | 6.24s            |"
      ]
     },
     "metadata": {},
     "output_type": "display_data"
    },
    {
     "data": {
      "text/html": [
       "<pre>| 255       | 500            | 859        | 857                  | 6.26s            |</pre>"
      ],
      "text/plain": [
       "| 255       | 500            | 859        | 857                  | 6.26s            |"
      ]
     },
     "metadata": {},
     "output_type": "display_data"
    },
    {
     "data": {
      "text/html": [
       "<pre>| 256       | 500            | 859        | 857                  | 6.27s            |</pre>"
      ],
      "text/plain": [
       "| 256       | 500            | 859        | 857                  | 6.27s            |"
      ]
     },
     "metadata": {},
     "output_type": "display_data"
    },
    {
     "data": {
      "text/html": [
       "<pre>| 257       | 500            | 859        | 857                  | 6.29s            |</pre>"
      ],
      "text/plain": [
       "| 257       | 500            | 859        | 857                  | 6.29s            |"
      ]
     },
     "metadata": {},
     "output_type": "display_data"
    },
    {
     "data": {
      "text/html": [
       "<pre>| 258       | 500            | 858        | 857                  | 6.30s            |</pre>"
      ],
      "text/plain": [
       "| 258       | 500            | 858        | 857                  | 6.30s            |"
      ]
     },
     "metadata": {},
     "output_type": "display_data"
    },
    {
     "data": {
      "text/html": [
       "<pre>| Final     | 500            | -          | 857                  | 6.31s            |</pre>"
      ],
      "text/plain": [
       "| Final     | 500            | -          | 857                  | 6.31s            |"
      ]
     },
     "metadata": {},
     "output_type": "display_data"
    },
    {
     "data": {
      "text/html": [
       "<pre>+-----------+----------------+------------+----------------------+------------------+</pre>"
      ],
      "text/plain": [
       "+-----------+----------------+------------+----------------------+------------------+"
      ]
     },
     "metadata": {},
     "output_type": "display_data"
    },
    {
     "data": {
      "text/html": [
       "<pre>Pattern mining complete. Found 500 unique closed patterns.</pre>"
      ],
      "text/plain": [
       "Pattern mining complete. Found 500 unique closed patterns."
      ]
     },
     "metadata": {},
     "output_type": "display_data"
    },
    {
     "data": {
      "text/html": [
       "<pre>Preprocessing complete. Found 6040 unique transactions.</pre>"
      ],
      "text/plain": [
       "Preprocessing complete. Found 6040 unique transactions."
      ]
     },
     "metadata": {},
     "output_type": "display_data"
    },
    {
     "data": {
      "text/html": [
       "<pre>Preprocessing complete. Found 100 unique transactions.</pre>"
      ],
      "text/plain": [
       "Preprocessing complete. Found 100 unique transactions."
      ]
     },
     "metadata": {},
     "output_type": "display_data"
    }
   ],
   "source": [
    "# Build a frequent pattern miner model.\n",
    "rule_model = gl.frequent_pattern_mining.create(train, 'movie',\n",
    "                features=['user'], min_length=4, max_patterns=500)\n",
    "\n",
    "\n",
    "# Obtain the most frequent patterns.\n",
    "patterns = rule_model.get_frequent_patterns()\n",
    "\n",
    "# Extract features from the dataset and use in other models!\n",
    "features = rule_model.extract_features(train)\n",
    "\n",
    "\n",
    "# Make predictions based on frequent patterns.\n",
    "predictions = rule_model.predict(test)"
   ]
  },
  {
   "cell_type": "markdown",
   "metadata": {},
   "source": [
    "### Most Frequent Movie Patterns"
   ]
  },
  {
   "cell_type": "code",
   "execution_count": 1124,
   "metadata": {
    "collapsed": false
   },
   "outputs": [
    {
     "name": "stdout",
     "output_type": "stream",
     "text": [
      "Class                          : FrequentPatternMiner\n",
      "\n",
      "Model fields\n",
      "------------\n",
      "Min support                    : 1\n",
      "Max patterns                   : 500\n",
      "Min pattern length             : 4\n",
      "\n",
      "Most frequent patterns\n",
      "----------------------\n",
      "['Jurassic Park (1993)', 'Matrix, The (1999)', 'Men in Black (1997)', 'Total Recall (1990)'] : 1202\n",
      "['American Beauty (1999)', 'Silence of the Lambs, The (1991)', 'Fargo (1996)', 'Pulp Fiction (1994)'] : 1106\n",
      "['Jurassic Park (1993)', 'Matrix, The (1999)', 'Men in Black (1997)', 'Independence Day (ID4) (1996)'] : 1105\n",
      "['Jurassic Park (1993)', 'Saving Private Ryan (1998)', 'Matrix, The (1999)', 'Men in Black (1997)'] : 1092\n",
      "['American Beauty (1999)', 'Silence of the Lambs, The (1991)', 'Fargo (1996)', 'Shawshank Redemption, The (1994)'] : 1087\n",
      "['Jurassic Park (1993)', 'Matrix, The (1999)', 'Back to the Future (1985)', 'Men in Black (1997)'] : 1072\n",
      "['Jurassic Park (1993)', 'Matrix, The (1999)', 'Men in Black (1997)', 'Terminator, The (1984)'] : 1072\n",
      "['Jurassic Park (1993)', 'Matrix, The (1999)', 'Men in Black (1997)', 'Braveheart (1995)'] : 1056\n",
      "['American Beauty (1999)', 'Saving Private Ryan (1998)', 'Silence of the Lambs, The (1991)', 'Fargo (1996)'] : 1046\n",
      "['Matrix, The (1999)', 'Men in Black (1997)', 'Terminator, The (1984)', 'Total Recall (1990)'] : 1045\n",
      "\n"
     ]
    }
   ],
   "source": [
    "rule_model.summary()"
   ]
  },
  {
   "cell_type": "markdown",
   "metadata": {},
   "source": [
    "### Association Rules"
   ]
  },
  {
   "cell_type": "code",
   "execution_count": 1169,
   "metadata": {
    "collapsed": false
   },
   "outputs": [
    {
     "name": "stdout",
     "output_type": "stream",
     "text": [
      "+------+------------------------------------------------------------+-----------------------------+\n",
      "| user |                           prefix                           |          prediction         |\n",
      "+------+------------------------------------------------------------+-----------------------------+\n",
      "| 5021 |            [Back to the Future Part II (1989)]             | [Back to the Future (1985)] |\n",
      "| 5893 |              [When Harry Met Sally... (1989)]              | [Back to the Future (1985)] |\n",
      "| 696  |        [Predator (1987), Back to the Future (1985)]        |   [Terminator, The (1984)]  |\n",
      "| 578  |                    [Sling Blade (1996)]                    |        [Fargo (1996)]       |\n",
      "| 521  |                [Dances with Wolves (1990)]                 |    [Jurassic Park (1993)]   |\n",
      "| 5511 | [Fifth Element, The (1997), Independence Day (ID4) (1996)] |    [Men in Black (1997)]    |\n",
      "+------+------------------------------------------------------------+-----------------------------+\n",
      "+----------------+----------------+---------------+\n",
      "|   confidence   | prefix support | joint support |\n",
      "+----------------+----------------+---------------+\n",
      "| 0.920208152645 |      1153      |      1061     |\n",
      "| 0.771739130435 |      1564      |      1207     |\n",
      "| 0.905102040816 |      980       |      887      |\n",
      "| 0.834042553191 |      1175      |      980      |\n",
      "| 0.723565998618 |      1447      |      1047     |\n",
      "| 0.925603864734 |      1035      |      958      |\n",
      "+----------------+----------------+---------------+\n",
      "[100 rows x 6 columns]\n",
      "\n"
     ]
    }
   ],
   "source": [
    "predictions.print_rows(num_rows=6, max_column_width=110)"
   ]
  },
  {
   "cell_type": "markdown",
   "metadata": {},
   "source": [
    "### Conclusion:\n"
   ]
  },
  {
   "cell_type": "markdown",
   "metadata": {},
   "source": [
    "#### Data Review\n",
    "We reviewed the demographics of the users along with the trends in the ratings of movies. We found the users to be predominantly middle aged, with an over 2:1 ratio of men to women and most frequently residing in the Pacific region.  \n",
    "\n",
    "#### Recommender System\n",
    "In final review of the Movielens dataset, we selected the User-Item Factorization Recommender System from five models, with a RMSE of .99 after cross-validation. This model significantly improved the RMSE of the initial item-item model having a RMSE of 3.78 and the first user-item model having a RMSE of 1.14.\n",
    "\n",
    "#### Association Rule Mining\n",
    "We found the most frequent movie pattern from users and the most frequent association rules from users.\n",
    "    \n",
    "    \n",
    "    -An example of one of the association rules we found was that from those who watched Back to the Future Part II, there is 92% confidence that those users will also watch Back to the Future. "
   ]
  },
  {
   "cell_type": "code",
   "execution_count": null,
   "metadata": {
    "collapsed": true
   },
   "outputs": [],
   "source": []
  }
 ],
 "metadata": {
  "anaconda-cloud": {},
  "kernelspec": {
   "display_name": "Python [default]",
   "language": "python",
   "name": "python2"
  },
  "language_info": {
   "codemirror_mode": {
    "name": "ipython",
    "version": 2
   },
   "file_extension": ".py",
   "mimetype": "text/x-python",
   "name": "python",
   "nbconvert_exporter": "python",
   "pygments_lexer": "ipython2",
   "version": "2.7.12"
  }
 },
 "nbformat": 4,
 "nbformat_minor": 0
}
